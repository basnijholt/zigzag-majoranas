{
 "cells": [
  {
   "cell_type": "code",
   "execution_count": null,
   "metadata": {},
   "outputs": [],
   "source": [
    "%load_ext autoreload\n",
    "%load_ext line_profiler\n",
    "adaptive.notebook_extension()"
   ]
  },
  {
   "cell_type": "code",
   "execution_count": null,
   "metadata": {},
   "outputs": [],
   "source": [
    "import adaptive\n",
    "import numpy as np\n",
    "import scipy.constants\n",
    "import cmath\n",
    "\n",
    "constants = dict(\n",
    "    m_eff=0.023 * scipy.constants.m_e / (scipy.constants.eV * 1e-3) / 1e18,  # effective mass in kg, \n",
    "    hbar=scipy.constants.hbar / (scipy.constants.eV * 1e-3),\n",
    "    e = scipy.constants.e,\n",
    "    current_unit=scipy.constants.k * scipy.constants.e / scipy.constants.hbar * 1e9,  # to get nA\n",
    "    mu_B=scipy.constants.physical_constants['Bohr magneton'][0] / (scipy.constants.eV * 1e-3),\n",
    "    k=scipy.constants.k / (scipy.constants.eV * 1e-3),\n",
    "    exp=cmath.exp,\n",
    "    cos=cmath.cos,\n",
    "    sin=cmath.sin\n",
    "   )\n",
    "\n",
    "syst_pars =  {'Ll' :  500,\n",
    "               'Lr' : 500,\n",
    "               'Lm' : 500,\n",
    "               'Ly' : 400,\n",
    "               'a' :  50}\n",
    "params_raw= dict(g_factor = 10,\n",
    "                           mu = 1.0,\n",
    "                           alpha = 28,\n",
    "                           Delta = .18,\n",
    "                           B = 0.5,\n",
    "                           phase = np.pi/2,\n",
    "                           T = 0.0)\n",
    "\n",
    "params = dict(**constants,\n",
    "              **params_raw)"
   ]
  },
  {
   "cell_type": "code",
   "execution_count": null,
   "metadata": {},
   "outputs": [],
   "source": [
    "%autoreload\n",
    "import distributed_sns"
   ]
  },
  {
   "cell_type": "code",
   "execution_count": null,
   "metadata": {},
   "outputs": [],
   "source": [
    "keys_with_bounds = dict(phase=[0, 2*np.pi],\n",
    "                        B=[0, 1.2])"
   ]
  },
  {
   "cell_type": "code",
   "execution_count": null,
   "metadata": {},
   "outputs": [],
   "source": [
    "ss = distributed_sns.SimulationSet(keys_with_bounds,\n",
    "                                   syst_pars,\n",
    "                                   params,\n",
    "                                   {\"pfaffian\":{},\n",
<<<<<<< HEAD
    "                                    \"energy_gap\":{\"energy_precision\":0.01},\n",
=======
    "#                                     \"energy_gap\":{\"energy_precision\":0.01},\n",
>>>>>>> master
    "                                    \"current\":{}})"
   ]
  },
  {
   "cell_type": "code",
   "execution_count": null,
   "metadata": {},
   "outputs": [],
   "source": [
    "f = ss.get_total_function()"
   ]
  },
  {
   "cell_type": "code",
   "execution_count": null,
   "metadata": {},
   "outputs": [],
   "source": [
    "learner = ss.get_learner()"
   ]
  },
  {
   "cell_type": "code",
   "execution_count": null,
   "metadata": {},
   "outputs": [],
   "source": [
<<<<<<< HEAD
=======
    "def f(xy):\n",
    "    x, y = xy\n",
    "    return np.array([x, y])\n",
    "learner = adaptive.Learner2D(f, [[0,1],[0,1]])\n",
    "\n",
>>>>>>> master
    "runner = adaptive.Runner(learner)\n",
    "runner.live_info()"
   ]
  },
  {
   "cell_type": "code",
   "execution_count": null,
   "metadata": {},
   "outputs": [],
   "source": [
<<<<<<< HEAD
    "np.minimum([1,2,3],0)"
=======
    "runner.task.result()"
   ]
  },
  {
   "cell_type": "code",
   "execution_count": null,
   "metadata": {},
   "outputs": [],
   "source": [
    "res = f((1,1))"
   ]
  },
  {
   "cell_type": "code",
   "execution_count": null,
   "metadata": {},
   "outputs": [],
   "source": [
    "res"
>>>>>>> master
   ]
  },
  {
   "cell_type": "code",
   "execution_count": null,
   "metadata": {},
   "outputs": [],
   "source": [
    "a=np.array([1,2,3])"
   ]
  },
  {
   "cell_type": "code",
   "execution_count": null,
   "metadata": {},
   "outputs": [],
   "source": [
<<<<<<< HEAD
    "a[a>1] = 4"
=======
    "learner.tell((1,1), np.array((1,1)))"
>>>>>>> master
   ]
  },
  {
   "cell_type": "code",
   "execution_count": null,
   "metadata": {},
   "outputs": [],
   "source": [
<<<<<<< HEAD
    "a"
=======
    "learner.data"
>>>>>>> master
   ]
  },
  {
   "cell_type": "code",
   "execution_count": null,
   "metadata": {},
   "outputs": [],
   "source": []
  }
 ],
 "metadata": {
  "language_info": {
   "name": "python",
   "pygments_lexer": "ipython3"
  }
 },
 "nbformat": 4,
 "nbformat_minor": 2
}
