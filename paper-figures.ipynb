{
 "cells": [
  {
   "cell_type": "markdown",
   "metadata": {},
   "source": [
    "## Numerics imports"
   ]
  },
  {
   "cell_type": "code",
   "execution_count": null,
   "metadata": {},
   "outputs": [],
   "source": [
    "from functools import partial\n",
    "import numpy as np\n",
    "import adaptive\n",
    "adaptive.notebook_extension()"
   ]
  },
  {
   "cell_type": "markdown",
   "metadata": {},
   "source": [
    "## Plotting imports"
   ]
  },
  {
   "cell_type": "code",
   "execution_count": null,
   "metadata": {},
   "outputs": [],
   "source": [
    "import matplotlib\n",
    "matplotlib.use('agg')\n",
    "\n",
    "import matplotlib.pyplot as plt\n",
    "%matplotlib inline\n",
    "%config InlineBackend.figure_format = 'svg'\n",
    "\n",
    "golden_mean = (np.sqrt(5) - 1) / 2 # Aesthetic ratio\n",
    "fig_width_pt = 246.0 # Columnwidth\n",
    "inches_per_pt = 1.0 / 72.27 # Convert pt to inches\n",
    "fig_width = fig_width_pt * inches_per_pt\n",
    "fig_height = fig_width * golden_mean # height in inches\n",
    "fig_size = [fig_width, fig_height]\n",
    "\n",
    "params = {\n",
    "          'backend': 'ps',\n",
    "          'axes.labelsize': 13,\n",
    "          'font.size': 13,\n",
    "          'legend.fontsize': 10,\n",
    "          'xtick.labelsize': 10,\n",
    "          'ytick.labelsize': 10,\n",
    "          'text.usetex': True,\n",
    "          'figure.figsize': fig_size,\n",
    "          'font.family': 'serif',\n",
    "          'font.serif': 'Computer Modern Roman',\n",
    "          'legend.frameon': True,\n",
    "          'savefig.dpi': 300,\n",
    "         }\n",
    "\n",
    "plt.rcParams.update(params)\n",
    "plt.rc('text.latex', preamble=[r'\\usepackage{color}', r'\\usepackage{bm}', r'\\usepackage{xfrac}'])"
   ]
  },
  {
   "cell_type": "markdown",
   "metadata": {},
   "source": [
    "## Parameter and system definitions"
   ]
  },
  {
   "cell_type": "code",
   "execution_count": null,
   "metadata": {},
   "outputs": [],
   "source": [
    "import scipy.constants\n",
    "import cmath\n",
    "\n",
    "constants = dict(\n",
    "    m_eff=0.02 * scipy.constants.m_e / (scipy.constants.eV * 1e-3) / 1e18,  # effective mass in kg, \n",
    "    hbar=scipy.constants.hbar / (scipy.constants.eV * 1e-3),\n",
    "    e = scipy.constants.e,\n",
    "    current_unit=scipy.constants.k * scipy.constants.e / scipy.constants.hbar * 1e9,  # to get nA\n",
    "    mu_B=scipy.constants.physical_constants['Bohr magneton'][0] / (scipy.constants.eV * 1e-3),\n",
    "    k=scipy.constants.k / (scipy.constants.eV * 1e-3),\n",
    "    exp=cmath.exp,\n",
    "    cos=cmath.cos,\n",
    "    sin=cmath.sin\n",
    "   )\n",
    "\n",
    "params_raw= dict(g_factor_middle=26, g_factor_left=0, g_factor_right=0,\n",
    "                 mu=10,\n",
    "                 alpha_middle=20, alpha_left=0, alpha_right=0,\n",
    "                 Delta_left=1, Delta_right=1,\n",
    "                 B_x=0,\n",
    "                 B_y=0,\n",
    "                 B_z=0,\n",
    "                 phase=0,\n",
    "                 T=0.0,\n",
    "                 V=0)\n",
    "\n",
    "params = dict(**constants,\n",
    "              **params_raw)\n",
    "\n",
    "syst_pars = dict(\n",
    "    L_m=200,\n",
    "    L_x=10,\n",
    "    L_sc_up=200,\n",
    "    L_sc_down=200,\n",
    "    z_x=1300,\n",
    "    z_y=0,\n",
    "    a=10,\n",
    "    parallel_curve=True,\n",
    "    sawtooth=False,\n",
    "    transverse_soi=True,\n",
    "    mu_from_bottom_of_spin_orbit_bands=True,\n",
    "    k_x_in_sc=True,\n",
    "    wraparound=True,\n",
    "    current=False,\n",
    "    ns_junction=False)"
   ]
  },
  {
   "cell_type": "markdown",
   "metadata": {},
   "source": [
    "# Figure 2. Bandstructures"
   ]
  },
  {
   "cell_type": "code",
   "execution_count": null,
   "metadata": {},
   "outputs": [],
   "source": [
    "def get_spectrum(momentum, syst_pars, params, nbands=40):\n",
    "    import sns_system, spectrum\n",
    "    syst_at_k, _, _ = sns_system.make_system(**syst_pars)\n",
    "    energies = spectrum.calc_spectrum(syst_at_k, dict(**params, k_x=momentum), k=nbands)[0]\n",
    "    return np.sort(energies)\n",
    "\n",
    "def spectrum_wrapper(momentum, z_y, B_x, phase):\n",
    "    syst_pars['z_y'] = z_y\n",
    "    params['B_x'] = B_x\n",
    "    params['phase'] = phase\n",
    "    return get_spectrum(momentum, syst_pars=syst_pars, params=params)\n",
    "\n",
    "def abs_min_log_loss(xs, xy_scale, data):\n",
    "    from adaptive.learner.learner1D import default_loss\n",
    "    data = {k: np.log(np.abs(v).min()) for k, v in data.items()}\n",
    "    return default_loss(xs, xy_scale, data)\n",
    "\n",
    "B = 1\n",
    "W = syst_pars['L_m']\n",
    "combos = [(0, 0, 0), (W/2, 0, 0), (W, 0, 0), (0, B, np.pi), (W/2, B, np.pi), (W, B, np.pi)]\n",
    "\n",
    "learners = [adaptive.Learner1D(partial(spectrum_wrapper, z_y=z_y, B_x=B_x, phase=phase),\n",
    "                               bounds=[0, 1], loss_per_interval=abs_min_log_loss)\n",
    "            for z_y, B_x, phase in combos]\n",
    "\n",
    "learner = adaptive.BalancingLearner(learners, cdims=(['z_y', 'B_x', 'phi'], combos), strategy='npoints')\n",
    "\n",
    "runner = adaptive.BlockingRunner(learner, lambda l: l.learners[0].npoints > 200)"
   ]
  },
  {
   "cell_type": "code",
   "execution_count": null,
   "metadata": {},
   "outputs": [],
   "source": [
    "mapping = {(z_y, B_x, phase): learner for (z_y, B_x, phase), learner in zip(combos, learners)}\n",
    "\n",
    "def plot(ax, key, color):\n",
    "    data = mapping[key].data\n",
    "    xs, ys = map(np.array, zip(*sorted(data.items())))\n",
    "    return ax.plot(xs, ys, c=color)\n",
    "\n",
    "fig, axs = plt.subplots(3, sharex=True, sharey=True, figsize=(fig_width, 2*fig_height))\n",
    "(ax1, ax2, ax3) = axs\n",
    "\n",
    "line2 = plot(ax1, (0, B, np.pi), 'red')[0]\n",
    "line1 = plot(ax1, (0, 0, 0), 'blue')[0]\n",
    "\n",
    "plot(ax2, (W/2, B, np.pi), 'red')\n",
    "plot(ax2, (W/2, 0, 0), 'blue')\n",
    "\n",
    "plot(ax3, (W, B, np.pi), 'red')\n",
    "plot(ax3, (W, 0, 0), 'blue')\n",
    "\n",
    "for i, ax in enumerate(axs):\n",
    "    ax.set_ylabel(r'$E/\\Delta$')\n",
    "    \n",
    "    # ylims and yticks\n",
    "    ax.set_ylim(-0.5, 0.5)\n",
    "    yvals = [-0.4, 0, 0.4]\n",
    "    ylabels = [f'${x}$' for x in yvals]\n",
    "    ax.set_yticks(yvals)\n",
    "    ax.set_yticklabels(ylabels)\n",
    "    \n",
    "    # xlims and xticks\n",
    "    xvals = [-0.1, 0.5, 1]\n",
    "    xlabels = ['$0$', r'$\\sfrac{1}{2a}$', r'$\\sfrac{1}{a}$']\n",
    "    ax.set_xticks(xvals)\n",
    "    ax.set_xticklabels(xlabels)\n",
    "    ax.set_xlim(0.3, 1)\n",
    "\n",
    "    # text inside image\n",
    "    label = 'abc'[i]\n",
    "    ax.text(0.89, 0.8, f'$\\mathrm{{({label})}}$', transform=ax.transAxes)\n",
    "    \n",
    "    z_ys = ['0', 'W/2', 'W']\n",
    "    ax.text(0.05, 0.45, f'$z_y={z_ys[i]}$', transform=ax.transAxes)\n",
    "\n",
    "ax1.legend((line1, line2), (r'$\\phi=0$, $B=0$', r'$\\phi=\\pi$, $B \\ne 0$'),\n",
    "           loc='upper center', bbox_to_anchor=(0.5, 1.7),\n",
    "           fancybox=True, shadow=True, ncol=1)\n",
    "\n",
    "ax3.set_xlabel('$k_x$')\n",
    "\n",
    "plt.savefig(\"paper/figures/bandstructures.pdf\", bbox_inches=\"tight\")\n",
    "plt.show()"
   ]
  },
  {
   "cell_type": "markdown",
   "metadata": {},
   "source": [
    "# Figure 3. Phase diagrams"
   ]
  },
  {
   "cell_type": "code",
   "execution_count": null,
   "metadata": {},
   "outputs": [],
   "source": []
  }
 ],
 "metadata": {
  "language_info": {
   "name": "python",
   "pygments_lexer": "ipython3"
  }
 },
 "nbformat": 4,
 "nbformat_minor": 2
}
