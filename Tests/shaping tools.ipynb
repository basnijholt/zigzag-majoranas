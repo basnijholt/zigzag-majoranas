{
 "cells": [
  {
   "cell_type": "code",
   "execution_count": null,
   "metadata": {},
   "outputs": [],
   "source": [
    "import kwant\n",
    "from math import sin, cos\n",
    "import matplotlib.pyplot as plt\n",
    "import numpy as np\n",
    "\n",
    "import scipy.constants\n",
    "import cmath\n",
    "\n",
    "import os, sys\n",
    "sys.path.append(os.path.abspath('../../two_dim_majoranas/'))\n",
    "from sns_system import get_templates"
   ]
  },
  {
   "cell_type": "code",
   "execution_count": null,
   "metadata": {},
   "outputs": [],
   "source": [
    "def NOT(shape):\n",
    "    \"\"\"returns not(shape)\"\"\"\n",
    "    return lambda site: not shape(site)\n",
    "\n",
    "def UNION(*shapes):\n",
    "    \"\"\"returns shape which is an OR function applied to shapes\"\"\"\n",
    "    return lambda site: any(shape(site) for shape in shapes)\n",
    "    \n",
    "def INTERSECTION(*shapes):\n",
    "    \"\"\"returns shape which is an AND function applied to shapes\"\"\"\n",
    "    return lambda site: all(shape(site) for shape in shapes)\n",
    "    \n",
    "def DIFFERENCE(shape_A, shape_B):\n",
    "    \"\"\"returns shape which is true when the site is in the first shape, but not in the second\"\"\"\n",
    "    return lambda site: shape_A(site) and not shape_B(site)\n",
    "\n",
    "def EDGE(shape): \n",
    "    def _shape(site):\n",
    "        sites = [('wsite', [-1, 0]), ('esite', [1, 0]),\n",
    "                 ('nsite', [0, 1]), ('ssite', [0, -1]),\n",
    "                 ('nwsite', [-1, 1]), ('nesite', [1, 1]),\n",
    "                 ('swsite', [-1, -1]), ('sesite', [1, -1])]\n",
    "        s = lambda x: kwant.builder.Site(site.family, site.tag + x)\n",
    "        neighboring_sites = {k: s(x) for k, x in sites}\n",
    "        return shape(site) and not all(map(shape, neighboring_sites.values()))\n",
    "    return _shape\n",
    "\n",
    "def INTERIOR(shape):\n",
    "    return DIFFERENCE(shape, EDGE(shape))\n",
    "\n",
    "def TRANSLATE(shape, vector):\n",
    "    def _shape(site):\n",
    "        translated_site  = kwant.builder.Site(site.family, site.tag - vector)\n",
    "        return shape(translated_site)\n",
    "    return _shape\n",
    "\n",
    "\n",
    "def below_curve(curve):\n",
    "    def _shape(site):\n",
    "        x, y = site.pos\n",
    "        return y < curve(x)\n",
    "    return _shape\n",
    "\n",
    "def above_curve(curve):\n",
    "    return NOT(below_curve(curve))\n",
    "\n",
    "def left_of_curve(curve):\n",
    "    def _shape(site):\n",
    "        x, y = site.pos\n",
    "        return x < curve(y)\n",
    "    return _shape\n",
    "\n",
    "def right_of_curve(curve):\n",
    "    return NOT(left_of_curve(curve))"
   ]
  },
  {
   "cell_type": "code",
   "execution_count": null,
   "metadata": {},
   "outputs": [],
   "source": [
    "def add_to_site_colors(site_colors, marked_sites, color):\n",
    "    site_colors.update({site: color for site in marked_sites})\n",
    "    \n",
    "def site_color_function(site_color, syst):\n",
    "    return [site_color[site] for site in syst.sites]\n"
   ]
  },
  {
   "cell_type": "markdown",
   "metadata": {},
   "source": [
    "# Make simple builder"
   ]
  },
  {
   "cell_type": "code",
   "execution_count": null,
   "metadata": {},
   "outputs": [],
   "source": [
    "import scipy.interpolate\n",
    "def create_parallel_sine(distance, z_x, z_y):\n",
    "    def _parallel_sine(x, distance, z_x, z_y):\n",
    "        g       = lambda t: z_y * sin(2*np.pi/z_x*t)\n",
    "        g_prime = lambda t: z_y * 2*np.pi/z_x*cos(2*np.pi/z_x*t)\n",
    "        def _x(t):\n",
    "            return t - distance*g_prime(t)/np.sqrt(1 + g_prime(t)**2) - x\n",
    "\n",
    "        def y(t):\n",
    "            return g(t) + distance/np.sqrt(1 + g_prime(t)**2)\n",
    "\n",
    "        t = fsolve(_x, x)\n",
    "        return y(t)\n",
    "\n",
    "    xdim = np.linspace(0, z_x, 1000)\n",
    "    ydim = [_parallel_sine(x, distance, z_x, z_y) for x in xdim]\n",
    "    \n",
    "    parallel_sine = scipy.interpolate.interp1d(xdim, ydim)\n",
    "    \n",
    "#     return lambda x: scipy.interpolate.interp1d(xdim, ydim)(x%z_x)\n",
    "    return lambda x: parallel_sine(x%z_x)"
   ]
  },
  {
   "cell_type": "code",
   "execution_count": null,
   "metadata": {},
   "outputs": [],
   "source": [
    "L_m = 150\n",
    "L_m = 200\n",
    "\n",
    "L_x = 2400\n",
    "L_sc_up = 200\n",
    "L_sc_down = 200\n",
    "\n",
    "z_x = 1200\n",
    "\n",
    "z_y = 125\n",
    "z_y = 125\n",
    "\n",
    "a   = 10\n",
    "\n",
    "parallel_curve = False\n",
    "parallel_curve = True\n",
    "\n",
    "\n",
    "transverse_soi = True\n",
    "mu_from_bottom_of_spin_orbit_bands = True\n",
    "k_x_in_sc = True"
   ]
  },
  {
   "cell_type": "code",
   "execution_count": null,
   "metadata": {},
   "outputs": [],
   "source": [
    "def make_system():\n",
    "    template_barrier, template_normal, template_sc_left, template_sc_right = get_templates(\n",
    "            a, transverse_soi, mu_from_bottom_of_spin_orbit_bands, k_x_in_sc)\n",
    "\n",
    "    template_interior = template_normal\n",
    "    template_edge = template_barrier\n",
    "    template_top_superconductor = template_sc_left\n",
    "    template_bottom_superconductor = template_sc_right\n",
    "\n",
    "    #----------------------\n",
    "    # Define middle section\n",
    "    curve = lambda x: z_y*sin(2*np.pi / z_x * x)\n",
    "    below_shape = below_curve(lambda x: curve(x) + L_m//2)\n",
    "    above_shape = above_curve(lambda x: curve(x) - L_m//2)\n",
    "\n",
    "    if parallel_curve:\n",
    "        curve = create_parallel_sine(0, z_x, z_y)\n",
    "\n",
    "        curve_top = create_parallel_sine(L_m//2, z_x, z_y)\n",
    "        below_shape = below_curve(curve_top)\n",
    "\n",
    "        curve_bottom = create_parallel_sine(-L_m//2, z_x, z_y)\n",
    "        above_shape = above_curve(curve_bottom)\n",
    "\n",
    "    right_boundary = left_of_curve(lambda y: L_x)\n",
    "    left_boundary = right_of_curve(lambda y: 0)\n",
    "    middle_shape = INTERSECTION(below_shape, above_shape, right_boundary, left_boundary)\n",
    "\n",
    "\n",
    "    #------------\n",
    "    # Define edge\n",
    "    edge_shape = EDGE(middle_shape)\n",
    "    edge_initial_site = (0,0)\n",
    "\n",
    "    #------------------------\n",
    "    # Remove edge from middle\n",
    "    interior_shape = INTERIOR(middle_shape)\n",
    "    interior_initial_site = (a, a)\n",
    "\n",
    "    #--------------------------\n",
    "    # Define top superconductor\n",
    "    top_superconductor_border = lambda x: L_sc_up + L_m//2 + z_y\n",
    "    top_superconductor_shape = INTERSECTION(DIFFERENCE(below_curve(top_superconductor_border), middle_shape),\n",
    "                                            left_boundary, right_boundary)\n",
    "    top_superconductor_initial_site = (0,L_m)\n",
    "\n",
    "    #-----------------------------\n",
    "    # Define bottom superconductor\n",
    "    bottom_superconductor_border = lambda x: -L_sc_down - L_m//2 - z_y\n",
    "    bottom_superconductor_shape = INTERSECTION(DIFFERENCE(above_curve(bottom_superconductor_border), middle_shape),\n",
    "                                            left_boundary, right_boundary)\n",
    "    bottom_superconductor_initial_site = (0, -L_m-a)\n",
    "\n",
    "    #-----------\n",
    "    # Define cut\n",
    "    cut_curve_top = lambda x: curve(x) + a\n",
    "    cut_curve_bottom = lambda x: cut_curve_top(x) - a\n",
    "\n",
    "    top_cut_shape = EDGE(below_curve(cut_curve_top))\n",
    "    bottom_cut_shape = EDGE(below_curve(cut_curve_bottom))\n",
    "\n",
    "\n",
    "    ##################\n",
    "    ## Build system ##\n",
    "    ##################\n",
    "    \n",
    "    site_colors = dict()\n",
    "\n",
    "    #---------------\n",
    "    # Create builder\n",
    "    if wraparound:\n",
    "        syst = kwant.Builder(kwant.TranslationalSymmetry([0, z_x]))\n",
    "    else:\n",
    "        syst = kwant.Builder()\n",
    "\n",
    "    #----------\n",
    "    # Fill edge\n",
    "    edge_sites = syst.fill(template_edge, edge_shape, edge_initial_site)\n",
    "    add_to_site_colors(site_colors, edge_sites, 'red')\n",
    "    \n",
    "    #--------------\n",
    "    # Fill interior\n",
    "    interior_sites = syst.fill(template_interior, interior_shape, interior_initial_site)\n",
    "    add_to_site_colors(site_colors, interior_sites, 'grey')\n",
    "\n",
    "    #------------------------\n",
    "    # Fill top superconductor\n",
    "    top_superconductor_sites = syst.fill(template_top_superconductor, top_superconductor_shape, top_superconductor_initial_site)\n",
    "    add_to_site_colors(site_colors, top_superconductor_sites, 'gold')\n",
    "\n",
    "    #---------------------------\n",
    "    # Fill bottom superconductor\n",
    "    bottom_superconductor_sites = syst.fill(template_bottom_superconductor, bottom_superconductor_shape, bottom_superconductor_initial_site)\n",
    "    add_to_site_colors(site_colors, bottom_superconductor_sites, 'gold')\n",
    "\n",
    "    \n",
    "    ##########################################\n",
    "    ## Add features for current calculation ##\n",
    "    ##########################################\n",
    "\n",
    "    #---------------------\n",
    "    # Make cut for current\n",
    "    top_cut = list(site for site in syst.sites() if top_cut_shape(site))\n",
    "    add_to_site_colors(site_colors, top_cut, 'teal')\n",
    "    bottom_cut = list(site for site in syst.sites() if bottom_cut_shape(site))\n",
    "    add_to_site_colors(site_colors, bottom_cut, 'blue')\n",
    "\n",
    "    \n",
    "    syst = supercurrent_matsubara.add_vlead(syst, norbs, *cuts)\n",
    "    \n",
    "    #####################\n",
    "    ## Finalize system ##\n",
    "    #####################\n",
    "    \n",
    "    if wraparound:\n",
    "        kwant.wraparound.wraparound(syst)\n",
    "    \n",
    "    syst = syst.finalized()\n",
    "    return syst, site_colors, hoppings"
   ]
  },
  {
   "cell_type": "code",
   "execution_count": null,
   "metadata": {},
   "outputs": [],
   "source": [
    "kwant.plot(syst, site_color=site_color_function(site_colors, syst), dpi=200);"
   ]
  },
  {
   "cell_type": "code",
   "execution_count": null,
   "metadata": {},
   "outputs": [],
   "source": [
    "constants = dict(\n",
    "    m_eff=0.02 * scipy.constants.m_e / (scipy.constants.eV * 1e-3) / 1e18,  # effective mass in kg, \n",
    "    hbar=scipy.constants.hbar / (scipy.constants.eV * 1e-3),\n",
    "    e = scipy.constants.e,\n",
    "    current_unit=scipy.constants.k * scipy.constants.e / scipy.constants.hbar * 1e9,  # to get nA\n",
    "    mu_B=scipy.constants.physical_constants['Bohr magneton'][0] / (scipy.constants.eV * 1e-3),\n",
    "    k=scipy.constants.k / (scipy.constants.eV * 1e-3),\n",
    "    exp=cmath.exp,\n",
    "    cos=cmath.cos,\n",
    "    sin=cmath.sin\n",
    "   )\n",
    "\n",
    "params_raw= dict(g_factor_middle = 26,\n",
    "                 g_factor_left = 0,\n",
    "                 g_factor_right = 0,\n",
    "                 mu = 10,\n",
    "                 alpha_middle = 20,\n",
    "                 alpha_left = 0,\n",
    "                 alpha_right = 0,\n",
    "                 Delta_left = 2,\n",
    "                 Delta_right = 2,\n",
    "                 B = .3,\n",
    "                 phase = np.pi,\n",
    "                 T = 0.0,\n",
    "                 V = 0)\n",
    "\n",
    "params = dict(**constants,\n",
    "              **params_raw)"
   ]
  },
  {
   "cell_type": "code",
   "execution_count": null,
   "metadata": {},
   "outputs": [],
   "source": [
    "import spectrum"
   ]
  },
  {
   "cell_type": "code",
   "execution_count": null,
   "metadata": {},
   "outputs": [],
   "source": [
    "density = kwant.operator.Density(syst)"
   ]
  },
  {
   "cell_type": "code",
   "execution_count": null,
   "metadata": {},
   "outputs": [],
   "source": [
    "e, ev = spectrum.calc_spectrum(syst, params, k=4)"
   ]
  },
  {
   "cell_type": "code",
   "execution_count": null,
   "metadata": {},
   "outputs": [],
   "source": [
    "ax=plt.axes()\n",
    "kwant.plot(syst, site_color=site_color_function(site_colors, syst), dpi=200, ax=ax);\n",
    "kwant.plotter.map(syst, density(ev[:,0]), dpi=200, ax=ax);\n",
    "e"
   ]
  },
  {
   "cell_type": "code",
   "execution_count": null,
   "metadata": {},
   "outputs": [],
   "source": [
    "def f(B):\n",
    "    _params = params.copy()\n",
    "    _params['B'] = B\n",
    "    return spectrum.calc_lowest_state((None, _params), syst=syst)"
   ]
  },
  {
   "cell_type": "code",
   "execution_count": null,
   "metadata": {},
   "outputs": [],
   "source": [
    "import adaptive\n",
    "adaptive.notebook_extension()"
   ]
  },
  {
   "cell_type": "code",
   "execution_count": null,
   "metadata": {},
   "outputs": [],
   "source": [
    "learner = adaptive.Learner1D(f, [0, 2])\n"
   ]
  },
  {
   "cell_type": "code",
   "execution_count": null,
   "metadata": {},
   "outputs": [],
   "source": [
    "runner = adaptive.Runner(learner, ntasks=24)\n",
    "runner.live_info()"
   ]
  },
  {
   "cell_type": "code",
   "execution_count": null,
   "metadata": {},
   "outputs": [],
   "source": [
    "learner.plot()"
   ]
  },
  {
   "cell_type": "code",
   "execution_count": null,
   "metadata": {},
   "outputs": [],
   "source": [
    "learner.plot()"
   ]
  },
  {
   "cell_type": "code",
   "execution_count": null,
   "metadata": {},
   "outputs": [],
   "source": [
    "learner.plot()"
   ]
  },
  {
   "cell_type": "code",
   "execution_count": null,
   "metadata": {},
   "outputs": [],
   "source": [
    "learner.plot()"
   ]
  },
  {
   "cell_type": "code",
   "execution_count": null,
   "metadata": {},
   "outputs": [],
   "source": []
  }
 ],
 "metadata": {
  "language_info": {
   "name": "python",
   "pygments_lexer": "ipython3"
  }
 },
 "nbformat": 4,
 "nbformat_minor": 2
}
