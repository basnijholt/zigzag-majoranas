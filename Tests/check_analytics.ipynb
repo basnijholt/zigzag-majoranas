{
 "cells": [
  {
   "cell_type": "code",
   "execution_count": null,
   "metadata": {},
   "outputs": [],
   "source": [
    "import kwant\n",
    "import functools as ft\n",
    "import matplotlib.pyplot as plt\n",
    "import numpy as np\n",
    "import adaptive\n",
    "adaptive.notebook_extension()\n",
    "\n",
    "import scipy.constants\n",
    "import cmath\n",
    "\n",
    "import os, sys\n",
    "sys.path.append(os.path.abspath('../../two_dim_majoranas/'))\n",
    "import sns_system\n",
    "import kwant\n",
    "\n",
    "import distributed_sns as ds\n",
    "import holoviews as hv"
   ]
  },
  {
   "cell_type": "code",
   "execution_count": null,
   "metadata": {},
   "outputs": [],
   "source": [
    "constants = dict(\n",
    "    m_eff=0.02 * scipy.constants.m_e / (scipy.constants.eV * 1e-3) / 1e18,  # effective mass in kg, \n",
    "    hbar=scipy.constants.hbar / (scipy.constants.eV * 1e-3),\n",
    "    e = scipy.constants.e,\n",
    "    current_unit=scipy.constants.k * scipy.constants.e / scipy.constants.hbar * 1e9,  # to get nA\n",
    "    mu_B=scipy.constants.physical_constants['Bohr magneton'][0] / (scipy.constants.eV * 1e-3),\n",
    "    k=scipy.constants.k / (scipy.constants.eV * 1e-3),\n",
    "    exp=cmath.exp,\n",
    "    cos=cmath.cos,\n",
    "    sin=cmath.sin,\n",
    "    abs=abs\n",
    "   )\n",
    "\n",
    "params_raw= dict(Ez=constants['mu_B']*26,\n",
    "                 mu_n = 20,\n",
    "                 mu_s = 20,\n",
    "                 alpha = 20,\n",
    "                 theta=np.pi/4,\n",
    "                k_cutoff = 0.0915)\n",
    "\n",
    "params = dict(**constants,\n",
    "              **params_raw)\n",
    "\n",
    "a= .1\n",
    "W = 200"
   ]
  },
  {
   "cell_type": "code",
   "execution_count": null,
   "metadata": {},
   "outputs": [],
   "source": [
    "def get_templates(with_SOy=False):\n",
    "    ham_n = \"\"\"(hbar^2 / (2*m_eff) * (k_x^2 + k_y^2) - mu_n) * sigma_0\n",
    "    +  alpha*k_x*sigma_y -  alpha*k_y*sigma_x + Ez*(cos(theta)*sigma_x + sin(theta)*sigma_y)\n",
    "    \"\"\"\n",
    "    if not with_SOy:\n",
    "        ham_n = ham_n.replace('alpha*k_y', '0')\n",
    "    \n",
    "    ham_np = ham_n.replace('Ez', '0').replace('alpha', '0')\n",
    "    print(ham_n)\n",
    "    print(ham_np)\n",
    "    \n",
    "    template_np = kwant.continuum.discretize(\n",
    "        ham_np, grid_spacing=a, coords=('x', 'y'))\n",
    "    template_n = kwant.continuum.discretize(\n",
    "        ham_n, grid_spacing=a, coords=('x', 'y'))\n",
    "    \n",
    "    return (template_n, template_np)"
   ]
  },
  {
   "cell_type": "code",
   "execution_count": null,
   "metadata": {},
   "outputs": [],
   "source": [
    "(template_n, template_np) = get_templates(with_SOy=True)\n",
    "sigmaz = np.array([[1,0],[0,-1]])\n",
    "sigmay = 1j*np.array([[0,-1j],[1j,0]])\n",
    "\n",
    "# lead_down = kwant.Builder(kwant.TranslationalSymmetry((a,0),(0,-a)), conservation_law=sigmaz, time_reversal=sigmay)\n",
    "# lead_up = kwant.Builder(kwant.TranslationalSymmetry((a,0),(0,a)), conservation_law=sigmaz, time_reversal=sigmay)\n",
    "lead_down = kwant.Builder(kwant.TranslationalSymmetry((a,0),(0,-a)))\n",
    "lead_up = kwant.Builder(kwant.TranslationalSymmetry((a,0),(0,a)))\n",
    "\n",
    "junction = kwant.Builder(kwant.TranslationalSymmetry((a,0)))\n",
    "\n",
    "lead_down.fill(template_np, lambda x: True, [0, 0])\n",
    "lead_up.fill(template_np, lambda x: True, [0, 0])\n",
    "junction.fill(template_n, lambda site: 0 <= site.pos[1] <= W, [0, 0])\n",
    "\n",
    "junction = kwant.wraparound.wraparound(junction)\n",
    "lead_down = kwant.wraparound.wraparound(lead_down, keep=1)\n",
    "lead_up = kwant.wraparound.wraparound(lead_up, keep=1)\n",
    "\n",
    "junction.attach_lead(lead_down)\n",
    "junction.attach_lead(lead_up)\n",
    "\n",
    "syst = junction.finalized()"
   ]
  },
  {
   "cell_type": "code",
   "execution_count": null,
   "metadata": {},
   "outputs": [],
   "source": [
    "def energy_operator(syst, params):\n",
    "    if params['k_x'] == 0:\n",
    "        smat_plus = smat_min = kwant.smatrix(syst, params=params).data\n",
    "    else:\n",
    "        params['k_x'] *= -1\n",
    "        smat_min = kwant.smatrix(syst, params=params).data\n",
    "        params['k_x'] *= -1\n",
    "        smat_plus = kwant.smatrix(syst, params=params).data\n",
    "\n",
    "    phase = cmath.exp(1j * params['phi'] / 2)\n",
    "    r = np.diag([phase, phase, phase.conjugate(), phase.conjugate()])\n",
    "    smat_prod = r @ smat_min.conj() @ r.conj() @ smat_plus\n",
    "    return smat_prod\n",
    "\n",
    "\n",
    "def energies_over_delta(syst, params):\n",
    "    \"\"\"Same as energy_operator(), but returns the\n",
    "    square-root of the eigenvalues\"\"\"\n",
    "    from numpy.lib.scimath import sqrt\n",
    "    operator = energy_operator(syst, params)\n",
    "    es = -np.linalg.eigvals(operator)\n",
    "    alpha = np.hstack((sqrt(es), -sqrt(es)))\n",
    "    alpha = alpha[np.imag(alpha)<=0]\n",
    "\n",
    "    return np.sort(np.real((1+alpha**2)/(2*alpha)))"
   ]
  },
  {
   "cell_type": "code",
   "execution_count": null,
   "metadata": {},
   "outputs": [],
   "source": [
    "def abs_min_log_loss(xs, ys):\n",
    "    from adaptive.learner.learner1D import default_loss\n",
    "    ys = [np.log(np.abs(y).min()) for y in ys]\n",
    "    return default_loss(xs, ys)\n",
    "\n",
    "def f(kx):\n",
    "    \n",
    "    return energies_over_delta(syst, params=dict(params, k_x=kx*a, phi=np.pi))\n",
    "#     return np.min(Es)\n",
    "    Es = np.array(Es)\n",
    "    return np.hstack([Es, -Es])\n",
    "                               \n",
    "learner = adaptive.Learner1D(f, [-0.102463344877, 0.102463344877], loss_per_interval=abs_min_log_loss)"
   ]
  },
  {
   "cell_type": "code",
   "execution_count": null,
   "metadata": {},
   "outputs": [],
   "source": [
    "def abs_min_log_loss(xs, ys):\n",
    "    from adaptive.learner.learner1D import default_loss\n",
    "    ys = [np.log(np.abs(y).min()) for y in ys]\n",
    "    return default_loss(xs, ys)\n",
    "\n",
    "def f(kx):\n",
    "    \n",
    "    return energies_over_delta(syst, params=dict(params, k_x=kx*a, phi=np.pi))\n",
    "                               \n",
    "learner = adaptive.Learner1D(f, [-0.102463344877, 0.102463344877])#, loss_per_interval=abs_min_log_loss)"
   ]
  },
  {
   "cell_type": "code",
   "execution_count": null,
   "metadata": {},
   "outputs": [],
   "source": [
    "def abs_min_log_loss(xs, ys):\n",
    "    from adaptive.learner.learner1D import default_loss\n",
    "    ys = [np.log(np.abs(y).min()) for y in ys]\n",
    "    return default_loss(xs, ys)\n",
    "\n",
    "def f(kx):\n",
    "    \n",
    "    return np.min(np.abs(energies_over_delta(syst, params=dict(params, k_x=kx*a, phi=np.pi))))\n",
    "                               \n",
    "learner = adaptive.Learner1D(f, [0, 0.102463344877])#, loss_per_interval=abs_min_log_loss)"
   ]
  },
  {
   "cell_type": "code",
   "execution_count": null,
   "metadata": {},
   "outputs": [],
   "source": [
    "runner = adaptive.Runner(learner)\n",
    "runner.live_info()"
   ]
  },
  {
   "cell_type": "code",
   "execution_count": null,
   "metadata": {},
   "outputs": [],
   "source": [
    "learner.plot()"
   ]
  },
  {
   "cell_type": "code",
   "execution_count": null,
   "metadata": {},
   "outputs": [],
   "source": [
    "gaps = np.array(sorted(learner.data.items()))\n",
    "\n",
    "ks_   = gaps[:,0]\n",
    "gaps_ = np.minimum.accumulate(gaps[:,1])\n",
    "gap_before_k = scipy.interpolate.interp1d(ks_, gaps_)"
   ]
  },
  {
   "cell_type": "code",
   "execution_count": null,
   "metadata": {},
   "outputs": [],
   "source": [
    "hv.Curve((ks_, gaps_)) *hv.Curve((ks_, gap_before_k(ks_)))"
   ]
  },
  {
   "cell_type": "code",
   "execution_count": null,
   "metadata": {},
   "outputs": [],
   "source": [
    "kf-params['m_eff']*params['alpha']/params['hbar']**2"
   ]
  },
  {
   "cell_type": "code",
   "execution_count": null,
   "metadata": {},
   "outputs": [],
   "source": [
    "kf = np.sqrt(params['mu_n']*2*params['m_eff'])/params['hbar']\n",
    "lambda_f = 2*np.pi/kf\n",
    "print(kf, lambda_f)"
   ]
  },
  {
   "cell_type": "code",
   "execution_count": null,
   "metadata": {},
   "outputs": [],
   "source": [
    "np.sqrt(zx**2 + W**2)-D"
   ]
  },
  {
   "cell_type": "code",
   "execution_count": null,
   "metadata": {},
   "outputs": [],
   "source": [
    "kf = lambda alpha, mu: constants['m_eff']*alpha/constants['hbar']**2 - np.sqrt(-(constants['m_eff']*alpha/constants['hbar'])**2 + constants['m_eff']*2*mu)/constants['hbar']"
   ]
  },
  {
   "cell_type": "code",
   "execution_count": null,
   "metadata": {},
   "outputs": [],
   "source": [
    "kf(20, 20)"
   ]
  },
  {
   "cell_type": "code",
   "execution_count": null,
   "metadata": {},
   "outputs": [],
   "source": [
    "zx = 4\n",
    "zy = 1\n",
    "def cutoff(zx, zy, W, params):\n",
    "    D = np.sqrt(zx**2 + (2*zy + W * np.sqrt(1 + (4*zy/zx)**2))**2)\n",
    "    kf = np.sqrt(params['mu_n']*2*params['m_eff'])/params['hbar']\n",
    "#     return np.sqrt(1 - W**2/D**2)*0.094\n",
    "    return 0.0915\n",
    "\n",
    "magnitude = np.linspace(140, 400)\n",
    "cutoffs = [cutoff(m*zx, m*zy, W, params) for m in magnitude]\n",
    "hv.Curve((magnitude, cutoffs))"
   ]
  },
  {
   "cell_type": "code",
   "execution_count": null,
   "metadata": {},
   "outputs": [],
   "source": [
    "gap = [gap_before_k(cutoff) for cutoff in cutoffs]"
   ]
  },
  {
   "cell_type": "code",
   "execution_count": null,
   "metadata": {},
   "outputs": [],
   "source": [
    "hv.Curve((magnitude, np.array(gap)))"
   ]
  },
  {
   "cell_type": "code",
   "execution_count": null,
   "metadata": {},
   "outputs": [],
   "source": [
    "new_data = {}\n",
    "folding = (np.pi/a)/(1/a)\n",
    "cut_off = 0.22116096894035706\n",
    "for k, v in learner.data.items():\n",
    "    if np.abs(k)<cut_off:\n",
    "        new_data[np.fmod(k, folding)] = v\n",
    "\n",
    "x = np.sort(np.array(list(new_data.keys())))\n",
    "y = np.vstack([new_data[x_] for x_ in x])\n",
    "\n",
    "points = []\n",
    "for x_, ys in zip(x,y):\n",
    "    for y_ in ys:\n",
    "        points.append((x_, y_))"
   ]
  },
  {
   "cell_type": "code",
   "execution_count": null,
   "metadata": {},
   "outputs": [],
   "source": [
    "hv.Points(points)"
   ]
  },
  {
   "cell_type": "code",
   "execution_count": null,
   "metadata": {},
   "outputs": [],
   "source": [
    "learner.plot()\n"
   ]
  },
  {
   "cell_type": "code",
   "execution_count": null,
   "metadata": {},
   "outputs": [],
   "source": [
    "learner.plot()\n"
   ]
  },
  {
   "cell_type": "markdown",
   "metadata": {},
   "source": [
    "## NS interface"
   ]
  },
  {
   "cell_type": "code",
   "execution_count": null,
   "metadata": {},
   "outputs": [],
   "source": [
    "def get_templates_ns():\n",
    "    ham_n = \"\"\"(hbar^2 / (2*m_eff) * (k_x^2 + k_y^2) - mu_n) * sigma_z\n",
    "    \"\"\"\n",
    "    ham_s = \"\"\"(hbar^2 / (2*m_eff) * (k_x^2 + k_y^2) - mu_s) * sigma_z + Delta*(cos(phi)*sigma_x + sin(phi)*sigma_y)\n",
    "\"\"\"\n",
    "    print(ham_n)\n",
    "    print(ham_s)\n",
    "    \n",
    "    template_s = kwant.continuum.discretize(\n",
    "        ham_s, grid_spacing=a, coords=('x', 'y'))\n",
    "    template_n = kwant.continuum.discretize(\n",
    "        ham_n, grid_spacing=a, coords=('x', 'y'))\n",
    "    \n",
    "    return (template_n, template_s)"
   ]
  },
  {
   "cell_type": "code",
   "execution_count": null,
   "metadata": {},
   "outputs": [],
   "source": [
    "(template_n, template_s) = get_templates_ns()\n",
    "\n",
    "# lead_down = kwant.Builder(kwant.TranslationalSymmetry((a,0),(0,-a)), conservation_law=sigmaz, time_reversal=sigmay)\n",
    "# lead_up = kwant.Builder(kwant.TranslationalSymmetry((a,0),(0,a)), conservation_law=sigmaz, time_reversal=sigmay)\n",
    "lead_down = kwant.Builder(kwant.TranslationalSymmetry((a,0),(0,-a)))\n",
    "lead_up = kwant.Builder(kwant.TranslationalSymmetry((a,0),(0,a)))\n",
    "\n",
    "junction = kwant.Builder(kwant.TranslationalSymmetry((a,0)))\n",
    "\n",
    "lead_up.fill(template_n, lambda x: True, [0, 0])\n",
    "junction.fill(template_n, lambda site: site.pos[1]==0, [0, 0])\n",
    "lead_down.fill(template_s, lambda x: True, [0, 0])\n",
    "\n",
    "junction = kwant.wraparound.wraparound(junction)\n",
    "lead_down = kwant.wraparound.wraparound(lead_down, keep=1)\n",
    "lead_up = kwant.wraparound.wraparound(lead_up, keep=1)\n",
    "\n",
    "junction.attach_lead(lead_down)\n",
    "junction.attach_lead(lead_up)\n",
    "\n",
    "syst_ns = junction.finalized()"
   ]
  },
  {
   "cell_type": "code",
   "execution_count": null,
   "metadata": {},
   "outputs": [],
   "source": [
    "kwant.smatrix(syst_ns, 0, params=dict(params, k_x=0.06*a, phi=np.pi, theta=0, Ez=.15, alpha=20, Delta=1))"
   ]
  },
  {
   "cell_type": "code",
   "execution_count": null,
   "metadata": {},
   "outputs": [],
   "source": [
    "def d(zy):\n",
    "    W = 200\n",
    "    zx = 4*zy\n",
    "    zy = zy\n",
    "    \n",
    "    d1 = np.sqrt((zx**2)/4 + (2*zy-np.sqrt(2)*W)**2)\n",
    "    d2 = W / np.sqrt(d1**2 - W**2) * d1\n",
    "    \n",
    "    w1 = np.sqrt(d1**2 - W**2)\n",
    "    w2 = W\n",
    "    return (d1+2*d2, (w1 + 2*W)/(d1+2*d2))"
   ]
  },
  {
   "cell_type": "code",
   "execution_count": null,
   "metadata": {},
   "outputs": [],
   "source": [
    "d(140)"
   ]
  },
  {
   "cell_type": "code",
   "execution_count": null,
   "metadata": {},
   "outputs": [],
   "source": [
    "hv.notebook_extension('bokeh')"
   ]
  },
  {
   "cell_type": "code",
   "execution_count": null,
   "metadata": {},
   "outputs": [],
   "source": [
    "%%opts Curve [logy=False]\n",
    "zy = np.linspace(80,400,4000)\n",
    "hv.Curve((zy, d(zy))).redim(y='Dmax(nm)',x='zy(nm)')"
   ]
  },
  {
   "cell_type": "code",
   "execution_count": null,
   "metadata": {},
   "outputs": [],
   "source": [
    "%opts?"
   ]
  },
  {
   "cell_type": "code",
   "execution_count": null,
   "metadata": {},
   "outputs": [],
   "source": [
    "np.sqrt(2)*200*3"
   ]
  },
  {
   "cell_type": "code",
   "execution_count": null,
   "metadata": {},
   "outputs": [],
   "source": []
  }
 ],
 "metadata": {
  "language_info": {
   "name": "python",
   "pygments_lexer": "ipython3"
  }
 },
 "nbformat": 4,
 "nbformat_minor": 2
}
