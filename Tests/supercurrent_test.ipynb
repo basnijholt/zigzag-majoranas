{
 "cells": [
  {
   "cell_type": "code",
   "execution_count": null,
   "metadata": {},
   "outputs": [],
   "source": [
    "%load_ext autoreload\n",
    "%load_ext line_profiler"
   ]
  },
  {
   "cell_type": "code",
   "execution_count": null,
   "metadata": {},
   "outputs": [],
   "source": [
    "import os, sys\n",
    "import holoviews as hv\n",
    "sys.path.append(os.path.abspath('../../two_dim_majoranas/'))\n",
    "\n",
    "import inspect\n",
    "from IPython import display\n",
    "\n",
    "import adaptive\n",
    "adaptive.notebook_extension()\n",
    "\n",
    "import numpy as np\n",
    "import scipy.constants\n",
    "import cmath\n",
    "import kwant \n",
    "\n",
    "import functools as ft\n",
    "\n",
    "import sns_system, plotting_results\n",
    "import topology, spectrum, supercurrent\n",
    "from distributed_sns import AggregatesSimulationSet as ASS\n",
    "from distributed_sns import SimulationSet as SS"
   ]
  },
  {
   "cell_type": "markdown",
   "metadata": {},
   "source": [
    "# Define system"
   ]
  },
  {
   "cell_type": "code",
   "execution_count": null,
   "metadata": {},
   "outputs": [],
   "source": [
    "constants = dict(\n",
    "    m_eff=0.023 * scipy.constants.m_e / (scipy.constants.eV * 1e-3) / 1e18,  # effective mass in kg, \n",
    "    hbar=scipy.constants.hbar / (scipy.constants.eV * 1e-3),\n",
    "    e = scipy.constants.e,\n",
    "    current_unit=scipy.constants.k * scipy.constants.e / scipy.constants.hbar * 1e9,  # to get nA\n",
    "    mu_B=scipy.constants.physical_constants['Bohr magneton'][0] / (scipy.constants.eV * 1e-3),\n",
    "    k=scipy.constants.k / (scipy.constants.eV * 1e-3),\n",
    "    exp=cmath.exp,\n",
    "    cos=cmath.cos,\n",
    "    sin=cmath.sin\n",
    "   )\n",
    "\n",
    "syst_pars = {'Ll' :  1000,\n",
    "             'Lr' : 1000,\n",
    "             'Lm' : 250,\n",
    "             'Ly' : 25,\n",
    "             'a' :  25,\n",
    "             'mu_from_bottom_of_spin_orbit_bands': True}\n",
    "\n",
    "lat_spacings = [5, 12.5, 15.625, 25]\n",
    "syst_pars_dict = {a : syst_pars.copy() for a in lat_spacings}\n",
    "[v.update(a=k) for k,v in syst_pars_dict.items()]\n",
    "\n",
    "params_raw= dict(g_factor_middle = 10,\n",
    "                 g_factor_left = 0,\n",
    "                 g_factor_right = 0,\n",
    "                 mu = 10.0,\n",
    "                 alpha_middle = 28,\n",
    "                 alpha_left = 28,\n",
    "                 alpha_right = 28,\n",
    "                 Delta_left = 0.18,\n",
    "                 Delta_right = 0.18,\n",
    "                 B = 0.5,\n",
    "                 phase = np.pi/2,\n",
    "                 T = .25,\n",
    "                 V = 0)\n",
    "\n",
    "params = dict(**constants,\n",
    "              **params_raw)"
   ]
  },
  {
   "cell_type": "markdown",
   "metadata": {},
   "source": [
    "# Make SNS junction"
   ]
  },
  {
   "cell_type": "code",
   "execution_count": null,
   "metadata": {},
   "outputs": [],
   "source": [
    "syst_dict = {k: sns_system.make_wrapped_system(**v) for k,v in syst_pars_dict.items()}"
   ]
  },
  {
   "cell_type": "markdown",
   "metadata": {},
   "source": [
    "# Get current source code"
   ]
  },
  {
   "cell_type": "code",
   "execution_count": null,
   "metadata": {},
   "outputs": [],
   "source": [
    "wrapped_current_implementation = inspect.getsource(supercurrent.wrapped_current)\n",
    "display.Code(data=wrapped_current_implementation, language='python')\n",
    "exec(inspect.getsource(supercurrent))"
   ]
  },
  {
   "cell_type": "markdown",
   "metadata": {},
   "source": [
    "# Make local version"
   ]
  },
  {
   "cell_type": "code",
   "execution_count": null,
   "metadata": {},
   "outputs": [],
   "source": [
    "a = 12.5"
   ]
  },
  {
   "cell_type": "code",
   "execution_count": null,
   "metadata": {},
   "outputs": [],
   "source": [
    "syst_pars = syst_pars_dict[a]\n",
    "tol=1e-2\n",
    "syst_wrapped=syst_dict[a]\n",
    "\n",
    "cut_tag=0\n",
    "direction=0\n",
    "\n",
    "(cut_indices, cut_sites) = get_cut_sites_and_indices(syst_wrapped, cut_tag, direction)\n",
    "current_operator = kwant.operator.Current(syst_wrapped,\n",
    "                                          onsite=sigz,\n",
    "                                          where=cut_sites)\n",
    "\n",
    "\n",
    "\n",
    "def f(k):\n",
    "    p = dict(k_y=k, **params)\n",
    "    ham = syst_wrapped.hamiltonian_submatrix(params=p)\n",
    "    local_current_operator = current_operator.bind(params=p)\n",
    "    \n",
    "    (en, evs) = np.linalg.eigh(ham)\n",
    "    I = sum(fermi_dirac(e.real, p) * local_current_operator(ev)\n",
    "        for (e, ev) in zip(en, evs.T))\n",
    "    return sum(I)*params['e']/params['hbar']/a\n"
   ]
  },
  {
   "cell_type": "code",
   "execution_count": null,
   "metadata": {},
   "outputs": [],
   "source": [
    "ef_max = params['mu'] + params['m_eff']*params['alpha_middle']**2/2/params['hbar']**2\n",
    "kf = np.sqrt(ef_max*2*params['m_eff'])/params['hbar']*syst_pars['a']\n",
    "kmax = min(1.5*kf, np.pi)\n",
    "learner = adaptive.IntegratorLearner(f, [0, kmax], tol)"
   ]
  },
  {
   "cell_type": "code",
   "execution_count": null,
   "metadata": {},
   "outputs": [],
   "source": [
    "runner = adaptive.Runner(learner, lambda l: l.done())\n",
    "runner.live_info()\n",
    "# runner = adaptive.runner.simple(learner, lambda l: l.done())"
   ]
  },
  {
   "cell_type": "code",
   "execution_count": null,
   "metadata": {},
   "outputs": [],
   "source": [
    "# 12.5 \n",
    "learner.igral"
   ]
  },
  {
   "cell_type": "code",
   "execution_count": null,
   "metadata": {},
   "outputs": [],
   "source": [
    "# 15.625 -2.8210614633668415e-09\n",
    "learner.igral"
   ]
  },
  {
   "cell_type": "code",
   "execution_count": null,
   "metadata": {},
   "outputs": [],
   "source": [
    "learner.plot()"
   ]
  },
  {
   "cell_type": "code",
   "execution_count": null,
   "metadata": {},
   "outputs": [],
   "source": [
    "learner.plot()"
   ]
  },
  {
   "cell_type": "code",
   "execution_count": null,
   "metadata": {},
   "outputs": [],
   "source": [
    "hv.Points(learner.done_points)\n"
   ]
  },
  {
   "cell_type": "code",
   "execution_count": null,
   "metadata": {},
   "outputs": [],
   "source": [
    "runner.overhead()"
   ]
  },
  {
   "cell_type": "code",
   "execution_count": null,
   "metadata": {},
   "outputs": [],
   "source": [
    "%lprun -f f f(0.1)"
   ]
  },
  {
   "cell_type": "code",
   "execution_count": null,
   "metadata": {},
   "outputs": [],
   "source": [
    "syst_wrapped = syst_dict[12.5]\n",
    "p = dict(k_y=.1, **params)\n",
    "ham = syst_wrapped.hamiltonian_submatrix(params=p)\n",
    "local_current_operator = current_operator.bind(params=p)\n",
    "\n",
    "(en, evs) = np.linalg.eigh(ham)\n",
    "\n",
    "I = sum(local_current_operator(ev) for (e, ev) in zip(en, evs.T))"
   ]
  },
  {
   "cell_type": "code",
   "execution_count": null,
   "metadata": {},
   "outputs": [],
   "source": [
    "I"
   ]
  },
  {
   "cell_type": "code",
   "execution_count": null,
   "metadata": {},
   "outputs": [],
   "source": [
    "params['mu'] = .5/params['m_eff']*params['hbar']**2*kf**2"
   ]
  },
  {
   "cell_type": "code",
   "execution_count": null,
   "metadata": {},
   "outputs": [],
   "source": [
    "np.sqrt(params['mu']*2*params['m_eff'])/params['hbar']*12.5"
   ]
  },
  {
   "cell_type": "code",
   "execution_count": null,
   "metadata": {},
   "outputs": [],
   "source": [
    "J*kg\n",
    "J^2 s^2\n",
    "\n",
    "kg^2 m^2 s^-2\n",
    "kg^2 m^4 s^-4 s^2\n",
    "\n",
    "m^-2\n",
    "\n"
   ]
  }
 ],
 "metadata": {
  "language_info": {
   "name": "python",
   "pygments_lexer": "ipython3"
  }
 },
 "nbformat": 4,
 "nbformat_minor": 2
}
