{
 "cells": [
  {
   "cell_type": "code",
   "execution_count": null,
   "metadata": {},
   "outputs": [],
   "source": [
    "import kwant\n",
    "import functools as ft\n",
    "import matplotlib.pyplot as plt\n",
    "import numpy as np\n",
    "import adaptive\n",
    "adaptive.notebook_extension()\n",
    "\n",
    "import scipy.constants\n",
    "import cmath\n",
    "\n",
    "import os, sys\n",
    "sys.path.append(os.path.abspath('../../two_dim_majoranas/'))\n",
    "import sns_system\n",
    "import supercurrent_matsubara\n",
    "import supercurrent\n",
    "\n",
    "import distributed_sns as ds\n",
    "import holoviews as hv"
   ]
  },
  {
   "cell_type": "code",
   "execution_count": null,
   "metadata": {},
   "outputs": [],
   "source": [
    "syst_pars = dict(\n",
    "    L_m = 500,\n",
    "    L_x = 4800,\n",
    "    L_sc_up = 200,\n",
    "    L_sc_down = 200,\n",
    "    z_x = 2400,\n",
    "    z_y = 400,\n",
    "    a   = 10,\n",
    "    parallel_curve = False,\n",
    "    sawtooth=True,\n",
    "    transverse_soi = True,\n",
    "    mu_from_bottom_of_spin_orbit_bands = True,\n",
    "    k_x_in_sc = True,\n",
    "    wraparound = False,\n",
    "    current = False,\n",
    "    ns_junction=False)"
   ]
  },
  {
   "cell_type": "code",
   "execution_count": null,
   "metadata": {},
   "outputs": [],
   "source": [
    "%%time\n",
    "syst, site_colors, hopping = sns_system.make_system(**syst_pars)"
   ]
  },
  {
   "cell_type": "code",
   "execution_count": null,
   "metadata": {},
   "outputs": [],
   "source": [
    "coloring =  {'middle_interior' : 'grey',\n",
    "             'middle_barrier' : 'black',\n",
    "             'bottom_superconductor' : 'gold',\n",
    "             'top_superconductor' : 'gold',\n",
    "             'top_cut' : 'red',\n",
    "             'bottom_cut' : 'blue'}\n",
    "\n",
    "for k,v in site_colors.items():\n",
    "    if site_colors.get(k) is not None:\n",
    "        site_colors[k] = coloring[v]"
   ]
  },
  {
   "cell_type": "code",
   "execution_count": null,
   "metadata": {},
   "outputs": [],
   "source": [
    "kwant.plot(syst,site_color=sns_system.site_color_function(site_colors, syst), dpi=400);"
   ]
  },
  {
   "cell_type": "code",
   "execution_count": null,
   "metadata": {},
   "outputs": [],
   "source": [
    "constants = dict(\n",
    "    m_eff=0.02 * scipy.constants.m_e / (scipy.constants.eV * 1e-3) / 1e18,  # effective mass in kg, \n",
    "    hbar=scipy.constants.hbar / (scipy.constants.eV * 1e-3),\n",
    "    e = scipy.constants.e,\n",
    "    current_unit=scipy.constants.k * scipy.constants.e / scipy.constants.hbar * 1e9,  # to get nA\n",
    "    mu_B=scipy.constants.physical_constants['Bohr magneton'][0] / (scipy.constants.eV * 1e-3),\n",
    "    k=scipy.constants.k / (scipy.constants.eV * 1e-3),\n",
    "    exp=cmath.exp,\n",
    "    cos=cmath.cos,\n",
    "    sin=cmath.sin\n",
    "   )\n",
    "\n",
    "params_raw= dict(g_factor_middle = 26,\n",
    "                 g_factor_left = 0,\n",
    "                 g_factor_right = 0,\n",
    "                 mu = 10,\n",
    "                 alpha_middle = 20,\n",
    "                 alpha_left = 0,\n",
    "                 alpha_right = 0,\n",
    "                 Delta_left = 2,\n",
    "                 Delta_right = 2,\n",
    "                 B = .3,\n",
    "                 phase = np.pi,\n",
    "                 T = 0.0,\n",
    "                 V = 0)\n",
    "\n",
    "params = dict(**constants,\n",
    "              **params_raw)"
   ]
  },
  {
   "cell_type": "code",
   "execution_count": null,
   "metadata": {},
   "outputs": [],
   "source": [
    "keys_with_bounds = {'B' : [0, 1],\n",
    "                    'phase' : [0, 2*np.pi]}\n",
    "metric_params = {'lowest_two_energies' : {}}"
   ]
  },
  {
   "cell_type": "code",
   "execution_count": null,
   "metadata": {},
   "outputs": [],
   "source": [
    "agg_SS = ds.AggregatesSimulationSet(keys_with_bounds, syst_pars, params, metric_params,'lowest_two_energies')"
   ]
  },
  {
   "cell_type": "code",
   "execution_count": null,
   "metadata": {},
   "outputs": [],
   "source": [
    "z_ys = [100, 200, 300, 400, 500, 600]\n",
    "def _params_z_y(syst_pars, params, z_y):\n",
    "    for key in ['Delta_left', 'Delta_right']:\n",
    "        if key in params:\n",
    "            params[key] = z_y\n",
    "        if key in syst_pars:\n",
    "            syst_pars[key] = z_y\n",
    "    return z_y\n",
    "\n",
    "params_z_y = [ft.partial(_params_z_y,\n",
    "                           z_y=_z_y\n",
    "                           ) for _z_y in z_ys]\n",
    "agg_SS.add_dimension('z_y', params_z_y)"
   ]
  },
  {
   "cell_type": "code",
   "execution_count": null,
   "metadata": {},
   "outputs": [],
   "source": [
    "agg_SS.make_balancing_learner(300)"
   ]
  },
  {
   "cell_type": "code",
   "execution_count": null,
   "metadata": {},
   "outputs": [],
   "source": [
    "bl = agg_SS.get_balancing_learner()"
   ]
  },
  {
   "cell_type": "code",
   "execution_count": null,
   "metadata": {},
   "outputs": [],
   "source": [
    "runner = adaptive.Runner(bl, ntasks=4, goal = lambda l: l.loss()<0.5)\n",
    "runner.live_info()"
   ]
  },
  {
   "cell_type": "code",
   "execution_count": null,
   "metadata": {},
   "outputs": [],
   "source": [
    "hv.notebook_extension('matplotlib')"
   ]
  },
  {
   "cell_type": "code",
   "execution_count": null,
   "metadata": {},
   "outputs": [],
   "source": [
    "%%opts Image [colorbar=True aspect=1] (cmap='Viridis') {+framewise}\n",
    "kdims, pdict = agg_SS.get_plot_dict(200, False, False)\n",
    "hv.HoloMap(pdict, kdims=kdims)"
   ]
  },
  {
   "cell_type": "code",
   "execution_count": null,
   "metadata": {},
   "outputs": [],
   "source": [
    "hv.renderer('matplotlib').save(res, 'test', fmt='gif')"
   ]
  },
  {
   "cell_type": "code",
   "execution_count": null,
   "metadata": {},
   "outputs": [],
   "source": [
    "_ = bl.learners[0]"
   ]
  },
  {
   "cell_type": "code",
   "execution_count": null,
   "metadata": {},
   "outputs": [],
   "source": [
    "[(l.npoints, l.loss()) for l in bl.learners]\n",
    "\n",
    "\n",
    "\n"
   ]
  },
  {
   "cell_type": "code",
   "execution_count": null,
   "metadata": {},
   "outputs": [],
   "source": [
    "_ = hv.renderer('matplotlib')"
   ]
  },
  {
   "cell_type": "code",
   "execution_count": null,
   "metadata": {},
   "outputs": [],
   "source": [
    "_.save()"
   ]
  }
 ],
 "metadata": {
  "language_info": {
   "name": "python",
   "pygments_lexer": "ipython3"
  }
 },
 "nbformat": 4,
 "nbformat_minor": 2
}
