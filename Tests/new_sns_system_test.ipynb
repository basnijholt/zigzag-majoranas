{
 "cells": [
  {
   "cell_type": "code",
   "execution_count": null,
   "metadata": {},
   "outputs": [],
   "source": [
    "import kwant\n",
    "from math import sin, cos\n",
    "import matplotlib.pyplot as plt\n",
    "import numpy as np\n",
    "\n",
    "import scipy.constants\n",
    "import cmath\n",
    "\n",
    "import os, sys\n",
    "sys.path.append(os.path.abspath('../../two_dim_majoranas/'))\n",
    "import sns_system\n",
    "import supercurrent_matsubara\n",
    "import supercurrent"
   ]
  },
  {
   "cell_type": "code",
   "execution_count": null,
   "metadata": {},
   "outputs": [],
   "source": [
    "syst_pars = dict(\n",
    "    L_m = 400,\n",
    "    L_x = 800,\n",
    "    L_sc_up = 20,\n",
    "    L_sc_down = 20,\n",
    "    z_x = 400,\n",
    "    z_y = 125,\n",
    "    a   = 10,\n",
    "    parallel_curve = True,\n",
    "    transverse_soi = True,\n",
    "    mu_from_bottom_of_spin_orbit_bands = True,\n",
    "    k_x_in_sc = True,\n",
    "    wraparound = False,\n",
    "    current = False,\n",
    "    ns_junction=True)"
   ]
  },
  {
   "cell_type": "code",
   "execution_count": null,
   "metadata": {},
   "outputs": [],
   "source": [
    "%%time\n",
    "syst, site_colors, hopping = sns_system.make_system(**syst_pars)"
   ]
  },
  {
   "cell_type": "code",
   "execution_count": null,
   "metadata": {},
   "outputs": [],
   "source": [
    "coloring =  {'middle_interior' : 'grey',\n",
    "             'middle_barrier' : 'black',\n",
    "             'bottom_superconductor' : 'gold',\n",
    "             'top_superconductor' : 'gold',\n",
    "             'top_cut' : 'red',\n",
    "             'bottom_cut' : 'blue'}\n",
    "\n",
    "for k,v in site_colors.items():\n",
    "    if site_colors.get(k) is not None:\n",
    "        site_colors[k] = coloring[v]"
   ]
  },
  {
   "cell_type": "code",
   "execution_count": null,
   "metadata": {},
   "outputs": [],
   "source": [
    "kwant.plot(syst,site_color=sns_system.site_color_function(site_colors, syst), dpi=400);"
   ]
  },
  {
   "cell_type": "code",
   "execution_count": null,
   "metadata": {},
   "outputs": [],
   "source": [
    "constants = dict(\n",
    "    m_eff=0.02 * scipy.constants.m_e / (scipy.constants.eV * 1e-3) / 1e18,  # effective mass in kg, \n",
    "    hbar=scipy.constants.hbar / (scipy.constants.eV * 1e-3),\n",
    "    e = scipy.constants.e,\n",
    "    current_unit=scipy.constants.k * scipy.constants.e / scipy.constants.hbar * 1e9,  # to get nA\n",
    "    mu_B=scipy.constants.physical_constants['Bohr magneton'][0] / (scipy.constants.eV * 1e-3),\n",
    "    k=scipy.constants.k / (scipy.constants.eV * 1e-3),\n",
    "    exp=cmath.exp,\n",
    "    cos=cmath.cos,\n",
    "    sin=cmath.sin\n",
    "   )\n",
    "\n",
    "params_raw= dict(g_factor_middle = 26,\n",
    "                 g_factor_left = 0,\n",
    "                 g_factor_right = 0,\n",
    "                 mu = 10,\n",
    "                 alpha_middle = 20,\n",
    "                 alpha_left = 0,\n",
    "                 alpha_right = 0,\n",
    "                 Delta_left = 2,\n",
    "                 Delta_right = 2,\n",
    "                 B = .3,\n",
    "                 phase = np.pi,\n",
    "                 T = 0.0,\n",
    "                 V = 10)\n",
    "\n",
    "params = dict(**constants,\n",
    "              **params_raw)"
   ]
  },
  {
   "cell_type": "code",
   "execution_count": null,
   "metadata": {},
   "outputs": [],
   "source": []
  }
 ],
 "metadata": {
  "language_info": {
   "name": "python",
   "pygments_lexer": "ipython3"
  }
 },
 "nbformat": 4,
 "nbformat_minor": 2
}
