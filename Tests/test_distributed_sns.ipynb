{
 "cells": [
  {
   "cell_type": "markdown",
   "metadata": {},
   "source": [
    "# Imports"
   ]
  },
  {
   "cell_type": "code",
   "execution_count": null,
   "metadata": {},
   "outputs": [],
   "source": [
    "%load_ext autoreload"
   ]
  },
  {
   "cell_type": "code",
   "execution_count": null,
   "metadata": {},
   "outputs": [],
   "source": [
    "import os, sys\n",
    "import holoviews as hv\n",
    "sys.path.append(os.path.abspath('../../two_dim_majoranas/'))\n",
    "import hpc05\n",
    "\n",
    "import ipywidgets as widgets\n",
    "run_cluster = widgets.Checkbox(\n",
    "    value=False,\n",
    "    description='Check to run cluster',\n",
    "    disabled=False\n",
    ")\n",
    "def assert_cluster_checked():\n",
    "    assert run_cluster.value is True, \"Command not run. Check the box above to run.\""
   ]
  },
  {
   "cell_type": "code",
   "execution_count": null,
   "metadata": {},
   "outputs": [],
   "source": [
    "import adaptive\n",
    "adaptive.notebook_extension()\n",
    "\n",
    "import numpy as np\n",
    "import scipy.constants\n",
    "import cmath\n",
    "\n",
    "import functools as ft\n",
    "\n",
    "import sns_system, plotting_results\n",
    "from distributed_sns import AggregatesSimulationSet as ASS\n",
    "from distributed_sns import SimulationSet as SS"
   ]
  },
  {
   "cell_type": "markdown",
   "metadata": {},
   "source": [
    "### Define constants"
   ]
  },
  {
   "cell_type": "code",
   "execution_count": null,
   "metadata": {},
   "outputs": [],
   "source": [
    "constants = dict(\n",
    "    m_eff=0.023 * scipy.constants.m_e / (scipy.constants.eV * 1e-3) / 1e18,  # effective mass in kg, \n",
    "    hbar=scipy.constants.hbar / (scipy.constants.eV * 1e-3),\n",
    "    e = scipy.constants.e,\n",
    "    current_unit=scipy.constants.k * scipy.constants.e / scipy.constants.hbar * 1e9,  # to get nA\n",
    "    mu_B=scipy.constants.physical_constants['Bohr magneton'][0] / (scipy.constants.eV * 1e-3),\n",
    "    k=scipy.constants.k / (scipy.constants.eV * 1e-3),\n",
    "    exp=cmath.exp,\n",
    "    cos=cmath.cos,\n",
    "    sin=cmath.sin\n",
    "   )"
   ]
  },
  {
   "cell_type": "markdown",
   "metadata": {},
   "source": [
    "# Cluster setup"
   ]
  },
  {
   "cell_type": "code",
   "execution_count": null,
   "metadata": {},
   "outputs": [],
   "source": [
    "run_cluster"
   ]
  },
  {
   "cell_type": "code",
   "execution_count": null,
   "metadata": {},
   "outputs": [],
   "source": [
    "assert_cluster_checked()\n",
    "hpc05.kill_remote_ipcluster()\n",
    "run_cluster.value = False"
   ]
  },
  {
   "cell_type": "code",
   "execution_count": null,
   "metadata": {},
   "outputs": [],
   "source": [
    "assert_cluster_checked()\n",
    "client, dview, lview = hpc05.start_remote_and_connect(200, folder='~/two_dim_majoranas', timeout=180)\n",
    "run_cluster.value = False"
   ]
  },
  {
   "cell_type": "markdown",
   "metadata": {},
   "source": [
    "# Define and plot system"
   ]
  },
  {
   "cell_type": "code",
   "execution_count": null,
   "metadata": {},
   "outputs": [],
   "source": [
    "syst_pars = {'L_down' :  500,\n",
    "               'L_up' : 500,\n",
    "               'Lm' : 500,\n",
    "               'Lx' : 25,\n",
    "               'a' :  25,\n",
    "            'mu_from_bottom_of_spin_orbit_bands': True}\n",
    "\n",
    "_=plotting_results.plot_syst(syst_pars, sns_system.dummy_params)"
   ]
  },
  {
   "cell_type": "markdown",
   "metadata": {},
   "source": [
    "# Define standard parameters"
   ]
  },
  {
   "cell_type": "code",
   "execution_count": null,
   "metadata": {},
   "outputs": [],
   "source": [
    "params_raw= dict(g_factor_middle = 10,\n",
    "                 g_factor_left = 0,\n",
    "                 g_factor_right = 0,\n",
    "                 mu = 1.0,\n",
    "                 alpha_middle = 28,\n",
    "                 alpha_left = 28,\n",
    "                 alpha_right = 28,\n",
    "                 Delta_left = .18,\n",
    "                 Delta_right = .18,\n",
    "                 B = 0.5,\n",
    "                 phase = np.pi/2,\n",
    "                 T = 0.025)\n",
    "\n",
    "params = dict(**constants,\n",
    "              **params_raw)"
   ]
  },
  {
   "cell_type": "markdown",
   "metadata": {},
   "source": [
    "### Define keys to be varied"
   ]
  },
  {
   "cell_type": "code",
   "execution_count": null,
   "metadata": {},
   "outputs": [],
   "source": [
    "keys_with_bounds = {\"phase\":[0, 2*np.pi],\n",
    "                    \"B\":[0,1.1]}"
   ]
  },
  {
   "cell_type": "markdown",
   "metadata": {},
   "source": [
    "### Define metrics to be recorded"
   ]
  },
  {
   "cell_type": "code",
   "execution_count": null,
   "metadata": {},
   "outputs": [],
   "source": [
    "metric_params_dict = {\n",
    "                       \"pfaffian\":{}}"
   ]
  },
  {
   "cell_type": "markdown",
   "metadata": {},
   "source": [
    "### Define data folder"
   ]
  },
  {
   "cell_type": "code",
   "execution_count": null,
   "metadata": {},
   "outputs": [],
   "source": [
    "data_folder = 'test_folder'"
   ]
  },
  {
   "cell_type": "markdown",
   "metadata": {},
   "source": [
    "# Make ASS"
   ]
  },
  {
   "cell_type": "code",
   "execution_count": null,
   "metadata": {},
   "outputs": [],
   "source": [
    "%autoreload"
   ]
  },
  {
   "cell_type": "code",
   "execution_count": null,
   "metadata": {},
   "outputs": [],
   "source": [
    "import distributed_sns"
   ]
  },
  {
   "cell_type": "code",
   "execution_count": null,
   "metadata": {},
   "outputs": [],
   "source": [
    "ass = ASS(keys_with_bounds,\n",
    "              syst_pars, params,\n",
    "              metric_params_dict)\n",
    "ass=distributed_sns.AggregatesSimulationSet.load_from_file(\n",
    "    '<KB_c0a2a5_><PRMS_84abf4_><PARS_3829ac_><METR_992ec1_><DIM_696722_>',\n",
    "   data_folder, 100)"
   ]
  },
  {
   "cell_type": "markdown",
   "metadata": {},
   "source": [
    "### Add additional dimensions"
   ]
  },
  {
   "cell_type": "code",
   "execution_count": null,
   "metadata": {},
   "outputs": [],
   "source": [
    "alphas = [0.1, 1, 10]"
   ]
  },
  {
   "cell_type": "code",
   "execution_count": null,
   "metadata": {},
   "outputs": [],
   "source": [
    "def _params_alpha(syst_pars, params, alpha):\n",
    "    for key in ['alpha_middle', 'alpha_left', 'alpha_right']:\n",
    "        if key in params:\n",
    "            params[key] = alpha\n",
    "        if key in syst_pars:\n",
    "            syst_pars[key] = alpha\n",
    "    return alpha\n",
    "\n",
    "params_alpha = [ft.partial(_params_alpha,\n",
    "                           alpha=_alpha\n",
    "                           ) for _alpha in alphas]"
   ]
  },
  {
   "cell_type": "code",
   "execution_count": null,
   "metadata": {},
   "outputs": [],
   "source": [
    "ass.add_dimension(\"alpha\", params_alpha)"
   ]
  },
  {
   "cell_type": "markdown",
   "metadata": {},
   "source": [
    "### Make learner"
   ]
  },
  {
   "cell_type": "code",
   "execution_count": null,
   "metadata": {},
   "outputs": [],
   "source": [
    "ass.make_balancing_learner(100)\n",
    "ass.load(data_folder, 100)"
   ]
  },
  {
   "cell_type": "markdown",
   "metadata": {},
   "source": [
    "### Make runner with saver"
   ]
  },
  {
   "cell_type": "code",
   "execution_count": null,
   "metadata": {},
   "outputs": [],
   "source": [
    "runner = adaptive.Runner(ass.get_balancing_learner())\n",
    "ass.start_periodic_saver(runner, data_folder, interval=4)\n",
    "runner.live_info()"
   ]
  },
  {
   "cell_type": "markdown",
   "metadata": {},
   "source": [
    "# Plot"
   ]
  },
  {
   "cell_type": "code",
   "execution_count": null,
   "metadata": {},
   "outputs": [],
   "source": [
    "[(l.npoints, l.loss()) for l in ass.learner.learners]"
   ]
  },
  {
   "cell_type": "code",
   "execution_count": null,
   "metadata": {},
   "outputs": [],
   "source": [
    "%%opts Image {+framewise} [colorbar=True width=400 height=400]\n",
    "%%output filename=f\"./{data_folder}/spin_orbit_bottom_of_band\" fig='png'\n",
    "\n",
    "kdims, plot_dict = ass.get_plot_dict(400)\n",
    "pdict = dict((k,v[:,:]) for k,v in plot_dict.items())\n",
    "hv.HoloMap(plot_dict, kdims=kdims)"
   ]
  },
  {
   "cell_type": "code",
   "execution_count": null,
   "metadata": {},
   "outputs": [],
   "source": []
  }
 ],
 "metadata": {
  "language_info": {
   "name": "python",
   "pygments_lexer": "ipython3"
  }
 },
 "nbformat": 4,
 "nbformat_minor": 2
}
