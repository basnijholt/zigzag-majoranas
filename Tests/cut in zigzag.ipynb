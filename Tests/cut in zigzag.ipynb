{
 "cells": [
  {
   "cell_type": "code",
   "execution_count": null,
   "metadata": {},
   "outputs": [],
   "source": [
    "import os, sys\n",
    "sys.path.append(os.path.abspath('../../two_dim_majoranas/'))\n",
    "\n",
    "import numpy as np\n",
    "\n",
    "import kwant\n",
    "import holoviews as hv\n",
    "hv.notebook_extension()\n",
    "\n",
    "import sns_system, supercurrent, plotting_results"
   ]
  },
  {
   "cell_type": "code",
   "execution_count": null,
   "metadata": {},
   "outputs": [],
   "source": [
    "import numpy as np\n",
    "import cmath\n",
    "\n",
    "import functools as ft\n",
    "from functools import partial\n",
    "import kwant\n",
    "import sns_system, spectrum, topology, supercurrent\n",
    "from scipy.constants import physical_constants\n",
    "import scipy.constants\n",
    "import supercurrent_matsubara"
   ]
  },
  {
   "cell_type": "code",
   "execution_count": null,
   "metadata": {},
   "outputs": [],
   "source": [
    "def get_sites_in_shape(syst, shape):\n",
    "    sites = []\n",
    "    for site in syst.sites():\n",
    "        if shape(site):\n",
    "            sites.append(site)\n",
    "    return sites"
   ]
  },
  {
   "cell_type": "code",
   "execution_count": null,
   "metadata": {},
   "outputs": [],
   "source": [
    "constants = dict(\n",
    "    m_eff=0.02 * scipy.constants.m_e / (scipy.constants.eV * 1e-3) / 1e18,  # effective mass in kg, \n",
    "    hbar=scipy.constants.hbar / (scipy.constants.eV * 1e-3),\n",
    "    e = scipy.constants.e,\n",
    "    current_unit=scipy.constants.k * scipy.constants.e / scipy.constants.hbar * 1e9,  # to get nA\n",
    "    mu_B=scipy.constants.physical_constants['Bohr magneton'][0] / (scipy.constants.eV * 1e-3),\n",
    "    k=scipy.constants.k / (scipy.constants.eV * 1e-3),\n",
    "    exp=cmath.exp,\n",
    "    cos=cmath.cos,\n",
    "    sin=cmath.sin,\n",
    "    phi_0=2*physical_constants['mag. flux quantum'][0]*(1e18)\n",
    "   )\n",
    "\n",
    "syst_pars = {'L_down' :  200,\n",
    "             'L_up' : 200,\n",
    "             'L_m' : 200,\n",
    "             'L_x' : 200,\n",
    "             'a' :  10,\n",
    "             'z_x' : 400,\n",
    "             'z_y' : 50,\n",
    "             'c_x' : 450,\n",
    "             'c_y' : 50,\n",
    "             'mu_from_bottom_of_spin_orbit_bands': True,\n",
    "             'k_x_in_sc':True,\n",
    "             'with_vlead':True\n",
    "             }\n",
    "\n",
    "params_raw= dict(g_factor_middle = 26,\n",
    "                 g_factor_left = 0,\n",
    "                 g_factor_right = 0,\n",
    "                 mu = 10.0,\n",
    "                 alpha_middle = 20,\n",
    "                 alpha_left = 0,\n",
    "                 alpha_right = 0,\n",
    "                 Delta_left = 2,\n",
    "                 Delta_right = 2,\n",
    "                 B = 1,\n",
    "                 phase = 0,\n",
    "                 T = 0.1,\n",
    "                 V = 0)\n",
    "\n",
    "params = dict(**constants,\n",
    "              **params_raw)"
   ]
  },
  {
   "cell_type": "markdown",
   "metadata": {},
   "source": [
    "# Straight cut"
   ]
  },
  {
   "cell_type": "code",
   "execution_count": null,
   "metadata": {},
   "outputs": [],
   "source": [
    "syst, site_colors, hopping = sns_system.make_zigzag_system(**syst_pars)"
   ]
  },
  {
   "cell_type": "code",
   "execution_count": null,
   "metadata": {},
   "outputs": [],
   "source": [
    "plotting_results.plot_syst(syst=syst, params=params, syst_pars=syst_pars, site_colors=site_colors);\n",
    "# plt.savefig('cut_system', dpi=1000)"
   ]
  },
  {
   "cell_type": "code",
   "execution_count": null,
   "metadata": {},
   "outputs": [],
   "source": [
    "el_blocks = partial(sns_system.take_electron_blocks, norbs=4)\n",
    "I_c =supercurrent_matsubara.I_c(syst, hopping, params, el_blocks)"
   ]
  },
  {
   "cell_type": "code",
   "execution_count": null,
   "metadata": {},
   "outputs": [],
   "source": [
    "hv.Curve(I_c['currents'])"
   ]
  },
  {
   "cell_type": "markdown",
   "metadata": {},
   "source": [
    "# Sine cut"
   ]
  },
  {
   "cell_type": "code",
   "execution_count": null,
   "metadata": {},
   "outputs": [],
   "source": [
    "syst_pars_sin_cut = {'L_down' :  200,\n",
    "             'L_up' : 200,\n",
    "             'L_m' : 200,\n",
    "             'L_x' : 400,\n",
    "             'a' :  10,\n",
    "             'z_x' : 400,\n",
    "             'z_y' : 0*50,\n",
    "             'c_x' : 400,\n",
    "             'c_y' : 50,\n",
    "             'mu_from_bottom_of_spin_orbit_bands': True,\n",
    "             'k_x_in_sc':True,\n",
    "             'with_vlead':True\n",
    "             }"
   ]
  },
  {
   "cell_type": "code",
   "execution_count": null,
   "metadata": {},
   "outputs": [],
   "source": [
    "syst_sin, site_colors_sin, hopping_sin = make_zigzag_system(**syst_pars_sin_cut)"
   ]
  },
  {
   "cell_type": "code",
   "execution_count": null,
   "metadata": {},
   "outputs": [],
   "source": [
    "plotting_results.plot_syst(syst=syst_sin, params=params, syst_pars=syst_pars_sin_cut, site_colors=site_colors_sin);\n",
    "# plt.savefig('cut_system', dpi=1000)"
   ]
  },
  {
   "cell_type": "code",
   "execution_count": null,
   "metadata": {},
   "outputs": [],
   "source": [
    "el_blocks = partial(sns_system.take_electron_blocks, norbs=4)\n",
    "I_c =supercurrent_matsubara.I_c(syst_sin, hopping_sin, params, el_blocks)"
   ]
  },
  {
   "cell_type": "code",
   "execution_count": null,
   "metadata": {},
   "outputs": [],
   "source": [
    "hv.Curve(I_c['currents'])"
   ]
  },
  {
   "cell_type": "code",
   "execution_count": null,
   "metadata": {},
   "outputs": [],
   "source": [
    "hv.Curve(I_c['currents'])"
   ]
  },
  {
   "cell_type": "markdown",
   "metadata": {},
   "source": [
    "# Straight cut old system"
   ]
  },
  {
   "cell_type": "code",
   "execution_count": null,
   "metadata": {},
   "outputs": [],
   "source": [
    "syst_pars_n = {'L_down' :  190,\n",
    "             'L_up' : 190,\n",
    "             'L_m' : 190,\n",
    "             'L_x' : 10,\n",
    "             'a' :  10,\n",
    "             'z_x' : 400,\n",
    "             'z_y' : 0,\n",
    "             'c_x' : 450,\n",
    "             'c_y' : 0,\n",
    "             'mu_from_bottom_of_spin_orbit_bands': True,\n",
    "             'k_x_in_sc':True,\n",
    "             'with_vlead':True\n",
    "             }\n"
   ]
  },
  {
   "cell_type": "code",
   "execution_count": null,
   "metadata": {},
   "outputs": [],
   "source": [
    "syst_n, hopping_n = sns_system.make_sns_system(**syst_pars_n)\n",
    "plotting_results.plot_syst(syst=syst_n, params=params, syst_pars=syst_pars_n);"
   ]
  },
  {
   "cell_type": "code",
   "execution_count": null,
   "metadata": {},
   "outputs": [],
   "source": [
    "el_blocks = partial(sns_system.take_electron_blocks, norbs=4)\n",
    "I_c =supercurrent_matsubara.I_c(syst_n, hopping_n, params, el_blocks)"
   ]
  },
  {
   "cell_type": "code",
   "execution_count": null,
   "metadata": {},
   "outputs": [],
   "source": [
    "hv.Curve(I_c['currents'])"
   ]
  },
  {
   "cell_type": "code",
   "execution_count": null,
   "metadata": {},
   "outputs": [],
   "source": []
  }
 ],
 "metadata": {
  "language_info": {
   "name": "python",
   "pygments_lexer": "ipython3"
  }
 },
 "nbformat": 4,
 "nbformat_minor": 2
}
