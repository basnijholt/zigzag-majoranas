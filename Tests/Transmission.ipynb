{
 "cells": [
  {
   "cell_type": "code",
   "execution_count": null,
   "metadata": {},
   "outputs": [],
   "source": [
    "%load_ext autoreload"
   ]
  },
  {
   "cell_type": "code",
   "execution_count": null,
   "metadata": {},
   "outputs": [],
   "source": [
    "import os, sys\n",
    "import holoviews as hv\n",
    "sys.path.append(os.path.abspath('../../two_dim_majoranas/'))\n",
    "\n",
    "import adaptive\n",
    "adaptive.notebook_extension()\n",
    "\n",
    "import numpy as np\n",
    "import scipy.constants\n",
    "import cmath\n",
    "import kwant \n",
    "\n",
    "import functools as ft\n",
    "\n",
    "import sns_system, plotting_results\n",
    "from distributed_sns import AggregatesSimulationSet as ASS\n",
    "from distributed_sns import SimulationSet as SS"
   ]
  },
  {
   "cell_type": "markdown",
   "metadata": {},
   "source": [
    "# Define system"
   ]
  },
  {
   "cell_type": "code",
   "execution_count": null,
   "metadata": {},
   "outputs": [],
   "source": [
    "constants = dict(\n",
    "    m_eff=0.023 * scipy.constants.m_e / (scipy.constants.eV * 1e-3) / 1e18,  # effective mass in kg, \n",
    "    hbar=scipy.constants.hbar / (scipy.constants.eV * 1e-3),\n",
    "    e = scipy.constants.e,\n",
    "    current_unit=scipy.constants.k * scipy.constants.e / scipy.constants.hbar * 1e9,  # to get nA\n",
    "    mu_B=scipy.constants.physical_constants['Bohr magneton'][0] / (scipy.constants.eV * 1e-3),\n",
    "    k=scipy.constants.k / (scipy.constants.eV * 1e-3),\n",
    "    exp=cmath.exp,\n",
    "    cos=cmath.cos,\n",
    "    sin=cmath.sin\n",
    "   )\n",
    "\n",
    "syst_pars = {'Ll' :  1000,\n",
    "               'Lr' : 1000,\n",
    "               'Lm' : 12.5,\n",
    "               'Ly' : 12.5,\n",
    "               'a' :  12.5,\n",
    "            'mu_from_bottom_of_spin_orbit_bands': True}\n",
    "\n",
    "params_raw= dict(g_factor_middle = 10,\n",
    "                 g_factor_left = 0,\n",
    "                 g_factor_right = 0,\n",
    "                 mu = 1.0,\n",
    "                 alpha_middle = 28,\n",
    "                 alpha_left = 28,\n",
    "                 alpha_right = 28,\n",
    "                 Delta_left = .18,\n",
    "                 Delta_right = .18,\n",
    "                 B = 0.5,\n",
    "                 phase = np.pi/2,\n",
    "                 T = 0.025)\n",
    "\n",
    "params = dict(**constants,\n",
    "              **params_raw)"
   ]
  },
  {
   "cell_type": "code",
   "execution_count": null,
   "metadata": {},
   "outputs": [],
   "source": [
    "locals().update(syst_pars)"
   ]
  },
  {
   "cell_type": "code",
   "execution_count": null,
   "metadata": {},
   "outputs": [],
   "source": [
    "transverse_soi = True\n",
    "tau_z = kwant.continuum.discretizer.ta.array([[1,0,0,0],\n",
    "                                             [0,1,0,0],\n",
    "                                             [0,0,-1,0],\n",
    "                                             [0,0,0,-1]])\n",
    "template_strings = sns_system.get_template_strings(transverse_soi, syst_pars['mu_from_bottom_of_spin_orbit_bands'])\n",
    "\n",
    "# TURN HAMILTONIAN STRINGS INTO TEMPLATES\n",
    "template_normal = kwant.continuum.discretize(template_strings['ham_normal'], grid_spacing=a)\n",
    "template_sc_left = kwant.continuum.discretize(template_strings['ham_sc_left'], grid_spacing=a)\n",
    "template_sc_right = kwant.continuum.discretize(template_strings['ham_sc_right'], grid_spacing=a)\n",
    "\n",
    "\n",
    "def shape_normal(site):\n",
    "    (x, y) = site.pos\n",
    "    return 0 <= x < a and 0 <= y < a\n",
    "\n",
    "def shape_left_normal(site):\n",
    "    (x, y) = site.pos\n",
    "    return y == 0\n",
    "\n",
    "def shape_right_sc(site):\n",
    "    (x, y) = site.pos\n",
    "    return y == 0\n",
    "\n",
    "# BUILD FINITE SYSTEM\n",
    "sym = kwant.TranslationalSymmetry((0, a))#wraparound symmetry\n",
    "\n",
    "sym_left = kwant.TranslationalSymmetry((-a,0), (0, a))\n",
    "left_lead = kwant.Builder(sym_left, conservation_law=-tau_z,)\n",
    "left_lead.fill(template_normal, shape_normal, (0,0))\n",
    "\n",
    "sym_right = kwant.TranslationalSymmetry((a,0), (0, a))\n",
    "right_lead = kwant.Builder(sym_right)\n",
    "right_lead.fill(template_sc_right, shape_right_sc, (a,0))\n",
    "\n",
    "middle = kwant.Builder(symmetry=sym, conservation_law=-tau_z)\n",
    "middle.fill(template_normal, shape_normal, (0,0))\n",
    "\n",
    "middle = kwant.wraparound.wraparound(middle, coordinate_names='y')\n",
    "left_lead = kwant.wraparound.wraparound(left_lead, keep=0)\n",
    "right_lead = kwant.wraparound.wraparound(right_lead, keep=0)\n",
    "\n",
    "middle.attach_lead(left_lead)\n",
    "middle.attach_lead(right_lead)\n",
    "syst = middle.finalized()"
   ]
  },
  {
   "cell_type": "code",
   "execution_count": null,
   "metadata": {},
   "outputs": [],
   "source": [
    "_=kwant.plot(syst)"
   ]
  },
  {
   "cell_type": "code",
   "execution_count": null,
   "metadata": {},
   "outputs": [],
   "source": [
    "def transmission(e):\n",
    "    def transmission_per_ky(k_y):\n",
    "        _params = params.copy()\n",
    "        _params['k_y'] = k_y\n",
    "        smatrix = kwant.smatrix(syst, energy=e, params=_params)\n",
    "        return smatrix.transmission((0,1),(0,1))\n",
    "\n",
    "    learner = adaptive.IntegratorLearner(transmission_per_ky, [-np.pi, np.pi], tol=1e-1)\n",
    "    runner = adaptive.runner.simple(learner, lambda l: l.done())\n",
    "    return learner.igral\n",
    "    "
   ]
  },
  {
   "cell_type": "code",
   "execution_count": null,
   "metadata": {},
   "outputs": [],
   "source": [
    "learner = adaptive.Learner1D(transmission, [-np.pi/2, np.pi/2])"
   ]
  },
  {
   "cell_type": "code",
   "execution_count": null,
   "metadata": {},
   "outputs": [],
   "source": [
    "runner = adaptive.Runner(learner)\n",
    "runner.live_info()"
   ]
  },
  {
   "cell_type": "code",
   "execution_count": null,
   "metadata": {},
   "outputs": [],
   "source": [
    "learner.plot()"
   ]
  },
  {
   "cell_type": "code",
   "execution_count": null,
   "metadata": {},
   "outputs": [],
   "source": []
  }
 ],
 "metadata": {
  "language_info": {
   "name": "python",
   "pygments_lexer": "ipython3"
  }
 },
 "nbformat": 4,
 "nbformat_minor": 2
}
