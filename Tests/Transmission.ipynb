{
 "cells": [
  {
   "cell_type": "code",
   "execution_count": null,
   "metadata": {},
   "outputs": [],
   "source": [
    "%load_ext autoreload"
   ]
  },
  {
   "cell_type": "code",
   "execution_count": null,
   "metadata": {},
   "outputs": [],
   "source": [
    "import os, sys\n",
    "import holoviews as hv\n",
    "sys.path.append(os.path.abspath('../../two_dim_majoranas/'))\n",
    "\n",
    "hv.extension('matplotlib')\n",
    "import adaptive\n",
    "adaptive.notebook_extension()\n",
    "\n",
    "import numpy as np\n",
    "import scipy.constants\n",
    "import cmath\n",
    "import kwant \n",
    "\n",
    "import functools as ft\n",
    "\n",
    "import hpc05\n",
    "import sns_system, plotting_results\n",
    "import topology, spectrum, scattering\n",
    "import distributed_sns"
   ]
  },
  {
   "cell_type": "code",
   "execution_count": null,
   "metadata": {},
   "outputs": [],
   "source": [
    "hpc05.kill_remote_ipcluster()"
   ]
  },
  {
   "cell_type": "code",
   "execution_count": null,
   "metadata": {},
   "outputs": [],
   "source": [
    "client, dview, lview = hpc05.start_remote_and_connect(200, folder='~/two_dim_majoranas', timeout=180)"
   ]
  },
  {
   "cell_type": "code",
   "execution_count": null,
   "metadata": {},
   "outputs": [],
   "source": [
    "vf = np.sqrt(2*1/params['m_eff'])\n",
    "kf = vf * params['m_eff'] / params['hbar']\n",
    "print(f'{1/kf:e}')"
   ]
  },
  {
   "cell_type": "code",
   "execution_count": null,
   "metadata": {},
   "outputs": [],
   "source": [
    "kf*params['alpha_middle']"
   ]
  },
  {
   "cell_type": "code",
   "execution_count": null,
   "metadata": {},
   "outputs": [],
   "source": [
    "vf = np.sqrt(2*params['mu']/params['m_eff'])\n",
    "Eth = params['hbar'] * np.pi * vf / (2 * syst_pars['L_m'])"
   ]
  },
  {
   "cell_type": "code",
   "execution_count": null,
   "metadata": {},
   "outputs": [],
   "source": [
    "Eth/(params['g_factor_middle']*params['mu_B'])"
   ]
  },
  {
   "cell_type": "code",
   "execution_count": null,
   "metadata": {},
   "outputs": [],
   "source": [
    "params['m_eff'] * params['alpha_middle']**2 / params['hbar']**2"
   ]
  },
  {
   "cell_type": "markdown",
   "metadata": {},
   "source": [
    "# Define system"
   ]
  },
  {
   "cell_type": "code",
   "execution_count": null,
   "metadata": {},
   "outputs": [],
   "source": [
    "constants = dict(\n",
    "    m_eff=0.023 * scipy.constants.m_e / (scipy.constants.eV * 1e-3) / 1e18,  # effective mass in kg, \n",
    "    hbar=scipy.constants.hbar / (scipy.constants.eV * 1e-3),\n",
    "    e = scipy.constants.e,\n",
    "    current_unit=scipy.constants.k * scipy.constants.e / scipy.constants.hbar * 1e9,  # to get nA\n",
    "    mu_B=scipy.constants.physical_constants['Bohr magneton'][0] / (scipy.constants.eV * 1e-3),\n",
    "    k=scipy.constants.k / (scipy.constants.eV * 1e-3),\n",
    "    exp=cmath.exp,\n",
    "    cos=cmath.cos,\n",
    "    sin=cmath.sin\n",
    "   )\n",
    "\n",
    "syst_pars = {'L_down' :  1000,\n",
    "               'L_up' : 1000,\n",
    "               'L_m' : 250,\n",
    "               'L_x' : 5,\n",
    "               'a' :  5,\n",
    "            'mu_from_bottom_of_spin_orbit_bands': True}\n",
    "\n",
    "params_raw= dict(g_factor_middle = 10,\n",
    "                 g_factor_left = 0,\n",
    "                 g_factor_right = 0,\n",
    "                 mu = 1.0,\n",
    "                 alpha_middle = 28,\n",
    "                 alpha_left = 28,\n",
    "                 alpha_right = 28,\n",
    "                 Delta_left = 0.18,\n",
    "                 Delta_right = 0.18,\n",
    "                 B = 0.5,\n",
    "                 phase = np.pi,\n",
    "                 T = 0.025,\n",
    "                 V = 0)\n",
    "\n",
    "params = dict(**constants,\n",
    "              **params_raw)"
   ]
  },
  {
   "cell_type": "code",
   "execution_count": null,
   "metadata": {},
   "outputs": [],
   "source": [
    "locals().update(syst_pars)"
   ]
  },
  {
   "cell_type": "markdown",
   "metadata": {},
   "source": [
    "# Make NS junction"
   ]
  },
  {
   "cell_type": "code",
   "execution_count": null,
   "metadata": {},
   "outputs": [],
   "source": [
    "syst_ns = sns_system.make_ns_junction(**syst_pars)\n",
    "_=kwant.plot(syst_ns)"
   ]
  },
  {
   "cell_type": "markdown",
   "metadata": {},
   "source": [
    "# Make ASS"
   ]
  },
  {
   "cell_type": "code",
   "execution_count": null,
   "metadata": {},
   "outputs": [],
   "source": [
    "%autoreload"
   ]
  },
  {
   "cell_type": "code",
   "execution_count": null,
   "metadata": {},
   "outputs": [],
   "source": [
    "keys_with_bounds = {\"mu\": [0, 10],\n",
    "                    \"B\" : [0, 2]}\n",
    "\n",
    "metric_params_dict = {\"transparency\" : {},\n",
    "                      \"pfaffian\" : {}}\n",
    "ass = distributed_sns.AggregatesSimulationSet(keys_with_bounds,\n",
    "                                              syst_pars, \n",
    "                                              params, \n",
    "                                              metric_params_dict)"
   ]
  },
  {
   "cell_type": "code",
   "execution_count": null,
   "metadata": {},
   "outputs": [],
   "source": [
    "def _params_V(syst_pars, params, V):\n",
    "    params['V'] = V\n",
    "    return V\n",
    "\n",
    "Vs = np.linspace(0, 6.0, 3)\n",
    "\n",
    "params_V = [ft.partial(_params_V,\n",
    "                           V=_V\n",
    "                           ) for _V in Vs]\n",
    "\n",
    "ass.add_dimension(\"transparency\", params_V)"
   ]
  },
  {
   "cell_type": "code",
   "execution_count": null,
   "metadata": {},
   "outputs": [],
   "source": [
    "def _params_phase(syst_pars, params, phase):\n",
    "    params['phase'] = phase\n",
    "    return phase\n",
    "\n",
    "phases = np.linspace(0, np.pi, 3)\n",
    "\n",
    "params_phase = [ft.partial(_params_phase,\n",
    "                           phase=_phase\n",
    "                           ) for _phase in phases]\n",
    "\n",
    "ass.add_dimension(\"phase\", params_phase)"
   ]
  },
  {
   "cell_type": "code",
   "execution_count": null,
   "metadata": {},
   "outputs": [],
   "source": [
    "ass.make_balancing_learner(1000)\n",
    "learner = ass.get_balancing_learner()"
   ]
  },
  {
   "cell_type": "code",
   "execution_count": null,
   "metadata": {},
   "outputs": [],
   "source": [
    "runner = adaptive.Runner(learner, ntasks=1)#, executor=client)\n",
    "runner.live_info(update_interval=1)"
   ]
  },
  {
   "cell_type": "code",
   "execution_count": null,
   "metadata": {},
   "outputs": [],
   "source": [
    "runner.task.result()"
   ]
  },
  {
   "cell_type": "code",
   "execution_count": null,
   "metadata": {},
   "outputs": [],
   "source": [
    "sum([l.npoints for l in learner.learners])"
   ]
  },
  {
   "cell_type": "code",
   "execution_count": null,
   "metadata": {},
   "outputs": [],
   "source": [
    "kdims, pdict = ass.get_plot_dict(1000)\n",
    "for k,v in pdict.items():\n",
    "    pdict[k] = v[:,0:0.45]"
   ]
  },
  {
   "cell_type": "code",
   "execution_count": null,
   "metadata": {},
   "outputs": [],
   "source": [
    "hv.extension('matplotlib')"
   ]
  },
  {
   "cell_type": "code",
   "execution_count": null,
   "metadata": {},
   "outputs": [],
   "source": [
    "%%opts Image [colorbar=True aspect=1] {+framewise +axiswise}\n",
    "hv.HoloMap(pdict, kdims=kdims)"
   ]
  },
  {
   "cell_type": "code",
   "execution_count": null,
   "metadata": {},
   "outputs": [],
   "source": []
  },
  {
   "cell_type": "code",
   "execution_count": null,
   "metadata": {},
   "outputs": [],
   "source": []
  }
 ],
 "metadata": {
  "language_info": {
   "name": "python",
   "pygments_lexer": "ipython3"
  }
 },
 "nbformat": 4,
 "nbformat_minor": 2
}
