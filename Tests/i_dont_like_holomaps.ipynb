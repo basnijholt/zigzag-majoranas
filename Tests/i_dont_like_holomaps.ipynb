{
 "cells": [
  {
   "cell_type": "code",
   "execution_count": null,
   "metadata": {},
   "outputs": [],
   "source": [
    "import io\n",
    "import base64\n",
    "\n",
    "import matplotlib.pyplot as plt\n",
    "from IPython.core.display import display, HTML"
   ]
  },
  {
   "cell_type": "markdown",
   "metadata": {},
   "source": [
    "### Make test data"
   ]
  },
  {
   "cell_type": "code",
   "execution_count": null,
   "metadata": {},
   "outputs": [],
   "source": [
    "import numpy as np"
   ]
  },
  {
   "cell_type": "code",
   "execution_count": null,
   "metadata": {},
   "outputs": [],
   "source": [
    "x = np.linspace(0,1)\n",
    "theta = np.linspace(0, np.pi)\n",
    "f = lambda x, theta: .5 * x**2 - x + np.cos(8*(x - theta)) / (1 + x)\n",
    "f_z = lambda theta: np.array([[(_x-_theta)**2 - (_y-_theta)**2 for _x in x] for _y in y])"
   ]
  },
  {
   "cell_type": "markdown",
   "metadata": {},
   "source": [
    "### Code for base64 conversion"
   ]
  },
  {
   "cell_type": "code",
   "execution_count": null,
   "metadata": {},
   "outputs": [],
   "source": [
    "def get_buffer():\n",
    "    return io.BytesIO()\n",
    "\n",
    "def get_b64_from_buffer(buffer):\n",
    "    buffer.seek(0)\n",
    "    buffer_bytes = buffer.read()\n",
    "    return base64.b64encode(buffer_bytes).decode()\n",
    "\n",
    "def get_img_src_html(image_b64, file_type):\n",
    "    suffix =   { 'jpeg' : 'jpeg',\n",
    "                 'gif'  : 'gif',\n",
    "                 'png'  : 'png',\n",
    "                 'svg'  : 'svg+xml',\n",
    "                 'bmp'  : 'bmp'}[file_type]\n",
    "    return f'data:image/{suffix};base64, {image_b64}'"
   ]
  },
  {
   "cell_type": "markdown",
   "metadata": {},
   "source": [
    "### Plot and save to buffer"
   ]
  },
  {
   "cell_type": "code",
   "execution_count": null,
   "metadata": {},
   "outputs": [],
   "source": [
    "buffer = get_buffer()\n",
    "\n",
    "y = f(x, 0)\n",
    "plt.plot(x,y)\n",
    "plt.savefig(buffer, format='png')"
   ]
  },
  {
   "cell_type": "code",
   "execution_count": null,
   "metadata": {},
   "outputs": [],
   "source": [
    "image_b64 = get_base64_from_buffer(buffer)"
   ]
  },
  {
   "cell_type": "markdown",
   "metadata": {},
   "source": [
    "### Display html"
   ]
  },
  {
   "cell_type": "code",
   "execution_count": null,
   "metadata": {},
   "outputs": [],
   "source": [
    "src_string = get_img_src_html(image_b64, 'png')\n",
    "img_element_string = f'<img src=\"{src_string}\">'\n",
    "display(HTML(img_element_string))"
   ]
  },
  {
   "cell_type": "markdown",
   "metadata": {},
   "source": [
    "### Save many figures"
   ]
  },
  {
   "cell_type": "code",
   "execution_count": null,
   "metadata": {},
   "outputs": [],
   "source": [
    "fig, ax = plt.subplots()\n",
    "image = ax.imshow(z)"
   ]
  },
  {
   "cell_type": "code",
   "execution_count": null,
   "metadata": {},
   "outputs": [],
   "source": [
    "from matplotlib.animation import ArtistAnimation"
   ]
  },
  {
   "cell_type": "code",
   "execution_count": null,
   "metadata": {},
   "outputs": [],
   "source": [
    "%%time\n",
    "fig, ax = plt.subplots(len(theta), figsize=(15, 15))\n",
    "\n",
    "for _idx, _theta in enumerate(theta):\n",
    "    y = f(x, _theta)\n",
    "    ax[_idx].plot(x, y)\n",
    "\n",
    "buffer = get_buffer()\n",
    "plt.savefig(buffer, format='png')\n",
    "image_b64 = get_base64_from_buffer(buffer)\n",
    "\n",
    "plt.close()\n"
   ]
  },
  {
   "cell_type": "code",
   "execution_count": null,
   "metadata": {},
   "outputs": [],
   "source": [
    "%%time\n",
    "a = mpld3.fig_to_html(fig)"
   ]
  },
  {
   "cell_type": "code",
   "execution_count": null,
   "metadata": {},
   "outputs": [],
   "source": [
    "import mpld3"
   ]
  },
  {
   "cell_type": "code",
   "execution_count": null,
   "metadata": {},
   "outputs": [],
   "source": [
    "src_string = get_img_src_html(image_b64, 'png')\n",
    "img_element_string = f'<img src=\"{src_string}\">'\n",
    "display(HTML(img_element_string))"
   ]
  },
  {
   "cell_type": "code",
   "execution_count": null,
   "metadata": {},
   "outputs": [],
   "source": [
    "from matplotlib.widgets import Slider\n"
   ]
  },
  {
   "cell_type": "code",
   "execution_count": null,
   "metadata": {},
   "outputs": [],
   "source": []
  }
 ],
 "metadata": {
  "language_info": {
   "name": "python",
   "pygments_lexer": "ipython3"
  }
 },
 "nbformat": 4,
 "nbformat_minor": 2
}
