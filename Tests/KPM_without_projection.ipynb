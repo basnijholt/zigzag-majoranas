{
 "cells": [
  {
   "cell_type": "markdown",
   "metadata": {},
   "source": [
    "# Imports"
   ]
  },
  {
   "cell_type": "code",
   "execution_count": null,
   "metadata": {},
   "outputs": [],
   "source": [
    "%load_ext autoreload\n",
    "import os, sys\n",
    "sys.path.append(os.path.abspath('..'))\n",
    "\n",
    "import warnings\n",
    "from functools import partial\n",
    "\n",
    "import numpy as np\n",
    "import cmath\n",
    "import scipy.constants\n",
    "\n",
    "import numbers\n",
    "\n",
    "import kwant\n",
    "\n",
    "import holoviews as hv\n",
    "hv.notebook_extension('bokeh')\n",
    "\n",
    "import sns_system\n",
    "import spectrum\n",
    "import plotting_results"
   ]
  },
  {
   "cell_type": "markdown",
   "metadata": {},
   "source": [
    "## Constants"
   ]
  },
  {
   "cell_type": "code",
   "execution_count": null,
   "metadata": {},
   "outputs": [],
   "source": [
    "constants = dict(\n",
    "    m_eff=0.023 * scipy.constants.m_e / (scipy.constants.eV * 1e-3) / 1e18,  # effective mass in kg, \n",
    "    hbar=scipy.constants.hbar / (scipy.constants.eV * 1e-3),\n",
    "    e = scipy.constants.e,\n",
    "    current_unit=scipy.constants.k * scipy.constants.e / scipy.constants.hbar * 1e9,  # to get nA\n",
    "    mu_B=scipy.constants.physical_constants['Bohr magneton'][0] / (scipy.constants.eV * 1e-3),\n",
    "    k=scipy.constants.k / (scipy.constants.eV * 1e-3),\n",
    "    exp=cmath.exp,\n",
    "    cos=cmath.cos,\n",
    "    sin=cmath.sin\n",
    "   )"
   ]
  },
  {
   "cell_type": "markdown",
   "metadata": {},
   "source": [
    "# Create system"
   ]
  },
  {
   "cell_type": "code",
   "execution_count": null,
   "metadata": {},
   "outputs": [],
   "source": [
    "syst_pars =  {'Ll' :  1000,\n",
    "               'Lr' : 1000,\n",
    "               'Lm' : 500,\n",
    "               'Ly' : 10,\n",
    "               'a' :  10,\n",
    "               'mu_from_bottom_of_spin_orbit_bands': True}\n",
    "\n",
    "params_raw= dict(g_factor_middle = 10,\n",
    "                 g_factor_left = 0,\n",
    "                 g_factor_right = 0,\n",
    "                 mu = 1.0,\n",
    "                 alpha_middle = 28,\n",
    "                 alpha_left = 28,\n",
    "                 alpha_right = 28,\n",
    "                 Delta_left = .18,\n",
    "                 Delta_right = .18,\n",
    "                 B = 0.5,\n",
    "                 phase = np.pi/2,\n",
    "                 T = 0.025,\n",
    "                 V=0)\n",
    "\n",
    "params = dict(**constants,\n",
    "              **params_raw)\n",
    "\n",
    "syst = sns_system.make_wrapped_system(**syst_pars)\n",
    "\n",
    "_=plotting_results.plot_syst(syst_pars, sns_system.dummy_params)"
   ]
  },
  {
   "cell_type": "markdown",
   "metadata": {},
   "source": [
    "# Function definitions"
   ]
  },
  {
   "cell_type": "markdown",
   "metadata": {},
   "source": [
    "### Vector factory"
   ]
  },
  {
   "cell_type": "code",
   "execution_count": null,
   "metadata": {},
   "outputs": [],
   "source": [
    "def ensure_rng(rng=None):\n",
    "    \"\"\"Turn rng into a random number generator instance\n",
    "    If rng is None, return the RandomState instance used by np.random.\n",
    "    If rng is an integer, return a new RandomState instance seeded with rng.\n",
    "    If rng is already a RandomState instance, return it.\n",
    "    Otherwise raise ValueError.\n",
    "    \"\"\"\n",
    "    if rng is None:\n",
    "        return np.random.mtrand._rand\n",
    "    if isinstance(rng, numbers.Integral):\n",
    "        return np.random.RandomState(rng)\n",
    "    if all(hasattr(rng, attr) for attr in ('random_sample', 'randn',\n",
    "                                           'randint', 'choice')):\n",
    "        return rng\n",
    "    raise ValueError(\"Expecting a seed or an object that offers the \"\n",
    "                     \"numpy.random.RandomState interface.\")\n",
    "    \n",
    "def make_local_factory(site_indices=None, rng=0):\n",
    "            \"\"\"Return a `vector_factory` that outputs local vectors.\n",
    "\n",
    "            If `sites` is provided, the local vectors belong only to\n",
    "            those sites.\n",
    "\n",
    "            The parameter `rng` is passed to define a seed for finding the\n",
    "            bounds of the spectrum. Using the same seed ensures reproducibility.\n",
    "            \"\"\"\n",
    "            rng = ensure_rng(rng)\n",
    "\n",
    "            idx = -1\n",
    "            def vector_factory(n):\n",
    "                nonlocal idx, rng, site_indices\n",
    "                \n",
    "                if site_indices is None:\n",
    "                    site_indices = np.arange(n)\n",
    "                if idx == -1:\n",
    "                    idx += 1\n",
    "                    return np.exp(rng.rand(n) * 2j * np.pi)\n",
    "                else:\n",
    "                    vec = np.zeros(n, dtype=complex)\n",
    "                    vec[site_indices[idx]] = 1\n",
    "\n",
    "                    idx += 1\n",
    "                    return vec\n",
    "            return vector_factory\n",
    "        \n",
    "def make_ev_factory(eigenvecs, rng=0):\n",
    "            \"\"\"Return a `vector_factory` that outputs local vectors.\n",
    "\n",
    "            If `sites` is provided, the local vectors belong only to\n",
    "            those sites.\n",
    "            If `eigenvecs` is provided, project out those vectors form\n",
    "            the local vectors.\n",
    "            The parameter `rng` is passed to define a seed for finding the\n",
    "            bounds of the spectrum. Using the same seed ensures reproducibility.\n",
    "            \"\"\"\n",
    "            rng = ensure_rng(rng)\n",
    "            if eigenvecs is not None:\n",
    "                pass\n",
    "\n",
    "            idx = -1\n",
    "            def vector_factory(n):\n",
    "                nonlocal idx, rng, eigenvecs\n",
    "                \n",
    "                if idx == -1:\n",
    "                    idx += 1\n",
    "                    return np.exp(rng.rand(n) * 2j * np.pi)\n",
    "                else:\n",
    "                    vec = eigenvecs[:,idx]\n",
    "                    idx += 1\n",
    "                    return vec\n",
    "            return vector_factory"
   ]
  },
  {
   "cell_type": "markdown",
   "metadata": {},
   "source": [
    "### Function to get sites and indices for cut"
   ]
  },
  {
   "cell_type": "code",
   "execution_count": null,
   "metadata": {},
   "outputs": [],
   "source": [
    "def get_cut_sites_and_indices(syst, cut_tag, direction):\n",
    "    l_cut = []\n",
    "    r_cut = []\n",
    "    cut_indices = []\n",
    "    \n",
    "    for site_idx, site in enumerate(syst.sites):\n",
    "        if site.tag[direction]==cut_tag:\n",
    "            l_cut.append(site)\n",
    "            temp = [4*site_idx, 4*site_idx+1, 4*site_idx+2, 4*site_idx+3]\n",
    "            cut_indices.append(temp)\n",
    "        if site.tag[direction]==cut_tag+1:\n",
    "            r_cut.append(site)\n",
    "            temp = [4*site_idx, 4*site_idx+1, 4*site_idx+2, 4*site_idx+3]\n",
    "            cut_indices.append(temp)\n",
    "    \n",
    "    cut_indices = np.hstack(cut_indices)\n",
    "    cut_sites   = list(zip(l_cut, r_cut))\n",
    "    \n",
    "    return (cut_indices, cut_sites)\n"
   ]
  },
  {
   "cell_type": "markdown",
   "metadata": {},
   "source": [
    "### Fermi dirac function"
   ]
  },
  {
   "cell_type": "code",
   "execution_count": null,
   "metadata": {},
   "outputs": [],
   "source": [
    "import supercurrent\n",
    "fermi_dirac = supercurrent.fermi_dirac"
   ]
  },
  {
   "cell_type": "markdown",
   "metadata": {},
   "source": [
    "### Projected and non-projected current operator"
   ]
  },
  {
   "cell_type": "code",
   "execution_count": null,
   "metadata": {},
   "outputs": [],
   "source": [
    "sigz = kwant.continuum.discretizer.ta.array([[1,0,0,0],\n",
    "                                             [0,1,0,0],\n",
    "                                             [0,0,-1,0],\n",
    "                                             [0,0,0,-1]])\n",
    "\n",
    "def make_projected_current(syst, params, eigvecs, cut=None):\n",
    "    \"\"\"Returns a current operator `C` that projects out the Andreev vectors\n",
    "    on the right side.\n",
    "\n",
    "    The returned function `f(bra,ket)` gives the output of\n",
    "    `<bra| C (1-P) |ket>`, where `C` is the current operator,\n",
    "    and `P` a projector to the Andreev vectors.\n",
    "    \"\"\"\n",
    "    kwant_operator = kwant.operator.Current(syst, sigz, where=cut)\n",
    "    kwant_operator = kwant_operator.bind(params=params)\n",
    "\n",
    "    def projected_current(bra, ket):\n",
    "        nonlocal eigvecs\n",
    "        projected_ket = eigvecs.T.conj() @ ket\n",
    "        ket = ket - eigvecs @ projected_ket\n",
    "        return kwant_operator(bra, ket)\n",
    "    return projected_current\n",
    "\n",
    "\n",
    "def make_exact_current(syst, params, cut=None):\n",
    "    kwant_operator = kwant.operator.Current(syst, sigz, where=cut)\n",
    "    kwant_operator = kwant_operator.bind(params=params)\n",
    "    return kwant_operator\n",
    "\n"
   ]
  },
  {
   "cell_type": "markdown",
   "metadata": {},
   "source": [
    "## Current exact"
   ]
  },
  {
   "cell_type": "code",
   "execution_count": null,
   "metadata": {},
   "outputs": [],
   "source": [
    "def current_exact(syst_pars, params, cut_tag=0, direction=0):   \n",
    "    syst = sns_system.make_wrapped_system(**syst_pars)\n",
    "    \n",
    "    (cut_indices, cut_sites) = get_cut_sites_and_indices(syst, cut_tag, direction)\n",
    "\n",
    "    current_operator = kwant.operator.Current(syst,\n",
    "                                              onsite=sigz,\n",
    "                                              where=cut_sites).bind(params=params)\n",
    "    \n",
    "    ham = syst.hamiltonian_submatrix(params=params)\n",
    "\n",
    "    (en, evs) = scipy.linalg.eigh(ham)\n",
    "    \n",
    "    I = 0\n",
    "    \n",
    "    for (e, ev) in zip(en, evs.T):\n",
    "        I += fermi_dirac(e.real, params) * current_operator(ev)\n",
    "    return sum(I)*params['e']/params['hbar']"
   ]
  },
  {
   "cell_type": "markdown",
   "metadata": {},
   "source": [
    "## Calculate current using projected KPM"
   ]
  },
  {
   "cell_type": "code",
   "execution_count": null,
   "metadata": {},
   "outputs": [],
   "source": [
    "def current_kpm_projected(syst_pars, params,\n",
    "                          k, energy_resolution,\n",
    "                          cut_tag=0, direction=0):\n",
    "    \n",
    "    I = 0\n",
    "    \n",
    "# 1. Make system\n",
    "    params.update(dict(**sns_system.constants))\n",
    "    syst = sns_system.make_wrapped_system(**syst_pars)\n",
    "    \n",
    "#  i. Make fermi dirac function\n",
    "    _fermi_dirac = partial(fermi_dirac, params=params)\n",
    "    \n",
    "# 2. Make cut(list of sites, and list of site index)\n",
    "    (cut_indices, cut_sites) = get_cut_sites_and_indices(syst, cut_tag, direction)\n",
    "\n",
    "    \n",
    "# 3. Calculate exact spectrum for k eigenvalues/vectors\n",
    "    ham = syst.hamiltonian_submatrix(params=params, sparse=True)\n",
    "\n",
    "    \n",
    "    (en, evs) = spectrum.sparse_diag(ham, k=k, sigma=0)\n",
    "    if max(en)<params['Delta_left']:\n",
    "        warnings.warn('max(en)<params[\\'Delta\\']', Warning)\n",
    "        \n",
    "        \n",
    "# 4. Calculate current from exact spectrum\n",
    "#  i. Create current operator, bind parameters\n",
    "    exact_current_operator = make_exact_current(syst, params, cut=cut_sites)\n",
    "                 \n",
    "        \n",
    "    \n",
    "# ii. Apply current operator for each eigenstate, apply fermi-dirac\n",
    "    for (e, ev) in zip(en, evs.T):        \n",
    "        I += _fermi_dirac(e.real) * exact_current_operator(ev)\n",
    "\n",
    "# 5. Calculate current from kpm part\n",
    "#  i. Create current operator w/ projected out states\n",
    "    kpm_current_operator = make_projected_current(syst, params, evs, cut=cut_sites)\n",
    "\n",
    "# ii. Create eigenvector factory \n",
    "    factory = make_local_factory(site_indices=cut_indices)\n",
    "\n",
    "#     iv. Create SpectralDensity object\n",
    "    sd = kwant.kpm.SpectralDensity(syst,\n",
    "                                   params=params,\n",
    "                                   operator=kpm_current_operator,\n",
    "                                   num_vectors=len(cut_indices),\n",
    "                                   num_moments=2,\n",
    "                                   vector_factory=factory)\n",
    "\n",
    "#      v. Add moments up to correct resolution\n",
    "    sd.add_moments(energy_resolution=energy_resolution)\n",
    "\n",
    "#     vi. Integrate over spectral density\n",
    "\n",
    "    I += sd.integrate(distribution_function=_fermi_dirac)*len(cut_indices)\n",
    "\n",
    "    return params['e']/ params['hbar'] * sum(I)"
   ]
  },
  {
   "cell_type": "markdown",
   "metadata": {},
   "source": [
    "## Calculate current non-projected KPM"
   ]
  },
  {
   "cell_type": "code",
   "execution_count": null,
   "metadata": {},
   "outputs": [],
   "source": [
    "def current_kpm_non_projected(syst_pars, params,\n",
    "                              k, energy_resolution,\n",
    "                              cut_tag=0, direction=0):\n",
    "    \n",
    "# 1. Make system\n",
    "    params.update(dict(**sns_system.constants))\n",
    "    syst = sns_system.make_wrapped_system(**syst_pars)\n",
    "    \n",
    "#  i. Make fermi dirac function\n",
    "    _fermi_dirac = partial(fermi_dirac, params=params)\n",
    "    \n",
    "# 2. Make cut(list of sites, and list of site index)\n",
    "    (cut_indices, cut_sites) = get_cut_sites_and_indices(syst, cut_tag, direction)\n",
    "\n",
    "    \n",
    "# 3. Calculate exact spectrum for k eigenvalues/vectors\n",
    "    ham = syst.hamiltonian_submatrix(params=params, sparse=True)\n",
    "\n",
    "    \n",
    "    (en, evs) = spectrum.sparse_diag(ham, k=k, sigma=0)\n",
    "    if max(en)<params['Delta_left']:\n",
    "        warnings.warn('max(en)<params[\\'Delta\\']', Warning)\n",
    "        \n",
    "        \n",
    "# 4. Calculate current from exact spectrum\n",
    "#  i. Create current operator, bind parameters\n",
    "    exact_current_operator = make_exact_current(syst, params, cut=cut_sites)\n",
    "                 \n",
    "        \n",
    "    \n",
    "# ii. Apply current operator for each eigenstate, apply fermi-dirac\n",
    "    I_AB_exact = 0\n",
    "    for (e, ev) in zip(en, evs.T):        \n",
    "        I_AB_exact += _fermi_dirac(e.real) * exact_current_operator(ev)\n",
    "    \n",
    "    \n",
    "# 5. Calculate current from kpm part, with all states(including AB)\n",
    "#  i. Create current operator (same as exact)\n",
    "    kpm_current_operator = make_exact_current(syst, params, cut=cut_sites)\n",
    "\n",
    "\n",
    "\n",
    "    factory = make_local_factory(site_indices=cut_indices)\n",
    "\n",
    "    sd = kwant.kpm.SpectralDensity(syst,\n",
    "                                   params=params,\n",
    "                                   operator=kpm_current_operator,\n",
    "                                   num_vectors=len(cut_indices),\n",
    "                                   num_moments=2,\n",
    "                                   vector_factory=factory)\n",
    "\n",
    "#      v. Add moments up to correct resolution\n",
    "    sd.add_moments(energy_resolution=energy_resolution)\n",
    "        \n",
    "#     vi. Integrate over spectral density\n",
    "    \n",
    "    I_all_kpm = sd.integrate(distribution_function=_fermi_dirac)*len(cut_indices)\n",
    "    \n",
    "# 6. Calculate current from kpm part, with AB states\n",
    "#  i. Create current operator (same as exact)\n",
    "    kpm_current_operator = make_exact_current(syst, params, cut=cut_sites)\n",
    "\n",
    "\n",
    "\n",
    "    factory = make_ev_factory(evs)\n",
    "\n",
    "    sd = kwant.kpm.SpectralDensity(syst,\n",
    "                                   params=params,\n",
    "                                   operator=kpm_current_operator,\n",
    "                                   num_vectors=k,\n",
    "                                   num_moments=2,\n",
    "                                   vector_factory=factory)\n",
    "\n",
    "#      v. Add moments up to correct resolution\n",
    "    sd.add_moments(energy_resolution=energy_resolution)\n",
    "    \n",
    "#     vi. Integrate over spectral density\n",
    "    \n",
    "    I_AB_kpm = sd.integrate(distribution_function=_fermi_dirac)*k\n",
    "\n",
    "    return params['e']/ params['hbar'] * sum(I_AB_exact + (I_all_kpm - I_AB_kpm))"
   ]
  },
  {
   "cell_type": "markdown",
   "metadata": {},
   "source": [
    "# Calculations"
   ]
  },
  {
   "cell_type": "code",
   "execution_count": null,
   "metadata": {},
   "outputs": [],
   "source": [
    "%%time\n",
    "current_kpm_projected(syst_pars=syst_pars,\n",
    "                      params=dict(**params, k_y=0),\n",
    "                      k=20,\n",
    "                      energy_resolution=params['Delta_left']/2)"
   ]
  },
  {
   "cell_type": "code",
   "execution_count": null,
   "metadata": {},
   "outputs": [],
   "source": [
    "%%time\n",
    "current_kpm_non_projected(syst_pars=syst_pars,\n",
    "                          params=dict(**params, k_y=0),\n",
    "                          k=20, \n",
    "                          energy_resolution=params['Delta_left']/2)"
   ]
  },
  {
   "cell_type": "code",
   "execution_count": null,
   "metadata": {},
   "outputs": [],
   "source": [
    "%%time\n",
    "current_exact(syst_pars=syst_pars,\n",
    "              params=dict(**params, k_y=0))"
   ]
  },
  {
   "cell_type": "code",
   "execution_count": null,
   "metadata": {},
   "outputs": [],
   "source": [
    "p = dict(**params, k_y=0)\n",
    "params_k = dict(**params, k_y=2)\n",
    "\n",
    "ham = syst.hamiltonian_submatrix(params=p)\n",
    "(en, evs) = scipy.linalg.eigh(ham)\n",
    "ham_k = syst.hamiltonian_submatrix(params=params_k)\n",
    "(en_k, evs_k) = scipy.linalg.eigh(ham_k)"
   ]
  },
  {
   "cell_type": "code",
   "execution_count": null,
   "metadata": {},
   "outputs": [],
   "source": [
    "_=evs_k.T.conjugate()@evs"
   ]
  },
  {
   "cell_type": "code",
   "execution_count": null,
   "metadata": {},
   "outputs": [],
   "source": [
    "_"
   ]
  },
  {
   "cell_type": "code",
   "execution_count": null,
   "metadata": {},
   "outputs": [],
   "source": [
    "# %%timeit\n",
    "ham = syst.hamiltonian_submatrix(params=params_k, sparse=True)\n",
    "e = (evs.T.conjugate()@ham@evs).diagonal()\n",
    "# ham_evs = evs.T.conjugate()@ham@evs\n",
    "# index = np.argmax(ham_evs, axis=0)\n",
    "# e = ham_evs[index]/evs[index]\n",
    "\n",
    "# _ = e.diagonal()"
   ]
  },
  {
   "cell_type": "markdown",
   "metadata": {},
   "source": [
    "$E = A B C $\n",
    "\n",
    "$(ABC)_{i,j} = \\sum_{k} A_{i,k} (BC)_{k,j}$\n",
    "\n",
    "$(BC)_{k,j} = \\sum_{l} B_{k,l} C_{l,j}$\n",
    "\n",
    "$(ABC)_{i,j} = \\sum_{k,l} A_{i,k} B_{k,l} C_{l,j}$"
   ]
  },
  {
   "cell_type": "code",
   "execution_count": null,
   "metadata": {},
   "outputs": [],
   "source": [
    "import matplotlib.pyplot as plt"
   ]
  },
  {
   "cell_type": "code",
   "execution_count": null,
   "metadata": {},
   "outputs": [],
   "source": [
    "plt.plot(np.sort(e.real)-np.sort(en))\n",
    "# plt.plot(en)"
   ]
  },
  {
   "cell_type": "code",
   "execution_count": null,
   "metadata": {},
   "outputs": [],
   "source": []
  }
 ],
 "metadata": {
  "language_info": {
   "name": "python",
   "pygments_lexer": "ipython3"
  }
 },
 "nbformat": 4,
 "nbformat_minor": 2
}
