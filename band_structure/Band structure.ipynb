{
 "cells": [
  {
   "cell_type": "code",
   "execution_count": null,
   "metadata": {},
   "outputs": [],
   "source": [
    "%load_ext autoreload\n",
    "import os, sys\n",
    "sys.path.append(os.path.abspath('..'))"
   ]
  },
  {
   "cell_type": "code",
   "execution_count": null,
   "metadata": {},
   "outputs": [],
   "source": [
    "import adaptive\n",
    "import dependencies.adaptive_tools as adaptive_tools\n",
    "adaptive.notebook_extension()\n",
    "import holoviews as hv\n",
    "from itertools import product\n",
    "import matplotlib.pyplot as plt\n",
    "import numpy as np\n",
    "import cmath\n",
    "import scipy.constants\n",
    "from multiprocessing import Pool\n",
    "from functools import partial\n",
    "import kwant\n",
    "\n",
    "import symmetry\n",
    "import topology\n",
    "import sns_system\n",
    "import distributed_sns\n",
    "import hpc05\n",
    "import plotting_results\n",
    "from copy import copy\n",
    "import warnings\n",
    "\n",
    "constants = dict(\n",
    "    m_eff=0.023 * scipy.constants.m_e / (scipy.constants.eV * 1e-3) / 1e18,  # effective mass in kg, \n",
    "    hbar=scipy.constants.hbar / (scipy.constants.eV * 1e-3),\n",
    "    current_unit=scipy.constants.k * scipy.constants.e / scipy.constants.hbar * 1e9,  # to get nA\n",
    "    mu_B=scipy.constants.physical_constants['Bohr magneton'][0] / (scipy.constants.eV * 1e-3),\n",
    "    exp=cmath.exp,\n",
    "    cos=cmath.cos,\n",
    "    sin=cmath.sin\n",
    "   )"
   ]
  },
  {
   "cell_type": "code",
   "execution_count": null,
   "metadata": {},
   "outputs": [],
   "source": [
    "client, dview, lview = hpc05.start_remote_and_connect(120, folder='~/two_dim_majoranas', timeout=1800)"
   ]
  },
  {
   "cell_type": "code",
   "execution_count": null,
   "metadata": {},
   "outputs": [],
   "source": [
    "hpc05.kill_remote_ipcluster()"
   ]
  },
  {
   "cell_type": "code",
   "execution_count": null,
   "metadata": {},
   "outputs": [],
   "source": [
    "try:\n",
    "    runner.cancel()\n",
    "except:\n",
    "    pass\n",
    "\n",
    "runner = adaptive.Runner(bl_band, executor=client)\n",
    "# bl.start_periodic_saver(runner,folder_path,interval=1800)"
   ]
  },
  {
   "cell_type": "code",
   "execution_count": null,
   "metadata": {},
   "outputs": [],
   "source": [
    "runner.live_info()"
   ]
  },
  {
   "cell_type": "code",
   "execution_count": null,
   "metadata": {},
   "outputs": [],
   "source": [
    "def func(k, B, phase):\n",
    "    import kwant\n",
    "    import numpy as np\n",
    "    import scipy.constants\n",
    "    import cmath\n",
    "    import sns_system\n",
    "\n",
    "    constants = dict(\n",
    "        m_eff=0.023 * scipy.constants.m_e / (scipy.constants.eV * 1e-3) / 1e18,  # effective mass in kg, \n",
    "        hbar=scipy.constants.hbar / (scipy.constants.eV * 1e-3),\n",
    "        current_unit=scipy.constants.k * scipy.constants.e / scipy.constants.hbar * 1e9,  # to get nA\n",
    "        mu_B=scipy.constants.physical_constants['Bohr magneton'][0] / (scipy.constants.eV * 1e-3),\n",
    "        exp=cmath.exp,\n",
    "        cos=cmath.cos,\n",
    "        sin=cmath.sin\n",
    "       )\n",
    "\n",
    "    syst_pars = {'Ll' : 1000,\n",
    "               'Lr' : 1000,\n",
    "               'Lm' : 250,\n",
    "               'Ly' : 4000,\n",
    "               'a' :  25}\n",
    "\n",
    "    params = dict(**constants,\n",
    "                  g_factor = 10,\n",
    "                  mu = 1.8,\n",
    "                  alpha = 28,\n",
    "                  Delta = 0.18,\n",
    "                  B = B,\n",
    "                  phase = phase)\n",
    "    \n",
    "    syst = sns_system.make_sns_system(**syst_pars)\n",
    "    bands = kwant.physics.Bands(syst.leads[0], params=params)\n",
    "\n",
    "#     momenta = np.linspace(-0.5, 0.5, nsamples)\n",
    "#     energies = [bands(k) for k in momenta]\n",
    "#     nbands = len(energies[0])\n",
    "#     band_struct = [(momenta, [energies[k][band] for k in range(nsamples)]) for band in range(nbands)]\n",
    "    \n",
    "    return bands(k)"
   ]
  },
  {
   "cell_type": "code",
   "execution_count": null,
   "metadata": {},
   "outputs": [],
   "source": [
    "lrnr = bl.learners[100]\n",
    "learners = []\n",
    "for Bphase in lrnr.data.keys():\n",
    "    (B, phase) = Bphase\n",
    "    print\n",
    "    f = partial(func, B=B, phase=phase)\n",
    "    learner = adaptive_tools.Learner1D(f, bounds=[-np.pi, np.pi])\n",
    "    learners.append(learner)\n",
    "    \n",
    "bl_band = adaptive_tools.BalancingLearner(learners)"
   ]
  },
  {
   "cell_type": "code",
   "execution_count": null,
   "metadata": {},
   "outputs": [],
   "source": [
    "res.shape"
   ]
  },
  {
   "cell_type": "code",
   "execution_count": null,
   "metadata": {},
   "outputs": [],
   "source": [
    "\n",
    "def band_struct(B, phase):\n",
    "    band_struct = func((B, phase))\n",
    "    nbands = len(band_struct)\n",
    "    res = {band : hv.Curve(band_struct[band]) for band in range(nbands)}\n",
    "    return hv.NdOverlay(res)"
   ]
  },
  {
   "cell_type": "code",
   "execution_count": null,
   "metadata": {},
   "outputs": [],
   "source": [
    "%%timeit\n",
    "bands = kwant.physics.Bands(syst.leads[0], params=params)"
   ]
  },
  {
   "cell_type": "code",
   "execution_count": null,
   "metadata": {},
   "outputs": [],
   "source": [
    "for learner in bl_band.learners:\n",
    "    print(f'\\tnpoints: {learner.npoints}\\tloss: {learner.loss():.2f}')"
   ]
  },
  {
   "cell_type": "code",
   "execution_count": null,
   "metadata": {},
   "outputs": [],
   "source": [
    "learner = bl_band.learners[0]"
   ]
  },
  {
   "cell_type": "code",
   "execution_count": null,
   "metadata": {},
   "outputs": [],
   "source": [
    "%autoreload"
   ]
  },
  {
   "cell_type": "code",
   "execution_count": null,
   "metadata": {},
   "outputs": [],
   "source": [
    "plotting_results.plot_band_result(learner.data.keys(), learner.data.values())"
   ]
  },
  {
   "cell_type": "code",
   "execution_count": null,
   "metadata": {},
   "outputs": [],
   "source": [
    "nsamples = 1001\n",
    "momenta = np.linspace(-np.pi/2, np.pi/2, nsamples)\n",
    "energies = [bands(k) for k in momenta]\n",
    "nbands = len(energies[0])\n",
    "band_struct = [(momenta, [energies[k][band] for k in range(nsamples)]) for band in range(nbands)]"
   ]
  },
  {
   "cell_type": "code",
   "execution_count": null,
   "metadata": {},
   "outputs": [],
   "source": [
    "learner = adaptive.Learner1D(bands, bounds=[-np.pi, np.pi])"
   ]
  },
  {
   "cell_type": "code",
   "execution_count": null,
   "metadata": {},
   "outputs": [],
   "source": [
    "try:\n",
    "    runner.cancel()\n",
    "except:\n",
    "    pass\n",
    "\n",
    "runner = adaptive.Runner(learner)\n",
    "runner.live_info()"
   ]
  },
  {
   "cell_type": "code",
   "execution_count": null,
   "metadata": {},
   "outputs": [],
   "source": [
    "folder_path = '/home/tinkerer/two_dim_majoranas/phase_zeeman_plots/tsoi_True_mu_1.8[51]_a_[5,_15.625]/B_6_Delta_0.18_Ll_1000_Lm_250_Lr_1000_Ly_4000_a_15.625_alpha_28_g_factor_10_mu_1.8_phase_1'\n",
    "learners = []\n",
    "\n",
    "mu = np.linspace(0,1.8,51)\n",
    "a = list([5, 15.625])\n",
    "transverse_soi = True\n",
    "syst_pars = {'Ll' : 1000,\n",
    "           'Lr' : 1000,\n",
    "           'Lm' : 250,\n",
    "           'Ly' : 4000,\n",
    "           'a' :  15.625}\n",
    "\n",
    "params = dict(g_factor = 10,\n",
    "              mu = 1.8,\n",
    "              alpha = 28,\n",
    "              Delta = 0.18,\n",
    "              B = 6,\n",
    "              phase = 1)\n",
    "\n",
    "def loss(ip):\n",
    "    from adaptive.learner.learner2D import default_loss, areas\n",
    "    adaptive.learner.learner2D.np\n",
    "    loss = default_loss(ip)\n",
    "    dim = areas(ip).shape[0]\n",
    "    return 1e8 * loss / dim if dim < 2000 else loss    \n",
    "\n",
    "for _mu,_a in product(mu, a):\n",
    "    params['mu'] = _mu\n",
    "    syst_pars['a'] = _a\n",
    "    f = partial(distributed_sns.f_adaptive, keys=('B', 'phase'), params=copy(params), \n",
    "            syst_pars=copy(syst_pars), transverse_soi=transverse_soi)\n",
    "    learner = adaptive_tools.Learner2D(f, bounds=[(0, 1.2), (-1.0*np.pi, 1.0*np.pi)], loss_per_triangle=loss)\n",
    "    \n",
    "    learner.pars = (_mu,_a)\n",
    "    learners.append(learner)\n",
    "\n",
    "\n",
    "bl = adaptive_tools.BalancingLearner(learners)\n",
    "\n",
    "try:\n",
    "    bl.load(folder_path)\n",
    "except:\n",
    "    pass"
   ]
  },
  {
   "cell_type": "code",
   "execution_count": null,
   "metadata": {},
   "outputs": [],
   "source": [
    "img = bl.learners[100].plot(tri_alpha=0.3)\n",
    "img"
   ]
  },
  {
   "cell_type": "code",
   "execution_count": null,
   "metadata": {},
   "outputs": [],
   "source": [
    "data = bl.learners[100].data\n",
    "ydata = data.copy()\n",
    "xdata = data.keys()"
   ]
  },
  {
   "cell_type": "code",
   "execution_count": null,
   "metadata": {},
   "outputs": [],
   "source": [
    "tap = hv.streams.Tap(source=img, x=0, y=0)\n",
    "img"
   ]
  },
  {
   "cell_type": "code",
   "execution_count": null,
   "metadata": {},
   "outputs": [],
   "source": [
    "vals = tap.get_param_values()\n",
    "x = vals[1][1]\n",
    "y =vals[2][1]\n",
    "try:\n",
    "    runner.cancel()\n",
    "except:\n",
    "    pass\n",
    "\n",
    "f = partial(func, B=x, phase=y)\n",
    "learner = adaptive.Learner1D(f, bounds=[-np.pi, np.pi])\n",
    "runner = adaptive.Runner(learner)\n",
    "runner.live_info()"
   ]
  },
  {
   "cell_type": "code",
   "execution_count": null,
   "metadata": {},
   "outputs": [],
   "source": [
    "vals"
   ]
  },
  {
   "cell_type": "code",
   "execution_count": null,
   "metadata": {},
   "outputs": [],
   "source": [
    "# [('name', 'Tap73213'), ('x', 0.6121585257778083), ('y', -3.0997048037181467)]\n",
    "plotting_results.plot_band_result(learner.data.keys(), learner.data.values())"
   ]
  },
  {
   "cell_type": "code",
   "execution_count": null,
   "metadata": {},
   "outputs": [],
   "source": [
    "# [('name', 'Tap73213'), ('x', 0.6015858385531387), ('y', -0.05642036122871527)]\n",
    "plotting_results.plot_band_result(learner.data.keys(), learner.data.values())"
   ]
  },
  {
   "cell_type": "code",
   "execution_count": null,
   "metadata": {},
   "outputs": [],
   "source": [
    "tap = hv.streams.Tap(source=img, x=0, y=0)\n"
   ]
  },
  {
   "cell_type": "code",
   "execution_count": null,
   "metadata": {},
   "outputs": [],
   "source": [
    "def test_f(xy, **params):\n",
    "    (B, phase) = xy\n",
    "    \n",
    "    try:\n",
    "        runner.cancel()\n",
    "    except:\n",
    "        pass\n",
    "    \n",
    "    f = partial(func, B=B, phase=phase)\n",
    "    learner = adaptive.Learner1D(f, bounds=[-np.pi, np.pi])\n",
    "    runner = adaptive.Runner(learner, executor=client)\n",
    "    \n",
    "#     res = hv.Curve((d, x*(d - y)**2), **params, label=f'xy =({x:.2f}, {y:.2f})')\n",
    "    res = learner.plot()\n",
    "    res.learner = learner\n",
    "    res.runner = runner\n",
    "    return res\n",
    "\n",
    "\n",
    "dmap = plotting_results.get_linked_plots(test_f, img, data, default_xy=(0,0), extents=(-4,-4,4,4))\n",
    "img"
   ]
  },
  {
   "cell_type": "code",
   "execution_count": null,
   "metadata": {},
   "outputs": [],
   "source": [
    "dmap"
   ]
  },
  {
   "cell_type": "code",
   "execution_count": null,
   "metadata": {},
   "outputs": [],
   "source": [
    "(x, y) = (0.1, 4)\n",
    "hv.Points((x, y), extents=(-4.0,0.0,4.0,1.3))"
   ]
  },
  {
   "cell_type": "code",
   "execution_count": null,
   "metadata": {},
   "outputs": [],
   "source": [
    "time.event(t=0.2)"
   ]
  },
  {
   "cell_type": "code",
   "execution_count": null,
   "metadata": {},
   "outputs": [],
   "source": [
    "max(0,1)"
   ]
  },
  {
   "cell_type": "code",
   "execution_count": null,
   "metadata": {},
   "outputs": [],
   "source": [
    "\n",
    "pointer = hv.streams.PointerXY()\n",
    "\n",
    "def func(a, b, momenta):\n",
    "    return [a*(momenta-b)**2 for k in momenta]"
   ]
  },
  {
   "cell_type": "code",
   "execution_count": null,
   "metadata": {},
   "outputs": [],
   "source": [
    "hv.DynamicMap(lambda x, y: hv.Curve((momenta, func(a, b, momenta))), streams=[pos])"
   ]
  },
  {
   "cell_type": "code",
   "execution_count": null,
   "metadata": {},
   "outputs": [],
   "source": [
    "curve_opts = dict(line_dash='dashed')\n",
    "res = {band : hv.Curve(band_struct[band]) for band in range(nbands)}\n",
    "a = hv.NdOverlay(res)"
   ]
  },
  {
   "cell_type": "code",
   "execution_count": null,
   "metadata": {},
   "outputs": [],
   "source": [
    "cmap =  hv.Cycle('Category20').values\n",
    "cycle = hv.Cycle([cmap[c%len(cmap)] for c in range(nbands//2)] + \n",
    "                 [cmap[(c%len(cmap))] for c in range(nbands//2-1, -1, -1)])"
   ]
  },
  {
   "cell_type": "code",
   "execution_count": null,
   "metadata": {},
   "outputs": [],
   "source": [
    "a.opts(style = {'Curve': {'color': cycle}})"
   ]
  },
  {
   "cell_type": "code",
   "execution_count": null,
   "metadata": {},
   "outputs": [],
   "source": [
    "[(c%len(cmap)) for c in range(nbands//2-1, -1, -1)]"
   ]
  },
  {
   "cell_type": "code",
   "execution_count": null,
   "metadata": {},
   "outputs": [],
   "source": [
    "nbands//2-1"
   ]
  },
  {
   "cell_type": "code",
   "execution_count": null,
   "metadata": {},
   "outputs": [],
   "source": [
    "res = hv.Curve((momenta,momenta))"
   ]
  },
  {
   "cell_type": "code",
   "execution_count": null,
   "metadata": {},
   "outputs": [],
   "source": [
    "a = res.opts(style={'line_dash':'dashed'})"
   ]
  },
  {
   "cell_type": "code",
   "execution_count": null,
   "metadata": {},
   "outputs": [],
   "source": [
    "hv.Overlay([a, a])"
   ]
  },
  {
   "cell_type": "code",
   "execution_count": null,
   "metadata": {},
   "outputs": [],
   "source": [
    "hv.Curve(band_struct[0]).opts(style=curve_opts)"
   ]
  },
  {
   "cell_type": "code",
   "execution_count": null,
   "metadata": {},
   "outputs": [],
   "source": [
    "res = np.array(energies)"
   ]
  },
  {
   "cell_type": "code",
   "execution_count": null,
   "metadata": {},
   "outputs": [],
   "source": [
    "syst_pars_t = {'Ll' : 5,\n",
    "           'Lr' : 5,\n",
    "           'Lm' : 250,\n",
    "           'Ly' : 50,\n",
    "           'a' :  5}\n",
    "syst_pars_j = {'Ll' : 5,\n",
    "           'Lr' : 5,\n",
    "           'Lm' : 250,\n",
    "           'Ly' : 500,\n",
    "           'a' :  5}\n",
    "\n",
    "\n",
    "params = dict(**constants,\n",
    "              g_factor = 10,\n",
    "              mu = 0.18,\n",
    "              alpha = 28,\n",
    "              Delta = 0.0,\n",
    "              B = 0.2,\n",
    "              phase =np.pi)\n",
    "\n",
    "syst_j = sns_system.make_junction(**syst_pars_j)\n",
    "syst_t = sns_system.make_sns_system(**syst_pars_t)\n",
    "_ = kwant.plot(syst_t)\n",
    "_ = kwant.plot(syst_j)"
   ]
  },
  {
   "cell_type": "code",
   "execution_count": null,
   "metadata": {},
   "outputs": [],
   "source": [
    "smat_t = kwant.smatrix(syst_t, in_leads=[0], out_leads=[1], energy=0.0, params=params)\n",
    "N_t = smat_t.num_propagating(1)\n",
    "T_t = smat_t.transmission(1,0)/N_t"
   ]
  },
  {
   "cell_type": "code",
   "execution_count": null,
   "metadata": {},
   "outputs": [],
   "source": [
    "smat_j = kwant.smatrix(syst_j, energy=0, params=params)\n",
    "N_j = smat_j.num_propagating(0)\n",
    "T_j = smat_j.transmission(0,1)/N_j"
   ]
  },
  {
   "cell_type": "code",
   "execution_count": null,
   "metadata": {},
   "outputs": [],
   "source": [
    "def delta(W):\n",
    "    return (constants['hbar']**2*np.pi**2/(2*constants['m_eff']*(2*W)**2))\n",
    "\n",
    "T_j*N_j*delta(250)"
   ]
  },
  {
   "cell_type": "code",
   "execution_count": null,
   "metadata": {},
   "outputs": [],
   "source": []
  }
 ],
 "metadata": {
  "language_info": {
   "name": "python",
   "pygments_lexer": "ipython3"
  }
 },
 "nbformat": 4,
 "nbformat_minor": 2
}
