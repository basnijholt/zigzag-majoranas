{
 "cells": [
  {
   "cell_type": "code",
   "execution_count": null,
   "metadata": {},
   "outputs": [],
   "source": [
    "%load_ext autoreload"
   ]
  },
  {
   "cell_type": "code",
   "execution_count": null,
   "metadata": {},
   "outputs": [],
   "source": [
    "%autoreload"
   ]
  },
  {
   "cell_type": "code",
   "execution_count": null,
   "metadata": {},
   "outputs": [],
   "source": [
    "from utils import *"
   ]
  },
  {
   "cell_type": "markdown",
   "metadata": {},
   "source": [
    "### test tuple"
   ]
  },
  {
   "cell_type": "code",
   "execution_count": null,
   "metadata": {},
   "outputs": [],
   "source": [
    "test_obj_1 = (0,1,2,4)\n",
    "test_obj_2 = (0,2,1,4)\n",
    "test_obj_3 = (1,2,4,0)\n",
    "test_obj_4 = (4,1,2,4)\n",
    "\n",
    "print(consistent_hash(test_obj_1))\n",
    "print(consistent_hash(test_obj_2))\n",
    "print(consistent_hash(test_obj_3))\n",
    "print(consistent_hash(test_obj_4))"
   ]
  },
  {
   "cell_type": "markdown",
   "metadata": {},
   "source": [
    "### test list"
   ]
  },
  {
   "cell_type": "code",
   "execution_count": null,
   "metadata": {},
   "outputs": [],
   "source": [
    "test_obj_1 = [(0,1,2,4), (0,2)]\n",
    "test_obj_2 = [(0,2), (0,1,2,4)]\n",
    "test_obj_3 = [(0,1,2,4), (2,0)]\n",
    "test_obj_4 = [(0,1,4,2), (2,0)]\n",
    "\n",
    "print(consistent_hash(test_obj_1))\n",
    "print(consistent_hash(test_obj_2))\n",
    "print(consistent_hash(test_obj_3))\n",
    "print(consistent_hash(test_obj_4))"
   ]
  },
  {
   "cell_type": "markdown",
   "metadata": {},
   "source": [
    "### test dict"
   ]
  },
  {
   "cell_type": "code",
   "execution_count": null,
   "metadata": {},
   "outputs": [],
   "source": [
    "test_obj_1 = dict(\n",
    "    test_obj_1 = [(0,1,2,4), (0,2)],\n",
    "    test_obj_2 = [(0,2), (0,1,2,4)],\n",
    "    test_obj_3 = [(0,1,2,4), (2,0)],\n",
    "    test_obj_4 = [(0,1,4,2), (2,0)]\n",
    "    )\n",
    "\n",
    "test_obj_2 = dict(\n",
    "    test_obj_2 = [(0,1,2,4), (0,2)],\n",
    "    test_obj_1 = [(0,2), (0,1,2,4)],\n",
    "    test_obj_3 = [(0,1,2,4), (2,0)],\n",
    "    test_obj_4 = [(0,1,4,2), (2,0)]\n",
    "    )\n",
    "\n",
    "test_obj_3 = dict(\n",
    "    test_obj_1 = [(0,1,2,4), (0,2)],\n",
    "    test_obj_3 = [(0,1,2,4), (2,0)],\n",
    "    test_obj_2 = [(0,2), (0,1,2,4)],\n",
    "    test_obj_4 = [(0,1,4,2), (2,0)]\n",
    "    )\n",
    "print(consistent_hash(test_obj_1))\n",
    "print(consistent_hash(test_obj_2))\n",
    "print(consistent_hash(test_obj_3))"
   ]
  },
  {
   "cell_type": "markdown",
   "metadata": {},
   "source": [
    "### test int"
   ]
  },
  {
   "cell_type": "code",
   "execution_count": null,
   "metadata": {},
   "outputs": [],
   "source": [
    "test_obj = 34\n",
    "consistent_hash(test_obj) == 34"
   ]
  },
  {
   "cell_type": "markdown",
   "metadata": {},
   "source": [
    "### test float"
   ]
  },
  {
   "cell_type": "code",
   "execution_count": null,
   "metadata": {},
   "outputs": [],
   "source": [
    "test_obj = 34.2323\n",
    "consistent_hash(test_obj) == 535647331040346146"
   ]
  },
  {
   "cell_type": "markdown",
   "metadata": {},
   "source": [
    "### test str"
   ]
  },
  {
   "cell_type": "code",
   "execution_count": null,
   "metadata": {},
   "outputs": [],
   "source": [
    "test_obj = \"Hello world\"\n",
    "consistent_hash(test_obj) == -59933535974132889080267031286362491797"
   ]
  },
  {
   "cell_type": "markdown",
   "metadata": {},
   "source": [
    "### test function"
   ]
  },
  {
   "cell_type": "code",
   "execution_count": null,
   "metadata": {},
   "outputs": [],
   "source": [
    "inspect.getsource(bar)"
   ]
  },
  {
   "cell_type": "code",
   "execution_count": null,
   "metadata": {},
   "outputs": [],
   "source": [
    "def foo(x):\n",
    "    a = x**3\n",
    "    b = dict(x=a)\n",
    "    return b\n",
    "\n",
    "def bar(y):\n",
    "    d = foo(y)\n",
    "    return d[y]"
   ]
  },
  {
   "cell_type": "code",
   "execution_count": null,
   "metadata": {},
   "outputs": [],
   "source": [
    "consistent_hash(bar) == -116679798874054017744340299204430609886"
   ]
  }
 ],
 "metadata": {
  "language_info": {
   "name": "python",
   "pygments_lexer": "ipython3"
  }
 },
 "nbformat": 4,
 "nbformat_minor": 2
}
