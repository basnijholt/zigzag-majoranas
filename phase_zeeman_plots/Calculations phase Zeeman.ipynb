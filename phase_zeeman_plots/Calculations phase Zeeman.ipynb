{
 "cells": [
  {
   "cell_type": "code",
   "execution_count": null,
   "metadata": {},
   "outputs": [],
   "source": [
    "%load_ext autoreload\n",
    "import os, sys\n",
    "sys.path.append(os.path.abspath('..'))"
   ]
  },
  {
   "cell_type": "code",
   "execution_count": null,
   "metadata": {},
   "outputs": [],
   "source": [
    "import adaptive\n",
    "import dependencies.adaptive_tools as adaptive_tools\n",
    "adaptive.notebook_extension()\n",
    "import holoviews as hv\n",
    "from itertools import product\n",
    "import matplotlib.pyplot as plt\n",
    "import numpy as np\n",
    "import cmath\n",
    "import scipy.constants\n",
    "from multiprocessing import Pool\n",
    "from functools import partial\n",
    "import kwant\n",
    "\n",
    "import symmetry\n",
    "import topology\n",
    "import sns_system\n",
    "import distributed_sns\n",
    "import hpc05\n",
    "import plotting_results\n",
    "from copy import copy\n",
    "import warnings\n",
    "\n",
    "constants = dict(\n",
    "    m_eff=0.023 * scipy.constants.m_e / (scipy.constants.eV * 1e-3) / 1e18,  # effective mass in kg, \n",
    "    hbar=scipy.constants.hbar / (scipy.constants.eV * 1e-3),\n",
    "    current_unit=scipy.constants.k * scipy.constants.e / scipy.constants.hbar * 1e9,  # to get nA\n",
    "    mu_B=scipy.constants.physical_constants['Bohr magneton'][0] / (scipy.constants.eV * 1e-3),\n",
    "    exp=cmath.exp,\n",
    "    cos=cmath.cos,\n",
    "    sin=cmath.sin\n",
    "   )"
   ]
  },
  {
   "cell_type": "code",
   "execution_count": null,
   "metadata": {},
   "outputs": [],
   "source": [
    "client, dview, lview = hpc05.start_remote_and_connect(200, folder='~/two_dim_majoranas', timeout=1800)"
   ]
  },
  {
   "cell_type": "code",
   "execution_count": null,
   "metadata": {},
   "outputs": [],
   "source": [
    "hpc05.kill_remote_ipcluster()"
   ]
  },
  {
   "cell_type": "markdown",
   "metadata": {},
   "source": [
    "# Varying chemical potential and lattice spacing"
   ]
  },
  {
   "cell_type": "code",
   "execution_count": null,
   "metadata": {},
   "outputs": [],
   "source": [
    "learners = []\n",
    "\n",
    "mu = np.linspace(0,1.8,4)\n",
    "a = list([5, 10])\n",
    "transverse_soi = True\n",
    "syst_pars = {'Ll' : 1000,\n",
    "           'Lr' : 1000,\n",
    "           'Lm' : 250,\n",
    "           'Ly' : 50,\n",
    "           'a' :  10}\n",
    "\n",
    "params = dict(g_factor = 10,\n",
    "              mu = 8,\n",
    "              alpha = 28,\n",
    "              Delta = 0.18,\n",
    "              B = 1,\n",
    "              phase = 1)\n",
    "\n",
    "folder_path = f'tsoi_{transverse_soi}_mu_{mu}_a_{a}/'\n",
    "folder_path += '_'.join([f'{k}_{v}' for k, v in sorted({**params, **syst_pars}.items())])\n",
    "\n",
    "def loss(ip):\n",
    "    from adaptive.learner.learner2D import default_loss, areas\n",
    "    adaptive.learner.learner2D.np\n",
    "    loss = default_loss(ip)\n",
    "    dim = areas(ip).shape[0]\n",
    "    return 1e8 * loss / dim if dim < 2000 else loss    \n",
    "\n",
    "for _mu,_a in product(mu, a):\n",
    "    params['mu'] = _mu\n",
    "    syst_pars['a'] = _a\n",
    "    f = partial(distributed_sns.f_adaptive, keys=('B', 'phase'), params=copy(params), \n",
    "            syst_pars=copy(syst_pars), transverse_soi=transverse_soi)\n",
    "    learner = adaptive_tools.Learner2D(f, bounds=[(0, 1.2), (-1.0*np.pi, 1.0*np.pi)], loss_per_triangle=loss)\n",
    "    \n",
    "    learner.pars = (_mu,_a)\n",
    "    learners.append(learner)\n",
    "\n",
    "\n",
    "bl = adaptive_tools.BalancingLearner(learners)\n",
    "\n",
    "try:\n",
    "    bl.load(folder_path)\n",
    "except:\n",
    "    pass"
   ]
  },
  {
   "cell_type": "code",
   "execution_count": null,
   "metadata": {},
   "outputs": [],
   "source": [
    "import os.path\n",
    "os.path.exists(folder_path)"
   ]
  },
  {
   "cell_type": "code",
   "execution_count": null,
   "metadata": {},
   "outputs": [],
   "source": [
    "bl.load(folder_path)"
   ]
  },
  {
   "cell_type": "code",
   "execution_count": null,
   "metadata": {},
   "outputs": [],
   "source": [
    "bl.learners[0].npoints"
   ]
  },
  {
   "cell_type": "code",
   "execution_count": null,
   "metadata": {},
   "outputs": [],
   "source": []
  },
  {
   "cell_type": "code",
   "execution_count": null,
   "metadata": {},
   "outputs": [],
   "source": [
    "plotter = lambda l: l.plot(n=200, tri_alpha=0.3).redim(x='B (T)', y = 'Phase')\n",
    "bl.plot(cdims=(['mu', 'B'], product(mu, a)), plotter=plotter)"
   ]
  },
  {
   "cell_type": "code",
   "execution_count": null,
   "metadata": {},
   "outputs": [],
   "source": [
    "plt_dict = {learner.pars: learner.plot(n=200, tri_alpha=0.3).redim(x='B (T)', y = 'Phase')\n",
    "            for learner in bl.learners}\n",
    "int_plot = hv.plotting.plot.HoloMap(plt_dict, kdims=['mu','a'])\n",
    "int_plot"
   ]
  },
  {
   "cell_type": "markdown",
   "metadata": {},
   "source": [
    "# Varying width of superconductor"
   ]
  },
  {
   "cell_type": "code",
   "execution_count": null,
   "metadata": {},
   "outputs": [],
   "source": [
    "learners = []\n",
    "\n",
    "# mu = np.linspace(0,1.8,4)\n",
    "WSC = np.linspace(500,1500,5)\n",
    "transverse_soi = True\n",
    "syst_pars = {'Ll' : 1000,\n",
    "           'Lr' : 1000,\n",
    "           'Lm' : 250,\n",
    "           'Ly' : 50,\n",
    "           'a' :  15.625}\n",
    "\n",
    "params = dict(g_factor = 10,\n",
    "              mu = .18,\n",
    "              alpha = 28,\n",
    "              Delta = 0.18,\n",
    "              B = 0.2,\n",
    "              phase = 1*np.pi)\n",
    "\n",
    "folder_path = f'tsoi_{transverse_soi}_WSC_{WSC}/'\n",
    "folder_path += '_'.join([f'{k}_{v}' for k, v in sorted({**params, **syst_pars}.items())])\n",
    "\n",
    "def loss(ip):\n",
    "    from adaptive.learner.learner2D import default_loss, areas\n",
    "    adaptive.learner.learner2D.np\n",
    "    loss = default_loss(ip)\n",
    "    dim = areas(ip).shape[0]\n",
    "    return 1e8 * loss / dim if dim < 2000 else loss    \n",
    "\n",
    "for _WSC in WSC:\n",
    "    syst_pars['Ll'] = _WSC\n",
    "    syst_pars['Lr'] = _WSC\n",
    "    \n",
    "    f = partial(distributed_sns.f_adaptive, keys=('B', 'phase'), params=copy(params), \n",
    "            syst_pars=copy(syst_pars), transverse_soi=transverse_soi)\n",
    "    learner = adaptive_tools.Learner2D(f, bounds=[(0, 1.2), (-1.0*np.pi, 1.0*np.pi)], loss_per_triangle=loss)\n",
    "    \n",
    "    learner.pars = (_WSC)\n",
    "    learners.append(learner)\n",
    "\n",
    "\n",
    "bl = adaptive_tools.BalancingLearner(learners)\n",
    "\n",
    "try:\n",
    "    bl.load(folder_path)\n",
    "except:\n",
    "    pass"
   ]
  },
  {
   "cell_type": "code",
   "execution_count": null,
   "metadata": {},
   "outputs": [],
   "source": [
    "try:\n",
    "    runner.cancel()\n",
    "except:\n",
    "    pass\n",
    "\n",
    "\n",
    "runner = adaptive.Runner(bl)#, executor=client)\n",
    "runner.live_info()\n",
    "\n",
    "bl.start_periodic_saver(runner,folder_path,interval=1800)"
   ]
  },
  {
   "cell_type": "markdown",
   "metadata": {},
   "source": [
    "# Varying the superconductor width\n",
    "We expect to see no difference if we change the size of the superconductors, as they should be 'large enough' to have no influence on the result. We indeed see than for the first 'diamond', the difference is negligible. For larger magnetic fields, the results diverge amongst each other, but it is debatable whether this region is physical in any case."
   ]
  },
  {
   "cell_type": "code",
   "execution_count": null,
   "metadata": {},
   "outputs": [],
   "source": [
    "plt_dict = {learner.pars: learner.plot(n=200, tri_alpha=0.3).redim(x='B (T)', y = 'Phase')\n",
    "            for learner in bl.learners}\n",
    "int_plot = hv.plotting.plot.HoloMap(plt_dict, kdims=['WSC'])\n",
    "\n",
    "int_plot"
   ]
  },
  {
   "cell_type": "markdown",
   "metadata": {},
   "source": [
    "# Varying channel width\n",
    "Here we vary the width of the normal region, which should shift the thouless energy:\n",
    "\\begin{equation}\n",
    "E_T = \\frac{\\pi}{2} \\frac{\\hbar v_f}{W} \n",
    "\\end{equation}"
   ]
  },
  {
   "cell_type": "code",
   "execution_count": null,
   "metadata": {},
   "outputs": [],
   "source": [
    "learners = []\n",
    "\n",
    "# mu = np.linspace(0,1.8,4)\n",
    "Wn = np.linspace(64, 512, 5)\n",
    "transverse_soi = True\n",
    "syst_pars = {'Ll' : 1000,\n",
    "           'Lr' : 1000,\n",
    "           'Lm' : 250,\n",
    "           'Ly' : 50,\n",
    "           'a' :  8}\n",
    "\n",
    "params = dict(g_factor = 10,\n",
    "              mu = 1.8,\n",
    "              alpha = 28,\n",
    "              Delta = 0.18,\n",
    "              B = 0.2,\n",
    "              phase = 1*np.pi)\n",
    "\n",
    "folder_path = f'tsoi_{transverse_soi}_Wn_{Wn}/'\n",
    "folder_path += '_'.join([f'{k}_{v}' for k, v in sorted({**params, **syst_pars}.items())])\n",
    "\n",
    "def loss(ip):\n",
    "    from adaptive.learner.learner2D import default_loss, areas\n",
    "    adaptive.learner.learner2D.np\n",
    "    loss = default_loss(ip)\n",
    "    dim = areas(ip).shape[0]\n",
    "    return 1e8 * loss / dim if dim < 2000 else loss    \n",
    "\n",
    "for _Wn in Wn:\n",
    "    syst_pars['Lm'] = _Wn\n",
    "    \n",
    "    f = partial(distributed_sns.f_adaptive, keys=('B', 'phase'), params=copy(params), \n",
    "            syst_pars=copy(syst_pars), transverse_soi=transverse_soi)\n",
    "    learner = adaptive_tools.Learner2D(f, bounds=[(0, 1.2), (-1.0*np.pi, 1.0*np.pi)], loss_per_triangle=loss)\n",
    "    \n",
    "    learner.pars = tuple([_Wn])\n",
    "    learners.append(learner)\n",
    "\n",
    "\n",
    "bl = adaptive_tools.BalancingLearner(learners)\n",
    "\n",
    "try:\n",
    "    bl.load(folder_path)\n",
    "except:\n",
    "    pass"
   ]
  },
  {
   "cell_type": "code",
   "execution_count": null,
   "metadata": {},
   "outputs": [],
   "source": [
    "plt_dict = {learner.pars: learner.plot(n=200, tri_alpha=0.3).redim(x='B (T)', y = 'Phase')\n",
    "            for learner in bl.learners}\n",
    "int_plot = hv.plotting.plot.HoloMap(plt_dict, kdims=['Wn'])\n",
    "\n",
    "int_plot"
   ]
  },
  {
   "cell_type": "code",
   "execution_count": null,
   "metadata": {},
   "outputs": [],
   "source": [
    "try:\n",
    "    runner.cancel()\n",
    "except:\n",
    "    pass\n",
    "\n",
    "\n",
    "runner = adaptive.Runner(bl, executor=client)\n",
    "runner.live_info()\n",
    "\n",
    "bl.start_periodic_saver(runner, folder_path,interval=1800)"
   ]
  },
  {
   "cell_type": "code",
   "execution_count": null,
   "metadata": {},
   "outputs": [],
   "source": [
    "kf = np.sqrt(2*360*constants['m_eff'])/constants['hbar']\n",
    "vf = constants['hbar']*kf/constants['m_eff'] #+ params['alpha']/constants['hbar']\n",
    "print(vf*1e-9/1e5)"
   ]
  },
  {
   "cell_type": "code",
   "execution_count": null,
   "metadata": {},
   "outputs": [],
   "source": [
    "def thouless_in_tesla(W):\n",
    "    \n",
    "#     kf = np.sqrt(2*params['mu']*constants['m_eff'])/constants['hbar']\n",
    "#     vf = constants['hbar']*kf/constants['m_eff'] + params['alpha']/constants['hbar']\n",
    "#     E_T = np.pi/2*constants['hbar']*vf/W\n",
    "    E_T = np.pi**2 * constants['hbar']**2 / (2 * constants['m_eff'] *(2*W)**2)\n",
    "    return E_T/2/params['g_factor']/constants['mu_B']\n",
    "plt_dict = {learner.pars: (learner.plot(n=100, tri_alpha=0.3).redim(x='B (T)', y = 'Phase').relabel(\n",
    "            f'B_T = {thouless_in_tesla(learner.pars[0]):.4}'))\n",
    "            for learner in bl.learners}\n",
    "int_plot = hv.plotting.plot.HoloMap(plt_dict, kdims=['Wn'])\n",
    "\n",
    "int_plot"
   ]
  },
  {
   "cell_type": "markdown",
   "metadata": {},
   "source": [
    "# Thouless calculation"
   ]
  },
  {
   "cell_type": "code",
   "execution_count": null,
   "metadata": {},
   "outputs": [],
   "source": [
    "%autoreload"
   ]
  },
  {
   "cell_type": "code",
   "execution_count": null,
   "metadata": {},
   "outputs": [],
   "source": [
    "def calcTransmission(energy):\n",
    "    import cmath\n",
    "    import numpy as np\n",
    "    import kwant\n",
    "    import scipy.constants\n",
    "    import sns_system\n",
    "    \n",
    "    constants = dict(\n",
    "    m_eff=0.023 * scipy.constants.m_e / (scipy.constants.eV * 1e-3) / 1e18,  # effective mass in kg, \n",
    "    hbar=scipy.constants.hbar / (scipy.constants.eV * 1e-3),\n",
    "    current_unit=scipy.constants.k * scipy.constants.e / scipy.constants.hbar * 1e9,  # to get nA\n",
    "    mu_B=scipy.constants.physical_constants['Bohr magneton'][0] / (scipy.constants.eV * 1e-3),\n",
    "    exp=cmath.exp,\n",
    "    cos=cmath.cos,\n",
    "    sin=cmath.sin\n",
    "   )\n",
    "    syst_pars = {'Ll' : 1000,\n",
    "               'Lr' : 1000,\n",
    "               'Lm' : 250,\n",
    "               'Ly' : 4000,\n",
    "               'a' :  50}\n",
    "\n",
    "#     params = dict(**constants,\n",
    "#                   g_factor = 10,\n",
    "#                   mu = .18,\n",
    "#                   alpha = 28,\n",
    "#                   Delta = 0.18,\n",
    "#                   B = 0.4,\n",
    "#                   phase = 1*np.pi)\n",
    "    params = dict(**constants,\n",
    "                  g_factor = 10,\n",
    "                  mu = .18,\n",
    "                  alpha = 28,\n",
    "                  Delta = 0.18,\n",
    "                  B = 0.4,\n",
    "                  phase = energy*np.pi)\n",
    "    \n",
    "    syst = sns_system.make_junction(**syst_pars)\n",
    "    \n",
    "    smat = kwant.smatrix(syst, params = params, energy = .36)\n",
    "    return smat.transmission(1, 0)\n",
    "\n",
    "learner = adaptive.Learner1D(calcTransmission, bounds=(-4,4))"
   ]
  },
  {
   "cell_type": "code",
   "execution_count": null,
   "metadata": {},
   "outputs": [],
   "source": [
    "try:\n",
    "    runner.cancel()\n",
    "except:\n",
    "    pass\n",
    "\n",
    "runner = adaptive.Runner(learner, executor=client)\n",
    "runner.live_info()"
   ]
  },
  {
   "cell_type": "code",
   "execution_count": null,
   "metadata": {},
   "outputs": [],
   "source": [
    "learner.plot()"
   ]
  },
  {
   "cell_type": "code",
   "execution_count": null,
   "metadata": {},
   "outputs": [],
   "source": []
  },
  {
   "cell_type": "code",
   "execution_count": null,
   "metadata": {},
   "outputs": [],
   "source": [
    "smat.conductance_matrix()"
   ]
  },
  {
   "cell_type": "code",
   "execution_count": null,
   "metadata": {},
   "outputs": [],
   "source": []
  }
 ],
 "metadata": {
  "language_info": {
   "name": "python",
   "pygments_lexer": "ipython3"
  }
 },
 "nbformat": 4,
 "nbformat_minor": 2
}
