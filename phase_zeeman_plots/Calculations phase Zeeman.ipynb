{
 "cells": [
  {
   "cell_type": "code",
   "execution_count": null,
   "metadata": {},
   "outputs": [],
   "source": [
    "%load_ext autoreload\n",
    "import os, sys\n",
    "sys.path.append(os.path.abspath('..'))"
   ]
  },
  {
   "cell_type": "code",
   "execution_count": null,
   "metadata": {},
   "outputs": [],
   "source": [
    "import adaptive\n",
    "import dependencies.adaptive_tools as adaptive_tools\n",
    "adaptive.notebook_extension()\n",
    "import holoviews as hv\n",
    "from itertools import product\n",
    "import matplotlib.pyplot as plt\n",
    "import numpy as np\n",
    "import cmath\n",
    "import scipy.constants\n",
    "from multiprocessing import Pool\n",
    "from functools import partial\n",
    "import kwant\n",
    "\n",
    "import symmetry\n",
    "import topology\n",
    "import sns_system\n",
    "import distributed_sns\n",
    "import hpc05\n",
    "import plotting_results\n",
    "from copy import copy\n",
    "import warnings\n",
    "\n",
    "constants = dict(\n",
    "    m_eff=0.023 * scipy.constants.m_e / (scipy.constants.eV * 1e-3) / 1e18,  # effective mass in kg, \n",
    "    hbar=scipy.constants.hbar / (scipy.constants.eV * 1e-3),\n",
    "    current_unit=scipy.constants.k * scipy.constants.e / scipy.constants.hbar * 1e9,  # to get nA\n",
    "    mu_B=scipy.constants.physical_constants['Bohr magneton'][0] / (scipy.constants.eV * 1e-3),\n",
    "    exp=cmath.exp,\n",
    "    cos=cmath.cos,\n",
    "    sin=cmath.sin\n",
    "   )"
   ]
  },
  {
   "cell_type": "code",
   "execution_count": null,
   "metadata": {},
   "outputs": [],
   "source": [
    "client, dview, lview = hpc05.start_remote_and_connect(200, folder='~/two_dim_majoranas', timeout=1800)"
   ]
  },
  {
   "cell_type": "code",
   "execution_count": null,
   "metadata": {},
   "outputs": [],
   "source": [
    "hpc05.kill_remote_ipcluster()"
   ]
  },
  {
   "cell_type": "code",
   "execution_count": null,
   "metadata": {},
   "outputs": [],
   "source": [
    "try:\n",
    "    runner.cancel()\n",
    "except:\n",
    "    pass\n",
    "\n",
    "runner = adaptive.Runner(bl, executor=client)\n",
    "bl.start_periodic_saver(runner,folder_path,interval=1800)"
   ]
  },
  {
   "cell_type": "code",
   "execution_count": null,
   "metadata": {},
   "outputs": [],
   "source": [
    "runner.live_info()"
   ]
  },
  {
   "cell_type": "code",
   "execution_count": null,
   "metadata": {},
   "outputs": [],
   "source": [
    "plotting_results.print_blearner_status(bl)"
   ]
  },
  {
   "cell_type": "markdown",
   "metadata": {},
   "source": [
    "# Varying chemical potential and lattice spacing"
   ]
  },
  {
   "cell_type": "code",
   "execution_count": null,
   "metadata": {},
   "outputs": [],
   "source": [
    "learners = []\n",
    "\n",
    "mu = np.linspace(0,1.8,51)\n",
    "a = list([5, 15.625])\n",
    "transverse_soi = True\n",
    "syst_pars = {'Ll' : 1000,\n",
    "           'Lr' : 1000,\n",
    "           'Lm' : 250,\n",
    "           'Ly' : 4000,\n",
    "           'a' :  15.625}\n",
    "\n",
    "params = dict(g_factor = 10,\n",
    "              mu = 1.8,\n",
    "              alpha = 28,\n",
    "              Delta = 0.18,\n",
    "              B = 6,\n",
    "              phase = 1)\n",
    "\n",
    "folder_path = f'tsoi_{transverse_soi}_mu_{mu[-1]}[{len(mu)}]_a_{a}/'\n",
    "folder_path = folder_path.replace(' ','_')\n",
    "folder_path += '_'.join([f'{k}_{v}' for k, v in sorted({**params, **syst_pars}.items())])\n",
    "# folder_path = f'tsoi_{transverse_soi}_mu_{mu}_a_{a}/'\n",
    "# folder_path += '_'.join([f'{k}_{v}' for k, v in sorted({**params, **syst_pars}.items())])\n",
    "\n",
    "def loss(ip):\n",
    "    from adaptive.learner.learner2D import default_loss, areas\n",
    "    adaptive.learner.learner2D.np\n",
    "    loss = default_loss(ip)\n",
    "    dim = areas(ip).shape[0]\n",
    "    return 1e8 * loss / dim if dim < 2000 else loss    \n",
    "\n",
    "for _mu,_a in product(mu, a):\n",
    "    params['mu'] = _mu\n",
    "    syst_pars['a'] = _a\n",
    "    f = partial(distributed_sns.f_adaptive, keys=('B', 'phase'), params=copy(params), \n",
    "            syst_pars=copy(syst_pars), transverse_soi=transverse_soi)\n",
    "    learner = adaptive_tools.Learner2D(f, bounds=[(0, 1.2), (-1.0*np.pi, 1.0*np.pi)], loss_per_triangle=loss)\n",
    "    \n",
    "    learner.pars = (_mu,_a)\n",
    "    learners.append(learner)\n",
    "\n",
    "\n",
    "bl = adaptive_tools.BalancingLearner(learners)\n",
    "\n",
    "try:\n",
    "    bl.load(folder_path)\n",
    "except:\n",
    "    pass"
   ]
  },
  {
   "cell_type": "code",
   "execution_count": null,
   "metadata": {},
   "outputs": [],
   "source": [
    "plt_dict = {learner.pars: learner.plot(n=200, tri_alpha=0.3).redim(x='B (T)', y = 'Phase')\n",
    "            for learner in bl.learners}\n",
    "int_plot = hv.plotting.plot.HoloMap(plt_dict, kdims=['Wn'])\n",
    "\n",
    "int_plot"
   ]
  },
  {
   "cell_type": "code",
   "execution_count": null,
   "metadata": {},
   "outputs": [],
   "source": [
    "plotter = lambda l: l.plot(tri_alpha=0.0).redim(x='B (T)', y = 'Phase')\n",
    "int_plot = bl.plot(cdims=(['mu', 'a'], product(mu, a)), plotter=plotter)"
   ]
  },
  {
   "cell_type": "code",
   "execution_count": null,
   "metadata": {},
   "outputs": [],
   "source": [
    "renderer = hv.renderer('bokeh').instance(fig='auto', holomap='widgets')\n",
    "renderer.save(int_plot, 'phase_zeeman', style=dict(Image={'cmap':'viridis', 'trialpha' : 0}))"
   ]
  },
  {
   "cell_type": "code",
   "execution_count": null,
   "metadata": {},
   "outputs": [],
   "source": [
    "from IPython.display import display_html\n",
    "res = display_html(renderer.(int_plot), raw=True)"
   ]
  },
  {
   "cell_type": "code",
   "execution_count": null,
   "metadata": {},
   "outputs": [],
   "source": [
    "int_plot"
   ]
  },
  {
   "cell_type": "markdown",
   "metadata": {},
   "source": [
    "# Varying width of superconductor"
   ]
  },
  {
   "cell_type": "code",
   "execution_count": null,
   "metadata": {},
   "outputs": [],
   "source": [
    "learners = []\n",
    "\n",
    "# mu = np.linspace(0,1.8,4)\n",
    "WSC = np.linspace(500,1500,5)\n",
    "transverse_soi = True\n",
    "syst_pars = {'Ll' : 1000,\n",
    "           'Lr' : 1000,\n",
    "           'Lm' : 250,\n",
    "           'Ly' : 50,\n",
    "           'a' :  15.625}\n",
    "\n",
    "params = dict(g_factor = 10,\n",
    "              mu = .18,\n",
    "              alpha = 28,\n",
    "              Delta = 0.18,\n",
    "              B = 0.2,\n",
    "              phase = 1*np.pi)\n",
    "\n",
    "folder_path = f'tsoi_{transverse_soi}_WSC_{WSC}/'\n",
    "folder_path += '_'.join([f'{k}_{v}' for k, v in sorted({**params, **syst_pars}.items())])\n",
    "\n",
    "def loss(ip):\n",
    "    from adaptive.learner.learner2D import default_loss, areas\n",
    "    adaptive.learner.learner2D.np\n",
    "    loss = default_loss(ip)\n",
    "    dim = areas(ip).shape[0]\n",
    "    return 1e8 * loss / dim if dim < 2000 else loss    \n",
    "\n",
    "for _WSC in WSC:\n",
    "    syst_pars['Ll'] = _WSC\n",
    "    syst_pars['Lr'] = _WSC\n",
    "    \n",
    "    f = partial(distributed_sns.f_adaptive, keys=('B', 'phase'), params=copy(params), \n",
    "            syst_pars=copy(syst_pars), transverse_soi=transverse_soi)\n",
    "    learner = adaptive_tools.Learner2D(f, bounds=[(0, 1.2), (-1.0*np.pi, 1.0*np.pi)], loss_per_triangle=loss)\n",
    "    \n",
    "    learner.pars = (_WSC)\n",
    "    learners.append(learner)\n",
    "\n",
    "\n",
    "bl = adaptive_tools.BalancingLearner(learners)\n",
    "\n",
    "try:\n",
    "    bl.load(folder_path)\n",
    "except:\n",
    "    pass"
   ]
  },
  {
   "cell_type": "markdown",
   "metadata": {},
   "source": [
    "# Varying the superconductor width\n",
    "We expect to see no difference if we change the size of the superconductors, as they should be 'large enough' to have no influence on the result. We indeed see than for the first 'diamond', the difference is negligible. For larger magnetic fields, the results diverge amongst each other, but it is debatable whether this region is physical in any case."
   ]
  },
  {
   "cell_type": "code",
   "execution_count": null,
   "metadata": {},
   "outputs": [],
   "source": [
    "plt_dict = {learner.pars: learner.plot(n=200, tri_alpha=0.3).redim(x='B (T)', y = 'Phase')\n",
    "            for learner in bl.learners}\n",
    "int_plot = hv.plotting.plot.HoloMap(plt_dict, kdims=['WSC'])\n",
    "\n",
    "int_plot"
   ]
  },
  {
   "cell_type": "markdown",
   "metadata": {},
   "source": [
    "# Varying channel width\n",
    "Here we vary the width of the normal region, which should shift the thouless energy:\n",
    "\\begin{equation}\n",
    "E_T = \\frac{\\pi}{2} \\frac{\\hbar v_f}{W} \n",
    "\\end{equation}"
   ]
  },
  {
   "cell_type": "code",
   "execution_count": null,
   "metadata": {},
   "outputs": [],
   "source": [
    "try:\n",
    "    runner.cancel()\n",
    "except:\n",
    "    pass\n",
    "\n",
    "\n",
    "runner = adaptive.Runner(bl, executor=client)\n",
    "runner.live_info()\n",
    "\n",
    "bl.start_periodic_saver(runner,folder_path,interval=1800)"
   ]
  },
  {
   "cell_type": "code",
   "execution_count": null,
   "metadata": {},
   "outputs": [],
   "source": [
    "learners = []\n",
    "\n",
    "# mu = np.linspace(0,1.8,4)\n",
    "Wn = [250, 500, 1000, 2000,5000] #np.linspace(250, 2500, 5)\n",
    "transverse_soi = True\n",
    "syst_pars = {'Ll' : 1000,\n",
    "           'Lr' : 1000,\n",
    "           'Lm' : 250,\n",
    "           'Ly' : 50,\n",
    "           'a' :  25}\n",
    "\n",
    "params = dict(g_factor = 10,\n",
    "              mu = .18,\n",
    "              alpha = 28,\n",
    "              Delta = 0.18,\n",
    "              B = 0.2,\n",
    "              \n",
    "              phase = 1*np.pi)\n",
    "\n",
    "folder_path = f'tsoi_{transverse_soi}_Wn_{Wn}/'\n",
    "folder_path += '_'.join([f'{k}_{v}' for k, v in sorted({**params, **syst_pars}.items())])\n",
    "\n",
    "def loss(ip):\n",
    "    from adaptive.learner.learner2D import default_loss, areas\n",
    "    adaptive.learner.learner2D.np\n",
    "    loss = default_loss(ip)\n",
    "    dim = areas(ip).shape[0]\n",
    "    return 1e8 * loss / dim if dim < 2000 else loss    \n",
    "\n",
    "for _Wn in Wn:\n",
    "    syst_pars['Lm'] = _Wn\n",
    "    \n",
    "    f = partial(distributed_sns.f_adaptive, keys=('B', 'phase'), params=copy(params), \n",
    "            syst_pars=copy(syst_pars), transverse_soi=transverse_soi)\n",
    "    learner = adaptive_tools.Learner2D(f, bounds=[(0, .4), (-1.0*np.pi, 1.0*np.pi)], loss_per_triangle=loss)\n",
    "    \n",
    "    learner.pars = tuple([_Wn])\n",
    "    learners.append(learner)\n",
    "\n",
    "\n",
    "bl = adaptive_tools.BalancingLearner(learners)\n",
    "\n",
    "try:\n",
    "    pass\n",
    "#     bl.load(folder_path.replace('  ',' '))\n",
    "except:\n",
    "    pass"
   ]
  },
  {
   "cell_type": "code",
   "execution_count": null,
   "metadata": {},
   "outputs": [],
   "source": [
    "3**2*(np.pi**2 * constants['hbar']**2 / (2*constants['m_eff'] * 2000**2))"
   ]
  },
  {
   "cell_type": "code",
   "execution_count": null,
   "metadata": {},
   "outputs": [],
   "source": [
    "plt_dict = {learner.pars: learner.plot(n=200).redim(x='B (T)', y = 'Phase')\n",
    "            for learner in bl.learners}\n",
    "\n",
    "\n",
    "int_plot = hv.plotting.plot.HoloMap(plt_dict, kdims=['Wn'])\n",
    "\n",
    "\n",
    "int_plot\n"
   ]
  },
  {
   "cell_type": "code",
   "execution_count": null,
   "metadata": {},
   "outputs": [],
   "source": [
    "(134*delta(5000))/(2*10*constants['mu_B'])"
   ]
  },
  {
   "cell_type": "code",
   "execution_count": null,
   "metadata": {},
   "outputs": [],
   "source": [
    "template = sns_system.get_template_strings(transverse_soi=True)\n",
    "ham = kwant.continuum.discretize(template, grid_spacing = syst_pars['a'])\n",
    "\n"
   ]
  },
  {
   "cell_type": "code",
   "execution_count": null,
   "metadata": {},
   "outputs": [],
   "source": [
    "b_to_Ez(0.024) / delta(5000)"
   ]
  },
  {
   "cell_type": "code",
   "execution_count": null,
   "metadata": {},
   "outputs": [],
   "source": [
    "def b_to_Ez(B):\n",
    "    return 2*B*params['g_factor']*constants['mu_B']\n",
    "\n",
    "def delta(W):\n",
    "    return (constants['hbar']**2*np.pi**2/(2*constants['m_eff']*(2*W)**2))\n"
   ]
  },
  {
   "cell_type": "code",
   "execution_count": null,
   "metadata": {},
   "outputs": [],
   "source": [
    "2*.056*constants['mu_B']*10/(constants['hbar']**2*np.pi**2/(2*constants['m_eff']*(2*2000)**2))"
   ]
  },
  {
   "cell_type": "code",
   "execution_count": null,
   "metadata": {},
   "outputs": [],
   "source": [
    "2*.175*constants['mu_B']*10/(constants['hbar']**2*np.pi**2/(2*constants['m_eff']*(2*2000)**2))\n"
   ]
  },
  {
   "cell_type": "code",
   "execution_count": null,
   "metadata": {},
   "outputs": [],
   "source": [
    "def make_sns_system(a, Lm, Lr, Ll, Ly, transverse_soi = True):\n",
    "    \"\"\" \n",
    "    Builds and returns finalized 2dim sns system\n",
    "    \n",
    "    Parameters:\n",
    "    -----------\n",
    "    a : float\n",
    "        lattice spacing in nm\n",
    "\n",
    "    Lm : float\n",
    "        width of middle normal strip\n",
    "\n",
    "    Lr : float\n",
    "        width of right superconductor\n",
    "\n",
    "    Ll : float\n",
    "        width of left superconductor\n",
    "\n",
    "    Ly : float\n",
    "        length of finite system\n",
    "\n",
    "    Returns:\n",
    "    --------\n",
    "    syst : kwant.system.FiniteSystem\n",
    "        Finite system where lead[0] is assumed to be the bulk lead, a slice of the bulk along the y-axis\n",
    "    \"\"\"\n",
    "\n",
    "    #     HAMILTONIAN DEFINITIONS\n",
    "    template_strings = sns_system.get_template_strings(transverse_soi)\n",
    "\n",
    "    # TURN HAMILTONIAN STRINGS INTO TEMPLATES\n",
    "    template_normal = kwant.continuum.discretize(template_strings['ham_normal'], grid_spacing=a)\n",
    "    template_sc_left = kwant.continuum.discretize(template_strings['ham_sc_left'], grid_spacing=a)\n",
    "    template_sc_right = kwant.continuum.discretize(template_strings['ham_sc_right'], grid_spacing=a)\n",
    "    \n",
    "    # SHAPE FUNCTIONS\n",
    "    def shape_normal(site):\n",
    "        (x, y) = site.pos\n",
    "        return 0 <= y < Ly and 0 <= x < Lm\n",
    "    \n",
    "    def shape_left_sc(site):\n",
    "        (x, y) = site.pos\n",
    "        return 0 <= y < Ly and -Ll <= x < 0\n",
    "    \n",
    "    def shape_right_sc(site):\n",
    "        (x, y) = site.pos\n",
    "        return 0 <= y < Ly and Lm <= x < Lm + Lr\n",
    "    def shape_lead(x1, x2):\n",
    "        def shape(site):\n",
    "            (x, y) = site.pos\n",
    "            return  x1 <= x < x2\n",
    "        return shape\n",
    "    \n",
    "    # BUILD FINITE SYSTEM\n",
    "    syst = kwant.Builder()\n",
    "\n",
    "    syst.fill(template_normal, shape_normal, (0,0))\n",
    "    syst.fill(template_sc_left, shape_left_sc, (-Ll,0))\n",
    "    syst.fill(template_sc_right, shape_right_sc, (Lm,0))\n",
    "\n",
    "    # LEAD: SLICE OF BULK ALONG Y AXIS\n",
    "    lead = kwant.Builder(kwant.TranslationalSymmetry([0,-a]))\n",
    "    \n",
    "    lead.fill(template_sc_left, shape_lead(-Ll,0), (-Ll, -a))\n",
    "    lead.fill(template_normal, shape_lead(0,Lm), (0,-a))\n",
    "    lead.fill(template_sc_right, shape_lead(Lm,Lm + Lr), (Lm,-a))\n",
    "\n",
    "    syst.attach_lead(lead)\n",
    "    syst.attach_lead(lead.reversed())\n",
    "    \n",
    "    return syst.finalized()"
   ]
  },
  {
   "cell_type": "code",
   "execution_count": null,
   "metadata": {},
   "outputs": [],
   "source": [
    "syst_pars = {'Ll' : 1000,\n",
    "           'Lr' : 1000,\n",
    "           'Lm' : 250,\n",
    "           'Ly' : 25,\n",
    "           'a' :  25}\n",
    "\n",
    "params = dict(**constants,\n",
    "              g_factor = 10,\n",
    "              mu = .18,\n",
    "              alpha = 28,\n",
    "              Delta = 0.18,\n",
    "              B = 0.4,\n",
    "              phase = 1*np.pi)\n",
    "\n",
    "syst = make_sns_system(**syst_pars)\n"
   ]
  },
  {
   "cell_type": "code",
   "execution_count": null,
   "metadata": {},
   "outputs": [],
   "source": [
    "smat = kwant.smatrix(syst, energy=0.18, params=params)"
   ]
  },
  {
   "cell_type": "code",
   "execution_count": null,
   "metadata": {},
   "outputs": [],
   "source": [
    "smat.num_propagating(0)"
   ]
  },
  {
   "cell_type": "code",
   "execution_count": null,
   "metadata": {},
   "outputs": [],
   "source": [
    "16*(constants['hbar']**2*np.pi**2/(2*constants['m_eff']*(2*250)**2))/(2*10*constants['mu_B'])\n"
   ]
  },
  {
   "cell_type": "code",
   "execution_count": null,
   "metadata": {},
   "outputs": [],
   "source": [
    "try:\n",
    "    runner.cancel()\n",
    "except:\n",
    "    pass\n",
    "\n",
    "\n",
    "runner = adaptive.Runner(bl, executor=client)\n",
    "runner.live_info()\n",
    "\n",
    "bl.start_periodic_saver(runner, folder_path,interval=1800)"
   ]
  },
  {
   "cell_type": "code",
   "execution_count": null,
   "metadata": {},
   "outputs": [],
   "source": [
    "kf = np.sqrt(2*360*constants['m_eff'])/constants['hbar']\n",
    "vf = constants['hbar']*kf/constants['m_eff'] #+ params['alpha']/constants['hbar']\n",
    "print(vf*1e-9/1e5)"
   ]
  },
  {
   "cell_type": "code",
   "execution_count": null,
   "metadata": {},
   "outputs": [],
   "source": [
    "def thouless_in_tesla(W):\n",
    "    \n",
    "#     kf = np.sqrt(2*params['mu']*constants['m_eff'])/constants['hbar']\n",
    "#     vf = constants['hbar']*kf/constants['m_eff'] + params['alpha']/constants['hbar']\n",
    "#     E_T = np.pi/2*constants['hbar']*vf/W\n",
    "    E_T = np.pi**2 * constants['hbar']**2 / (2 * constants['m_eff'] *(2*W)**2)\n",
    "    return E_T/2/params['g_factor']/constants['mu_B']\n",
    "plt_dict = {learner.pars: (learner.plot(n=100, tri_alpha=0.3).redim(x='B (T)', y = 'Phase').relabel(\n",
    "            f'B_T = {thouless_in_tesla(learner.pars[0]):.4}'))\n",
    "            for learner in bl.learners}\n",
    "int_plot = hv.plotting.plot.HoloMap(plt_dict, kdims=['Wn'])\n",
    "\n",
    "int_plot"
   ]
  },
  {
   "cell_type": "markdown",
   "metadata": {},
   "source": [
    "# Thouless calculation"
   ]
  },
  {
   "cell_type": "code",
   "execution_count": null,
   "metadata": {},
   "outputs": [],
   "source": [
    "%autoreload"
   ]
  },
  {
   "cell_type": "code",
   "execution_count": null,
   "metadata": {},
   "outputs": [],
   "source": [
    "def calcTransmission(energy):\n",
    "    import cmath\n",
    "    import numpy as np\n",
    "    import kwant\n",
    "    import scipy.constants\n",
    "    import sns_system\n",
    "    \n",
    "    constants = dict(\n",
    "    m_eff=0.023 * scipy.constants.m_e / (scipy.constants.eV * 1e-3) / 1e18,  # effective mass in kg, \n",
    "    hbar=scipy.constants.hbar / (scipy.constants.eV * 1e-3),\n",
    "    current_unit=scipy.constants.k * scipy.constants.e / scipy.constants.hbar * 1e9,  # to get nA\n",
    "    mu_B=scipy.constants.physical_constants['Bohr magneton'][0] / (scipy.constants.eV * 1e-3),\n",
    "    exp=cmath.exp,\n",
    "    cos=cmath.cos,\n",
    "    sin=cmath.sin\n",
    "   )\n",
    "    syst_pars = {'Ll' : 1000,\n",
    "               'Lr' : 1000,\n",
    "               'Lm' : 250,\n",
    "               'Ly' : 4000,\n",
    "               'a' :  50}\n",
    "\n",
    "#     params = dict(**constants,\n",
    "#                   g_factor = 10,\n",
    "#                   mu = .18,\n",
    "#                   alpha = 28,\n",
    "#                   Delta = 0.18,\n",
    "#                   B = 0.4,\n",
    "#                   phase = 1*np.pi)\n",
    "    params = dict(**constants,\n",
    "                  g_factor = 10,\n",
    "                  mu = .18,\n",
    "                  alpha = 28,\n",
    "                  Delta = 0.18,\n",
    "                  B = 0.4,\n",
    "                  phase = energy*np.pi)\n",
    "    \n",
    "    syst = sns_system.make_junction(**syst_pars)\n",
    "    \n",
    "    smat = kwant.smatrix(syst, params = params, energy = .36)\n",
    "    return smat.transmission(1, 0)\n",
    "\n",
    "learner = adaptive.Learner1D(calcTransmission, bounds=(-4,4))"
   ]
  },
  {
   "cell_type": "code",
   "execution_count": null,
   "metadata": {},
   "outputs": [],
   "source": [
    "try:\n",
    "    runner.cancel()\n",
    "except:\n",
    "    pass\n",
    "\n",
    "runner = adaptive.Runner(learner, executor=client)\n",
    "runner.live_info()"
   ]
  },
  {
   "cell_type": "code",
   "execution_count": null,
   "metadata": {},
   "outputs": [],
   "source": [
    "learner.plot()"
   ]
  },
  {
   "cell_type": "code",
   "execution_count": null,
   "metadata": {},
   "outputs": [],
   "source": []
  },
  {
   "cell_type": "code",
   "execution_count": null,
   "metadata": {},
   "outputs": [],
   "source": [
    "smat.conductance_matrix()"
   ]
  },
  {
   "cell_type": "code",
   "execution_count": null,
   "metadata": {},
   "outputs": [],
   "source": []
  }
 ],
 "metadata": {
  "language_info": {
   "name": "python",
   "pygments_lexer": "ipython3"
  }
 },
 "nbformat": 4,
 "nbformat_minor": 2
}
