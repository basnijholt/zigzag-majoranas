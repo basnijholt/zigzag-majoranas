{
 "cells": [
  {
   "cell_type": "code",
   "execution_count": null,
   "metadata": {},
   "outputs": [],
   "source": [
    "%load_ext autoreload\n",
    "import os, sys\n",
    "sys.path.append(os.path.abspath('..'))\n",
    "\n",
    "from IPython.display import Markdown\n",
    "from IPython.display import Latex\n",
    "import adaptive\n",
    "import dependencies.adaptive_tools as adaptive_tools\n",
    "adaptive.notebook_extension()\n",
    "import holoviews as hv\n",
    "from itertools import product\n",
    "import matplotlib.pyplot as plt\n",
    "import numpy as np\n",
    "import cmath\n",
    "import scipy.constants\n",
    "from multiprocessing import Pool\n",
    "from functools import partial\n",
    "import kwant\n",
    "\n",
    "import supercurrent\n",
    "import symmetry\n",
    "import spectrum\n",
    "import topology\n",
    "import sns_system\n",
    "import distributed_sns\n",
    "import hpc05\n",
    "import plotting_results\n",
    "from copy import copy\n",
    "import warnings\n",
    "\n",
    "def print_table(table):\n",
    "    n = len(table)\n",
    "    m = len(table[0])\n",
    "    \n",
    "    res = '| '\n",
    "    for col in range(m):\n",
    "        res += table[0][col] + ' |'\n",
    "    res += '\\n|' + m * '----|'\n",
    "    \n",
    "    \n",
    "    for row in range(1, n):\n",
    "        assert(len(table[row]) == m)\n",
    "        res += '\\n| '\n",
    "        for col in range(m):\n",
    "            res += str(table[row][col]) + ' |'\n",
    "            \n",
    "    return Markdown(res)\n",
    "\n",
    "def print_latex(*strings):\n",
    "    _str = ''\n",
    "    for string in strings:\n",
    "        _str += string\n",
    "    \n",
    "    return Latex(_str)\n",
    "\n",
    "constants = dict(\n",
    "    m_eff=0.023 * scipy.constants.m_e / (scipy.constants.eV * 1e-3) / 1e18,  # effective mass in kg, \n",
    "    hbar=scipy.constants.hbar / (scipy.constants.eV * 1e-3),\n",
    "    e = scipy.constants.e,\n",
    "    current_unit=scipy.constants.k * scipy.constants.e / scipy.constants.hbar * 1e9,  # to get nA\n",
    "    mu_B=scipy.constants.physical_constants['Bohr magneton'][0] / (scipy.constants.eV * 1e-3),\n",
    "    k=scipy.constants.k / (scipy.constants.eV * 1e-3),\n",
    "    exp=cmath.exp,\n",
    "    cos=cmath.cos,\n",
    "    sin=cmath.sin\n",
    "   )"
   ]
  },
  {
   "cell_type": "code",
   "execution_count": null,
   "metadata": {},
   "outputs": [],
   "source": [
    "hpc05.kill_remote_ipcluster()"
   ]
  },
  {
   "cell_type": "code",
   "execution_count": null,
   "metadata": {},
   "outputs": [],
   "source": [
    "client, dview, lview = hpc05.start_remote_and_connect(100, folder='~/two_dim_majoranas', timeout=1800)"
   ]
  },
  {
   "cell_type": "markdown",
   "metadata": {},
   "source": [
    "# Base system parameters\n",
    "\n",
    "## System parameters\n",
    "| Variable | Description | Quantity | Unit |\n",
    "|------------------------------------------|\n",
    "| Ll | Width of left superconductor | Length | nm |\n",
    "| Lr | Width of right superconductor | Length | nm |\n",
    "| Lm | Width of normal section | Length | nm |\n",
    "| Ly | Height of system | Length | nm |\n",
    "| a | Lattice spacing | Length | nm |\n",
    "\n",
    "## Basic material parameters\n",
    "| Variable | Description | Quantity | Unit |\n",
    "|------------------------------------------|\n",
    "| g_factor | Magnetic g factor of material | dimensionless | - |\n",
    "| mu | Chemical potential | Energy | meV |\n",
    "| alpha | Spin orbit coupling strength | spin-momentum coupling strength | meV nm |\n",
    "| Delta | Superconducting gap| Energy | meV |\n",
    "| B | In-plane magnetic field strength along stripe direction(y) | Magnetic field | T |\n",
    "| phase | Relative phase between superconductors | Radians | - |\n",
    "\n",
    "# Standard Parameters"
   ]
  },
  {
   "cell_type": "code",
   "execution_count": null,
   "metadata": {},
   "outputs": [],
   "source": [
    "syst_pars_standard =  {'Ll' : 500,\n",
    "                       'Lr' : 500,\n",
    "                       'Lm' : 250,\n",
    "                       'Ly' : 4000,\n",
    "                       'a' :  10}\n",
    "\n",
    "params_raw_standard = dict(g_factor = 10,\n",
    "                           mu = 1,\n",
    "                           alpha = 28,\n",
    "                           Delta = .18,\n",
    "                           B = .2,\n",
    "                          phase = 1,\n",
    "                          T=0.6)\n",
    "\n",
    "params_standard = dict(**constants,\n",
    "                       **params_raw_standard)"
   ]
  },
  {
   "cell_type": "markdown",
   "metadata": {},
   "source": [
    "# Build system with leads along stripe direction"
   ]
  },
  {
   "cell_type": "code",
   "execution_count": null,
   "metadata": {},
   "outputs": [],
   "source": [
    "syst = sns_system.make_sns_system(**syst_pars_standard)\n",
    "\n",
    "_ = plotting_results.plot_syst(syst_pars_standard, params_standard, 250, num_lead_cells=4)\n",
    "_ = plt.xlabel('x')\n",
    "_ = plt.ylabel('y')"
   ]
  },
  {
   "cell_type": "markdown",
   "metadata": {},
   "source": [
    "# Calculation of Thouless Energy\n",
    "\\begin{align}\n",
    "    E_\\text{Th} = TN\\delta\n",
    "    , && \\delta = \\frac{\\hbar^2 \\pi^2}\n",
    "                  {2 m_e \\left( 2 L_m \\right)^2}\n",
    "\\end{align}\n",
    "\n",
    "Where $T$ is the transmission of the junction (for $\\mu$ small 1, see transmission notebook), and $N$ is the number of transverse modes, which is to be calculated."
   ]
  },
  {
   "cell_type": "code",
   "execution_count": null,
   "metadata": {},
   "outputs": [],
   "source": [
    "def E_thouless(_syst_pars, _params, assume_unit_transmission=True):\n",
    "    # delta\n",
    "    def delta(W):\n",
    "        return (constants['hbar']**2*np.pi**2/(2*constants['m_eff']*(2*W)**2))\n",
    "\n",
    "    params = _params.copy()\n",
    "    params['Delta'] = 0\n",
    "    \n",
    "    # Transmission through junction\n",
    "    syst_pars = _syst_pars.copy()\n",
    "    syst_pars['Ll'] = syst_pars['Lr'] = 0\n",
    "    \n",
    "    if assume_unit_transmission:\n",
    "        T=1\n",
    "    else:\n",
    "        syst_junction = sns_system.make_junction(**syst_pars)\n",
    "        smat_junction = kwant.smatrix(syst_junction, energy=0, params=params)\n",
    "        T = smat_junction.transmission(0, 1) / smat_junction.num_propagating(0)\n",
    "\n",
    "    \n",
    "    # Number of transversal modes\n",
    "    syst_pars['Ly'] = syst_pars['a']\n",
    "    \n",
    "#     syst = sns_system.make_sns_system(**syst_pars)\n",
    "#     lead = syst.leads[0]\n",
    "#     modes = lead.modes(params=params)[0]\n",
    "#     N = modes.block_nmodes[0] \n",
    "    kf = np.sqrt(2*constants['m_eff']*params['mu'])/constants['hbar']\n",
    "    g_s = 8\n",
    "    N = g_s * np.ceil(syst_pars['Lm']*kf/np.pi)\n",
    "    \n",
    "    return (T, T * N * delta(syst_pars['Lm']))"
   ]
  },
  {
   "cell_type": "markdown",
   "metadata": {},
   "source": [
    "# Set of junction widths"
   ]
  },
  {
   "cell_type": "code",
   "execution_count": null,
   "metadata": {},
   "outputs": [],
   "source": [
    "Lm = [250, 500, 1000, 2000, 5000]"
   ]
  },
  {
   "cell_type": "markdown",
   "metadata": {},
   "source": [
    "#### Calculate Thouless Energy for range of junction widths:"
   ]
  },
  {
   "cell_type": "code",
   "execution_count": null,
   "metadata": {},
   "outputs": [],
   "source": [
    "Eth = dict()\n",
    "p = Pool(len(Lm))\n",
    "\n",
    "def f(Lm):\n",
    "    _params = params_standard.copy()\n",
    "    _params['B'] = 0.1\n",
    "    \n",
    "    _syst_pars = syst_pars_standard.copy()\n",
    "    \n",
    "    _syst_pars['a'] = 25\n",
    "    _syst_pars['Lm'] = Lm\n",
    "    return E_thouless(_syst_pars, _params)\n",
    "\n",
    "res = p.map(f, Lm)\n",
    "p.close()\n",
    "\n",
    "Eth = dict(zip(Lm, res))"
   ]
  },
  {
   "cell_type": "code",
   "execution_count": null,
   "metadata": {},
   "outputs": [],
   "source": [
    "table"
   ]
  },
  {
   "cell_type": "code",
   "execution_count": null,
   "metadata": {},
   "outputs": [],
   "source": [
    "table = [[r'$L_\\text{m}$', r'$E_\\text{Th}$']]\n",
    "for _Lm in Eth:\n",
    "    table.append([_Lm, f'{Eth[_Lm][1]:.3}'])\n",
    "    \n",
    "print_table(table)"
   ]
  },
  {
   "cell_type": "code",
   "execution_count": null,
   "metadata": {},
   "outputs": [],
   "source": [
    "learners = []\n",
    "\n",
    "syst_pars = syst_pars_standard.copy()\n",
    "params_raw = params_raw_standard.copy()\n",
    "params = params_standard.copy()\n",
    "\n",
    "hash_syst = hash(tuple(syst_pars))\n",
    "hash_pars = hash(tuple(params_raw))\n",
    "folder_path = hex(abs(hash_syst + hash_pars))\n",
    "def loss(ip):\n",
    "    from adaptive.learner.learner2D import default_loss, areas\n",
    "    adaptive.learner.learner2D.np\n",
    "    loss = default_loss(ip)\n",
    "    dim = areas(ip).shape[0]\n",
    "    return 1e8 * loss / dim if dim < 500 else loss    \n",
    "\n",
    "for _Lm in Lm:\n",
    "    syst_pars['Lm'] = _Lm\n",
    "    \n",
    "    f = partial(distributed_sns.f_adaptive, keys=('B', 'phase'), params=copy(params), \n",
    "            syst_pars=copy(syst_pars))\n",
    "    learner = adaptive_tools.Learner2D(f, bounds=[(0, 1.2), (-1.0*np.pi, 1.0*np.pi)], loss_per_triangle=loss)\n",
    "    \n",
    "    learner.pars = tuple([_Lm])\n",
    "    learners.append(learner)\n",
    "\n",
    "\n",
    "bl = adaptive_tools.BalancingLearner(learners)\n",
    "try:\n",
    "#     bl.load(folder_path)\n",
    "    bl.load('0x33062dfc10a36a67')\n",
    "except:\n",
    "    pass\n",
    "\n",
    "try:\n",
    "    runner.cancel()\n",
    "except:\n",
    "    pass\n",
    "\n",
    "\n",
    "# runner = adaptive.Runner(bl, executor=client)\n",
    "# bl.start_periodic_saver(runner, folder_path, interval=60)\n",
    "# runner.live_info()"
   ]
  },
  {
   "cell_type": "code",
   "execution_count": null,
   "metadata": {},
   "outputs": [],
   "source": [
    "plot_dict = {Lm[i] : bl.learners[i].plot(n=500) for i in range(len(Lm))}\n",
    "\n",
    "\n",
    "def B_to_Ez(B):\n",
    "    return 2*B*params['g_factor']*constants['mu_B']\n",
    "\n",
    "for _Lm in plot_dict:\n",
    "    _Eth = Eth[_Lm][1]\n",
    "    _bnds = plot_dict[_Lm].data[('Image', 'I')].bounds.lbrt()\n",
    "    bnds = list(_bnds)\n",
    "    bnds[0] = B_to_Ez(_bnds[0])\n",
    "    bnds[2] = B_to_Ez(_bnds[2])\n",
    "    bnds = ((bnds[0], bnds[1]), (bnds[2], bnds[3]))\n",
    "    \n",
    "    plot_dict[_Lm].data[('Image', 'I')].bounds.set(bnds)\n",
    "    \n",
    "    N_ticks = int(bnds[1][0]//_Eth)\n",
    "    \n",
    "    for n in range(1, N_ticks+1):\n",
    "        plot_dict[_Lm] *= hv.Curve(([n*_Eth, n*_Eth], [_bnds[1], _bnds[3]]))\n",
    "\n",
    "hv.HoloMap(plot_dict, kdims='Lm').redim(x='Ez', y='phase')\n"
   ]
  },
  {
   "cell_type": "markdown",
   "metadata": {},
   "source": [
    "# Super current"
   ]
  },
  {
   "cell_type": "markdown",
   "metadata": {},
   "source": [
    "### Define current operator"
   ]
  },
  {
   "cell_type": "code",
   "execution_count": null,
   "metadata": {},
   "outputs": [],
   "source": [
    "params = params_standard.copy()\n",
    "params['B'] = 0.45\n",
    "\n",
    "syst_pars = syst_pars_standard.copy()\n",
    "syst_pars['a'] = 12.5\n",
    "syst_pars['Lm'] = 500\n",
    "syst_pars['Ly'] = 1000\n",
    "\n",
    "B_list = np.linspace(0, 2*Eth[syst_pars['Lm']][1], 21)\n",
    "phase_list = np.linspace(-np.pi,np.pi, 11)\n",
    "syst = sns_system.make_sns_system(**syst_pars)"
   ]
  },
  {
   "cell_type": "code",
   "execution_count": null,
   "metadata": {},
   "outputs": [],
   "source": [
    "B_to_Ez(.45)"
   ]
  },
  {
   "cell_type": "code",
   "execution_count": null,
   "metadata": {},
   "outputs": [],
   "source": [
    "supercurrent.fermi_dirac(0.15, params)"
   ]
  },
  {
   "cell_type": "code",
   "execution_count": null,
   "metadata": {},
   "outputs": [],
   "source": [
    "I=dict()\n",
    "pf=[]\n",
    "gap=[]\n",
    "for (idy, B) in enumerate(B_list):\n",
    "    I[B] = list()\n",
    "    for (idx, phase) in enumerate(phase_list):\n",
    "        _params = params.copy()\n",
    "        _params['phase'] = phase\n",
    "        _params['B'] = B\n",
    "        I[B].append(supercurrent.current_kpm_non_projected(syst_pars,\n",
    "                                                        _params,\n",
    "                                                        80,\n",
    "                                                        _params['Delta']/2,\n",
    "                                                        lview,\n",
    "                                                        2))\n",
    "    \n",
    "#     _pf = topology.get_pfaffian(syst, _params)\n",
    "#     pf.append(_pf)\n",
    "    \n",
    "    print(f'%{idx} ',end='')"
   ]
  },
  {
   "cell_type": "code",
   "execution_count": null,
   "metadata": {},
   "outputs": [],
   "source": [
    "plot_dict = {B/Eth[250][0] : \n",
    "             hv.Curve((phase_list, np.sum(_I, axis=1)))*\n",
    "             hv.Curve((phase_list, f[i](phase_list)))\n",
    "             for i, (B, _I) in enumerate(I.items())}\n",
    "hv.HoloMap(plot_dict, kdims='B')"
   ]
  },
  {
   "cell_type": "code",
   "execution_count": null,
   "metadata": {},
   "outputs": [],
   "source": [
    "f = []\n",
    "amplitude = []\n",
    "g = lambda x, a, f, phi, o: a*np.sin(f*(x - phi)) + o\n",
    "for b in B_list:\n",
    "    amplitude.append(par[0])\n",
    "    par, _ = scipy.optimize.curve_fit(g, phase_list, np.sum(I[b], axis=1))\n",
    "    f.append(partial(g, a=par[0], f=par[1], phi=par[2], o=par[3]))"
   ]
  },
  {
   "cell_type": "code",
   "execution_count": null,
   "metadata": {},
   "outputs": [],
   "source": [
    "Ic = []\n",
    "for b,i in I.items():\n",
    "    Ic.append(max(np.sum(i, axis=1)))"
   ]
  },
  {
   "cell_type": "code",
   "execution_count": null,
   "metadata": {},
   "outputs": [],
   "source": [
    "amplitude[0]"
   ]
  },
  {
   "cell_type": "code",
   "execution_count": null,
   "metadata": {},
   "outputs": [],
   "source": [
    "(\n",
    "hv.Curve((B_list, Ic))*\n",
    "hv.Curve((B_list[:-1], np.abs(amplitude[1:])))\n",
    ")"
   ]
  },
  {
   "cell_type": "code",
   "execution_count": null,
   "metadata": {},
   "outputs": [],
   "source": [
    "hv.Curve((phase_list/np.pi, np.sum(I, axis=1)))"
   ]
  },
  {
   "cell_type": "code",
   "execution_count": null,
   "metadata": {},
   "outputs": [],
   "source": [
    "hv.Curve((phase_list/np.pi, np.sum(I, axis=1)))"
   ]
  },
  {
   "cell_type": "code",
   "execution_count": null,
   "metadata": {},
   "outputs": [],
   "source": [
    "%lprun -f supercurrent.current_kpm_non_projected supercurrent.current_kpm_non_projected(syst_pars, _params, 60, _params['Delta']/2, lview, 2)"
   ]
  },
  {
   "cell_type": "code",
   "execution_count": null,
   "metadata": {},
   "outputs": [],
   "source": [
    "%%output size=200\n",
    "(\n",
    "hv.Curve((phase_list/np.pi, np.sum(I_threight_eth, axis=1)),\n",
    "         label='I_threight_eth') *    \n",
    "hv.Curve((phase_list/np.pi, np.sum(I_qrt_eth, axis=1)),\n",
    "         label='I_qrt_eth') *\n",
    "hv.Curve((phase_list/np.pi, np.sum(I_half_eth, axis=1)),\n",
    "         label='I_half_eth') *\n",
    "hv.Curve((phase_list/np.pi, np.sum(I_half_eth_more_e, axis=1)),\n",
    "         label='I_half_eth_more_e') *\n",
    "hv.Curve((phase_list/np.pi, np.sum(I_eth, axis=1)),\n",
    "         label='I_eth')\n",
    ")"
   ]
  },
  {
   "cell_type": "code",
   "execution_count": null,
   "metadata": {},
   "outputs": [],
   "source": []
  }
 ],
 "metadata": {
  "language_info": {
   "name": "python",
   "pygments_lexer": "ipython3"
  }
 },
 "nbformat": 4,
 "nbformat_minor": 2
}
