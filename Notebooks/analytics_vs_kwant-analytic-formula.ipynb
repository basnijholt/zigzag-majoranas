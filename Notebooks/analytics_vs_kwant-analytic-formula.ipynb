{
 "cells": [
  {
   "cell_type": "code",
   "execution_count": null,
   "metadata": {},
   "outputs": [],
   "source": [
    "import os, sys\n",
    "sys.path.append(os.path.abspath('../../two_dim_majoranas/'))\n",
    "\n",
    "import adaptive\n",
    "import holoviews as hv\n",
    "adaptive.notebook_extension()"
   ]
  },
  {
   "cell_type": "code",
   "execution_count": null,
   "metadata": {},
   "outputs": [],
   "source": [
    "import cmath\n",
    "import math\n",
    "import operator\n",
    "from types import SimpleNamespace\n",
    "import functools\n",
    "\n",
    "import kwant\n",
    "import numpy as np\n",
    "cot = lambda x: 1 / np.tan(x)\n",
    "\n",
    "def nu_arg(p):\n",
    "    num = p.E_z * np.exp(1j * p.theta) - 1j * p.alpha * p.k_x\n",
    "    denom = p.E_z**2 + p.alpha * p.k_x * (p.alpha * p.k_x - 2 * p.E_z * np.sin(p.theta))\n",
    "    return num / np.sqrt(denom)\n",
    "\n",
    "def omega(p, j, sign):\n",
    "    op = {-1: operator.sub,\n",
    "          +1: operator.add}[sign]\n",
    "    return 0.25 * op(gamma(p, j), delta(p, j))\n",
    "\n",
    "def gamma(p, j):\n",
    "    k = k_j(p, j)\n",
    "    x = 1j * k * np.tan(p.W * k / 2)\n",
    "    return (q(p) + x) / (q(p) - x)\n",
    "\n",
    "def delta(p, j):\n",
    "    k = k_j(p, j)\n",
    "    x = 1j * k * cot(p.W * k / 2)\n",
    "    return (q(p) - x) / (q(p) + x)\n",
    "\n",
    "def beta(p, sign):\n",
    "    w_1 = omega(p, 1, sign)\n",
    "    w_2 = omega(p, 2, sign)\n",
    "    nu = nu_arg(p)\n",
    "    beta = np.array([\n",
    "        [nu * (w_1 - w_2), (w_1 + w_2)],\n",
    "        [-(w_1 + w_2), nu.conj() * (w_2 - w_1)]\n",
    "    ])\n",
    "    return beta\n",
    "\n",
    "def S(p):\n",
    "    if isinstance(p, dict):\n",
    "        p = SimpleNamespace(**p)\n",
    "    p.E_z = 0.5 * p.mu_B * p.g * p.B\n",
    "    r_ll = beta(p, +1)\n",
    "    t_rl = np.exp(-1j * q(p) * p.W) * beta(p, -1)\n",
    "    t_lr = np.exp(-1j * q(p) * p.W) * beta(p, -1)\n",
    "    t_rr = np.exp(-2j * q(p) * p.W) * beta(p, +1)\n",
    "\n",
    "    S = np.block([[r_ll, t_rl],\n",
    "                  [t_lr, t_rr]])\n",
    "    return S\n",
    "\n",
    "def q(p):\n",
    "    return np.sqrt((2 * p.m_eff / p.hbar**2) * p.mu_n - p.k_x**2)\n",
    "\n",
    "def k_j(p, j):\n",
    "    op = {1: operator.sub,\n",
    "          2: operator.add}[j]\n",
    "    p.E_z = 0.5 * p.mu_B * p.g * p.B\n",
    "    sqrt_term = np.sqrt(\n",
    "        p.E_z**2\n",
    "        - 2 * p.alpha * p.E_z * np.sin(p.theta) * p.k_x + p.alpha**2 * p.k_x**2)\n",
    "    k_sq = (2 * p.m_eff / p.hbar**2) * op(p.mu_n, sqrt_term) - p.k_x**2\n",
    "    return np.sqrt(k_sq)"
   ]
  },
  {
   "cell_type": "markdown",
   "metadata": {},
   "source": [
    "# B"
   ]
  },
  {
   "cell_type": "code",
   "execution_count": null,
   "metadata": {},
   "outputs": [],
   "source": [
    "import scipy.constants\n",
    "constants = dict(\n",
    "    m_eff=0.02 * scipy.constants.m_e / (scipy.constants.eV * 1e-3) / 1e18,\n",
    "    hbar=scipy.constants.hbar / (scipy.constants.eV * 1e-3),\n",
    "    mu_B=scipy.constants.physical_constants['Bohr magneton'][0] / (\n",
    "        scipy.constants.eV * 1e-3))\n",
    "\n",
    "params = dict(g=26,\n",
    "              mu_n=40,\n",
    "              alpha=20,\n",
    "              B=0.4,\n",
    "              theta=np.arctan(1/4),\n",
    "              k_x=0.0,\n",
    "              W=200,\n",
    "              phi=np.pi,\n",
    "              **constants)\n",
    "\n",
    "k_F = lambda p: np.sqrt(p['mu_n'] * (2 * p['m_eff'])) / p['hbar']"
   ]
  },
  {
   "cell_type": "code",
   "execution_count": null,
   "metadata": {},
   "outputs": [],
   "source": [
    "def a_min_original(z_x, z_y, W):\n",
    "    theta = np.arctan(4 * z_y / z_x)\n",
    "    crossing_point = W / np.cos(theta)\n",
    "    if z_y < crossing_point / 2:\n",
    "        return np.nan\n",
    "    a = z_x / 2\n",
    "    b = z_y * 2\n",
    "    c = np.sqrt(W**2 + (b/a)**2 * W**2)\n",
    "    D = np.sqrt(a**2 + (b + c)**2)\n",
    "    xprime = np.sqrt(D**2 - W**2)\n",
    "    return W / xprime\n",
    "\n",
    "def a_min(z_x, z_y, W):\n",
    "    theta = np.arctan(4 * z_y / z_x)\n",
    "    crossing_point = W / np.cos(theta)\n",
    "    if z_y < crossing_point / 2:\n",
    "        return np.nan\n",
    "    a = z_x / 2\n",
    "    b = z_y * 2\n",
    "    c = np.sqrt(W**2 + (b/a)**2 * W**2)\n",
    "    D = np.sqrt(a**2 + (b - c)**2)\n",
    "    xprime = np.sqrt(D**2 - W**2)\n",
    "    return W / xprime"
   ]
  },
  {
   "cell_type": "code",
   "execution_count": null,
   "metadata": {},
   "outputs": [],
   "source": [
    "def tan_a(params):\n",
    "    hbar = params['hbar']\n",
    "    m_eff = params['m_eff']\n",
    "    alpha = params['alpha']\n",
    "    Ez = params['g']*params['mu_B']*params['B']\n",
    "    theta = params['theta']\n",
    "    kx = params['k_x']\n",
    "    \n",
    "    p = SimpleNamespace(**params)\n",
    "    ky1 = k_j(p, 1)\n",
    "    ky2 = k_j(p, 2)\n",
    "    \n",
    "    ratio_1 = (hbar**2 * ky1 / \n",
    "     ((alpha*m_eff*(alpha*kx - Ez*np.sin(theta)))/\n",
    "      np.sqrt(Ez**2 + alpha*kx*(alpha*kx - 2*Ez*np.sin(theta)))\n",
    "      + hbar**2*kx)\n",
    "    )\n",
    "    ratio_2 = (hbar**2 * ky2 / \n",
    "     (-(alpha*m_eff*(alpha*kx - Ez*np.sin(theta)))/\n",
    "      np.sqrt(Ez**2 + alpha*kx*(alpha*kx - 2*Ez*np.sin(theta)))\n",
    "      + hbar**2*kx)\n",
    "    )\n",
    "    \n",
    "    return ratio_1, ratio_2\n",
    "    \n",
    "def a_max(kx):\n",
    "    return tan_a(dict(params, k_x=kx))\n",
    "\n",
    "def a_max_2(kx):\n",
    "    return np.min(np.abs(tan_a(dict(params, k_x=kx))))\n",
    "\n",
    "def a_max_fzero(kx):\n",
    "    a_m = a_max(kx)\n",
    "    a_p, a_n = (-10.0, 10.0)\n",
    "    for a in a_m:\n",
    "        if a < 0:\n",
    "            a_n = a\n",
    "        if a >= 0:\n",
    "            a_p = a\n",
    "    return min(np.abs((max(a_n, -10.0), min(a_p, 10.0))))\n",
    "\n",
    "#     return min(np.min(a_max(kx)), 1)"
   ]
  },
  {
   "cell_type": "code",
   "execution_count": null,
   "metadata": {},
   "outputs": [],
   "source": [
    "a_s = [(k, np.min(tan_a(dict(params, k_x=k)))) for k in np.linspace(0.01, .32, 10000)]"
   ]
  },
  {
   "cell_type": "code",
   "execution_count": null,
   "metadata": {},
   "outputs": [],
   "source": [
    "a_min(1000,200,100)"
   ]
  },
  {
   "cell_type": "code",
   "execution_count": null,
   "metadata": {},
   "outputs": [],
   "source": [
    "tan_a(dict(params, k_x=.23))"
   ]
  },
  {
   "cell_type": "code",
   "execution_count": null,
   "metadata": {},
   "outputs": [],
   "source": [
    "def get_cutoff(z_x, z_y, W, params, **_):\n",
    "    a_m = a_min(z_x, z_y, W)\n",
    "    \n",
    "    k_F = np.sqrt(params['mu_n'] * (2 * params['m_eff'])) / params['hbar']\n",
    "    \n",
    "    def f(k):\n",
    "        return abs(np.min(tan_a(dict(params, k_x=k))) - a_m)\n",
    "    \n",
    "#     return scipy.optimize.fixed_point(f, k_F/2, xtol=1e-6, maxiter=50)[0]\n",
    "    k_c, e = scipy.optimize.fmin(f, k_F/2, ftol=1e-7, xtol=1e-6, full_output=1, disp=0)[:2]\n",
    "    if e < 1e-3:\n",
    "        return k_c\n",
    "    else:\n",
    "        return np.inf"
   ]
  },
  {
   "cell_type": "code",
   "execution_count": null,
   "metadata": {},
   "outputs": [],
   "source": [
    "get_cutoff(1000, 110, 200, params)"
   ]
  },
  {
   "cell_type": "markdown",
   "metadata": {},
   "source": [
    "# Full kwant system"
   ]
  },
  {
   "cell_type": "code",
   "execution_count": null,
   "metadata": {},
   "outputs": [],
   "source": [
    "import sns_system, spectrum"
   ]
  },
  {
   "cell_type": "code",
   "execution_count": null,
   "metadata": {},
   "outputs": [],
   "source": [
    "params"
   ]
  },
  {
   "cell_type": "code",
   "execution_count": null,
   "metadata": {},
   "outputs": [],
   "source": [
    "params = dict(params, W=200, theta = np.arctan(1/20), mu_n=40)"
   ]
  },
  {
   "cell_type": "code",
   "execution_count": null,
   "metadata": {},
   "outputs": [],
   "source": [
    "a = 1\n",
    "syst, _, _ = sns_system.make_system(L_m=params['W'],\n",
    "                              L_x=a,\n",
    "                              L_sc_up=1600,\n",
    "                              L_sc_down=1600,\n",
    "                              z_x=a,\n",
    "                              z_y=0,\n",
    "                              a=a,\n",
    "                              shape=None,\n",
    "                              transverse_soi=True,\n",
    "                              mu_from_bottom_of_spin_orbit_bands=False,\n",
    "                              k_x_in_sc=True,\n",
    "                              wraparound=True,\n",
    "                              current=False,\n",
    "                              ns_junction=False)"
   ]
  },
  {
   "cell_type": "code",
   "execution_count": null,
   "metadata": {},
   "outputs": [],
   "source": [
    "constants = dict(\n",
    "    m_eff=0.02 * scipy.constants.m_e / (scipy.constants.eV * 1e-3) / 1e18,  # effective mass in kg, \n",
    "    hbar=scipy.constants.hbar / (scipy.constants.eV * 1e-3),\n",
    "    e = scipy.constants.e,\n",
    "    current_unit=scipy.constants.k * scipy.constants.e / scipy.constants.hbar * 1e9,  # to get nA\n",
    "    mu_B=scipy.constants.physical_constants['Bohr magneton'][0] / (scipy.constants.eV * 1e-3),\n",
    "    k=scipy.constants.k / (scipy.constants.eV * 1e-3),\n",
    "    exp=cmath.exp,\n",
    "    cos=cmath.cos,\n",
    "    sin=cmath.sin\n",
    "   )\n",
    "\n",
    "pars= dict(g_factor_middle = params['g'],\n",
    "                 g_factor_left = 0,\n",
    "                 g_factor_right = 0,\n",
    "                 mu = params['mu_n'],\n",
    "                 alpha_middle = params['alpha'],\n",
    "                 alpha_left = 0,\n",
    "                 alpha_right = 0,\n",
    "                 Delta_left = 1,\n",
    "                 Delta_right = 1,\n",
    "                 B_x = np.cos(params['theta'])*params['B'], B_y = np.sin(params['theta'])*params['B'], B_z = 0,\n",
    "                 phase = params['phi'],\n",
    "                 T = 0.0,\n",
    "                 V = 0,\n",
    "                 **constants)"
   ]
  },
  {
   "cell_type": "code",
   "execution_count": null,
   "metadata": {},
   "outputs": [],
   "source": [
    "from functools import lru_cache, partial"
   ]
  },
  {
   "cell_type": "code",
   "execution_count": null,
   "metadata": {},
   "outputs": [],
   "source": [
    "def bands(kx, theta):\n",
    "    return np.min(np.abs(spectrum.calc_spectrum(syst, dict(pars, theta=theta, B_x = np.cos(theta)*params['B'], B_y = np.sin(theta)*params['B'], k_x=kx*a), k=2)[0]))\n",
    "\n",
    "def learner_bandstructures_for_ratios(ratios):\n",
    "    cdims = []\n",
    "    learners = []\n",
    "    \n",
    "    k_F = np.sqrt(params['mu_n'] * (2 * params['m_eff'])) / params['hbar']\n",
    "    \n",
    "    for ratio in ratios:\n",
    "        \n",
    "        theta = np.arctan(4/ratio)\n",
    "        \n",
    "\n",
    "        l = adaptive.Learner1D(partial(bands, theta=theta), [0,1.1*k_F], loss_per_interval=adaptive.learner.learner1D.triangle_loss)\n",
    "        \n",
    "        learners.append(l)\n",
    "        cdims.append({'ratio':ratio})\n",
    "    \n",
    "    return cdims, adaptive.BalancingLearner(learners)\n",
    "\n",
    "def process_bandstructures(learner, ratios):\n",
    "    gaps = {}\n",
    "    \n",
    "    for l, ratio in zip(learner.learners, ratios):\n",
    "        data = l.data\n",
    "        min_data = np.min(data.values())\n",
    "        ks, energies = (np.array(list(data.keys())), np.array(list(data.values())))\n",
    "        idx_sort = np.argsort(ks)\n",
    "        ks = ks[idx_sort]\n",
    "        energies = energies[idx_sort]\n",
    "        \n",
    "        z_y = np.linspace(100, 400, 100)\n",
    "        W = params['W']\n",
    "        k_max = [get_cutoff(ratio*zy, zy, W, params) for zy in z_y]\n",
    "\n",
    "        temp_energies = np.interp(k_max, ks, np.minimum.accumulate(energies,0))\n",
    "        gaps[ratio] = scipy.interpolate.interp1d(z_y, temp_energies)\n",
    "        \n",
    "    return gaps\n",
    "\n",
    "def calc_gap_at_ratio_zy(ratio_zy):\n",
    "    ratio, zy = ratio_zy\n",
    "    zx = ratio*zy\n",
    "    \n",
    "    theta = np.arctan(4/ratio)\n",
    "    p = dict(pars, theta=theta, B_x=np.cos(theta)*params['B'], B_y=np.sin(theta)*params['B'])\n",
    "    \n",
    "    gap_at_k = calc_function_gap_at_k(**p)\n",
    "    \n",
    "    return gap_at_k(get_cutoff(ratio*zy, zy, p['W']))"
   ]
  },
  {
   "cell_type": "code",
   "execution_count": null,
   "metadata": {},
   "outputs": [],
   "source": [
    "ratios = np.arange(4, 20, 2)"
   ]
  },
  {
   "cell_type": "code",
   "execution_count": null,
   "metadata": {},
   "outputs": [],
   "source": [
    "cdims, bl = learner_bandstructures_for_ratios(ratios)"
   ]
  },
  {
   "cell_type": "code",
   "execution_count": null,
   "metadata": {},
   "outputs": [],
   "source": [
    "runner = adaptive.Runner(bl)\n",
    "runner.live_info()"
   ]
  },
  {
   "cell_type": "code",
   "execution_count": null,
   "metadata": {},
   "outputs": [],
   "source": [
    "bl.plot(cdims)"
   ]
  },
  {
   "cell_type": "code",
   "execution_count": null,
   "metadata": {},
   "outputs": [],
   "source": [
    "get_cutoff(6*200, 200, 200, params)"
   ]
  },
  {
   "cell_type": "code",
   "execution_count": null,
   "metadata": {},
   "outputs": [],
   "source": [
    "gaps = process_bandstructures(bl, ratios)"
   ]
  },
  {
   "cell_type": "code",
   "execution_count": null,
   "metadata": {},
   "outputs": [],
   "source": [
    "zs = np.linspace(100, 400, 200)\n",
    "plt.plot(zs, [gaps[16](zy) for zy in zs])"
   ]
  },
  {
   "cell_type": "code",
   "execution_count": null,
   "metadata": {},
   "outputs": [],
   "source": [
    "import matplotlib.pyplot as plt"
   ]
  },
  {
   "cell_type": "code",
   "execution_count": null,
   "metadata": {},
   "outputs": [],
   "source": [
    "plt.imshow((np.vstack([gaps[ratio](z_y) for ratio in ratios])), origin='upper',aspect='auto', extent=(100, 400, 18, 4))"
   ]
  },
  {
   "cell_type": "code",
   "execution_count": null,
   "metadata": {},
   "outputs": [],
   "source": [
    "ratios[::4]"
   ]
  },
  {
   "cell_type": "code",
   "execution_count": null,
   "metadata": {},
   "outputs": [],
   "source": [
    "np.arctan(4/16)/np.pi*180"
   ]
  },
  {
   "cell_type": "code",
   "execution_count": null,
   "metadata": {},
   "outputs": [],
   "source": [
    "z_y = np.linspace(100, 400, 800)\n",
    "\n",
    "fig, ax = plt.subplots(figsize=(10,10))\n",
    "\n",
    "ax.plot(z_y, np.array([gaps[ratio](z_y) for ratio in ratios[::]]).T)\n",
    "# leg = [f'{np.arctan(4/ratio) / np.pi *180:1.0f}°' for ratio in ratios[::]]\n",
    "# ax.plot([ 100.,  130.,  160.,  190.,  220.,  250.,  280.,  310.,  340.,\n",
    "#         370.,  400.], 2.8*np.array([0.096164053717058523,\n",
    "#  0.13874260960712217,\n",
    "#  0.13585347954578353,\n",
    "#  0.099580499138667372,\n",
    "#  0.093469166201382167,\n",
    "#  0.08052417206107311,\n",
    "#  0.066261262080846456,\n",
    "#  0.041305648734786947,\n",
    "#  0.014092691422112689,\n",
    "#  0.0043931150876903172,\n",
    "#  0.011926428763709411]), 'g--')\n",
    "# ax.plot([ 100.,  130.,  160.,  190.,  220.,  250.,  280.,  310.,  340.,\n",
    "#         370.,  400.], 2.4*np.array([0.092425946669338677,\n",
    "#  0.11649105929128199,\n",
    "#  0.14799343107355897,\n",
    "#  0.15993370772185847,\n",
    "#  0.11455261663865851,\n",
    "#  0.075447385605810754,\n",
    "#  0.048421488427602882,\n",
    "#  0.035321998358595612,\n",
    "#  0.028365663242647811,\n",
    "#  0.01884507146188618,\n",
    "#  0.0015759006767117254]), 'C1--')\n",
    "# ax.plot([ 100.,  130.,  160.,  190.,  220.,  250.,  280.,  310.,  340.,\n",
    "#         370.,  400.], 1.5*np.array([0.050578059634986114,\n",
    "#  0.098272143896860203,\n",
    "#  0.14649981587370489,\n",
    "#  0.19207651060250597,\n",
    "#  0.22900959052281952,\n",
    "#  0.24911963694820546,\n",
    "#  0.23027806538737206,\n",
    "#  0.16673564096206356,\n",
    "#  0.098834430414218369,\n",
    "#  0.040053066043668491,\n",
    "#  0.00044228974392221024]),'C0--')\n",
    "\n",
    "# leg.append(f'{np.arctan(4/8) / np.pi *180:1.0f}°,   simulated zigzag')\n",
    "# leg.append(f'{np.arctan(4/6) / np.pi *180:1.0f}°,   simulated zigzag')\n",
    "# leg.append(f'{np.arctan(4/4) / np.pi *180:1.0f}°,   simulated zigzag')\n",
    "plt.legend(leg);\n",
    "plt.xlabel('z_y (nm)');\n",
    "plt.ylabel('gap (E/Δ)');\n",
    "plt.lo\n",
    "# plt.savefig('qc_without_conflicted_area_w_full_zz.png', dpi=400)"
   ]
  },
  {
   "cell_type": "code",
   "execution_count": null,
   "metadata": {},
   "outputs": [],
   "source": [
    "theta = np.arctan(4/16)\n",
    "k_F = np.sqrt(params['mu_n'] * (2 * params['m_eff'])) / params['hbar']\n",
    "def bands2(kx):\n",
    "    return np.sort(spectrum.calc_spectrum(syst, dict(pars, k_x=kx*a, B_x=np.cos(theta), B_y=np.sin(theta)), k=2)[0])\n",
    "learner_real_kwant = adaptive.Learner1D(bands2, [0,1.1*k_F], loss_per_interval=adaptive.learner.learner1D.triangle_loss)"
   ]
  },
  {
   "cell_type": "code",
   "execution_count": null,
   "metadata": {},
   "outputs": [],
   "source": [
    "runner = adaptive.Runner(learner_real_kwant)\n",
    "runner.live_info()"
   ]
  },
  {
   "cell_type": "code",
   "execution_count": null,
   "metadata": {},
   "outputs": [],
   "source": [
    "a_max(.14)"
   ]
  },
  {
   "cell_type": "code",
   "execution_count": null,
   "metadata": {},
   "outputs": [],
   "source": [
    "params"
   ]
  },
  {
   "cell_type": "code",
   "execution_count": null,
   "metadata": {},
   "outputs": [],
   "source": [
    "def plot(zy):\n",
    "    k_max = get_cutoff(16*zy, zy, 200, dict(params, alpha=20,theta=np.arctan(4/16)))\n",
    "    return learner_real_kwant.plot() * hv.VLine(k_max)\n",
    "    \n",
    "hv.DynamicMap(plot, kdims=['zy']).redim.range(\n",
    "    zy=(100, 400))\n"
   ]
  },
  {
   "cell_type": "code",
   "execution_count": null,
   "metadata": {},
   "outputs": [],
   "source": [
    "data = learner_real_kwant.data\n",
    "min_data = np.min(data.values())\n",
    "ks, energies = (np.array(list(data.keys())), np.array(list(data.values())))\n",
    "idx_sort = np.argsort(ks)\n",
    "ks = ks[idx_sort]\n",
    "energies = energies[idx_sort]\n",
    "\n",
    "gap_at_k = scipy.interpolate.interp1d(ks, np.minimum.accumulate(energies,0))"
   ]
  },
  {
   "cell_type": "code",
   "execution_count": null,
   "metadata": {},
   "outputs": [],
   "source": [
    "# %%opts Curve [logy=True]\n",
    "hv.Curve((ks, gap_at_k(ks)))"
   ]
  },
  {
   "cell_type": "code",
   "execution_count": null,
   "metadata": {},
   "outputs": [],
   "source": [
    "get_cutoff(ratio*100, 100, W, params)"
   ]
  },
  {
   "cell_type": "code",
   "execution_count": null,
   "metadata": {},
   "outputs": [],
   "source": [
    "ratio = 16\n",
    "z_y = np.linspace(0, 400)\n",
    "W = 200\n",
    "k_max = [get_cutoff(ratio*zy, zy, W, params) for zy in z_y]"
   ]
  },
  {
   "cell_type": "code",
   "execution_count": null,
   "metadata": {},
   "outputs": [],
   "source": [
    "hv.Curve((z_y, gap_at_k(k_max)))"
   ]
  },
  {
   "cell_type": "markdown",
   "metadata": {},
   "source": [
    "# Plot"
   ]
  },
  {
   "cell_type": "code",
   "execution_count": null,
   "metadata": {},
   "outputs": [],
   "source": [
    "from functools import lru_cache\n",
    "@lru_cache()\n",
    "def gap_function(ratio, params=params):\n",
    "    \"\"\"Returns a function for the gap(k).\"\"\"\n",
    "    syst = make_syst(W=params['W'])\n",
    "    params['theta'] = np.arctan(4 / ratio)\n",
    "    k_max = k_F(params)\n",
    "    ks = np.linspace(0, k_max, 60)\n",
    "    energies = [energies_over_delta(syst, params) for params['k_x'] in ks]\n",
    "    E_abs_mins = [np.min(np.abs(energy)) for energy in energies]\n",
    "    E_gaps = np.minimum.accumulate(E_abs_mins)\n",
    "    return scipy.interpolate.interp1d(ks, E_gaps)"
   ]
  },
  {
   "cell_type": "code",
   "execution_count": null,
   "metadata": {},
   "outputs": [],
   "source": [
    "ratios = [4, 8, 16]\n",
    "gap_funcs = {ratio: gap_function(ratio) for ratio in ratios}"
   ]
  },
  {
   "cell_type": "code",
   "execution_count": null,
   "metadata": {},
   "outputs": [],
   "source": [
    "z_x = 1600\n",
    "z_y = 100\n",
    "L = np.sqrt((z_x/2)**2 + (2*z_y)**2)\n",
    "W = 100\n",
    "\n",
    "from scipy.misc import derivative\n",
    "def dk_j(k, j, params):\n",
    "    p = SimpleNamespace(**params)\n",
    "    def func(k_x):\n",
    "        p.k_x = k_x\n",
    "        return k_j(p, j)\n",
    "    return derivative(func, k, dx=1e-6, order=7)\n",
    "\n",
    "def dk_12(k, params):\n",
    "    return abs(dk_j(k, 1, params)), abs(dk_j(k, 2, params))\n",
    "\n",
    "def dk_12_analytic(k_x, params):\n",
    "    from cmath import sqrt, sin, cos\n",
    "    m_eff, hbar, theta, alpha, mu = [params[k] for k in\n",
    "        ('m_eff', 'hbar', 'theta', 'alpha', 'mu_n')]\n",
    "    E_z = 0.5 * params['mu_B'] * params['g'] * params['B']\n",
    "    c = 2 * m_eff / hbar**2\n",
    "    sub_sqrt = sqrt(E_z**2 - 2 * alpha * E_z * sin(theta) * k_x + alpha**2 * k_x**2)\n",
    "    k_1 = sqrt(c * (mu - sub_sqrt) - k_x**2)\n",
    "    k_2 = sqrt(c * (mu + sub_sqrt) - k_x**2)\n",
    "\n",
    "    num_num = c * (2 * alpha**2 * k_x - 2 * E_z * alpha * sin(theta))\n",
    "    num_den = 2 * sqrt(alpha**2 * k_x**2 - 2 * E_z * alpha * k_x * sin(theta) + E_z**2)\n",
    "\n",
    "    num_1 = - num_num / num_den - 2 * k_x\n",
    "    num_2 = num_num / num_den - 2 * k_x\n",
    "\n",
    "    den_1 = 2 * k_1\n",
    "    den_2 = 2 * k_2\n",
    "\n",
    "    dk1 = num_1 / den_1\n",
    "    dk2 = num_2 / den_2\n",
    "    dk1 = dk1.real if abs(dk1.imag) < 1e-15 else np.nan\n",
    "    dk2 = dk2.real if abs(dk2.imag) < 1e-15 else np.nan\n",
    "    return dk1, dk2\n",
    "\n",
    "def check(dk_12):\n",
    "    dk1, dk2 = dk_12\n",
    "    return abs(dk1) < W / L and abs(dk2) < W / L\n",
    "\n",
    "k_max = k_F(params)\n",
    "ks = np.linspace(-k_max, k_max, 501)\n",
    "ks_allowed = np.array([check(dk_12_analytic(k, params=params)) for k in ks])"
   ]
  },
  {
   "cell_type": "code",
   "execution_count": null,
   "metadata": {},
   "outputs": [],
   "source": [
    "ks_allowed"
   ]
  },
  {
   "cell_type": "code",
   "execution_count": null,
   "metadata": {},
   "outputs": [],
   "source": [
    "import matplotlib.pyplot as plt\n",
    "\n",
    "def cutoff_factor(z_x, z_y, W):\n",
    "    theta = np.arctan(4 * z_y / z_x)\n",
    "    crossing_point = W / np.cos(theta)\n",
    "    if z_y < crossing_point / 2:\n",
    "        return np.nan\n",
    "    D = np.sqrt(z_x**2 + (2 * z_y + W * np.sqrt(1 + (4 * z_y/z_x)**2))**2)\n",
    "    return np.sqrt(1 - (W / D)**2)\n",
    "\n",
    "def k_cutoff(z_y, ratio, params=params):\n",
    "    z_x = z_y * ratio\n",
    "    return k_F(params) * cutoff_factor(z_x, z_y, params['W'])\n",
    "\n",
    "fig, ax = plt.subplots()\n",
    "z_ys = np.arange(10, 405, 5)\n",
    "for ratio in ratios:\n",
    "    gap_func = gap_funcs[ratio]\n",
    "    gaps = np.array([gap_func(k_cutoff(z_y, ratio)) for z_y in z_ys])\n",
    "    ax.plot(z_ys, gaps, label=f'ratio {ratio}')\n",
    "    ax.legend()\n",
    "\n",
    "ax.set_ylim(0, 0.2)\n",
    "plt.show()"
   ]
  },
  {
   "cell_type": "code",
   "execution_count": null,
   "metadata": {},
   "outputs": [],
   "source": [
    "f = gap_funcs[8]\n",
    "params['theta'] = np.arctan(4 / ratio)\n",
    "cut = k_F(params)\n",
    "ks = np.linspace(0, cut)\n",
    "gaps = np.array([f(k) for k in ks])\n",
    "\n",
    "dm = hv.DynamicMap(lambda z_y, ratio: hv.VLine(\n",
    "    k_cutoff(z_y, ratio)), kdims=['z_y', 'ratio']).redim.range(z_y=(10, 400), ratio=(4, 16))\n",
    "\n",
    "hv.Curve((ks, gaps)) * dm"
   ]
  },
  {
   "cell_type": "markdown",
   "metadata": {},
   "source": [
    "### Paths"
   ]
  },
  {
   "cell_type": "code",
   "execution_count": null,
   "metadata": {},
   "outputs": [],
   "source": [
    "%%opts Path [show_legend=True]\n",
    "def plot(B, alpha, mu_n, theta, phi, params=params):\n",
    "    params['B'] = B\n",
    "    params['alpha'] = alpha\n",
    "    params['mu_n'] = mu_n\n",
    "    params['theta'] = theta\n",
    "    params['phi'] = phi\n",
    "    syst = make_syst(W=params['W'])\n",
    "    k_max = 0.92*k_F(params)\n",
    "    ks = np.linspace(-k_max, k_max, 50)\n",
    "    Es_ana = [energies_over_delta(None, params) for params['k_x'] in ks]\n",
    "    Es_num = [energies_over_delta(syst, params) for params['k_x'] in ks]\n",
    "    return (hv.Path((ks, Es_ana), label='analytics')[:, -1.1:1.1] \n",
    "            * hv.Path((ks, Es_num), label='numerics')[:, -1.1:1.1])\n",
    "\n",
    "hv.DynamicMap(plot, kdims=['B', 'alpha', 'mu_n', 'theta', 'phi']).redim.range(\n",
    "    B=(0.01, 1), alpha=(1, 100), mu_n=(10, 50), theta=(0, np.pi), phi=(0, np.pi))"
   ]
  }
 ],
 "metadata": {
  "language_info": {
   "name": "python",
   "pygments_lexer": "ipython3"
  }
 },
 "nbformat": 4,
 "nbformat_minor": 2
}
