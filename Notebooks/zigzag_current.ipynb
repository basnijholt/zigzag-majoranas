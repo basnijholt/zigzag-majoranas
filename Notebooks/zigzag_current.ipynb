{
 "cells": [
  {
   "cell_type": "code",
   "execution_count": null,
   "metadata": {},
   "outputs": [],
   "source": [
    "import os, sys\n",
    "sys.path.append(os.path.abspath('../../two_dim_majoranas/'))\n",
    "\n",
    "import numpy as np\n",
    "\n",
    "import kwant\n",
    "import hpc05\n",
    "import holoviews as hv\n",
    "hv.notebook_extension()\n",
    "\n",
    "import sns_system, supercurrent, plotting_results\n",
    "\n",
    "from IPython.core.magic import register_cell_magic\n",
    "import ipywidgets as widgets\n",
    "run_cluster = widgets.Checkbox(\n",
    "    value=False,\n",
    "    description='Check and rerun to run this cell',\n",
    "    disabled=False\n",
    ")\n",
    "\n",
    "interactive_shell = get_ipython()\n",
    "@register_cell_magic\n",
    "def cluster_mark_checked(line, cell):\n",
    "    if run_cluster.value is True:\n",
    "        run_cluster.value = False\n",
    "        interactive_shell.run_cell(cell)\n",
    "    else:\n",
    "        \n",
    "        return run_cluster\n"
   ]
  },
  {
   "cell_type": "code",
   "execution_count": null,
   "metadata": {},
   "outputs": [],
   "source": [
    "%%cluster_mark_checked\n",
    "# client, dview, lview = hpc05.connect_ipcluster(100, folder='two_dim_majoranas')\n",
    "# hpc05.kill_remote_ipcluster()\n",
    "client, dview, lview = hpc05.start_remote_and_connect(100, folder='two_dim_majoranas')\n",
    "client[:].use_pickle()"
   ]
  },
  {
   "cell_type": "code",
   "execution_count": null,
   "metadata": {},
   "outputs": [],
   "source": [
    "%%px\n",
    "import numpy as np\n",
    "import cmath\n",
    "\n",
    "import functools as ft\n",
    "from functools import partial\n",
    "import kwant\n",
    "import sns_system, spectrum, topology, supercurrent\n",
    "from scipy.constants import physical_constants\n",
    "import scipy.constants\n",
    "import supercurrent_matsubara"
   ]
  },
  {
   "cell_type": "code",
   "execution_count": null,
   "metadata": {},
   "outputs": [],
   "source": [
    "%%px\n",
    "constants = dict(\n",
    "    m_eff=0.02 * scipy.constants.m_e / (scipy.constants.eV * 1e-3) / 1e18,  # effective mass in kg, \n",
    "    hbar=scipy.constants.hbar / (scipy.constants.eV * 1e-3),\n",
    "    e = scipy.constants.e,\n",
    "    current_unit=scipy.constants.k * scipy.constants.e / scipy.constants.hbar * 1e9,  # to get nA\n",
    "    mu_B=scipy.constants.physical_constants['Bohr magneton'][0] / (scipy.constants.eV * 1e-3),\n",
    "    k=scipy.constants.k / (scipy.constants.eV * 1e-3),\n",
    "    exp=cmath.exp,\n",
    "    cos=cmath.cos,\n",
    "    sin=cmath.sin,\n",
    "    phi_0=2*physical_constants['mag. flux quantum'][0]*(1e18)\n",
    "   )\n",
    "\n",
    "syst_pars = {'L_down' :  200,\n",
    "             'L_up' : 200,\n",
    "             'L_m' : 200,\n",
    "             'L_x' : 800,\n",
    "             'a' :  10,\n",
    "             'z_x' : 800,\n",
    "             'z_y' : 150,\n",
    "             'c_x' : 800,\n",
    "             'c_y' : 150,\n",
    "             'mu_from_bottom_of_spin_orbit_bands': True,\n",
    "             'k_x_in_sc':True,\n",
    "             'with_vlead':True\n",
    "             }\n",
    "\n",
    "params_raw= dict(g_factor_middle = 26,\n",
    "                 g_factor_left = 0,\n",
    "                 g_factor_right = 0,\n",
    "                 mu = 10.0,\n",
    "                 alpha_middle = 20,\n",
    "                 alpha_left = 0,\n",
    "                 alpha_right = 0,\n",
    "                 Delta_left = 2,\n",
    "                 Delta_right = 2,\n",
    "                 B = 1,\n",
    "                 phase = 0,\n",
    "                 T = 0.1,\n",
    "                 V = 0)\n",
    "\n",
    "params = dict(**constants,\n",
    "              **params_raw)"
   ]
  },
  {
   "cell_type": "code",
   "execution_count": null,
   "metadata": {},
   "outputs": [],
   "source": [
    "%%px\n",
    "def current_at_B(B):\n",
    "    params['B'] = B\n",
    "    el_blocks = partial(sns_system.take_electron_blocks, norbs=4)\n",
    "    return supercurrent_matsubara.I_c(syst, hopping, params, el_blocks)"
   ]
  },
  {
   "cell_type": "code",
   "execution_count": null,
   "metadata": {},
   "outputs": [],
   "source": [
    "%%px\n",
    "syst, site_colors, hopping = sns_system.make_zigzag_system(**syst_pars)"
   ]
  },
  {
   "cell_type": "code",
   "execution_count": null,
   "metadata": {},
   "outputs": [],
   "source": [
    "plotting_results.plot_syst(syst=syst, params=params, syst_pars=syst_pars, site_colors=site_colors);\n",
    "# plt.savefig('cut_system', dpi=1000)"
   ]
  },
  {
   "cell_type": "code",
   "execution_count": null,
   "metadata": {},
   "outputs": [],
   "source": [
    "%%cluster_mark_checked\n",
    "B = np.linspace(0, 4, 100)\n",
    "res_150 = lview.map(current_at_B, B)"
   ]
  },
  {
   "cell_type": "markdown",
   "metadata": {},
   "source": [
    "# straight system"
   ]
  },
  {
   "cell_type": "code",
   "execution_count": null,
   "metadata": {},
   "outputs": [],
   "source": [
    "hpc05_monitor.start(client)"
   ]
  },
  {
   "cell_type": "code",
   "execution_count": null,
   "metadata": {},
   "outputs": [],
   "source": [
    "%%cluster_mark_checked\n",
    "hpc05_monitor.print_usage()"
   ]
  },
  {
   "cell_type": "markdown",
   "metadata": {},
   "source": [
    "# zigzag 150"
   ]
  },
  {
   "cell_type": "code",
   "execution_count": null,
   "metadata": {},
   "outputs": [],
   "source": [
    "Is_150 = res_150.result()"
   ]
  },
  {
   "cell_type": "code",
   "execution_count": null,
   "metadata": {},
   "outputs": [],
   "source": [
    "currents_150 = [Ic['currents'] for Ic in Is_150]\n",
    "critical_currents_150 = (B, np.array([Ic['current_c'] for Ic in Is_150]))"
   ]
  },
  {
   "cell_type": "code",
   "execution_count": null,
   "metadata": {},
   "outputs": [],
   "source": [
    "hv.notebook_extension('bokeh')"
   ]
  },
  {
   "cell_type": "code",
   "execution_count": null,
   "metadata": {},
   "outputs": [],
   "source": [
    "%%opts Image [colorbar=True width=400] (cmap='Viridis')\n",
    "cur150=hv.Image(np.flipud(np.stack(currents_150)),bounds=(0, 0, 2*np.pi, 4)).redim(x='phase', y='B(T)') + hv.Curve(critical_currents_150)"
   ]
  },
  {
   "cell_type": "markdown",
   "metadata": {},
   "source": [
    "# zigzag 125"
   ]
  },
  {
   "cell_type": "code",
   "execution_count": null,
   "metadata": {},
   "outputs": [],
   "source": [
    "Is = res.result()"
   ]
  },
  {
   "cell_type": "code",
   "execution_count": null,
   "metadata": {},
   "outputs": [],
   "source": [
    "currents = [Ic['currents'] for Ic in Is]\n",
    "critical_currents_125 = (B, np.array([Ic['current_c'] for Ic in Is]))"
   ]
  },
  {
   "cell_type": "code",
   "execution_count": null,
   "metadata": {},
   "outputs": [],
   "source": [
    "hv.notebook_extension('bokeh')"
   ]
  },
  {
   "cell_type": "code",
   "execution_count": null,
   "metadata": {},
   "outputs": [],
   "source": [
    "%%opts Image [colorbar=True width=400] (cmap='Viridis')\n",
    "cur125=hv.Image(np.flipud(np.stack(currents)),bounds=(0, 0, 2*np.pi, 4)).redim(x='phase', y='B(T)')+ hv.Curve(critical_currents_125)"
   ]
  },
  {
   "cell_type": "markdown",
   "metadata": {},
   "source": [
    "# zigzag 100"
   ]
  },
  {
   "cell_type": "code",
   "execution_count": null,
   "metadata": {},
   "outputs": [],
   "source": [
    "Is_100 = res_100.result()"
   ]
  },
  {
   "cell_type": "code",
   "execution_count": null,
   "metadata": {},
   "outputs": [],
   "source": [
    "currents_100 = [Ic['currents'] for Ic in Is_100]\n",
    "critical_currents_100 = (B, np.array([Ic['current_c'] for Ic in Is_100]))"
   ]
  },
  {
   "cell_type": "code",
   "execution_count": null,
   "metadata": {},
   "outputs": [],
   "source": [
    "%%opts Image [colorbar=True width=400] (cmap='Viridis')\n",
    "cur100=hv.Image(np.flipud(np.stack(currents_100)),bounds=(0, 0, 2*np.pi, 4)).redim(x='phase', y='B(T)')+ hv.Curve(critical_currents_100)"
   ]
  },
  {
   "cell_type": "markdown",
   "metadata": {},
   "source": [
    "# zigzag 75"
   ]
  },
  {
   "cell_type": "code",
   "execution_count": null,
   "metadata": {},
   "outputs": [],
   "source": [
    "Is_75 = res_75.result()"
   ]
  },
  {
   "cell_type": "code",
   "execution_count": null,
   "metadata": {},
   "outputs": [],
   "source": [
    "currents_75 = [Ic['currents'] for Ic in Is_75]\n",
    "critical_currents_75 = (B, np.array([Ic['current_c'] for Ic in Is_75]))"
   ]
  },
  {
   "cell_type": "code",
   "execution_count": null,
   "metadata": {},
   "outputs": [],
   "source": [
    "%%opts Image [colorbar=True width=400] (cmap='Viridis')\n",
    "cur75=hv.Image(np.flipud(np.stack(currents_75)),bounds=(0, 0, 2*np.pi, 4)).redim(x='phase', y='B(T)')+ hv.Curve(critical_currents_75)"
   ]
  },
  {
   "cell_type": "markdown",
   "metadata": {},
   "source": [
    "# zigzag 50"
   ]
  },
  {
   "cell_type": "code",
   "execution_count": null,
   "metadata": {},
   "outputs": [],
   "source": [
    "Is_50 = res_50.result()"
   ]
  },
  {
   "cell_type": "code",
   "execution_count": null,
   "metadata": {},
   "outputs": [],
   "source": [
    "currents_50 = [Ic['currents'] for Ic in Is_50]\n",
    "critical_currents_50 = (B, np.array([Ic['current_c'] for Ic in Is_50]))"
   ]
  },
  {
   "cell_type": "code",
   "execution_count": null,
   "metadata": {},
   "outputs": [],
   "source": [
    "%%opts Image [colorbar=True width=400] (cmap='Viridis')\n",
    "cur50=hv.Image(np.flipud(np.stack(currents_50)),bounds=(0, 0, 2*np.pi, 4)).redim(x='phase', y='B(T)') + hv.Curve(critical_currents_50)"
   ]
  },
  {
   "cell_type": "markdown",
   "metadata": {},
   "source": [
    "# zigzag 25"
   ]
  },
  {
   "cell_type": "code",
   "execution_count": null,
   "metadata": {},
   "outputs": [],
   "source": [
    "Is_25 = res_25.result()"
   ]
  },
  {
   "cell_type": "code",
   "execution_count": null,
   "metadata": {},
   "outputs": [],
   "source": [
    "currents_25 = [Ic['currents'] for Ic in Is_25]\n",
    "critical_currents_25 = (B, np.array([Ic['current_c'] for Ic in Is_25]))"
   ]
  },
  {
   "cell_type": "code",
   "execution_count": null,
   "metadata": {},
   "outputs": [],
   "source": [
    "hv.notebook_extension('bokeh')"
   ]
  },
  {
   "cell_type": "code",
   "execution_count": null,
   "metadata": {},
   "outputs": [],
   "source": [
    "%%opts Image [colorbar=True width=400] (cmap='Viridis')\n",
    "cur25=hv.Image(np.flipud(np.stack(currents_25)),bounds=(0, 0, 2*np.pi, 4)).redim(x='phase', y='B(T)')+ hv.Curve(critical_currents_25)"
   ]
  },
  {
   "cell_type": "markdown",
   "metadata": {},
   "source": [
    "# 0nm"
   ]
  },
  {
   "cell_type": "code",
   "execution_count": null,
   "metadata": {},
   "outputs": [],
   "source": [
    "Is_straight = res_straight.result()\n",
    "currents_straight = [Ic['currents'] for Ic in Is_straight]\n",
    "critical_currents_0 = (B, np.array([Ic['current_c'] for Ic in Is_straight]))"
   ]
  },
  {
   "cell_type": "code",
   "execution_count": null,
   "metadata": {},
   "outputs": [],
   "source": [
    "%%opts Image [colorbar=True width=400] (cmap='Viridis')\n",
    "cur0=hv.Image(np.flipud(np.stack(currents_straight)),bounds=(0, 0, 2*np.pi, 4)).redim(x='phase', y='B(T)')+ hv.Curve(critical_currents_0)"
   ]
  },
  {
   "cell_type": "code",
   "execution_count": null,
   "metadata": {},
   "outputs": [],
   "source": [
    "res.done()"
   ]
  },
  {
   "cell_type": "code",
   "execution_count": null,
   "metadata": {},
   "outputs": [],
   "source": [
    "el_blocks = partial(sns_system.take_electron_blocks, norbs=4)\n",
    "I_c =supercurrent_matsubara.I_c(syst, hopping, params, el_blocks)"
   ]
  },
  {
   "cell_type": "code",
   "execution_count": null,
   "metadata": {},
   "outputs": [],
   "source": [
    "hv.notebook_extension('matplotlib')"
   ]
  },
  {
   "cell_type": "code",
   "execution_count": null,
   "metadata": {},
   "outputs": [],
   "source": [
    "%%opts Image [colorbar=True width=400] (cmap='Viridis')\n",
    "%%output filename='zigzag_current'\n",
    "hv.HoloMap({0:cur0, 25:cur25, 50:cur50, 75:cur75, 100:cur100, 125:cur125, 150:cur150}, kdims='z_y')"
   ]
  },
  {
   "cell_type": "markdown",
   "metadata": {},
   "source": [
    "# Sine cut"
   ]
  },
  {
   "cell_type": "code",
   "execution_count": null,
   "metadata": {},
   "outputs": [],
   "source": [
    "syst_pars_sin_cut = {'L_down' :  200,\n",
    "             'L_up' : 200,\n",
    "             'L_m' : 200,\n",
    "             'L_x' : 400,\n",
    "             'a' :  10,\n",
    "             'z_x' : 400,\n",
    "             'z_y' : 0*50,\n",
    "             'c_x' : 400,\n",
    "             'c_y' : 50,\n",
    "             'mu_from_bottom_of_spin_orbit_bands': True,\n",
    "             'k_x_in_sc':True,\n",
    "             'with_vlead':True\n",
    "             }"
   ]
  },
  {
   "cell_type": "code",
   "execution_count": null,
   "metadata": {},
   "outputs": [],
   "source": [
    "syst_sin, site_colors_sin, hopping_sin = make_zigzag_system(**syst_pars_sin_cut)"
   ]
  },
  {
   "cell_type": "code",
   "execution_count": null,
   "metadata": {},
   "outputs": [],
   "source": [
    "plotting_results.plot_syst(syst=syst_sin, params=params, syst_pars=syst_pars_sin_cut, site_colors=site_colors_sin);\n",
    "# plt.savefig('cut_system', dpi=1000)"
   ]
  },
  {
   "cell_type": "code",
   "execution_count": null,
   "metadata": {},
   "outputs": [],
   "source": [
    "el_blocks = partial(sns_system.take_electron_blocks, norbs=4)\n",
    "I_c =supercurrent_matsubara.I_c(syst_sin, hopping_sin, params, el_blocks)"
   ]
  },
  {
   "cell_type": "code",
   "execution_count": null,
   "metadata": {},
   "outputs": [],
   "source": [
    "hv.Curve(I_c['currents'])"
   ]
  },
  {
   "cell_type": "code",
   "execution_count": null,
   "metadata": {},
   "outputs": [],
   "source": [
    "hv.Curve(I_c['currents'])"
   ]
  },
  {
   "cell_type": "markdown",
   "metadata": {},
   "source": [
    "# Straight cut old system"
   ]
  },
  {
   "cell_type": "code",
   "execution_count": null,
   "metadata": {},
   "outputs": [],
   "source": [
    "syst_pars_n = {'L_down' :  190,\n",
    "             'L_up' : 190,\n",
    "             'L_m' : 190,\n",
    "             'L_x' : 10,\n",
    "             'a' :  10,\n",
    "             'z_x' : 400,\n",
    "             'z_y' : 0,\n",
    "             'c_x' : 450,\n",
    "             'c_y' : 0,\n",
    "             'mu_from_bottom_of_spin_orbit_bands': True,\n",
    "             'k_x_in_sc':True,\n",
    "             'with_vlead':True\n",
    "             }\n"
   ]
  },
  {
   "cell_type": "code",
   "execution_count": null,
   "metadata": {},
   "outputs": [],
   "source": [
    "syst_n, hopping_n = sns_system.make_sns_system(**syst_pars_n)\n",
    "plotting_results.plot_syst(syst=syst_n, params=params, syst_pars=syst_pars_n);"
   ]
  },
  {
   "cell_type": "code",
   "execution_count": null,
   "metadata": {},
   "outputs": [],
   "source": [
    "el_blocks = partial(sns_system.take_electron_blocks, norbs=4)\n",
    "I_c =supercurrent_matsubara.I_c(syst_n, hopping_n, params, el_blocks)"
   ]
  },
  {
   "cell_type": "code",
   "execution_count": null,
   "metadata": {},
   "outputs": [],
   "source": [
    "hv.Curve(I_c['currents'])"
   ]
  },
  {
   "cell_type": "code",
   "execution_count": null,
   "metadata": {},
   "outputs": [],
   "source": []
  }
 ],
 "metadata": {
  "language_info": {
   "name": "python",
   "pygments_lexer": "ipython3"
  }
 },
 "nbformat": 4,
 "nbformat_minor": 2
}
