{
 "cells": [
  {
   "cell_type": "markdown",
   "metadata": {},
   "source": [
    "# Imports"
   ]
  },
  {
   "cell_type": "code",
   "execution_count": null,
   "metadata": {},
   "outputs": [],
   "source": [
    "import os, sys\n",
    "sys.path.append(os.path.abspath('../../two_dim_majoranas/'))\n",
    "\n",
    "import hpc05\n",
    "import holoviews as hv\n",
    "\n",
    "import numpy as np\n",
    "import matplotlib.pyplot as plt\n",
    "import kwant\n",
    "import scipy.constants\n",
    "import cmath\n",
    "import functools as ft\n",
    "import adaptive\n",
    "adaptive.notebook_extension()\n",
    "\n",
    "import sns_system, spectrum, topology, supercurrent, formulas"
   ]
  },
  {
   "cell_type": "code",
   "execution_count": null,
   "metadata": {},
   "outputs": [],
   "source": [
    "def abs_min_log_loss(xs, xy_scale, data):\n",
    "    from adaptive.learner.learner1D import default_loss\n",
    "    data = {k: np.log(np.abs(v).min()) for k, v in data.items()}\n",
    "    return default_loss(xs, xy_scale, data)\n",
    "\n",
    "coloring =  {'middle_interior' : 'grey',\n",
    "             'middle_barrier' : 'black',\n",
    "             'bottom_superconductor' : 'gold',\n",
    "             'top_superconductor' : 'gold',\n",
    "             'top_cut' : 'red',\n",
    "             'bottom_cut' : 'blue'}"
   ]
  },
  {
   "cell_type": "code",
   "execution_count": null,
   "metadata": {},
   "outputs": [],
   "source": [
    "constants = dict(\n",
    "    m_eff=0.02 * scipy.constants.m_e / (scipy.constants.eV * 1e-3) / 1e18,  # effective mass in kg, \n",
    "    hbar=scipy.constants.hbar / (scipy.constants.eV * 1e-3),\n",
    "    e = scipy.constants.e,\n",
    "    current_unit=scipy.constants.k * scipy.constants.e / scipy.constants.hbar * 1e9,  # to get nA\n",
    "    mu_B=scipy.constants.physical_constants['Bohr magneton'][0] / (scipy.constants.eV * 1e-3),\n",
    "    k=scipy.constants.k / (scipy.constants.eV * 1e-3),\n",
    "    exp=cmath.exp,\n",
    "    cos=cmath.cos,\n",
    "    sin=cmath.sin\n",
    "   )"
   ]
  },
  {
   "cell_type": "markdown",
   "metadata": {},
   "source": [
    "# Bandstructure normal system"
   ]
  },
  {
   "cell_type": "code",
   "execution_count": null,
   "metadata": {},
   "outputs": [],
   "source": [
    "syst_pars = dict(\n",
    "    L_m = 200, L_x = 10, L_sc_up = 200, L_sc_down = 200,\n",
    "    z_x = 800, z_y = 0, a   = 10,\n",
    "    parallel_curve = False,\n",
    "    sawtooth=True,\n",
    "    transverse_soi = True,\n",
    "    mu_from_bottom_of_spin_orbit_bands = True,\n",
    "    k_x_in_sc = True, wraparound = True,\n",
    "    current = False, ns_junction=False)\n",
    "\n",
    "params_raw= dict(g_factor_middle = 26,\n",
    "                 g_factor_left = 0,\n",
    "                 g_factor_right = 0,\n",
    "                 mu = 10,\n",
    "                 alpha_middle = 20,\n",
    "                 alpha_left = 0,\n",
    "                 alpha_right = 0,\n",
    "                 Delta_left = 2,\n",
    "                 Delta_right = 2,\n",
    "                 B = 1,\n",
    "                 phase = np.pi,\n",
    "                 T = 0.0,\n",
    "                 V = 0)\n",
    "\n",
    "params = dict(**constants,\n",
    "              **params_raw)\n",
    "\n",
    "\n",
    "syst, site_colors, _ = sns_system.make_system(**syst_pars)\n",
    "\n",
    "try:\n",
    "    for k,v in site_colors.items():\n",
    "        if site_colors.get(k) is not None:\n",
    "            site_colors[k] = coloring[v]\n",
    "except:\n",
    "    pass\n",
    "        \n",
    "kwant.plot(syst,site_color=sns_system.site_color_function(site_colors, syst), dpi=100);"
   ]
  },
  {
   "cell_type": "code",
   "execution_count": null,
   "metadata": {},
   "outputs": [],
   "source": [
    "def bands_wrap(k):\n",
    "    ham = syst.hamiltonian_submatrix(sparse=True, params=dict(**params, k_x=k))\n",
    "    e, ev = spectrum.sparse_diag(ham, 100, 0)\n",
    "    return np.sort(e)\n",
    "    \n",
    "learner = adaptive.Learner1D(bands_wrap, [0, np.pi], abs_min_log_loss)\n"
   ]
  },
  {
   "cell_type": "code",
   "execution_count": null,
   "metadata": {},
   "outputs": [],
   "source": [
    "runner = adaptive.Runner(learner, ntasks=48)\n",
    "runner.live_info()"
   ]
  },
  {
   "cell_type": "code",
   "execution_count": null,
   "metadata": {},
   "outputs": [],
   "source": [
    "kf = formulas.fermi_wavenumber(params['mu'], 0.02)*syst_pars['a']\n",
    "emax = np.max(learner.data.values())\n",
    "learner.plot().redim(x='k', y='E')*hv.Path(([kf, kf],[-emax,emax]))"
   ]
  },
  {
   "cell_type": "markdown",
   "metadata": {},
   "source": [
    "# Why does minimum of energy occur around $k_x = k_F$\n",
    "\n",
    "To keep the kinetic term in the hamiltonian as low as possible, one generally should minimize the magnitude of $\\vec{k}$. \n",
    "The lowest possible accesible mode is: $\\rvert\\vec{k}\\rvert = k_F$. Of course this leaves us to choose  the angle of $\\vec{k}$. Which angle has the lowest energy?"
   ]
  },
  {
   "cell_type": "markdown",
   "metadata": {},
   "source": [
    "# Snake like system"
   ]
  },
  {
   "cell_type": "code",
   "execution_count": null,
   "metadata": {},
   "outputs": [],
   "source": [
    "sp_flat = syst_pars.copy()\n",
    "sp_flat['z_y'] = 120\n",
    "sp_flat['L_x'] = 800\n",
    "sp_flat['sawtooth'] = False\n",
    "sp_flat['parallel_curve'] = True\n",
    "\n",
    "params = dict(**constants,\n",
    "              **params_raw)\n",
    "\n",
    "syst, site_colors, _ = sns_system.make_system(**sp_flat)\n",
    "\n",
    "try:\n",
    "    for k,v in site_colors.items():\n",
    "        if site_colors.get(k) is not None:\n",
    "            site_colors[k] = coloring[v]\n",
    "except:\n",
    "    pass\n",
    "        \n",
    "kwant.plot(syst,site_color=sns_system.site_color_function(site_colors, syst), dpi=100);"
   ]
  },
  {
   "cell_type": "code",
   "execution_count": null,
   "metadata": {},
   "outputs": [],
   "source": [
    "def bands_wrap(k):\n",
    "    ham = syst.hamiltonian_submatrix(sparse=True, params=dict(**params, k_x=k))\n",
    "    e, ev = spectrum.sparse_diag(ham, 100, 0)\n",
    "    return np.sort(e)\n",
    "    \n",
    "learner = adaptive.Learner1D(bands_wrap, [0, np.pi], abs_min_log_loss)\n"
   ]
  },
  {
   "cell_type": "code",
   "execution_count": null,
   "metadata": {},
   "outputs": [],
   "source": [
    "runner = adaptive.Runner(learner, ntasks=48)\n",
    "runner.live_info()"
   ]
  },
  {
   "cell_type": "code",
   "execution_count": null,
   "metadata": {},
   "outputs": [],
   "source": [
    "kf = formulas.fermi_wavenumber(params['mu'], 0.02)*syst_pars['a']\n",
    "emax = np.max(learner.data.values())\n",
    "learner.plot().redim(x='k', y='E')*hv.Path(([kf, kf],[-emax,emax]))"
   ]
  },
  {
   "cell_type": "markdown",
   "metadata": {},
   "source": [
    "# Wavefunction"
   ]
  },
  {
   "cell_type": "code",
   "execution_count": null,
   "metadata": {},
   "outputs": [],
   "source": [
    "sp_flat = syst_pars.copy()\n",
    "sp_flat['z_y'] = 0*150\n",
    "sp_flat['L_x'] = 2400\n",
    "sp_flat['wraparound'] = False\n",
    "sp_flat['parallel_curve'] = False\n",
    "sp_flat['sawtooth'] = True\n",
    "\n",
    "params = dict(**constants,\n",
    "              **params_raw)\n",
    "\n",
    "syst, site_colors, _ = sns_system.make_system(**sp_flat)\n",
    "\n",
    "try:\n",
    "    for k,v in site_colors.items():\n",
    "        if site_colors.get(k) is not None:\n",
    "            site_colors[k] = coloring[v]\n",
    "except:\n",
    "    pass"
   ]
  },
  {
   "cell_type": "code",
   "execution_count": null,
   "metadata": {},
   "outputs": [],
   "source": [
    "ham = syst.hamiltonian_submatrix(params=params, sparse=True)\n",
    "d = kwant.operator.Density(syst)\n",
    "e, ev = spectrum.sparse_diag(ham,4,0)"
   ]
  },
  {
   "cell_type": "code",
   "execution_count": null,
   "metadata": {},
   "outputs": [],
   "source": [
    "e"
   ]
  },
  {
   "cell_type": "code",
   "execution_count": null,
   "metadata": {},
   "outputs": [],
   "source": [
    "ax=plt.axes();\n",
    "kwant.plot(syst,site_color=sns_system.site_color_function(site_colors, syst), dpi=100, ax=ax);\n",
    "kwant.plotter.map(syst, d(ev[:,0]), ax=ax)\n",
    "# plt.savefig('no_ohase_difference', dpi=1000)"
   ]
  },
  {
   "cell_type": "code",
   "execution_count": null,
   "metadata": {},
   "outputs": [],
   "source": [
    "ax=plt.axes();\n",
    "kwant.plot(syst,site_color=sns_system.site_color_function(site_colors, syst), dpi=100, ax=ax);\n",
    "kwant.plotter.map(syst, d(ev[:,0]), ax=ax)\n",
    "# plt.savefig('no_ohase_difference', dpi=1000)"
   ]
  },
  {
   "cell_type": "code",
   "execution_count": null,
   "metadata": {},
   "outputs": [],
   "source": []
  }
 ],
 "metadata": {
  "language_info": {
   "name": "python",
   "pygments_lexer": "ipython3"
  }
 },
 "nbformat": 4,
 "nbformat_minor": 2
}
