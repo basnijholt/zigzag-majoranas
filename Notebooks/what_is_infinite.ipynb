{
 "cells": [
  {
   "cell_type": "markdown",
   "metadata": {},
   "source": [
    "# Imports"
   ]
  },
  {
   "cell_type": "code",
   "execution_count": null,
   "metadata": {},
   "outputs": [],
   "source": [
    "import os, sys\n",
    "sys.path.append(os.path.abspath('../../two_dim_majoranas/'))\n",
    "\n",
    "import hpc05\n",
    "import holoviews as hv\n",
    "\n",
    "import numpy as np\n",
    "import kwant\n",
    "import scipy.constants\n",
    "import cmath\n",
    "import functools as ft\n",
    "\n",
    "\n",
    "import sns_system, spectrum, topology, supercurrent\n",
    "\n",
    "from IPython.core.magic import register_cell_magic\n",
    "import ipywidgets as widgets\n",
    "run_cluster = widgets.Checkbox(\n",
    "    value=False,\n",
    "    description='Check to run cluster',\n",
    "    disabled=False\n",
    ")\n",
    "\n",
    "interactive_shell = get_ipython()\n",
    "@register_cell_magic\n",
    "def cluster_mark_checked(line, cell):\n",
    "    if run_cluster.value is True:\n",
    "        run_cluster.value = False\n",
    "        interactive_shell.run_cell(cell)\n",
    "    else:\n",
    "        return \"Command not run. Check the box above to run.\"\n",
    "\n",
    "del(cluster_mark_checked)"
   ]
  },
  {
   "cell_type": "code",
   "execution_count": null,
   "metadata": {},
   "outputs": [],
   "source": [
    "import adaptive\n",
    "adaptive.notebook_extension()\n",
    "\n",
    "import numpy as np\n",
    "import scipy.constants\n",
    "import cmath\n",
    "\n",
    "import functools as ft\n",
    "\n",
    "import sns_system, plotting_results\n",
    "from distributed_sns import AggregatesSimulationSet as ASS\n",
    "from distributed_sns import SimulationSet as SS"
   ]
  },
  {
   "cell_type": "markdown",
   "metadata": {},
   "source": [
    "### Define constants"
   ]
  },
  {
   "cell_type": "code",
   "execution_count": null,
   "metadata": {},
   "outputs": [],
   "source": [
    "constants = dict(\n",
    "    m_eff=0.02 * scipy.constants.m_e / (scipy.constants.eV * 1e-3) / 1e18,  # effective mass in kg, \n",
    "    hbar=scipy.constants.hbar / (scipy.constants.eV * 1e-3),\n",
    "    e = scipy.constants.e,\n",
    "    current_unit=scipy.constants.k * scipy.constants.e / scipy.constants.hbar * 1e9,  # to get nA\n",
    "    mu_B=scipy.constants.physical_constants['Bohr magneton'][0] / (scipy.constants.eV * 1e-3),\n",
    "    k=scipy.constants.k / (scipy.constants.eV * 1e-3),\n",
    "    exp=cmath.exp,\n",
    "    cos=cmath.cos,\n",
    "    sin=cmath.sin\n",
    "   )"
   ]
  },
  {
   "cell_type": "markdown",
   "metadata": {},
   "source": [
    "# Cluster setup"
   ]
  },
  {
   "cell_type": "code",
   "execution_count": null,
   "metadata": {},
   "outputs": [],
   "source": [
    "run_cluster"
   ]
  },
  {
   "cell_type": "code",
   "execution_count": null,
   "metadata": {},
   "outputs": [],
   "source": [
    "import inspect\n",
    "import IPython.display as dp\n",
    "dp.Code(inspect.getsource(pbs_profile))"
   ]
  },
  {
   "cell_type": "code",
   "execution_count": null,
   "metadata": {},
   "outputs": [],
   "source": [
    "hpc05.create_pbs_profile()"
   ]
  },
  {
   "cell_type": "code",
   "execution_count": null,
   "metadata": {},
   "outputs": [],
   "source": [
    "%%cluster_mark_checked\n",
    "# client, dview, lview = hpc05.connect_ipcluster(20, folder='two_dim_majoranas')\n",
    "# hpc05.kill_remote_ipcluster()\n",
    "client, dview, lview = hpc05.start_remote_and_connect(300, folder='two_dim_majoranas')"
   ]
  },
  {
   "cell_type": "markdown",
   "metadata": {},
   "source": [
    "# Define and plot system"
   ]
  },
  {
   "cell_type": "code",
   "execution_count": null,
   "metadata": {},
   "outputs": [],
   "source": [
    "syst_pars = {'L_down' :  200,\n",
    "               'L_up' : 200,\n",
    "               'L_m' : 200,\n",
    "               'L_x' : 6.25,\n",
    "               'a' :  6.25,\n",
    "            'mu_from_bottom_of_spin_orbit_bands': True,\n",
    "            'k_x_in_sc' : True}\n",
    "\n",
    "_=plotting_results.plot_syst(syst_pars, sns_system.dummy_params)"
   ]
  },
  {
   "cell_type": "markdown",
   "metadata": {},
   "source": [
    "# Define standard parameters"
   ]
  },
  {
   "cell_type": "code",
   "execution_count": null,
   "metadata": {},
   "outputs": [],
   "source": [
    "params_raw= dict(g_factor_middle = 26,\n",
    "                 g_factor_left = 0,\n",
    "                 g_factor_right = 0,\n",
    "                 mu = 10.0,\n",
    "                 alpha_middle = 19.05,\n",
    "                 alpha_left = 0,\n",
    "                 alpha_right = 0,\n",
    "                 Delta_left = 2,\n",
    "                 Delta_right = 2,\n",
    "                 B = 0.0,\n",
    "                 phase = np.pi/2,\n",
    "                 T = 0.025,\n",
    "                 V=0)\n",
    "\n",
    "params = dict(**constants,\n",
    "              **params_raw)"
   ]
  },
  {
   "cell_type": "markdown",
   "metadata": {},
   "source": [
    "### Define keys to be varied"
   ]
  },
  {
   "cell_type": "code",
   "execution_count": null,
   "metadata": {},
   "outputs": [],
   "source": [
    "keys_with_bounds = {\"phase\":[0, 2*np.pi],\n",
    "                    \"B\":[0,4]}"
   ]
  },
  {
   "cell_type": "markdown",
   "metadata": {},
   "source": [
    "### Define metrics to be recorded"
   ]
  },
  {
   "cell_type": "code",
   "execution_count": null,
   "metadata": {},
   "outputs": [],
   "source": [
    "metric_params_dict = { \"energy_gap\":{\"tol\":1e-4}\n",
    "                     }"
   ]
  },
  {
   "cell_type": "markdown",
   "metadata": {},
   "source": [
    "### Define data folder"
   ]
  },
  {
   "cell_type": "code",
   "execution_count": null,
   "metadata": {},
   "outputs": [],
   "source": [
    "data_folder = 'what_is_infinite'"
   ]
  },
  {
   "cell_type": "markdown",
   "metadata": {},
   "source": [
    "# Make ASS"
   ]
  },
  {
   "cell_type": "code",
   "execution_count": null,
   "metadata": {},
   "outputs": [],
   "source": [
    "ass = ASS(keys_with_bounds,\n",
    "              syst_pars, params,\n",
    "              metric_params_dict)"
   ]
  },
  {
   "cell_type": "markdown",
   "metadata": {},
   "source": [
    "### Add additional dimensions"
   ]
  },
  {
   "cell_type": "markdown",
   "metadata": {},
   "source": [
    "### Chemical potential"
   ]
  },
  {
   "cell_type": "code",
   "execution_count": null,
   "metadata": {},
   "outputs": [],
   "source": [
    "mus = [10]\n",
    "\n",
    "def _params_mu(syst_pars, params, mu):\n",
    "    for key in ['mu']:\n",
    "        if key in params:\n",
    "            params[key] = mu\n",
    "            if key is 'V':\n",
    "                params[key] = {70:35, 50:32, 10:14}[mu]\n",
    "        if key in syst_pars:\n",
    "            syst_pars[key] = mu\n",
    "    return mu\n",
    "\n",
    "params_mu = [ft.partial(_params_mu,\n",
    "                           mu=_mu\n",
    "                           ) for _mu in mus]\n",
    "\n",
    "ass.add_dimension(\"mu\", params_mu)"
   ]
  },
  {
   "cell_type": "markdown",
   "metadata": {},
   "source": [
    "### Make learner"
   ]
  },
  {
   "cell_type": "code",
   "execution_count": null,
   "metadata": {},
   "outputs": [],
   "source": [
    "ass.make_balancing_learner(1000)\n",
    "ass.load(data_folder, 1000)"
   ]
  },
  {
   "cell_type": "markdown",
   "metadata": {},
   "source": [
    "\n",
    "### Make runner with saver\n"
   ]
  },
  {
   "cell_type": "code",
   "execution_count": null,
   "metadata": {},
   "outputs": [],
   "source": [
    "runner = adaptive.Runner(ass.get_balancing_learner())#, executor=client)\n",
    "ass.start_periodic_saver(runner, data_folder, interval=180)\n",
    "runner.live_info(update_interval=1)"
   ]
  },
  {
   "cell_type": "code",
   "execution_count": null,
   "metadata": {},
   "outputs": [],
   "source": [
    "runner.task.result()"
   ]
  },
  {
   "cell_type": "code",
   "execution_count": null,
   "metadata": {},
   "outputs": [],
   "source": [
    "sum([l.npoints for l in ass.learners])"
   ]
  },
  {
   "cell_type": "code",
   "execution_count": null,
   "metadata": {},
   "outputs": [],
   "source": [
    "hv.notebook_extension('matplotlib')"
   ]
  },
  {
   "cell_type": "code",
   "execution_count": null,
   "metadata": {},
   "outputs": [],
   "source": [
    "kdims, pdict = ass.get_plot_dict(800, tables=True)"
   ]
  },
  {
   "cell_type": "code",
   "execution_count": null,
   "metadata": {},
   "outputs": [],
   "source": [
    "%%opts Image [colorbar=True logz=True fig_size=200] {+framewise}\n",
    "%%output filename=f'./{data_folder}/gap_150' fig='png'\n",
    "hv.HoloMap(pdict, kdims)"
   ]
  },
  {
   "cell_type": "markdown",
   "metadata": {},
   "source": [
    "## import formulas as f\n",
    "vf = f.fermi_velocity(10, 0.02)\n",
    "kf = f.fermi_wavenumber(10, 0.02)\n",
    "eth = f.thouless_energy(vf, 100)/(params['g_factor_middle'] * params['mu_B']) \n",
    "#- params['m_eff']*params['alpha_middle']**2/(2*params['hbar']**2)"
   ]
  },
  {
   "cell_type": "code",
   "execution_count": null,
   "metadata": {},
   "outputs": [],
   "source": [
    "supercurrent.fermi_dirac(1e-2, dict(T=40e-3, k=params['k']))"
   ]
  },
  {
   "cell_type": "markdown",
   "metadata": {},
   "source": [
    "# Plot"
   ]
  },
  {
   "cell_type": "code",
   "execution_count": null,
   "metadata": {},
   "outputs": [],
   "source": [
    "70 35\n",
    "50 32\n",
    "10 14"
   ]
  },
  {
   "cell_type": "code",
   "execution_count": null,
   "metadata": {},
   "outputs": [],
   "source": [
    "params['mu'] = 10\n",
    "params['V'] = 14\n",
    "syst = sns_system.make_ns_junction(**syst_pars)"
   ]
  },
  {
   "cell_type": "code",
   "execution_count": null,
   "metadata": {},
   "outputs": [],
   "source": [
    "import scattering\n",
    "scattering.transparency(syst, params)"
   ]
  },
  {
   "cell_type": "code",
   "execution_count": null,
   "metadata": {},
   "outputs": [],
   "source": [
    "kdims, pdict = ass.get_plot_dict(200, False, False)"
   ]
  },
  {
   "cell_type": "code",
   "execution_count": null,
   "metadata": {},
   "outputs": [],
   "source": [
    "hv.extension('bokeh')\n"
   ]
  },
  {
   "cell_type": "code",
   "execution_count": null,
   "metadata": {},
   "outputs": [],
   "source": [
    "pdict = {(electron_density[idx]*1e3, k[1]): v * hv.Path((list(keys_with_bounds['phase']), (eth[idx], eth[idx]) )).options(color='red', line_width=4) for (idx, (k,v)) in enumerate(pdict.items())}"
   ]
  },
  {
   "cell_type": "code",
   "execution_count": null,
   "metadata": {},
   "outputs": [],
   "source": [
    "%%opts Image [colorbar=True width=400 height=300 aspect=1] {+framewise}\n",
    "# %%output filename=f'./{data_folder}/transmission' fig='png'\n",
    "hv.HoloMap(pdict, kdims=['density', kdims[1]])"
   ]
  },
  {
   "cell_type": "code",
   "execution_count": null,
   "metadata": {},
   "outputs": [],
   "source": [
    "kdims, pdict = ass.get_plot_dict(200, contour_pfaffian=True, tables=True)\n",
    "pdict = {k: d.redim.range(z=(5e-3, 2.5e-2)) if k[2]==\"energy_gap\" else d for k,d in pdict.items()}"
   ]
  },
  {
   "cell_type": "code",
   "execution_count": null,
   "metadata": {},
   "outputs": [],
   "source": [
    "constants['k']*0.05"
   ]
  },
  {
   "cell_type": "code",
   "execution_count": null,
   "metadata": {},
   "outputs": [],
   "source": [
    "ass.learners[0].plot(tri_alpha=1)"
   ]
  },
  {
   "cell_type": "code",
   "execution_count": null,
   "metadata": {},
   "outputs": [],
   "source": [
    "hv.extension('matplotlib')\n",
    "# %%opts Image [colorbar=True]\n",
    "pdict[(10, 250, 'energy_gap')].opts(style=dict(cmap='Viridis'))"
   ]
  },
  {
   "cell_type": "code",
   "execution_count": null,
   "metadata": {},
   "outputs": [],
   "source": [
    "_=pdict[(10, 250, 'energy_gap')]"
   ]
  },
  {
   "cell_type": "code",
   "execution_count": null,
   "metadata": {},
   "outputs": [],
   "source": [
    "_.opts(style=dict(cmap='Viridis'), plot=dict(colorbar=True, aspect=1))"
   ]
  },
  {
   "cell_type": "code",
   "execution_count": null,
   "metadata": {},
   "outputs": [],
   "source": []
  }
 ],
 "metadata": {
  "language_info": {
   "name": "python",
   "pygments_lexer": "ipython3"
  }
 },
 "nbformat": 4,
 "nbformat_minor": 2
}
