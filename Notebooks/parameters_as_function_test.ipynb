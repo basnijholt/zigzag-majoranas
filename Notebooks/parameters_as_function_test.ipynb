{
 "cells": [
  {
   "cell_type": "code",
   "execution_count": null,
   "metadata": {},
   "outputs": [],
   "source": [
    "%load_ext autoreload\n",
    "%autoreload\n",
    "import os, sys\n",
    "import holoviews as hv\n",
    "sys.path.append(os.path.abspath('../../two_dim_majoranas/'))\n",
    "\n",
    "import adaptive\n",
    "adaptive.notebook_extension()\n",
    "\n",
    "import numpy as np\n",
    "import scipy.constants\n",
    "import cmath\n",
    "import functools as ft\n",
    "\n",
    "import sns_system, plotting_results\n",
    "import distributed_sns\n",
    "SS = distributed_sns.SimulationSet\n",
    "ASS = distributed_sns.AggregatesSimulationSet\n",
    "\n",
    "constants = dict(\n",
    "    m_eff=0.023 * scipy.constants.m_e / (scipy.constants.eV * 1e-3) / 1e18,  # effective mass in kg, \n",
    "    hbar=scipy.constants.hbar / (scipy.constants.eV * 1e-3),\n",
    "    e = scipy.constants.e,\n",
    "    current_unit=scipy.constants.k * scipy.constants.e / scipy.constants.hbar * 1e9,  # to get nA\n",
    "    mu_B=scipy.constants.physical_constants['Bohr magneton'][0] / (scipy.constants.eV * 1e-3),\n",
    "    k=scipy.constants.k / (scipy.constants.eV * 1e-3),\n",
    "    exp=cmath.exp,\n",
    "    cos=cmath.cos,\n",
    "    sin=cmath.sin\n",
    "   )"
   ]
  },
  {
   "cell_type": "code",
   "execution_count": null,
   "metadata": {},
   "outputs": [],
   "source": [
    "syst_pars = {'Ll' :  500,\n",
    "               'Lr' : 500,\n",
    "               'Lm' : 500,\n",
    "               'Ly' : 25,\n",
    "               'a' :  25,\n",
    "            'mu_from_bottom_of_spin_orbit_bands': True}\n"
   ]
  },
  {
   "cell_type": "code",
   "execution_count": null,
   "metadata": {},
   "outputs": [],
   "source": [
    "params_raw= dict(g_factor_middle = 10,\n",
    "                 g_factor_left = 0,\n",
    "                 g_factor_right = 0,\n",
    "                 mu = 1.0,\n",
    "                 alpha_middle = 28,\n",
    "                 alpha_left = 28,\n",
    "                 alpha_right = 28,\n",
    "                 Delta_left = .18,\n",
    "                 Delta_right = .18,\n",
    "                 B = 0.5,\n",
    "                 phase = np.pi/2,\n",
    "                 T = 0.0)\n",
    "params = dict(**constants,\n",
    "              **params_raw)"
   ]
  },
  {
   "cell_type": "code",
   "execution_count": null,
   "metadata": {},
   "outputs": [],
   "source": [
    "def _params_Delta(syst_pars, params, Delta):\n",
    "    for key in ['Delta_left', 'Delta_right']:\n",
    "        if key in params:\n",
    "            params[key] = Delta\n",
    "        if key in syst_pars:\n",
    "            syst_pars[key] = Delta\n",
    "    return Delta\n",
    "\n",
    "Deltas = np.linspace(0.1, 0.3, 3)\n",
    "\n",
    "params_Delta = [ft.partial(_params_Delta,\n",
    "                           Delta=_Delta\n",
    "                           ) for _Delta in Deltas]"
   ]
  },
  {
   "cell_type": "code",
   "execution_count": null,
   "metadata": {},
   "outputs": [],
   "source": [
    "def _params_alpha(syst_pars, params, alpha):\n",
    "    for key in ['alpha_middle', 'alpha_left', 'alpha_right']:\n",
    "        if key in params:\n",
    "            params[key] = alpha\n",
    "        if key in syst_pars:\n",
    "            syst_pars[key] = alpha\n",
    "    return alpha\n",
    "\n",
    "alphas = np.linspace(30, 60, 3)\n",
    "\n",
    "params_alpha = [ft.partial(_params_alpha,\n",
    "                           alpha=_alpha\n",
    "                           ) for _alpha in alphas]"
   ]
  },
  {
   "cell_type": "code",
   "execution_count": null,
   "metadata": {},
   "outputs": [],
   "source": [
    "def _params_mu_ref(syst_pars, params, mu_ref):\n",
    "    syst_pars['mu_from_bottom_of_spin_orbit_bands'] = mu_ref\n",
    "    return mu_ref\n",
    "\n",
    "mu_refs = [True, False]\n",
    "\n",
    "params_mu_ref = [ft.partial(_params_mu_ref,\n",
    "                           mu_ref=_mu_ref\n",
    "                           ) for _mu_ref in mu_refs]"
   ]
  },
  {
   "cell_type": "markdown",
   "metadata": {},
   "source": [
    "### Define keys to be varied"
   ]
  },
  {
   "cell_type": "code",
   "execution_count": null,
   "metadata": {},
   "outputs": [],
   "source": [
    "keys_with_bounds = {\"phase\":[0, 2*np.pi],\n",
    "                    \"B\":[0,1.2]}"
   ]
  },
  {
   "cell_type": "markdown",
   "metadata": {},
   "source": [
    "### Define metrics to be recorded"
   ]
  },
  {
   "cell_type": "code",
   "execution_count": null,
   "metadata": {},
   "outputs": [],
   "source": [
    "metric_params_dict = {\n",
    "                       \"pfaffian\":{}}"
   ]
  },
  {
   "cell_type": "markdown",
   "metadata": {},
   "source": [
    "# Make ASS"
   ]
  },
  {
   "cell_type": "code",
   "execution_count": null,
   "metadata": {},
   "outputs": [],
   "source": [
    "%autoreload"
   ]
  },
  {
   "cell_type": "code",
   "execution_count": null,
   "metadata": {},
   "outputs": [],
   "source": [
    "SOI_ass = ASS(keys_with_bounds,\n",
    "              syst_pars, params,\n",
    "              metric_params_dict)"
   ]
  },
  {
   "cell_type": "code",
   "execution_count": null,
   "metadata": {},
   "outputs": [],
   "source": [
    "SOI_ass.add_dimension('alpha', params_alpha)\n",
    "SOI_ass.add_dimension('Delta', params_Delta)\n",
    "SOI_ass.add_dimension('mu_ref', params_mu_ref)"
   ]
  },
  {
   "cell_type": "markdown",
   "metadata": {},
   "source": [
    "# Build learner"
   ]
  },
  {
   "cell_type": "code",
   "execution_count": null,
   "metadata": {},
   "outputs": [],
   "source": [
    "SOI_ass.make_balancing_learner(5000)"
   ]
  },
  {
   "cell_type": "code",
   "execution_count": null,
   "metadata": {},
   "outputs": [],
   "source": [
    "bl = SOI_ass.get_balancing_learner()"
   ]
  },
  {
   "cell_type": "markdown",
   "metadata": {},
   "source": [
    "# Runner Adaptive"
   ]
  },
  {
   "cell_type": "code",
   "execution_count": null,
   "metadata": {},
   "outputs": [],
   "source": [
    "runner = adaptive.Runner(bl)\n",
    "runner.live_info()"
   ]
  },
  {
   "cell_type": "markdown",
   "metadata": {},
   "source": [
    "# Plot"
   ]
  },
  {
   "cell_type": "code",
   "execution_count": null,
   "metadata": {},
   "outputs": [],
   "source": [
    "kdims, pd = SOI_ass.get_plot_dict(200)"
   ]
  },
  {
   "cell_type": "code",
   "execution_count": null,
   "metadata": {},
   "outputs": [],
   "source": [
    "hv.HoloMap(pd, kdims=kdims)"
   ]
  },
  {
   "cell_type": "code",
   "execution_count": null,
   "metadata": {},
   "outputs": [],
   "source": []
  }
 ],
 "metadata": {
  "language_info": {
   "name": "python",
   "pygments_lexer": "ipython3"
  }
 },
 "nbformat": 4,
 "nbformat_minor": 2
}
