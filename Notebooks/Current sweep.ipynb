{
 "cells": [
  {
   "cell_type": "code",
   "execution_count": null,
   "metadata": {},
   "outputs": [],
   "source": [
    "from ipyparallel import Client\n",
    "client = Client()"
   ]
  },
  {
   "cell_type": "code",
   "execution_count": null,
   "metadata": {},
   "outputs": [],
   "source": [
    "%%px\n",
    "import functools as ft\n",
    "import os, sys\n",
    "sys.path.append(os.path.abspath('../../two_dim_majoranas/'))\n",
    "\n",
    "import numpy as np\n",
    "import scipy.constants\n",
    "import cmath\n",
    "# import holoviews as hv\n",
    "# from IPython.core.magic import register_cell_magic\n",
    "# import ipywidgets as widgets\n",
    "\n",
    "import hpc05\n",
    "import sns_system\n",
    "# , plotting_results\n",
    "import supercurrent_matsubara\n",
    "# from distributed_sns import AggregatesSimulationSet as ASS\n",
    "# from distributed_sns import SimulationSet as SS\n",
    "# import adaptive\n",
    "# adaptive.notebook_extension()\n",
    "\n",
    "# run_cluster = widgets.Checkbox(\n",
    "#     value=False,\n",
    "#     description='Check to run cluster',\n",
    "#     disabled=False)\n",
    "# stop_cluster = widgets.Checkbox(\n",
    "#     value=False,\n",
    "#     description='Check to stop cluster',\n",
    "#     disabled=False)\n",
    "\n",
    "# @register_cell_magic\n",
    "# def cluster_check(line, cell):\n",
    "#     if run_cluster.value is True:\n",
    "#         run_cluster.value = False\n",
    "#         return line, cell\n",
    "#     elif stop_cluster.value is True:\n",
    "#         stop_cluster.value = False\n",
    "#         return hpc05.kill_remote_ipcluster()\n",
    "#     else:\n",
    "#         return \"Command not run. Check the box above to run.\"\n",
    "\n",
    "# widgets.HBox([run_cluster, stop_cluster])"
   ]
  },
  {
   "cell_type": "code",
   "execution_count": null,
   "metadata": {},
   "outputs": [],
   "source": [
    "%%cluster_check\n",
    "client, dview, lview = hpc05.start_remote_and_connect(20, folder='~/two_dim_majoranas', timeout=180)"
   ]
  },
  {
   "cell_type": "code",
   "execution_count": null,
   "metadata": {},
   "outputs": [],
   "source": [
    "%%px\n",
    "constants = dict(\n",
    "    m_eff=0.02 * scipy.constants.m_e / (scipy.constants.eV * 1e-3) / 1e18,  # effective mass in kg, \n",
    "    hbar=scipy.constants.hbar / (scipy.constants.eV * 1e-3),\n",
    "    e = scipy.constants.e,\n",
    "    current_unit=scipy.constants.k * scipy.constants.e / scipy.constants.hbar * 1e9,  # to get nA\n",
    "    mu_B=scipy.constants.physical_constants['Bohr magneton'][0] / (scipy.constants.eV * 1e-3),\n",
    "    k=scipy.constants.k / (scipy.constants.eV * 1e-3),\n",
    "    exp=cmath.exp,\n",
    "    cos=cmath.cos,\n",
    "    sin=cmath.sin\n",
    "   )"
   ]
  },
  {
   "cell_type": "code",
   "execution_count": null,
   "metadata": {},
   "outputs": [],
   "source": [
    "%%px\n",
    "syst_pars = {'L_down' :  100,\n",
    "               'L_up' : 100,\n",
    "               'L_m' : 400,\n",
    "               'L_x' : 800,\n",
    "               'a' :  10,\n",
    "               'mu_from_bottom_of_spin_orbit_bands': True,\n",
    "               'with_vlead' : True}\n",
    "\n",
    "params_raw= dict(g_factor_middle = 26,\n",
    "                 g_factor_left = 0,\n",
    "                 g_factor_right = 0,\n",
    "                 mu = 20,\n",
    "                 alpha_middle = 19.05,\n",
    "                 alpha_left = 0,\n",
    "                 alpha_right = 0,\n",
    "                 Delta_left = 2,\n",
    "                 Delta_right = 2,\n",
    "                 B = 0.5,\n",
    "                 phase = 0,\n",
    "                 T = 0.1,\n",
    "                 V = 0.0)\n",
    "\n",
    "params = dict(**constants,\n",
    "              **params_raw)"
   ]
  },
  {
   "cell_type": "code",
   "execution_count": null,
   "metadata": {},
   "outputs": [],
   "source": [
    "%%px\n",
    "\n",
    "def cur_B(B):\n",
    "    _params = params.copy()\n",
    "    _params['B'] = B\n",
    "    syst, hopping = sns_system.make_sns_leaded_system(**syst_pars)\n",
    "    el_blocks = ft.partial(sns_system.take_electron_blocks, norbs=4)\n",
    "    I_c = supercurrent_matsubara.I_c(syst, hopping, _params, el_blocks, N_brute=101)\n",
    "    return (I_c['phases'], I_c['currents']/syst_pars['L_x'])"
   ]
  },
  {
   "cell_type": "code",
   "execution_count": null,
   "metadata": {},
   "outputs": [],
   "source": [
    "import numpy as np\n",
    "Bs = np.linspace(0, 2, 24)\n",
    "def cur_B(B):\n",
    "    _params = params.copy()\n",
    "    _params['B'] = B\n",
    "    syst, hopping = sns_system.make_sns_leaded_system(**syst_pars)\n",
    "    el_blocks = ft.partial(sns_system.take_electron_blocks, norbs=4)\n",
    "    I_c = supercurrent_matsubara.I_c(syst, hopping, _params, el_blocks, N_brute=101)\n",
    "    return (I_c['phases'], I_c['currents']/syst_pars['L_x'])"
   ]
  },
  {
   "cell_type": "code",
   "execution_count": null,
   "metadata": {},
   "outputs": [],
   "source": [
    "lview = client.load_balanced_view()"
   ]
  },
  {
   "cell_type": "code",
   "execution_count": null,
   "metadata": {},
   "outputs": [],
   "source": [
    "res = lview.map(cur_B, Bs)"
   ]
  },
  {
   "cell_type": "code",
   "execution_count": null,
   "metadata": {},
   "outputs": [],
   "source": [
    "res.completed"
   ]
  },
  {
   "cell_type": "code",
   "execution_count": null,
   "metadata": {},
   "outputs": [],
   "source": [
    "res.done()\n",
    "\n",
    "\n",
    "\n",
    "\n"
   ]
  },
  {
   "cell_type": "code",
   "execution_count": null,
   "metadata": {},
   "outputs": [],
   "source": [
    "pc = res.result()"
   ]
  },
  {
   "cell_type": "code",
   "execution_count": null,
   "metadata": {},
   "outputs": [],
   "source": [
    "phases=[]\n",
    "currents=[]\n",
    "for ph, curs in pc:\n",
    "    phases.append(ph)\n",
    "    currents.append(curs)"
   ]
  },
  {
   "cell_type": "code",
   "execution_count": null,
   "metadata": {},
   "outputs": [],
   "source": [
    "Phases = np.vstack(phases)\n",
    "Currents = np.vstack(currents)"
   ]
  },
  {
   "cell_type": "code",
   "execution_count": null,
   "metadata": {},
   "outputs": [],
   "source": [
    "import holoviews as hv\n",
    "hv.extension('bokeh')"
   ]
  },
  {
   "cell_type": "code",
   "execution_count": null,
   "metadata": {},
   "outputs": [],
   "source": [
    "hv.Image((phases[0], Bs, Currents))"
   ]
  },
  {
   "cell_type": "code",
   "execution_count": null,
   "metadata": {},
   "outputs": [],
   "source": [
    "hv.Image((phases[0], Bs, Currents))"
   ]
  },
  {
   "cell_type": "code",
   "execution_count": null,
   "metadata": {},
   "outputs": [],
   "source": [
    "1.28/2"
   ]
  },
  {
   "cell_type": "code",
   "execution_count": null,
   "metadata": {},
   "outputs": [],
   "source": [
    "hv.Image((phases[0], Bs, Currents))"
   ]
  },
  {
   "cell_type": "code",
   "execution_count": null,
   "metadata": {},
   "outputs": [],
   "source": [
    "hv.Image((phases[0], Bs, Currents))"
   ]
  },
  {
   "cell_type": "code",
   "execution_count": null,
   "metadata": {},
   "outputs": [],
   "source": [
    "import scipy.constants\n",
    "import cmath \n",
    "\n",
    "constants = dict(\n",
    "    m_eff=0.02 * scipy.constants.m_e / (scipy.constants.eV * 1e-3) / 1e18,  # effective mass in kg, \n",
    "    hbar=scipy.constants.hbar / (scipy.constants.eV * 1e-3),\n",
    "    e = scipy.constants.e,\n",
    "    current_unit=scipy.constants.k * scipy.constants.e / scipy.constants.hbar * 1e9,  # to get nA\n",
    "    mu_B=scipy.constants.physical_constants['Bohr magneton'][0] / (scipy.constants.eV * 1e-3),\n",
    "    k=scipy.constants.k / (scipy.constants.eV * 1e-3),\n",
    "    exp=cmath.exp,\n",
    "    cos=cmath.cos,\n",
    "    sin=cmath.sin\n",
    "   )\n",
    "\n",
    "syst_pars = {'L_down' :  100,\n",
    "               'L_up' : 100,\n",
    "               'L_m' : 400,\n",
    "               'L_x' : 800,\n",
    "               'a' :  10,\n",
    "               'mu_from_bottom_of_spin_orbit_bands': True,\n",
    "               'with_vlead' : True}\n",
    "\n",
    "params_raw= dict(g_factor_middle = 26,\n",
    "                 g_factor_left = 0,\n",
    "                 g_factor_right = 0,\n",
    "                 mu = 20,\n",
    "                 alpha_middle = 19.05,\n",
    "                 alpha_left = 0,\n",
    "                 alpha_right = 0,\n",
    "                 Delta_left = .2,\n",
    "                 Delta_right = .2,\n",
    "                 B = 0.5,\n",
    "                 phase = 0,\n",
    "                 T = 0.1,\n",
    "                 V = 0.0)\n",
    "\n",
    "params = dict(**constants,\n",
    "              **params_raw)"
   ]
  },
  {
   "cell_type": "code",
   "execution_count": null,
   "metadata": {},
   "outputs": [],
   "source": [
    "import os, sys\n",
    "sys.path.append(os.path.abspath('../../two_dim_majoranas/'))\n",
    "import formulas as f\n",
    "vf = f.fermi_velocity(params['mu'], 0.02)\n",
    "Eth = f.thouless_energy(vf, syst_pars['L_m'])\n",
    "print(Eth)"
   ]
  },
  {
   "cell_type": "code",
   "execution_count": null,
   "metadata": {},
   "outputs": [],
   "source": [
    "params['m_eff']*params['alpha_middle']**2/(2*params['hbar']**2)"
   ]
  },
  {
   "cell_type": "code",
   "execution_count": null,
   "metadata": {},
   "outputs": [],
   "source": [
    "params['hbar'] * (np.pi/2) * vf/syst_pars['L_m'] /.64"
   ]
  },
  {
   "cell_type": "code",
   "execution_count": null,
   "metadata": {},
   "outputs": [],
   "source": [
    "(params['hbar'] * vf/syst_pars['L_m'])"
   ]
  },
  {
   "cell_type": "code",
   "execution_count": null,
   "metadata": {},
   "outputs": [],
   "source": []
  }
 ],
 "metadata": {
  "language_info": {
   "name": "python",
   "pygments_lexer": "ipython3"
  }
 },
 "nbformat": 4,
 "nbformat_minor": 2
}
