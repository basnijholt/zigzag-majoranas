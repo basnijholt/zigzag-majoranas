{
 "cells": [
  {
   "cell_type": "code",
   "execution_count": null,
   "metadata": {},
   "outputs": [],
   "source": [
    "import kwant\n",
    "import numpy as np\n",
    "import adaptive\n",
    "adaptive.notebook_extension()\n",
    "\n",
    "import matplotlib.pyplot as plt\n",
    "\n",
    "import scipy.constants\n",
    "import cmath\n",
    "\n",
    "import os, sys\n",
    "sys.path.append(os.path.abspath('../../two_dim_majoranas/'))\n",
    "\n",
    "import sns_system, spectrum\n",
    "import holoviews as hv"
   ]
  },
  {
   "cell_type": "code",
   "execution_count": null,
   "metadata": {},
   "outputs": [],
   "source": [
    "def update_coloring(site_colors):\n",
    "    coloring =  {'middle_interior' : 'grey',\n",
    "                 'middle_barrier' : 'black',\n",
    "                 'bottom_superconductor' : 'gold',\n",
    "                 'top_superconductor' : 'gold',\n",
    "                 'top_cut' : 'red',\n",
    "                 'bottom_cut' : 'blue'}\n",
    "\n",
    "    for k,v in site_colors.items():\n",
    "        if site_colors.get(k) is not None:\n",
    "            try:\n",
    "                site_colors[k] = coloring[v]\n",
    "            except:\n",
    "                pass\n"
   ]
  },
  {
   "cell_type": "markdown",
   "metadata": {},
   "source": [
    "# Sytem dimension"
   ]
  },
  {
   "cell_type": "code",
   "execution_count": null,
   "metadata": {},
   "outputs": [],
   "source": [
    "syst_pars = dict(\n",
    "    L_m = 200,\n",
    "    L_x = 1600,\n",
    "    L_sc_up = 4000,\n",
    "    L_sc_down = 4000,\n",
    "    z_x = 800,\n",
    "    z_y = 200,\n",
    "    a   = 10,\n",
    "    shape = 'parallel_curve',\n",
    "    transverse_soi = True,\n",
    "    mu_from_bottom_of_spin_orbit_bands = True,\n",
    "    k_x_in_sc = True,\n",
    "    wraparound = False,\n",
    "    current = False,\n",
    "    ns_junction=False)"
   ]
  },
  {
   "cell_type": "markdown",
   "metadata": {},
   "source": [
    "# Make normal zigzag system"
   ]
  },
  {
   "cell_type": "code",
   "execution_count": null,
   "metadata": {},
   "outputs": [],
   "source": [
    "%%time\n",
    "syst, site_colors, hopping = sns_system.make_system(**syst_pars)\n",
    "update_coloring(site_colors)"
   ]
  },
  {
   "cell_type": "code",
   "execution_count": null,
   "metadata": {},
   "outputs": [],
   "source": [
    "kwant.plot(syst,site_color=sns_system.site_color_function(site_colors, syst));"
   ]
  },
  {
   "cell_type": "markdown",
   "metadata": {},
   "source": [
    "# Define parameters"
   ]
  },
  {
   "cell_type": "code",
   "execution_count": null,
   "metadata": {},
   "outputs": [],
   "source": [
    "constants = dict(\n",
    "    m_eff=0.02 * scipy.constants.m_e / (scipy.constants.eV * 1e-3) / 1e18,  # effective mass in kg, \n",
    "    hbar=scipy.constants.hbar / (scipy.constants.eV * 1e-3),\n",
    "    e = scipy.constants.e,\n",
    "    current_unit=scipy.constants.k * scipy.constants.e / scipy.constants.hbar * 1e9,  # to get nA\n",
    "    mu_B=scipy.constants.physical_constants['Bohr magneton'][0] / (scipy.constants.eV * 1e-3),\n",
    "    k=scipy.constants.k / (scipy.constants.eV * 1e-3),\n",
    "    exp=cmath.exp,\n",
    "    cos=cmath.cos,\n",
    "    sin=cmath.sin\n",
    "   )\n",
    "\n",
    "params_raw= dict(g_factor_middle = 26,\n",
    "                 g_factor_left = 0,\n",
    "                 g_factor_right = 0,\n",
    "                 mu = 10,\n",
    "                 alpha_middle = 20,\n",
    "                 alpha_left = 0,\n",
    "                 alpha_right = 0,\n",
    "                 Delta_left = .2,\n",
    "                 Delta_right = .2,\n",
    "                 B_x = 1, B_y = 0*-.1, B_z = 0,\n",
    "                 phase = np.pi,\n",
    "                 T = 0.0,\n",
    "                 V = 0)\n",
    "\n",
    "params = dict(**constants,\n",
    "              **params_raw)"
   ]
  },
  {
   "cell_type": "markdown",
   "metadata": {},
   "source": [
    "# Calculate spectrum and display majorana wavefunction"
   ]
  },
  {
   "cell_type": "code",
   "execution_count": null,
   "metadata": {},
   "outputs": [],
   "source": [
    "e, ev = spectrum.calc_spectrum(syst, params, k= 4)\n",
    "print(e)"
   ]
  },
  {
   "cell_type": "code",
   "execution_count": null,
   "metadata": {},
   "outputs": [],
   "source": [
    "d=kwant.operator.Density(syst)\n",
    "\n",
    "fig, ax = plt.subplots()\n",
    "kwant.plot(syst,site_color=sns_system.site_color_function(site_colors, syst), dpi=400, ax=ax)\n",
    "kwant.plotter.map(syst, d(ev[:,0]), ax=ax)\n",
    "ax.arrow(1000, 0, 200*params['B_x'],  200*params['B_y'],\n",
    "        width=40, color='r')"
   ]
  },
  {
   "cell_type": "markdown",
   "metadata": {},
   "source": [
    "# Create straight wire"
   ]
  },
  {
   "cell_type": "code",
   "execution_count": null,
   "metadata": {},
   "outputs": [],
   "source": [
    "sp=syst_pars.copy()\n",
    "sp['wraparound'] = True\n",
    "sp['shape'] = False\n",
    "\n",
    "sp['L_m'] = 200\n",
    "sp['L_x'] = sp['a']\n",
    "syst_straight, site_colors_straight, _ = sns_system.make_system(**sp)\n",
    "update_coloring(site_colors_straight)"
   ]
  },
  {
   "cell_type": "markdown",
   "metadata": {},
   "source": [
    "### Adjust magnetic field and calculate maximum k_x"
   ]
  },
  {
   "cell_type": "code",
   "execution_count": null,
   "metadata": {},
   "outputs": [],
   "source": [
    "def get_k_and_alpha(z_x, z_y, L_m, top_of_soi, **kwargs):\n",
    "    import formulas\n",
    "    theta = np.arctan(4*z_y/z_x)\n",
    "    L_y = 2*L_m/np.cos(theta)\n",
    "    Lp = np.sqrt((z_y + L_y)**2 + (z_x/4)**2)\n",
    "    \n",
    "    x = np.sqrt(L_y**2 - L_m**2)\n",
    "    Ld = np.sqrt((z_x/4)**2 + z_y**2)\n",
    "    \n",
    "    kp = 2*np.pi/Lp\n",
    "    alpha = np.arctan(4*(L_y + z_y)/z_x)-theta\n",
    "    \n",
    "    if top_of_soi:\n",
    "        energy = params['mu'] + params['m_eff']*params['alpha_middle']**2 / (params['hbar']**2)\n",
    "        kf = formulas.fermi_wavenumber(energy, 0.02) * syst_pars['a']\n",
    "    else:\n",
    "        kf = formulas.fermi_wavenumber(params['mu'], 0.02) * syst_pars['a']\n",
    "    \n",
    "    return (np.cos(alpha)*kf, alpha, theta)\n",
    "\n",
    "kp, alpha, theta = get_k_and_alpha(top_of_soi=False, **syst_pars, **params)\n",
    "print(\"kp =\", kp)"
   ]
  },
  {
   "cell_type": "markdown",
   "metadata": {},
   "source": [
    "### Calculate adjusted magnetic field and plot its base to prove it is correct"
   ]
  },
  {
   "cell_type": "code",
   "execution_count": null,
   "metadata": {},
   "outputs": [],
   "source": [
    "B = np.sqrt(params['B_x']**2 + params['B_y']**2)\n",
    "\n",
    "params['B_x'] = B * np.cos(theta)\n",
    "params['B_y'] = -B * np.sin(theta)\n",
    "\n",
    "# fig, ax = plt.subplots(dpi=100)\n",
    "# kwant.plot(syst, site_color=sns_system.site_color_function(site_colors, syst), ax=ax)\n",
    "# ax.arrow(0, 0, 200*np.cos(theta), 200*np.sin(theta),\n",
    "#         width=2, color='r')\n",
    "# ax.set_aspect(1)"
   ]
  },
  {
   "cell_type": "markdown",
   "metadata": {},
   "source": [
    "### Show adjusted magnetic field"
   ]
  },
  {
   "cell_type": "code",
   "execution_count": null,
   "metadata": {},
   "outputs": [],
   "source": [
    "params"
   ]
  },
  {
   "cell_type": "code",
   "execution_count": null,
   "metadata": {},
   "outputs": [],
   "source": [
    "N = 100\n",
    "fig, ax = plt.subplots(dpi=40)\n",
    "kwant.plot(syst_straight, site_color=sns_system.site_color_function(site_colors_straight, syst_straight), ax=ax)\n",
    "# ax.arrow(0, 0, 100*params['B_x'],  100*params['B_y'],\n",
    "#         width=10, color='r')\n",
    "ax.set_aspect(1)\n",
    "ax.set_xlim(-2*sp['a'], 20*sp['a']);\n",
    "ylim= sp['a']*(np.array(ax.get_ylim())//sp['a'])\n",
    "ylim-=ylim%(N*sp['a'])\n",
    "ax.set_yticks(np.arange(ylim[0], ylim[1], N*sp['a']));\n",
    "# ax.set_ylim(-100)\n"
   ]
  },
  {
   "cell_type": "markdown",
   "metadata": {},
   "source": [
    "# Calculate bandstructure"
   ]
  },
  {
   "cell_type": "code",
   "execution_count": null,
   "metadata": {},
   "outputs": [],
   "source": [
    "formulas.fermi_wavenumber(params['mu'], 0.02) * syst_pars['a']"
   ]
  },
  {
   "cell_type": "code",
   "execution_count": null,
   "metadata": {},
   "outputs": [],
   "source": [
    "def f(k):\n",
    "    p = params.copy()\n",
    "    p['k_x'] = k\n",
    "    e, _ = spectrum.calc_spectrum(syst_straight, p, k= 8)\n",
    "#     ham = syst_straight.hamiltonian_submatrix(params=p)\n",
    "#     e = np.linalg.eigvalsh(ham)\n",
    "    return np.sort(e)"
   ]
  },
  {
   "cell_type": "code",
   "execution_count": null,
   "metadata": {},
   "outputs": [],
   "source": [
    "kf = formulas.fermi_wavenumber(params['mu'], 0.02) * syst_pars['a']\n",
    "learner = adaptive.Learner1D(f, [-kf, kf])\n",
    "# learner = adaptive.Learner1D(f, [0, .4])"
   ]
  },
  {
   "cell_type": "code",
   "execution_count": null,
   "metadata": {},
   "outputs": [],
   "source": [
    "runner = adaptive.Runner(learner, ntasks=12)\n",
    "runner.live_info()"
   ]
  },
  {
   "cell_type": "code",
   "execution_count": null,
   "metadata": {},
   "outputs": [],
   "source": [
    "import formulas\n",
    "formulas.fermi_wavenumber(params['mu'], 0.02) * syst_pars['a'] "
   ]
  },
  {
   "cell_type": "code",
   "execution_count": null,
   "metadata": {},
   "outputs": [],
   "source": [
    "kp\n",
    "# 0.7449861537422936"
   ]
  },
  {
   "cell_type": "code",
   "execution_count": null,
   "metadata": {},
   "outputs": [],
   "source": [
    "# %%output filename='z_y140nm'\n",
    "learner.plot().redim(x='k_x', y='E(meV)')[:,-.2:.2]"
   ]
  },
  {
   "cell_type": "code",
   "execution_count": null,
   "metadata": {},
   "outputs": [],
   "source": [
    "points = []\n",
    "for k,v in learner.data.items():\n",
    "    for e in v:\n",
    "        points.append((k, e))"
   ]
  },
  {
   "cell_type": "code",
   "execution_count": null,
   "metadata": {},
   "outputs": [],
   "source": [
    "hv.Scatter(points)\n",
    "# [0:.4,-4:4]"
   ]
  },
  {
   "cell_type": "code",
   "execution_count": null,
   "metadata": {},
   "outputs": [],
   "source": []
  }
 ],
 "metadata": {
  "language_info": {
   "name": "python",
   "pygments_lexer": "ipython3"
  }
 },
 "nbformat": 4,
 "nbformat_minor": 2
}
