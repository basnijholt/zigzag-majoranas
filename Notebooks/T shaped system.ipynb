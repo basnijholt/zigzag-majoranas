{
 "cells": [
  {
   "cell_type": "code",
   "execution_count": null,
   "metadata": {},
   "outputs": [],
   "source": [
    "import os, sys\n",
    "sys.path.append(os.path.abspath('../../two_dim_majoranas/'))\n",
    "\n",
    "import hpc05\n",
    "import holoviews as hv\n",
    "\n",
    "import numpy as np\n",
    "import kwant\n",
    "import scipy.constants\n",
    "import cmath\n",
    "import functools as ft\n",
    "\n",
    "\n",
    "import sns_system, spectrum, topology, supercurrent\n",
    "\n",
    "from IPython.core.magic import register_cell_magic\n",
    "import ipywidgets as widgets\n",
    "run_cluster = widgets.Checkbox(\n",
    "    value=False,\n",
    "    description='Check to run cluster',\n",
    "    disabled=False\n",
    ")\n",
    "\n",
    "interactive_shell = get_ipython()\n",
    "@register_cell_magic\n",
    "def cluster_mark_checked(line, cell):\n",
    "    if run_cluster.value is True:\n",
    "        run_cluster.value = False\n",
    "        interactive_shell.run_cell(cell)\n",
    "    else:\n",
    "        return \"Command not run. Check the box above to run.\"\n",
    "\n",
    "del(cluster_mark_checked)\n",
    "run_cluster"
   ]
  },
  {
   "cell_type": "code",
   "execution_count": null,
   "metadata": {},
   "outputs": [],
   "source": [
    "%%cluster_mark_checked\n",
    "# client, dview, lview = hpc05.connect_ipcluster(20, folder='two_dim_majoranas')\n",
    "hpc05.kill_remote_ipcluster()\n",
    "# client, dview, lview = hpc05.start_remote_and_connect(20, folder='two_dim_majoranas')"
   ]
  },
  {
   "cell_type": "code",
   "execution_count": null,
   "metadata": {},
   "outputs": [],
   "source": [
    "client[:].use_pickle()"
   ]
  },
  {
   "cell_type": "code",
   "execution_count": null,
   "metadata": {},
   "outputs": [],
   "source": [
    "with client[:].sync_imports():\n",
    "    import numpy as np\n",
    "    import scipy.constants\n",
    "    import cmath\n",
    "\n",
    "    import functools as ft\n",
    "\n",
    "    import sns_system, spectrum, topology, supercurrent"
   ]
  },
  {
   "cell_type": "code",
   "execution_count": null,
   "metadata": {},
   "outputs": [],
   "source": [
    "%%px\n",
    "constants = dict(\n",
    "    m_eff=0.026 * scipy.constants.m_e / (scipy.constants.eV * 1e-3) / 1e18,  # effective mass in kg, \n",
    "    hbar=scipy.constants.hbar / (scipy.constants.eV * 1e-3),\n",
    "    e = scipy.constants.e,\n",
    "    current_unit=scipy.constants.k * scipy.constants.e / scipy.constants.hbar * 1e9,  # to get nA\n",
    "    mu_B=scipy.constants.physical_constants['Bohr magneton'][0] / (scipy.constants.eV * 1e-3),\n",
    "    k=scipy.constants.k / (scipy.constants.eV * 1e-3),\n",
    "    exp=cmath.exp,\n",
    "    cos=cmath.cos,\n",
    "    sin=cmath.sin\n",
    "   )"
   ]
  },
  {
   "cell_type": "markdown",
   "metadata": {},
   "source": [
    "# Make T shaped system"
   ]
  },
  {
   "cell_type": "code",
   "execution_count": null,
   "metadata": {},
   "outputs": [],
   "source": [
    "%%px\n",
    "def t_shaped_system(a, L_m, L_x, W_sc, L_lead, W_lead, offset_lead, W_t_lead,\n",
    "                    transverse_soi=True,\n",
    "                    mu_from_bottom_of_spin_orbit_bands=True,\n",
    "                    k_x_in_sc=False, leaded=True, **_):\n",
    "\n",
    "    #     HAMILTONIAN DEFINITIONS\n",
    "    template_strings = sns_system.get_template_strings(\n",
    "        transverse_soi, mu_from_bottom_of_spin_orbit_bands, k_x_in_sc)\n",
    "    \n",
    "    conservation_matrix = -supercurrent.sigz\n",
    "    \n",
    "    # TURN HAMILTONIAN STRINGS INTO TEMPLATES\n",
    "    kwargs = dict(coords=('x', 'y'), grid_spacing=a)\n",
    "    template_barrier = kwant.continuum.discretize(\n",
    "        template_strings['ham_barrier'], **kwargs)\n",
    "    template_normal = kwant.continuum.discretize(\n",
    "        template_strings['ham_normal'], **kwargs)\n",
    "    template_sc_left = kwant.continuum.discretize(\n",
    "        template_strings['ham_sc_left'], **kwargs)\n",
    "    template_sc_right = kwant.continuum.discretize(\n",
    "        template_strings['ham_sc_right'], **kwargs)\n",
    "\n",
    "    # SHAPE FUNCTIONS\n",
    "    def shape_barrier(site):\n",
    "        (x, y) = site.pos\n",
    "        return (0 <= x < L_x) and (y == 0 or y == L_m)\n",
    "\n",
    "    def shape_normal(site):\n",
    "        (x, y) = site.pos\n",
    "        return 0 <= x < L_x and a <= y < L_m\n",
    "\n",
    "    def shape_left_sc(site):\n",
    "        (x, y) = site.pos\n",
    "        return 0 <= x < L_x and -W_sc - a < y < 0\n",
    "\n",
    "    def shape_right_sc(site):\n",
    "        (x, y) = site.pos\n",
    "        return 0 <= x < L_x and L_m < y < L_m + a + W_sc\n",
    "    \n",
    "    syst = kwant.Builder(conservation_law=conservation_matrix)\n",
    "    \n",
    "    if leaded:\n",
    "        lead_down = kwant.Builder(kwant.TranslationalSymmetry([0, -a]))\n",
    "        lead_up = kwant.Builder(kwant.TranslationalSymmetry([0, a]))\n",
    "        \n",
    "        def shape_left_sc_lead(site):\n",
    "            (x, y) = site.pos\n",
    "            return offset_lead <= x <= offset_lead + W_lead #and -L_lead-W_sc - a < y < -W_sc\n",
    "\n",
    "        def shape_right_sc_lead(site):\n",
    "            (x, y) = site.pos\n",
    "            return offset_lead <= x <= offset_lead + W_lead #and L_m + W_sc < y < L_m + a + W_sc + L_lead\n",
    "    else:\n",
    "        lead_down = syst\n",
    "        lead_up = syst\n",
    "        def shape_left_sc_lead(site):\n",
    "            (x, y) = site.pos\n",
    "            return offset_lead <= x <= offset_lead + W_lead and -L_lead-W_sc - a < y < -W_sc\n",
    "\n",
    "        def shape_right_sc_lead(site):\n",
    "            (x, y) = site.pos\n",
    "            return offset_lead <= x <= offset_lead + W_lead and L_m + W_sc < y < L_m + a + W_sc + L_lead\n",
    "\n",
    "    # BUILD FINITE SYSTEM\n",
    "    lead_tunneling = kwant.Builder(kwant.TranslationalSymmetry([a, 0]), conservation_law=conservation_matrix)\n",
    "    def shape_tunneling_lead(site):\n",
    "        (x, y) = site.pos\n",
    "        return L_m//2 - W_t_lead//2 <= y <= L_m//2 + W_t_lead//2\n",
    "    lead_tunneling.fill(template_normal, shape_tunneling_lead, (0, L_m//2))\n",
    "\n",
    "    syst.fill(template_normal, shape_normal, (a, 0)[::-1])\n",
    "    syst.fill(template_barrier, shape_barrier, (0, 0)[::-1])\n",
    "    syst.fill(template_barrier, shape_barrier, (L_m, 0)[::-1])\n",
    "    syst.attach_lead(lead_tunneling)\n",
    "    syst.attach_lead(lead_tunneling.reversed())\n",
    "    if k_x_in_sc:\n",
    "        syst.fill(template_sc_left, shape_left_sc, (0, -a))\n",
    "        syst.fill(template_sc_right, shape_right_sc, (0, L_m + a))\n",
    "        lead_up.fill(template_sc_right, shape_right_sc_lead, (offset_lead, L_m + a + W_sc))\n",
    "        lead_down.fill(template_sc_left, shape_left_sc_lead, (offset_lead, -a + -W_sc))\n",
    "        if leaded:\n",
    "            syst.attach_lead(lead_down)\n",
    "            syst.attach_lead(lead_up)\n",
    "\n",
    "    else:\n",
    "        for y in np.arange(0, L_x, a):\n",
    "            syst.fill(template_sc_left, shape_left_sc, (y, -a))\n",
    "    syst = syst.finalized()\n",
    "\n",
    "    return syst"
   ]
  },
  {
   "cell_type": "code",
   "execution_count": null,
   "metadata": {},
   "outputs": [],
   "source": [
    "%%px\n",
    "syst_pars = dict(a=2.5, L_m=80, L_x=1600, W_sc=160, L_lead=800, W_lead=200, W_t_lead=20,\n",
    "                 offset_lead=100, k_x_in_sc=True, leaded=False)\n",
    "syst = t_shaped_system(**syst_pars)\n",
    "\n",
    "params_raw= dict(g_factor_middle = 10,\n",
    "                 g_factor_left = 0,\n",
    "                 g_factor_right = 0,\n",
    "                 mu = 74,\n",
    "                 alpha_middle = 10,\n",
    "                 alpha_left = 0,\n",
    "                 alpha_right = 0,\n",
    "                 Delta_left = .15,\n",
    "                 Delta_right = .15,\n",
    "                 B = 4,\n",
    "                 phase = np.pi/2,\n",
    "                 T = 0.0,\n",
    "                 V = 0.0)\n",
    "\n",
    "params = dict(**constants,\n",
    "              **params_raw)"
   ]
  },
  {
   "cell_type": "code",
   "execution_count": null,
   "metadata": {},
   "outputs": [],
   "source": [
    "import plotting_results\n",
    "plotting_results.plot_syst(params=params, syst=syst);"
   ]
  },
  {
   "cell_type": "code",
   "execution_count": null,
   "metadata": {},
   "outputs": [],
   "source": [
    "import formulas as f\n",
    "vf = f.fermi_velocity(params['mu'], 0.026)\n",
    "Eth = f.thouless_energy(vf, syst_pars['L_m'])\n",
    "Eth/(params['g_factor_middle']*params['mu_B'])"
   ]
  },
  {
   "cell_type": "code",
   "execution_count": null,
   "metadata": {},
   "outputs": [],
   "source": [
    "Eth"
   ]
  },
  {
   "cell_type": "code",
   "execution_count": null,
   "metadata": {},
   "outputs": [],
   "source": [
    "kf = f.fermi_wavenumber(params['mu'], 0.026)\n",
    "1/kf"
   ]
  },
  {
   "cell_type": "code",
   "execution_count": null,
   "metadata": {},
   "outputs": [],
   "source": [
    "params['hbar']*vf/(np.pi*params['Delta_left'])"
   ]
  },
  {
   "cell_type": "code",
   "execution_count": null,
   "metadata": {},
   "outputs": [],
   "source": [
    "f.density_to_mu(8e11/1e14, 0.026)"
   ]
  },
  {
   "cell_type": "code",
   "execution_count": null,
   "metadata": {},
   "outputs": [],
   "source": [
    "params['hbar']**2 * np.pi**2 / (2 * 0.026/0.023*params['m_eff'] * (syst_pars['L_m'])**2)"
   ]
  },
  {
   "cell_type": "code",
   "execution_count": null,
   "metadata": {},
   "outputs": [],
   "source": [
    "ham = syst.hamiltonian_submatrix(params=params, sparse=True)\n",
    "d = kwant.operator.Density(syst)\n",
    "e, ev = spectrum.mumps_eigsh(ham,4,0)"
   ]
  },
  {
   "cell_type": "code",
   "execution_count": null,
   "metadata": {},
   "outputs": [],
   "source": [
    "e"
   ]
  },
  {
   "cell_type": "code",
   "execution_count": null,
   "metadata": {},
   "outputs": [],
   "source": [
    "kwant.plotter.map(syst, np.abs(d(ev[:,0])), oversampling=1, fig_size=5); #2.5nm"
   ]
  },
  {
   "cell_type": "code",
   "execution_count": null,
   "metadata": {},
   "outputs": [],
   "source": []
  },
  {
   "cell_type": "code",
   "execution_count": null,
   "metadata": {},
   "outputs": [],
   "source": [
    "from multiprocessing import Pool"
   ]
  },
  {
   "cell_type": "code",
   "execution_count": null,
   "metadata": {},
   "outputs": [],
   "source": [
    "p=Pool(12)"
   ]
  },
  {
   "cell_type": "code",
   "execution_count": null,
   "metadata": {},
   "outputs": [],
   "source": [
    "def G(e):\n",
    "    smat = kwant.smatrix(syst, energy=e, params=params)\n",
    "    return smat.conductance_matrix()[0][0]"
   ]
  },
  {
   "cell_type": "code",
   "execution_count": null,
   "metadata": {},
   "outputs": [],
   "source": [
    "G(.11)"
   ]
  },
  {
   "cell_type": "code",
   "execution_count": null,
   "metadata": {},
   "outputs": [],
   "source": [
    "res = p.map(G, np.linspace(-.2, .2, 101))"
   ]
  },
  {
   "cell_type": "code",
   "execution_count": null,
   "metadata": {},
   "outputs": [],
   "source": [
    "res"
   ]
  },
  {
   "cell_type": "code",
   "execution_count": null,
   "metadata": {},
   "outputs": [],
   "source": [
    "hv.notebook_extension()\n",
    "hv.Curve(res)"
   ]
  },
  {
   "cell_type": "code",
   "execution_count": null,
   "metadata": {},
   "outputs": [],
   "source": []
  }
 ],
 "metadata": {
  "language_info": {
   "name": "python",
   "pygments_lexer": "ipython3"
  }
 },
 "nbformat": 4,
 "nbformat_minor": 2
}
