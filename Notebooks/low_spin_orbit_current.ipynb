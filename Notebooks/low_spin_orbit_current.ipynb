{
 "cells": [
  {
   "cell_type": "markdown",
   "metadata": {},
   "source": [
    "# Imports"
   ]
  },
  {
   "cell_type": "code",
   "execution_count": null,
   "metadata": {},
   "outputs": [],
   "source": [
    "%load_ext autoreload"
   ]
  },
  {
   "cell_type": "code",
   "execution_count": null,
   "metadata": {},
   "outputs": [],
   "source": [
    "import os, sys\n",
    "import holoviews as hv\n",
    "sys.path.append(os.path.abspath('../../two_dim_majoranas/'))\n",
    "import hpc05\n",
    "\n",
    "import ipywidgets as widgets\n",
    "run_cluster = widgets.Checkbox(\n",
    "    value=False,\n",
    "    description='Check to run cluster',\n",
    "    disabled=False\n",
    ")\n",
    "def assert_cluster_checked():\n",
    "    assert run_cluster.value is True, \"Command not run. Check the box above to run.\""
   ]
  },
  {
   "cell_type": "code",
   "execution_count": null,
   "metadata": {},
   "outputs": [],
   "source": [
    "import adaptive\n",
    "adaptive.notebook_extension()\n",
    "\n",
    "import numpy as np\n",
    "import scipy.constants\n",
    "import cmath\n",
    "\n",
    "import functools as ft\n",
    "\n",
    "import sns_system, plotting_results\n",
    "from distributed_sns import AggregatesSimulationSet as ASS\n",
    "from distributed_sns import SimulationSet as SS"
   ]
  },
  {
   "cell_type": "markdown",
   "metadata": {},
   "source": [
    "### Define constants"
   ]
  },
  {
   "cell_type": "code",
   "execution_count": null,
   "metadata": {},
   "outputs": [],
   "source": [
    "constants = dict(\n",
    "    m_eff=0.023 * scipy.constants.m_e / (scipy.constants.eV * 1e-3) / 1e18,  # effective mass in kg, \n",
    "    hbar=scipy.constants.hbar / (scipy.constants.eV * 1e-3),\n",
    "    e = scipy.constants.e,\n",
    "    current_unit=scipy.constants.k * scipy.constants.e / scipy.constants.hbar * 1e9,  # to get nA\n",
    "    mu_B=scipy.constants.physical_constants['Bohr magneton'][0] / (scipy.constants.eV * 1e-3),\n",
    "    k=scipy.constants.k / (scipy.constants.eV * 1e-3),\n",
    "    exp=cmath.exp,\n",
    "    cos=cmath.cos,\n",
    "    sin=cmath.sin\n",
    "   )"
   ]
  },
  {
   "cell_type": "markdown",
   "metadata": {},
   "source": [
    "# Cluster setup"
   ]
  },
  {
   "cell_type": "code",
   "execution_count": null,
   "metadata": {},
   "outputs": [],
   "source": [
    "run_cluster"
   ]
  },
  {
   "cell_type": "code",
   "execution_count": null,
   "metadata": {},
   "outputs": [],
   "source": [
    "assert_cluster_checked()\n",
    "hpc05.kill_remote_ipcluster()\n",
    "run_cluster.value = False"
   ]
  },
  {
   "cell_type": "code",
   "execution_count": null,
   "metadata": {},
   "outputs": [],
   "source": [
    "assert_cluster_checked()\n",
    "client, dview, lview = hpc05.start_remote_and_connect(300, folder='~/two_dim_majoranas', timeout=180)\n",
    "run_cluster.value = False"
   ]
  },
  {
   "cell_type": "markdown",
   "metadata": {},
   "source": [
    "# Define and plot system"
   ]
  },
  {
   "cell_type": "code",
   "execution_count": null,
   "metadata": {},
   "outputs": [],
   "source": [
    "syst_pars = {'Ll' :  500,\n",
    "               'Lr' : 500,\n",
    "               'Lm' : 500,\n",
    "               'Ly' : 12.5,\n",
    "               'a' :  12.5,\n",
    "            'mu_from_bottom_of_spin_orbit_bands': True}\n",
    "\n",
    "_=plotting_results.plot_syst(syst_pars, sns_system.dummy_params)"
   ]
  },
  {
   "cell_type": "markdown",
   "metadata": {},
   "source": [
    "# Define standard parameters"
   ]
  },
  {
   "cell_type": "code",
   "execution_count": null,
   "metadata": {},
   "outputs": [],
   "source": [
    "params_raw= dict(g_factor_middle = 10,\n",
    "                 g_factor_left = 0,\n",
    "                 g_factor_right = 0,\n",
    "                 mu = 10.0,\n",
    "                 alpha_middle = 28,\n",
    "                 alpha_left = 28,\n",
    "                 alpha_right = 28,\n",
    "                 Delta_left = .18,\n",
    "                 Delta_right = .18,\n",
    "                 B = 0.5,\n",
    "                 phase = np.pi/2,\n",
    "                 T = 0.025)\n",
    "\n",
    "params = dict(**constants,\n",
    "              **params_raw)"
   ]
  },
  {
   "cell_type": "markdown",
   "metadata": {},
   "source": [
    "### Define keys to be varied"
   ]
  },
  {
   "cell_type": "code",
   "execution_count": null,
   "metadata": {},
   "outputs": [],
   "source": [
    "keys_with_bounds = {\"phase\":[0, 2*np.pi],\n",
    "                    \"B\":[0,1.2]}"
   ]
  },
  {
   "cell_type": "markdown",
   "metadata": {},
   "source": [
    "### Define metrics to be recorded"
   ]
  },
  {
   "cell_type": "code",
   "execution_count": null,
   "metadata": {},
   "outputs": [],
   "source": [
    "metric_params_dict = {\n",
    "                       \"current\":{\"tol\":0.1}}"
   ]
  },
  {
   "cell_type": "markdown",
   "metadata": {},
   "source": [
    "### Define data folder"
   ]
  },
  {
   "cell_type": "code",
   "execution_count": null,
   "metadata": {},
   "outputs": [],
   "source": [
    "data_folder = 'low_spin_orbit_current'"
   ]
  },
  {
   "cell_type": "markdown",
   "metadata": {},
   "source": [
    "# Make ASS"
   ]
  },
  {
   "cell_type": "code",
   "execution_count": null,
   "metadata": {},
   "outputs": [],
   "source": [
    "%autoreload\n",
    "ASS= distributed_sns.AggregatesSimulationSet"
   ]
  },
  {
   "cell_type": "code",
   "execution_count": null,
   "metadata": {},
   "outputs": [],
   "source": [
    "ass = ASS(keys_with_bounds,\n",
    "              syst_pars, params,\n",
    "              metric_params_dict)"
   ]
  },
  {
   "cell_type": "markdown",
   "metadata": {},
   "source": [
    "### Add additional dimensions"
   ]
  },
  {
   "cell_type": "code",
   "execution_count": null,
   "metadata": {},
   "outputs": [],
   "source": [
    "alphas = [0.1, 1, 5, 10]"
   ]
  },
  {
   "cell_type": "code",
   "execution_count": null,
   "metadata": {},
   "outputs": [],
   "source": [
    "def _params_alpha(syst_pars, params, alpha):\n",
    "    for key in ['alpha_middle', 'alpha_left', 'alpha_right']:\n",
    "        if key in params:\n",
    "            params[key] = alpha\n",
    "        if key in syst_pars:\n",
    "            syst_pars[key] = alpha\n",
    "    return alpha\n",
    "\n",
    "params_alpha = [ft.partial(_params_alpha,\n",
    "                           alpha=_alpha\n",
    "                           ) for _alpha in alphas]"
   ]
  },
  {
   "cell_type": "code",
   "execution_count": null,
   "metadata": {},
   "outputs": [],
   "source": [
    "ass.add_dimension(\"alpha\", params_alpha)"
   ]
  },
  {
   "cell_type": "code",
   "execution_count": null,
   "metadata": {},
   "outputs": [],
   "source": [
    "temperatures = [0.0, 0.1, 0.2, 0.3]"
   ]
  },
  {
   "cell_type": "code",
   "execution_count": null,
   "metadata": {},
   "outputs": [],
   "source": [
    "def _params_temperature(syst_pars, params, temperature):\n",
    "    for key in ['T']:\n",
    "        if key in params:\n",
    "            params[key] = temperature\n",
    "        if key in syst_pars:\n",
    "            syst_pars[key] = temperature\n",
    "    return temperature\n",
    "\n",
    "params_temperature = [ft.partial(_params_temperature,\n",
    "                           temperature=_temperature\n",
    "                           ) for _temperature in temperatures]"
   ]
  },
  {
   "cell_type": "code",
   "execution_count": null,
   "metadata": {},
   "outputs": [],
   "source": [
    "ass.add_dimension(\"temperature\", params_temperature)"
   ]
  },
  {
   "cell_type": "code",
   "execution_count": null,
   "metadata": {},
   "outputs": [],
   "source": [
    "mus = [0.1, 1, 10, 20]"
   ]
  },
  {
   "cell_type": "code",
   "execution_count": null,
   "metadata": {},
   "outputs": [],
   "source": [
    "def _params_mu(syst_pars, params, mu):\n",
    "    for key in ['mu']:\n",
    "        if key in params:\n",
    "            params[key] = mu\n",
    "        if key in syst_pars:\n",
    "            syst_pars[key] = mu\n",
    "    return mu\n",
    "\n",
    "params_mu = [ft.partial(_params_mu,\n",
    "                           mu=_mu\n",
    "                           ) for _mu in mus]"
   ]
  },
  {
   "cell_type": "code",
   "execution_count": null,
   "metadata": {},
   "outputs": [],
   "source": [
    "ass.add_dimension(\"mu\", params_mu)"
   ]
  },
  {
   "cell_type": "markdown",
   "metadata": {},
   "source": [
    "### Make learner"
   ]
  },
  {
   "cell_type": "code",
   "execution_count": null,
   "metadata": {},
   "outputs": [],
   "source": [
    "ass.make_balancing_learner(1000)\n",
    "ass.load(data_folder, 1000)"
   ]
  },
  {
   "cell_type": "markdown",
   "metadata": {},
   "source": [
    "### Make runner with saver"
   ]
  },
  {
   "cell_type": "code",
   "execution_count": null,
   "metadata": {},
   "outputs": [],
   "source": [
    "runner = adaptive.Runner(ass.get_balancing_learner(), executor=client)\n",
    "ass.start_periodic_saver(runner, data_folder, interval=180)\n",
    "runner.live_info()"
   ]
  },
  {
   "cell_type": "code",
   "execution_count": null,
   "metadata": {},
   "outputs": [],
   "source": [
    "runner.cancel()"
   ]
  },
  {
   "cell_type": "markdown",
   "metadata": {},
   "source": [
    "# Plot"
   ]
  },
  {
   "cell_type": "code",
   "execution_count": null,
   "metadata": {},
   "outputs": [],
   "source": [
    "ass.learner._points.clear()"
   ]
  },
  {
   "cell_type": "code",
   "execution_count": null,
   "metadata": {},
   "outputs": [],
   "source": [
    "[(l.npoints, l.loss()) for l in ass.learner.learners]\n",
    "\n"
   ]
  },
  {
   "cell_type": "code",
   "execution_count": null,
   "metadata": {},
   "outputs": [],
   "source": [
    "hv.extension('matplotlib')"
   ]
  },
  {
   "cell_type": "code",
   "execution_count": null,
   "metadata": {},
   "outputs": [],
   "source": [
    "kf_normal = lambda mu: np.sqrt(2*params['m_eff']*mu)/params['hbar']\n",
    "kfso = lambda alpha: params['m_eff']*alpha/params['hbar']**2\n",
    "def plot_fermi_surface(mu, alpha, **_):\n",
    "    theta = np.linspace(0, 2*np.pi)\n",
    "    r0 = kf_normal(mu) - kfso(alpha)\n",
    "    r1 = kf_normal(mu) + kfso(alpha)\n",
    "    x0, y0 = (r0*np.cos(theta), r0*np.sin(theta))\n",
    "    x1, y1 = (r1*np.cos(theta), r1*np.sin(theta))\n",
    "    return (hv.Path((x0,y0))*hv.Path((x1,y1)))[-r1:r1,-r1:r1]"
   ]
  },
  {
   "cell_type": "code",
   "execution_count": null,
   "metadata": {},
   "outputs": [],
   "source": [
    "N_POINTS=100\n",
    "kdims, plot_dict = ass.get_plot_dict(N_POINTS, tables=True)\n",
    "pdict = dict((k,v[:,:]) for k,v in plot_dict.items())\n",
    "\n",
    "plot_dict_min_curr={}\n",
    "plot_dict_Ic={}\n",
    "total_dict={}\n",
    "for k,v in pdict.items():\n",
    "    image =v.items()[0][1]\n",
    "    x0, y0, x1, y1 = image.lbrt\n",
    "    xdim=np.linspace(x0, x1, N_POINTS)\n",
    "    ydim=np.linspace(y0, y1, N_POINTS)\n",
    "    plot_dict_min_curr[k] = hv.Path((xdim[np.argmin(image.data, axis=1)], ydim))\n",
    "    plot_dict_Ic[k] = hv.Path((np.max(image.data, axis=1) - np.min(image.data, axis=1),ydim))\n",
    "    \n",
    "    total_dict[k] = (image * plot_dict_min_curr[k] \n",
    "                     + plot_dict_Ic[k][:plot_dict_Ic[k].range('x')[1],:]\n",
    "                     + plot_fermi_surface(**dict(zip(kdims, k)))\n",
    "                     + v.items()[1][1]\n",
    "                     + v.items()[2][1]\n",
    "                    )\n",
    "\n",
    "    \n"
   ]
  },
  {
   "cell_type": "code",
   "execution_count": null,
   "metadata": {},
   "outputs": [],
   "source": [
    "%%opts Image {+framewise +axiswise} [colorbar=True aspect=1]\n",
    "%%opts Path (color='red') {+framewise +axiswise} [aspect=1] \n",
    "hv.HoloMap(total_dict, kdims=kdims)"
   ]
  },
  {
   "cell_type": "code",
   "execution_count": null,
   "metadata": {},
   "outputs": [],
   "source": [
    "%%opts Image {+framewise +axiswise} [colorbar=True aspect=1]\n",
    "%%opts Path (color='red') {+framewise +axiswise} [aspect=1] \n",
    "%%output filename=f\"./{data_folder}/spin_orbit_bottom_of_band\" fig='png'\n",
    "N_POINTS=100\n",
    "kdims, plot_dict = ass.get_plot_dict(N_POINTS)\n",
    "pdict = dict((k,v[:,:]) for k,v in plot_dict.items())\n",
    "\n",
    "plot_dict_min_curr={}\n",
    "plot_dict_Ic={}\n",
    "for k,v in pdict.items():\n",
    "    x0, y0, x1, y1 = r.lbrt\n",
    "    xdim=np.linspace(x0, x1, N_POINTS)\n",
    "    ydim=np.linspace(y0, y1, N_POINTS)\n",
    "    plot_dict_min_curr[k] = hv.Path((xdim[np.argmin(v.data, axis=1)], ydim))\n",
    "    plot_dict_Ic[k] = hv.Path((np.max(v.data, axis=1) - np.min(v.data, axis=1),ydim))\n",
    "(hv.HoloMap(pdict, kdims=kdims) * \n",
    " hv.HoloMap(plot_dict_min_curr, kdims=kdims) + \n",
    " hv.HoloMap({k:v[:v.range('x')[1],:] for k,v in plot_dict_Ic.items()}, kdims=kdims) +\n",
    " hv.HoloMap({k:plot_fermi_surface(**dict(zip(kdims, k))) for k,v in plot_dict_Ic.items()}, kdims=kdims)\n",
    ")"
   ]
  },
  {
   "cell_type": "code",
   "execution_count": null,
   "metadata": {},
   "outputs": [],
   "source": [
    "kf_normal = lambda mu: np.sqrt(2*params['m_eff']*mu)/params['hbar']\n",
    "kfso = lambda alpha: params['m_eff']*alpha/params['hbar']**2\n",
    "def plot_fermi_surface(mu, alpha, **_):\n",
    "    theta = np.linspace(0, 2*np.pi)\n",
    "    r0 = kf_normal(mu) - kfso(alpha)\n",
    "    r1 = kf_normal(mu) + kfso(alpha)\n",
    "    x0, y0 = (r0*np.cos(theta), r0*np.sin(theta))\n",
    "    x1, y1 = (r1*np.cos(theta), r1*np.sin(theta))\n",
    "    return (hv.Path((x0,y0))*hv.Path((x1,y1)))[-r1:r1,-r1:r1]"
   ]
  },
  {
   "cell_type": "code",
   "execution_count": null,
   "metadata": {},
   "outputs": [],
   "source": [
    "def dispersion(kx, ky, mu, alpha, B):\n",
    "    m = params['m_eff']\n",
    "    hbar = params['hbar']\n",
    "    Ez = params['g_factor_middle'] * params['mu_B'] * B\n",
    "    Ekin = hbar**2/(2*m) * (kx**2 + ky**2) - mu + m*alpha**2/(2*hbar**2)\n",
    "    Eso  = np.sqrt(alpha**2*ky**2 + (alpha*kx - Ez)**2)\n",
    "    return (Ekin + Eso, Ekin - Eso)"
   ]
  },
  {
   "cell_type": "code",
   "execution_count": null,
   "metadata": {},
   "outputs": [],
   "source": []
  }
 ],
 "metadata": {
  "language_info": {
   "name": "python",
   "pygments_lexer": "ipython3"
  }
 },
 "nbformat": 4,
 "nbformat_minor": 2
}
