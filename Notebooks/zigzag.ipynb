{
 "cells": [
  {
   "cell_type": "code",
   "execution_count": null,
   "metadata": {},
   "outputs": [],
   "source": [
    "import os, sys\n",
    "sys.path.append(os.path.abspath('../../two_dim_majoranas/'))\n",
    "\n",
    "import hpc05\n",
    "import holoviews as hv\n",
    "\n",
    "import numpy as np\n",
    "import kwant\n",
    "import scipy.constants\n",
    "import cmath\n",
    "import functools as ft\n",
    "\n",
    "\n",
    "import sns_system, spectrum, topology, supercurrent\n",
    "\n",
    "from IPython.core.magic import register_cell_magic\n",
    "import ipywidgets as widgets\n",
    "run_cluster = widgets.Checkbox(\n",
    "    value=False,\n",
    "    description='Check to run cluster',\n",
    "    disabled=False\n",
    ")\n",
    "\n",
    "interactive_shell = get_ipython()\n",
    "@register_cell_magic\n",
    "def cluster_mark_checked(line, cell):\n",
    "    if run_cluster.value is True:\n",
    "        run_cluster.value = False\n",
    "        interactive_shell.run_cell(cell)\n",
    "    else:\n",
    "        return \"Command not run. Check the box above to run.\"\n",
    "\n",
    "del(cluster_mark_checked)\n",
    "run_cluster"
   ]
  },
  {
   "cell_type": "code",
   "execution_count": null,
   "metadata": {},
   "outputs": [],
   "source": [
    "%%cluster_mark_checked\n",
    "# client, dview, lview = hpc05.connect_ipcluster(20, folder='two_dim_majoranas')\n",
    "hpc05.kill_remote_ipcluster()\n",
    "# client, dview, lview = hpc05.start_remote_and_connect(20, folder='two_dim_majoranas')"
   ]
  },
  {
   "cell_type": "code",
   "execution_count": null,
   "metadata": {},
   "outputs": [],
   "source": [
    "import numpy as np\n",
    "import scipy.constants\n",
    "import cmath\n",
    "\n",
    "import functools as ft\n",
    "\n",
    "import sns_system, spectrum, topology, supercurrent"
   ]
  },
  {
   "cell_type": "code",
   "execution_count": null,
   "metadata": {},
   "outputs": [],
   "source": [
    "constants = dict(\n",
    "    m_eff=0.02 * scipy.constants.m_e / (scipy.constants.eV * 1e-3) / 1e18,  # effective mass in kg, \n",
    "    hbar=scipy.constants.hbar / (scipy.constants.eV * 1e-3),\n",
    "    e = scipy.constants.e,\n",
    "    current_unit=scipy.constants.k * scipy.constants.e / scipy.constants.hbar * 1e9,  # to get nA\n",
    "    mu_B=scipy.constants.physical_constants['Bohr magneton'][0] / (scipy.constants.eV * 1e-3),\n",
    "    k=scipy.constants.k / (scipy.constants.eV * 1e-3),\n",
    "    exp=cmath.exp,\n",
    "    cos=cmath.cos,\n",
    "    sin=cmath.sin\n",
    "   )"
   ]
  },
  {
   "cell_type": "markdown",
   "metadata": {},
   "source": [
    "# Make T shaped system"
   ]
  },
  {
   "cell_type": "code",
   "execution_count": null,
   "metadata": {},
   "outputs": [],
   "source": [
    "\n",
    "def l_shaped_system(a, L_m, L_x, z_x, z_y, W_up, W_down, edge_thickness=1,\n",
    "                    transverse_soi=True,\n",
    "                    mu_from_bottom_of_spin_orbit_bands=True,\n",
    "                    k_x_in_sc=False, leaded=True, **_):\n",
    "\n",
    "    #     HAMILTONIAN DEFINITIONS\n",
    "    template_strings = sns_system.get_template_strings(\n",
    "        transverse_soi, mu_from_bottom_of_spin_orbit_bands, k_x_in_sc)\n",
    "    \n",
    "    conservation_matrix = -supercurrent.sigz\n",
    "    \n",
    "    # TURN HAMILTONIAN STRINGS INTO TEMPLATES\n",
    "    kwargs = dict(coords=('x', 'y'), grid_spacing=a)\n",
    "    template_barrier = kwant.continuum.discretize(\n",
    "        template_strings['ham_barrier'], **kwargs)\n",
    "    template_normal = kwant.continuum.discretize(\n",
    "        template_strings['ham_normal'], **kwargs)\n",
    "    template_sc_left = kwant.continuum.discretize(\n",
    "        template_strings['ham_sc_left'], **kwargs)\n",
    "    template_sc_right = kwant.continuum.discretize(\n",
    "        template_strings['ham_sc_right'], **kwargs)\n",
    "\n",
    "    def union_shape(shapes):\n",
    "        def _shape(pos):\n",
    "            res = False\n",
    "            for shape in shapes:\n",
    "                res |= shape(pos)\n",
    "            return res\n",
    "        return _shape\n",
    "        \n",
    "    def intersection_shape(shape_A, shape_B):\n",
    "        def _shape(pos):\n",
    "            return shape_A(pos) and not shape_B(pos)\n",
    "        return _shape\n",
    "    \n",
    "    def below_zigzag(z_x, z_y, offset):\n",
    "        def shape(site):\n",
    "            x, y = site.pos - offset\n",
    "            if 0 <= x < z_x:\n",
    "                return y < x * z_y / z_x\n",
    "            if z_x <= x < 2*z_x:\n",
    "                return y < z_y - (x - z_x) * z_y / z_x\n",
    "            else:\n",
    "                return False\n",
    "        return shape\n",
    "    \n",
    "    def above_zigzag(z_x, z_y, offset):\n",
    "        def shape(pos):\n",
    "            return not below_zigzag(z_x, z_y, offset)(pos)\n",
    "        return shape\n",
    "    \n",
    "    def within_zigzag(z_x, z_y, offset):\n",
    "        def shape(pos):\n",
    "            x, y = pos.pos\n",
    "            return below_zigzag(z_x, z_y, (offset[0], offset[1] + L_m))(pos) and above_zigzag(z_x, z_y, offset)(pos) and 0<=x<L_x\n",
    "        return shape\n",
    "    \n",
    "    def edge_zigzag(z_x, z_y, offset):\n",
    "        def shape(pos):\n",
    "            x, y = pos.pos\n",
    "            return ((below_zigzag(z_x, z_y, (offset[0], offset[1] + L_m))(pos) and above_zigzag(z_x, z_y, (offset[0], offset[1] + L_m-a*edge_thickness))(pos) and 0<=x<L_x)\n",
    "                    or\n",
    "                   (below_zigzag(z_x, z_y, (offset[0], offset[1] +edge_thickness*a))(pos) and above_zigzag(z_x, z_y, (offset[0], offset[1]))(pos) and 0<=x<L_x))\n",
    "        return shape\n",
    "    \n",
    "    number_of_zigzags = int(L_x // (2*z_x))+1\n",
    "    within_zigzag_shapes = [within_zigzag(z_x, z_y, (2*z_x*i, 0)) for i in range(number_of_zigzags)]\n",
    "    edge_zigzag_shapes = [edge_zigzag(z_x, z_y, (2*z_x*i, 0)) for i in range(number_of_zigzags)]\n",
    "    edge_shape =union_shape(edge_zigzag_shapes)\n",
    "    \n",
    "    middle_shape_with_edge = union_shape(within_zigzag_shapes)\n",
    "    middle_shape = intersection_shape(middle_shape_with_edge, edge_shape)\n",
    "    \n",
    "    def top_shape_block(site):\n",
    "        x, y = site.pos\n",
    "        return 0 <= x < L_x and 0 <= y < L_m + z_y + W_up\n",
    "    top_shape_with_some_down = intersection_shape(top_shape_block, middle_shape_with_edge)\n",
    "    \n",
    "    def down_shape_block(site):\n",
    "        x, y = site.pos\n",
    "        return 0 <= x < L_x and -W_down <= y < L_m + z_y\n",
    "    down_shape_with_some_top = intersection_shape(down_shape_block, middle_shape_with_edge)\n",
    "    \n",
    "    top_shape = top_shape_with_some_down\n",
    "#     intersection_shape(top_shape_with_some_down, down_shape_with_some_top)\n",
    "    down_shape = down_shape_with_some_top\n",
    "#     intersection_shape(down_shape_with_some_top, top_shape)\n",
    "    \n",
    "    # BUILD FINITE SYSTEM\n",
    "    syst = kwant.Builder()\n",
    "    syst.fill(template_normal, middle_shape, (0, L_m//2))\n",
    "    \n",
    "    if edge_thickness == 1:\n",
    "        for x in np.arange(0, L_x, a):\n",
    "            y = (x%z_x)*z_y/z_x\n",
    "            if (x//z_x)%2 == 1:\n",
    "                y = z_y - y\n",
    "\n",
    "            syst.fill(template_barrier, edge_shape, (x, y))\n",
    "            syst.fill(template_barrier, edge_shape, (x, y + L_m-a))\n",
    "    \n",
    "    else:  \n",
    "        syst.fill(template_barrier, edge_shape, (0, 0))\n",
    "        syst.fill(template_barrier, edge_shape, (0, L_m-a))\n",
    "    \n",
    "    syst.fill(template_sc_left, top_shape, (0, L_m))\n",
    "    syst.fill(template_sc_right, down_shape, (0, -a))\n",
    "    \n",
    "    syst = syst.finalized()\n",
    "\n",
    "    return syst"
   ]
  },
  {
   "cell_type": "code",
   "execution_count": null,
   "metadata": {},
   "outputs": [],
   "source": [
    "\n",
    "params_raw= dict(g_factor_middle = 26,\n",
    "                 g_factor_left = 0,\n",
    "                 g_factor_right = 0,\n",
    "                 mu = 10,\n",
    "                 alpha_middle = 20,\n",
    "                 alpha_left = 0,\n",
    "                 alpha_right = 0,\n",
    "                 Delta_left = 2,\n",
    "                 Delta_right = 2,\n",
    "                 B = .58,\n",
    "                 phase = 3.14,\n",
    "                 T = 0.0,\n",
    "                 V = 13.0)\n",
    "\n",
    "syst_pars = dict(a=10, L_m=300, L_x=2450, W_up=200, W_down=200, z_x=350, z_y=350,\n",
    "                 offset_lead=100, k_x_in_sc=True, leaded=False)\n",
    "syst_pars = dict(a=10, L_m=400, L_x=8000, W_up=200, W_down=200, z_x=350, z_y=0,\n",
    "                 offset_lead=100, k_x_in_sc=True, leaded=False)\n",
    "\n",
    "params = dict(**constants,\n",
    "              **params_raw)"
   ]
  },
  {
   "cell_type": "code",
   "execution_count": null,
   "metadata": {},
   "outputs": [],
   "source": [
    "import plotting_results\n",
    "syst = l_shaped_system(**syst_pars)\n",
    "ax1=plotting_results.plot_syst(syst=syst, params=params);\n",
    "# ax1.delaxes(ax1.axes[1])\n",
    "# ax1.set_size_inches(20, 10)\n",
    "# ax1.savefig('L_system')"
   ]
  },
  {
   "cell_type": "code",
   "execution_count": null,
   "metadata": {},
   "outputs": [],
   "source": [
    "import formulas as f\n",
    "vf = f.fermi_velocity(10, 0.02)\n",
    "f.thouless_energy(vf, 400)/26/params['mu_B']\n"
   ]
  },
  {
   "cell_type": "code",
   "execution_count": null,
   "metadata": {},
   "outputs": [],
   "source": [
    "_syst_pars = dict(a=5, L_m=400, L_x=1000, L_up=200, L_down=200,\n",
    "                  k_x_in_sc=True,)\n",
    "\n",
    "_=sns_system.make_ns_junction(**_syst_pars)\n",
    "\n",
    "import scattering\n",
    "scattering.transparency(_, params)"
   ]
  },
  {
   "cell_type": "code",
   "execution_count": null,
   "metadata": {},
   "outputs": [],
   "source": [
    "ham = syst.hamiltonian_submatrix(params=params, sparse=True)\n",
    "d = kwant.operator.Density(syst)\n",
    "e, ev = spectrum.sparse_diag(ham,4,0)\n",
    "e"
   ]
  },
  {
   "cell_type": "code",
   "execution_count": null,
   "metadata": {},
   "outputs": [],
   "source": [
    "import matplotlib.pyplot as plt\n",
    "ax=plt.subplot(111)\n",
    "_ev = np.abs(d(ev[:,0]))\n",
    "kwant.plotter.map(syst, _ev, ax=ax);\n",
    "ax1=plotting_results.plot_syst(syst=syst, params=params, ax=ax);\n",
    "# plt.savefig('test',dpi=800)"
   ]
  },
  {
   "cell_type": "code",
   "execution_count": null,
   "metadata": {},
   "outputs": [],
   "source": [
    "array([ -6.93692313e-05,   6.93692313e-05,  -8.59470886e-02,\n",
    "         8.59470886e-02])"
   ]
  },
  {
   "cell_type": "code",
   "execution_count": null,
   "metadata": {},
   "outputs": [],
   "source": [
    "supercurrent.fermi_dirac(8.6e-2, {'k':params['k'], 'T':40e-3})"
   ]
  },
  {
   "cell_type": "code",
   "execution_count": null,
   "metadata": {},
   "outputs": [],
   "source": [
    "import matplotlib.pyplot as plt\n",
    "ax=plt.subplot(111)\n",
    "_ev = np.abs(d(ev[:,0]))\n",
    "kwant.plotter.map(syst, _ev, ax=ax);\n",
    "ax1=plotting_results.plot_syst(syst=syst, params=params, ax=ax);\n",
    "# plt.savefig('test',dpi=800)"
   ]
  },
  {
   "cell_type": "code",
   "execution_count": null,
   "metadata": {},
   "outputs": [],
   "source": [
    "array([-0.02970037,  0.02970037,  0.09058324, -0.09058324])"
   ]
  },
  {
   "cell_type": "code",
   "execution_count": null,
   "metadata": {},
   "outputs": [],
   "source": [
    "hv.extension('matplotlib')"
   ]
  },
  {
   "cell_type": "code",
   "execution_count": null,
   "metadata": {},
   "outputs": [],
   "source": [
    "%%output filename='./first_and_second_energy_table' fig='png'\n",
    "distributed_sns.ptable(params_raw) + distributed_sns.ptable(syst_pars)"
   ]
  },
  {
   "cell_type": "code",
   "execution_count": null,
   "metadata": {},
   "outputs": [],
   "source": [
    "def lowest_two(pB):    \n",
    "    _params = params.copy()\n",
    "    _params['phase'] = pB[0]\n",
    "    _params['B'] = pB[1]\n",
    "    \n",
    "    ham = syst.hamiltonian_submatrix(params=_params, sparse=True)\n",
    "    d = kwant.operator.Density(syst)\n",
    "    e, ev = spectrum.sparse_diag(ham,4,0)\n",
    "    return np.sort(e)[2:4]\n"
   ]
  },
  {
   "cell_type": "code",
   "execution_count": null,
   "metadata": {},
   "outputs": [],
   "source": [
    "import adaptive\n",
    "adaptive.notebook_extension()"
   ]
  },
  {
   "cell_type": "code",
   "execution_count": null,
   "metadata": {},
   "outputs": [],
   "source": [
    "learner = adaptive.Learner2D(lowest_two, [[0,2*np.pi], [0,1.5]])\n",
    "def lowest_two1d(B):\n",
    "    return lowest_two((np.pi, B))\n",
    "learner = adaptive.Learner1D(lowest_two1d, [0,4.5])"
   ]
  },
  {
   "cell_type": "code",
   "execution_count": null,
   "metadata": {},
   "outputs": [],
   "source": [
    "runner = adaptive.Runner(learner, ntasks=30)\n",
    "runner.live_info()"
   ]
  },
  {
   "cell_type": "code",
   "execution_count": null,
   "metadata": {},
   "outputs": [],
   "source": [
    "runner.task.result()"
   ]
  },
  {
   "cell_type": "code",
   "execution_count": null,
   "metadata": {},
   "outputs": [],
   "source": [
    "hv.extension('bokeh')"
   ]
  },
  {
   "cell_type": "code",
   "execution_count": null,
   "metadata": {},
   "outputs": [],
   "source": [
    "learner.plot()"
   ]
  },
  {
   "cell_type": "code",
   "execution_count": null,
   "metadata": {},
   "outputs": [],
   "source": [
    "_=learner.plot(800)"
   ]
  },
  {
   "cell_type": "code",
   "execution_count": null,
   "metadata": {},
   "outputs": [],
   "source": [
    "a=_.items()[1][1].Image.I"
   ]
  },
  {
   "cell_type": "code",
   "execution_count": null,
   "metadata": {},
   "outputs": [],
   "source": [
    "hv.operation.contours(a, levels=[0.1 ,0.21])"
   ]
  },
  {
   "cell_type": "code",
   "execution_count": null,
   "metadata": {},
   "outputs": [],
   "source": [
    "%%opts Image [colorbar=True]\n",
    "# %%output filename='./first_and_second_energy_zigzag_400nm' fig='png'\n",
    "hv.HoloMap(learner.plot(800).redim(x='phase', y='B'), kdims='nth lowest eigenvalue')\n"
   ]
  },
  {
   "cell_type": "code",
   "execution_count": null,
   "metadata": {},
   "outputs": [],
   "source": [
    "ax.savefig('snake_major')"
   ]
  },
  {
   "cell_type": "code",
   "execution_count": null,
   "metadata": {},
   "outputs": [],
   "source": []
  },
  {
   "cell_type": "code",
   "execution_count": null,
   "metadata": {},
   "outputs": [],
   "source": [
    "from multiprocessing import Pool"
   ]
  },
  {
   "cell_type": "code",
   "execution_count": null,
   "metadata": {},
   "outputs": [],
   "source": [
    "p=Pool(12)"
   ]
  },
  {
   "cell_type": "code",
   "execution_count": null,
   "metadata": {},
   "outputs": [],
   "source": [
    "def G(e):\n",
    "    smat = kwant.smatrix(syst, energy=e, params=params)\n",
    "    return smat.conductance_matrix()[0][0]"
   ]
  },
  {
   "cell_type": "code",
   "execution_count": null,
   "metadata": {},
   "outputs": [],
   "source": [
    "G(.11)"
   ]
  },
  {
   "cell_type": "code",
   "execution_count": null,
   "metadata": {},
   "outputs": [],
   "source": [
    "res = p.map(G, np.linspace(-.2, .2, 101))"
   ]
  },
  {
   "cell_type": "code",
   "execution_count": null,
   "metadata": {},
   "outputs": [],
   "source": []
  }
 ],
 "metadata": {
  "language_info": {
   "name": "python",
   "pygments_lexer": "ipython3"
  }
 },
 "nbformat": 4,
 "nbformat_minor": 2
}
