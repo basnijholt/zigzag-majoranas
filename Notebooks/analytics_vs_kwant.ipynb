{
 "cells": [
  {
   "cell_type": "code",
   "execution_count": null,
   "metadata": {},
   "outputs": [],
   "source": [
    "import holoviews as hv\n",
    "hv.notebook_extension()"
   ]
  },
  {
   "cell_type": "code",
   "execution_count": null,
   "metadata": {},
   "outputs": [],
   "source": [
    "import numpy as np\n",
    "import operator\n",
    "from types import SimpleNamespace\n",
    "\n",
    "cot = lambda x: 1 / np.tan(x)\n",
    "\n",
    "def nu_arg(p):\n",
    "    num = p.E_z * np.exp(1j * p.theta) - 1j * p.alpha * p.k_x\n",
    "    denom = p.E_z**2 + p.alpha * p.k_x * (p.alpha * p.k_x - 2 * p.E_z * np.sin(p.theta))\n",
    "    return num / np.sqrt(denom)\n",
    "\n",
    "def omega(p, j, sign):\n",
    "    op = operator.sub if sign < 0 else operator.add\n",
    "    return 0.25 * op(gamma(p, j), delta(p, j))\n",
    "\n",
    "def gamma(p, j):\n",
    "    k = k_j(p, j)\n",
    "    x = 1j * k * np.tan(p.W * k / 2)\n",
    "    return (q(p) + x) / (q(p) - x)\n",
    "\n",
    "def delta(p, j):\n",
    "    k = k_j(p, j)\n",
    "    x = 1j * k * cot(p.W * k / 2)\n",
    "    return (q(p) - x) / (q(p) + x)\n",
    "\n",
    "def beta(p, sign):\n",
    "    w_1 = omega(p, 1, sign)\n",
    "    w_2 = omega(p, 2, sign)\n",
    "    nu = nu_arg(p)\n",
    "    beta = np.array([\n",
    "        [nu * (w_1 - w_2), (w_1 + w_2)],\n",
    "        [-(w_1 + w_2), nu.conj() * (w_2 - w_1)]\n",
    "    ])\n",
    "    return beta\n",
    "\n",
    "def S(p):\n",
    "    p.E_z = p.mu_B * p.g * p.B_x\n",
    "    r_ll = beta(p, +1)\n",
    "    t_rl = np.exp(-1j * q(p) * p.W) * beta(p, -1)\n",
    "    t_lr = np.exp(-1j * q(p) * p.W) * beta(p, -1)\n",
    "    t_rr = np.exp(-2j * q(p) * p.W) * beta(p, +1)\n",
    "\n",
    "    S = np.block([[r_ll, t_rl],\n",
    "                  [t_lr, t_rr]])\n",
    "    return S\n",
    "\n",
    "def q(p):\n",
    "    return np.sqrt((2 * p.m_eff / p.hbar**2) * p.mu_n - p.k_x**2)\n",
    "\n",
    "def k_j(p, j):\n",
    "    op = operator.sub if j == 1 else operator.add\n",
    "    sqrt_term = np.sqrt(\n",
    "        p.E_z**2\n",
    "        - 2 * p.alpha * p.E_z * np.sin(p.theta) * p.k_x + p.alpha**2 * p.k_x**2)\n",
    "    k_sq = (2 * p.m_eff / p.hbar**2) * op(p.mu_n, sqrt_term) - p.k_x**2\n",
    "    return np.sqrt(k_sq)\n",
    "\n",
    "k_F = lambda p: np.sqrt(p.mu_n * (2 * p.m_eff)) / p.hbar"
   ]
  },
  {
   "cell_type": "code",
   "execution_count": null,
   "metadata": {},
   "outputs": [],
   "source": [
    "import scipy.constants\n",
    "constants = dict(\n",
    "    m_eff=0.023 * scipy.constants.m_e / (scipy.constants.eV * 1e-3) / 1e18,\n",
    "    hbar=scipy.constants.hbar / (scipy.constants.eV * 1e-3),\n",
    "    mu_B=scipy.constants.physical_constants['Bohr magneton'][0] / (\n",
    "        scipy.constants.eV * 1e-3))\n",
    "\n",
    "params = SimpleNamespace(g=50, mu_n=10, alpha=20, B_x=1, theta=0, k_x=0.03, W=100, phi=np.pi, **constants)\n",
    "\n",
    "S(params)"
   ]
  },
  {
   "cell_type": "markdown",
   "metadata": {},
   "source": [
    "## Bas's implementation"
   ]
  },
  {
   "cell_type": "code",
   "execution_count": null,
   "metadata": {},
   "outputs": [],
   "source": [
    "def energy_operator(params):\n",
    "    import cmath\n",
    "    if params.k_x == 0:\n",
    "        smat_plus = smat_min = S(p=params)\n",
    "    else:\n",
    "        params.k_x *= -1\n",
    "        smat_min = S(p=params)\n",
    "        params.k_x *= -1\n",
    "        smat_plus = S(p=params)\n",
    "\n",
    "    phase = cmath.exp(1j * params.phi / 2)\n",
    "    r = np.diag([phase, phase, phase.conjugate(), phase.conjugate()])\n",
    "    smat_prod = smat_plus.T.conj() @ r @ smat_min.T @ r.conj()\n",
    "    return 0.5 * np.eye(smat_prod.shape[0]) - 0.25 * (smat_prod + smat_prod.T.conj())\n",
    "\n",
    "def energies_over_delta(params):\n",
    "    \"\"\"Same as energy_operator(), but returns the\n",
    "    square-root of the eigenvalues\"\"\"\n",
    "    operator = energy_operator(params)\n",
    "    return np.sqrt(np.linalg.eigvalsh(operator))"
   ]
  },
  {
   "cell_type": "code",
   "execution_count": null,
   "metadata": {},
   "outputs": [],
   "source": [
    "def plot(B_x, alpha, mu_n, theta, phi, params=params):\n",
    "    setattr(params, 'B_x', B_x)\n",
    "    setattr(params, 'alpha', alpha)\n",
    "    setattr(params, 'mu_n', mu_n)\n",
    "    setattr(params, 'theta', theta)\n",
    "    setattr(params, 'phi', phi)\n",
    "    \n",
    "    k_max = 0.92*k_F(params)\n",
    "    ks = np.linspace(-k_max, k_max, 150)\n",
    "    Es = [energies_over_delta(params) for params.k_x in ks]\n",
    "    return hv.Path((ks, Es))[:, 0:1.1]\n",
    "\n",
    "hv.DynamicMap(plot, kdims=['B_x', 'alpha', 'mu_n', 'theta', 'phi']).redim.range(\n",
    "    B_x=(0.01, 1), alpha=(1, 100), mu_n=(10, 50), theta=(0, np.pi), phi=(0, np.pi))"
   ]
  },
  {
   "cell_type": "markdown",
   "metadata": {},
   "source": [
    "## Tom's implementation"
   ]
  },
  {
   "cell_type": "code",
   "execution_count": null,
   "metadata": {},
   "outputs": [],
   "source": [
    "def energy_operator(params):\n",
    "    import cmath\n",
    "    if params.k_x == 0:\n",
    "        smat_plus = smat_min = S(p=params)\n",
    "    else:\n",
    "        params.k_x *= -1\n",
    "        smat_min = S(p=params)\n",
    "        params.k_x *= -1\n",
    "        smat_plus = S(p=params)\n",
    "\n",
    "    phase = cmath.exp(1j * params.phi / 2)\n",
    "    r = np.diag([phase, phase, phase.conjugate(), phase.conjugate()])\n",
    "    smat_prod = r @ smat_min.conj() @ r.conj() @ smat_plus\n",
    "    return smat_prod\n",
    "\n",
    "\n",
    "def energies_over_delta(syst):\n",
    "    \"\"\"Same as energy_operator(), but returns the\n",
    "    square-root of the eigenvalues\"\"\"\n",
    "    from numpy.lib.scimath import sqrt\n",
    "    operator = energy_operator(syst)\n",
    "    es = -np.linalg.eigvals(operator)\n",
    "    alpha = np.hstack((sqrt(es), -sqrt(es)))\n",
    "    alpha = alpha[np.imag(alpha)<=0]\n",
    "\n",
    "    return np.sort(np.real((1+alpha**2)/(2*alpha)))\n",
    "ks = np.linspace(0.0, 0.06, 50)\n",
    "Es = [energies_over_delta(params) for params.k_x in ks]\n",
    "hv.Path((ks, Es))"
   ]
  }
 ],
 "metadata": {
  "language_info": {
   "name": "python",
   "pygments_lexer": "ipython3"
  }
 },
 "nbformat": 4,
 "nbformat_minor": 2
}
