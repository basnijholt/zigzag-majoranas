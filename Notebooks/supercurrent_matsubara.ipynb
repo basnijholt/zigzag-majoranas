{
 "cells": [
  {
   "cell_type": "code",
   "execution_count": null,
   "metadata": {},
   "outputs": [],
   "source": [
    "import os, sys\n",
    "import holoviews as hv\n",
    "sys.path.append(os.path.abspath('../../two_dim_majoranas/'))\n",
    "import adaptive\n",
    "\n",
    "adaptive.notebook_extension()\n",
    "hv.notebook_extension('matplotlib')\n",
    "\n",
    "import numpy as np\n",
    "import scipy.constants\n",
    "import cmath\n",
    "\n",
    "import functools as ft\n",
    "\n",
    "import sns_system, plotting_results\n",
    "from distributed_sns import AggregatesSimulationSet as ASS\n",
    "from distributed_sns import SimulationSet as SS\n",
    "\n",
    "constants = dict(\n",
    "    m_eff=0.023 * scipy.constants.m_e / (scipy.constants.eV * 1e-3) / 1e18,  # effective mass in kg, \n",
    "    hbar=scipy.constants.hbar / (scipy.constants.eV * 1e-3),\n",
    "    e = scipy.constants.e,\n",
    "    current_unit=scipy.constants.k * scipy.constants.e / scipy.constants.hbar * 1e9,  # to get nA\n",
    "    mu_B=scipy.constants.physical_constants['Bohr magneton'][0] / (scipy.constants.eV * 1e-3),\n",
    "    k=scipy.constants.k / (scipy.constants.eV * 1e-3),\n",
    "    exp=cmath.exp,\n",
    "    cos=cmath.cos,\n",
    "    sin=cmath.sin\n",
    "   )\n",
    "\n",
    "import kwant\n",
    "import matplotlib.pyplot as plt\n",
    "import supercurrent_matsubara\n",
    "from functools import partial"
   ]
  },
  {
   "cell_type": "code",
   "execution_count": null,
   "metadata": {},
   "outputs": [],
   "source": [
    "syst_pars = {\n",
    "    'L_down':  500,\n",
    "     'L_up': 500,\n",
    "     'L_m': 100,\n",
    "     'L_x': 20,\n",
    "     'a': 20,\n",
    "     'mu_from_bottom_of_spin_orbit_bands': True,\n",
    "     'with_vlead': True}\n",
    "\n",
    "params_raw= dict(g_factor_middle = 10,\n",
    "                 g_factor_left = 0,\n",
    "                 g_factor_right = 0,\n",
    "                 mu = 10.0,\n",
    "                 alpha_middle = 28,\n",
    "                 alpha_left = 28,\n",
    "                 alpha_right = 428,\n",
    "                 Delta_left = 0.18,\n",
    "                 Delta_right = 0.18,\n",
    "                 B = 0.5,\n",
    "                 phase = 0,\n",
    "                 T =.1,\n",
    "                 V=0)\n",
    "\n",
    "params = dict(**constants,\n",
    "              **params_raw)\n",
    "_=plotting_results.plot_syst(syst_pars, params)"
   ]
  },
  {
   "cell_type": "code",
   "execution_count": null,
   "metadata": {},
   "outputs": [],
   "source": [
    "%%time\n",
    "syst = sns_system.make_wrapped_system(**syst_pars)\n",
    "\n",
    "import supercurrent\n",
    "def cur(phase):\n",
    "    params['phase'] = phase\n",
    "    I_c2 = supercurrent.wrapped_current(syst_pars, params, syst_wrapped=syst, tol=1e-3)\n",
    "    return 1e9 * I_c2"
   ]
  },
  {
   "cell_type": "code",
   "execution_count": null,
   "metadata": {},
   "outputs": [],
   "source": [
    "from multiprocessing import Pool\n",
    "\n",
    "syst = sns_system.make_wrapped_system(**syst_pars)\n",
    "\n",
    "phases = np.linspace(-3, 3, 31)\n",
    "\n",
    "p=Pool()\n",
    "curs = np.array(p.map(cur, phases))"
   ]
  },
  {
   "cell_type": "code",
   "execution_count": null,
   "metadata": {},
   "outputs": [],
   "source": [
    "tom_curve = hv.Curve((phases, curs))\n",
    "tom_curve"
   ]
  },
  {
   "cell_type": "code",
   "execution_count": null,
   "metadata": {},
   "outputs": [],
   "source": [
    "%%time\n",
    "params['phase'] = 0\n",
    "syst_pars['L_x'] = 4000\n",
    "syst, hopping = sns_system.make_sns_system(**syst_pars)\n",
    "\n",
    "el_blocks = partial(sns_system.take_electron_blocks, norbs=4)\n",
    "I_c = supercurrent_matsubara.I_c(syst, hopping, params, el_blocks)"
   ]
  },
  {
   "cell_type": "code",
   "execution_count": null,
   "metadata": {},
   "outputs": [],
   "source": [
    "mats_curve = hv.Curve((I_c['phases'], 4.5*I_c['currents']/syst_pars['L_x']))\n",
    "tom_curve*mats_curve"
   ]
  },
  {
   "cell_type": "code",
   "execution_count": null,
   "metadata": {},
   "outputs": [],
   "source": [
    "%%time\n",
    "params['phase'] = 0\n",
    "el_blocks = partial(sns_system.take_electron_blocks, norbs=4)\n",
    "I_c_leaded = supercurrent_matsubara.I_c(syst_leaded, hopping_leaded, params, el_blocks)"
   ]
  },
  {
   "cell_type": "code",
   "execution_count": null,
   "metadata": {},
   "outputs": [],
   "source": [
    "# syst_pars['a'] = 1\n",
    "syst_pars['L_x'] = 1000\n",
    "syst_leaded, hopping_leaded = sns_system.make_sns_leaded_system(**syst_pars)\n",
    "kwant.plot(syst_leaded);"
   ]
  },
  {
   "cell_type": "code",
   "execution_count": null,
   "metadata": {},
   "outputs": [],
   "source": [
    "np.interp(.5, I_c_leaded['phases'], I_c_leaded['currents']/syst_pars['L_x'])"
   ]
  },
  {
   "cell_type": "code",
   "execution_count": null,
   "metadata": {},
   "outputs": [],
   "source": [
    "%%time\n",
    "params['phase'] = 0\n",
    "el_blocks = partial(sns_system.take_electron_blocks, norbs=4)\n",
    "I_c_leaded = supercurrent_matsubara.I_c(syst_leaded, hopping_leaded, params, el_blocks)"
   ]
  },
  {
   "cell_type": "code",
   "execution_count": null,
   "metadata": {},
   "outputs": [],
   "source": [
    "np.interp(.5, I_c_leaded['phases'], I_c_leaded['currents']/syst_pars['L_x'])"
   ]
  },
  {
   "cell_type": "code",
   "execution_count": null,
   "metadata": {},
   "outputs": [],
   "source": [
    "hv.Curve((phases, curs)) * hv.Scatter((I_c_leaded['phases'], I_c_leaded['currents']/600))"
   ]
  },
  {
   "cell_type": "code",
   "execution_count": null,
   "metadata": {},
   "outputs": [],
   "source": [
    "hv.Curve((phases, curs/(15/np.pi))) * hv.Scatter((I_c_leaded['phases'], I_c_leaded['currents']/600))"
   ]
  },
  {
   "cell_type": "code",
   "execution_count": null,
   "metadata": {},
   "outputs": [],
   "source": [
    "hv.Curve((phases, curs)) * hv.Scatter((I_c_leaded['phases'], I_c_leaded['currents']/syst_pars['L_x']))"
   ]
  },
  {
   "cell_type": "code",
   "execution_count": null,
   "metadata": {},
   "outputs": [],
   "source": [
    "hv.Curve((phases, curs/curs.max())) * hv.Scatter((I_c['phases'], I_c['currents'] / I_c['currents'].max()))"
   ]
  },
  {
   "cell_type": "code",
   "execution_count": null,
   "metadata": {},
   "outputs": [],
   "source": [
    "params['e'] / params['hbar']"
   ]
  },
  {
   "cell_type": "code",
   "execution_count": null,
   "metadata": {},
   "outputs": [],
   "source": [
    "hv.Curve((phases, curs*15)) * hv.Scatter((I_c['phases'], I_c['currents'] / syst_pars['L_x']))"
   ]
  },
  {
   "cell_type": "code",
   "execution_count": null,
   "metadata": {},
   "outputs": [],
   "source": []
  },
  {
   "cell_type": "code",
   "execution_count": null,
   "metadata": {},
   "outputs": [],
   "source": [
    "hv.Curve((phases, curs/curs.max())) * hv.Scatter((I_c['phases'], I_c['currents'] / I_c['currents'].max()))"
   ]
  },
  {
   "cell_type": "code",
   "execution_count": null,
   "metadata": {},
   "outputs": [],
   "source": [
    "curs = np.array(curs) - curs[15]\n",
    "curs = curs/ curs.max()"
   ]
  },
  {
   "cell_type": "code",
   "execution_count": null,
   "metadata": {},
   "outputs": [],
   "source": [
    "hv.Curve(curs[:15]) * hv.Curve(-curs[15:][::-1])"
   ]
  },
  {
   "cell_type": "code",
   "execution_count": null,
   "metadata": {},
   "outputs": [],
   "source": [
    "c = I_c['currents'] / I_c['currents'].max()\n",
    "hv.Curve(c[:15]) * hv.Curve(-c[15:][::-1])"
   ]
  }
 ],
 "metadata": {
  "language_info": {
   "name": "python",
   "pygments_lexer": "ipython3"
  }
 },
 "nbformat": 4,
 "nbformat_minor": 2
}
