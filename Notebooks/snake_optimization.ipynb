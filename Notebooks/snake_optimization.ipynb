{
 "cells": [
  {
   "cell_type": "markdown",
   "metadata": {},
   "source": [
    "# Imports"
   ]
  },
  {
   "cell_type": "code",
   "execution_count": null,
   "metadata": {},
   "outputs": [],
   "source": [
    "import os, sys\n",
    "sys.path.append(os.path.abspath('../../two_dim_majoranas/'))\n",
    "\n",
    "import hpc05\n",
    "import holoviews as hv\n",
    "\n",
    "import numpy as np\n",
    "import kwant\n",
    "import scipy.constants\n",
    "import cmath\n",
    "import functools as ft\n",
    "from itertools import product\n",
    "\n",
    "import plotting_results\n",
    "import adaptive\n",
    "adaptive.notebook_extension()\n",
    "\n",
    "import sns_system, spectrum, topology, supercurrent\n",
    "\n",
    "from IPython.core.magic import register_cell_magic\n",
    "import ipywidgets as widgets\n",
    "run_cluster = widgets.Checkbox(\n",
    "    value=False,\n",
    "    description='Check to run cluster',\n",
    "    disabled=False\n",
    ")\n",
    "\n",
    "interactive_shell = get_ipython()\n",
    "@register_cell_magic\n",
    "def cluster_mark_checked(line, cell):\n",
    "    if run_cluster.value is True:\n",
    "        run_cluster.value = False\n",
    "        interactive_shell.run_cell(cell)\n",
    "    else:\n",
    "        return \"Command not run. Check the box above to run.\"\n",
    "\n",
    "del(cluster_mark_checked)\n",
    "run_cluster"
   ]
  },
  {
   "cell_type": "code",
   "execution_count": null,
   "metadata": {},
   "outputs": [],
   "source": [
    "%%cluster_mark_checked\n",
    "# client, dview, lview = hpc05.connect_ipcluster(20, folder='two_dim_majoranas')\n",
    "# hpc05.kill_remote_ipcluster()\n",
    "client, dview, lview = hpc05.start_remote_and_connect(100, folder='two_dim_majoranas')\n",
    "client[:].use_pickle()"
   ]
  },
  {
   "cell_type": "code",
   "execution_count": null,
   "metadata": {},
   "outputs": [],
   "source": [
    "import numpy as np\n",
    "import scipy.constants\n",
    "import cmath\n",
    "\n",
    "import functools as ft\n",
    "import kwant\n",
    "import sns_system, spectrum, topology, supercurrent\n"
   ]
  },
  {
   "cell_type": "code",
   "execution_count": null,
   "metadata": {},
   "outputs": [],
   "source": [
    "constants = dict(\n",
    "    m_eff=0.02 * scipy.constants.m_e / (scipy.constants.eV * 1e-3) / 1e18,  # effective mass in kg, \n",
    "    hbar=scipy.constants.hbar / (scipy.constants.eV * 1e-3),\n",
    "    e = scipy.constants.e,\n",
    "    current_unit=scipy.constants.k * scipy.constants.e / scipy.constants.hbar * 1e9,  # to get nA\n",
    "    mu_B=scipy.constants.physical_constants['Bohr magneton'][0] / (scipy.constants.eV * 1e-3),\n",
    "    k=scipy.constants.k / (scipy.constants.eV * 1e-3),\n",
    "    exp=cmath.exp,\n",
    "    cos=cmath.cos,\n",
    "    sin=cmath.sin\n",
    "   )"
   ]
  },
  {
   "cell_type": "markdown",
   "metadata": {},
   "source": [
    "# Make zigzag shaped system"
   ]
  },
  {
   "cell_type": "code",
   "execution_count": null,
   "metadata": {},
   "outputs": [],
   "source": [
    "# %%px\n",
    "\n",
    "def l_shaped_system(a, L_m, L_x, z_x, z_y, W_up, W_down, edge_thickness=1,\n",
    "                    transverse_soi=True,\n",
    "                    mu_from_bottom_of_spin_orbit_bands=True,\n",
    "                    k_x_in_sc=False, leaded=True, **_):\n",
    "\n",
    "    #     HAMILTONIAN DEFINITIONS\n",
    "    template_strings = sns_system.get_template_strings(\n",
    "        transverse_soi, mu_from_bottom_of_spin_orbit_bands, k_x_in_sc)\n",
    "    \n",
    "    conservation_matrix = -supercurrent.sigz\n",
    "    \n",
    "    # TURN HAMILTONIAN STRINGS INTO TEMPLATES\n",
    "    kwargs = dict(coords=('x', 'y'), grid_spacing=a)\n",
    "    template_barrier = kwant.continuum.discretize(\n",
    "        template_strings['ham_barrier'], **kwargs)\n",
    "    template_normal = kwant.continuum.discretize(\n",
    "        template_strings['ham_normal'], **kwargs)\n",
    "    template_sc_left = kwant.continuum.discretize(\n",
    "        template_strings['ham_sc_left'], **kwargs)\n",
    "    template_sc_right = kwant.continuum.discretize(\n",
    "        template_strings['ham_sc_right'], **kwargs)\n",
    "\n",
    "    def union_shape(shapes):\n",
    "        def _shape(pos):\n",
    "            res = False\n",
    "            for shape in shapes:\n",
    "                res |= shape(pos)\n",
    "            return res\n",
    "        return _shape\n",
    "        \n",
    "    def intersection_shape(shape_A, shape_B):\n",
    "        def _shape(pos):\n",
    "            return shape_A(pos) and not shape_B(pos)\n",
    "        return _shape\n",
    "    \n",
    "    def below_zigzag(z_x, z_y, offset):\n",
    "        def shape(site):\n",
    "            x, y = site.pos - offset\n",
    "            if 0 <= x < 2*z_x:\n",
    "                return y <  a * ((z_y* np.sin(np.pi*2 * x / z_x))//a)\n",
    "            else:\n",
    "                return False\n",
    "        return shape\n",
    "    \n",
    "    def above_zigzag(z_x, z_y, offset):\n",
    "        def shape(pos):\n",
    "            return not below_zigzag(z_x, z_y, offset)(pos)\n",
    "        return shape\n",
    "    \n",
    "    def within_zigzag(z_x, z_y, offset):\n",
    "        def shape(pos):\n",
    "            x, y = pos.pos\n",
    "            return below_zigzag(z_x, z_y, (offset[0], offset[1] + L_m))(pos) and above_zigzag(z_x, z_y, offset)(pos) and 0<=x<L_x\n",
    "        return shape\n",
    "    \n",
    "    def edge_zigzag(z_x, z_y, offset):\n",
    "        def shape(pos):\n",
    "            x, y = pos.pos\n",
    "            return ((below_zigzag(z_x, z_y, (offset[0], offset[1] + L_m))(pos) and above_zigzag(z_x, z_y, (offset[0], offset[1] + L_m-a*edge_thickness))(pos) and 0<=x<L_x)\n",
    "                    or\n",
    "                   (below_zigzag(z_x, z_y, (offset[0], offset[1] +edge_thickness*a))(pos) and above_zigzag(z_x, z_y, (offset[0], offset[1]))(pos) and 0<=x<L_x))\n",
    "        return shape\n",
    "    \n",
    "    number_of_zigzags = int(L_x // (2*z_x))+1\n",
    "    within_zigzag_shapes = [within_zigzag(z_x, z_y, (2*z_x*i, 0)) for i in range(number_of_zigzags)]\n",
    "    edge_zigzag_shapes = [edge_zigzag(z_x, z_y, (2*z_x*i, 0)) for i in range(number_of_zigzags)]\n",
    "    edge_shape =union_shape(edge_zigzag_shapes)\n",
    "    \n",
    "    middle_shape_with_edge = union_shape(within_zigzag_shapes)\n",
    "    middle_shape = intersection_shape(middle_shape_with_edge, edge_shape)\n",
    "    \n",
    "    def top_shape_block(site):\n",
    "        x, y = site.pos\n",
    "        return 0 <= x < L_x and -z_y <= y < L_m + z_y + W_up\n",
    "    top_shape_with_some_down = intersection_shape(top_shape_block, middle_shape_with_edge)\n",
    "    \n",
    "    def down_shape_block(site):\n",
    "        x, y = site.pos\n",
    "        return 0 <= x < L_x and -W_down - z_y <= y < z_y\n",
    "    down_shape_with_some_top = intersection_shape(down_shape_block, middle_shape_with_edge)\n",
    "    \n",
    "    top_shape = top_shape_with_some_down\n",
    "#     intersection_shape(top_shape_with_some_down, down_shape_with_some_top)\n",
    "    down_shape = down_shape_with_some_top\n",
    "#     intersection_shape(down_shape_with_some_top, top_shape)\n",
    "    \n",
    "    # BUILD FINITE SYSTEM\n",
    "    syst = kwant.Builder()\n",
    "    syst.fill(template_normal, middle_shape, (0, L_m//2))\n",
    "    \n",
    "    if edge_thickness ==0:\n",
    "        pass\n",
    "    \n",
    "    elif edge_thickness == 1:\n",
    "        for x in np.arange(0, L_x, a):\n",
    "            y_up = ((z_y* np.sin(np.pi*2 * x / z_x)+L_m)//a - 1)*a\n",
    "            y_down = ((z_y* np.sin(np.pi*2 * x / z_x))//a)*a\n",
    "#             if (x//z_x)%2 == 1:\n",
    "#                 y = z_y - y\n",
    "            syst.fill(template_barrier, edge_shape, (x, y_up))\n",
    "            syst.fill(template_barrier, edge_shape, (x, y_down))\n",
    "    \n",
    "    else:  \n",
    "        syst.fill(template_barrier, edge_shape, (0, 0))\n",
    "        syst.fill(template_barrier, edge_shape, (0, L_m-a))\n",
    "    \n",
    "    if W_up is not 0:\n",
    "        syst.fill(template_sc_left, top_shape, (0, L_m))\n",
    "    syst.fill(template_sc_right, down_shape, (0, -a))\n",
    "    \n",
    "    syst = syst.finalized()\n",
    "\n",
    "    return syst"
   ]
  },
  {
   "cell_type": "code",
   "execution_count": null,
   "metadata": {},
   "outputs": [],
   "source": [
    "params_raw= dict(g_factor_middle = 26,\n",
    "                 g_factor_left = 0,\n",
    "                 g_factor_right = 0,\n",
    "                 mu = 10,\n",
    "                 alpha_middle = 20,\n",
    "                 alpha_left = 0,\n",
    "                 alpha_right = 0,\n",
    "                 Delta_left = 2,\n",
    "                 Delta_right = 2,\n",
    "                 B = 1.0341,\n",
    "                 phase = 0,\n",
    "                 T = 0.0,\n",
    "                 V = 0,\n",
    "                 k_x = 0)\n",
    "\n",
    "syst_pars = dict(a=10, L_m=500, L_x=2000, W_up=200, W_down=200, z_x=1000, z_y=125,\n",
    "                 offset_lead=100, k_x_in_sc=True, leaded=False, edge_thickness=0)\n",
    "\n",
    "\n",
    "params = dict(**constants,\n",
    "              **params_raw)\n",
    "\n",
    "syst=sns_system.make_zigzag_system(**syst_pars)\n",
    "plotting_results.plot_syst(syst=syst, params=dict(**params));"
   ]
  },
  {
   "cell_type": "code",
   "execution_count": null,
   "metadata": {},
   "outputs": [],
   "source": [
    "from itertools import product\n",
    "discrete_variations = dict()\n",
    "discrete_variations['z_x'] = [500, 750, 1000, 1250, 1500, 2000, 3000]\n",
    "discrete_variations['z_y'] = [0, 50, 100, 250, 450, 500, 550, 750, 1000]\n",
    "discrete_variations['B'] = np.linspace(0, 1.5, 51)\n",
    "\n",
    "pars = {}\n",
    "\n",
    "for z_x, z_y, B in product(*discrete_variations.values()):\n",
    "    _syst_pars = syst_pars.copy()\n",
    "    _params = params.copy()\n",
    "    _syst_pars['z_x'] = z_x\n",
    "    _syst_pars['L_x'] = (6000//z_x)*z_x\n",
    "    _syst_pars['z_y'] = z_y\n",
    "    _params['B'] = B\n",
    "    pars[(z_x, z_y, B)] = (_syst_pars, _params)"
   ]
  },
  {
   "cell_type": "code",
   "execution_count": null,
   "metadata": {},
   "outputs": [],
   "source": [
    "res = lview.map(spectrum.calc_lowest_state, pars.values())"
   ]
  },
  {
   "cell_type": "code",
   "execution_count": null,
   "metadata": {},
   "outputs": [],
   "source": [
    "res.done()\n",
    "\n",
    "\n",
    "\n",
    "# res.result()\n"
   ]
  },
  {
   "cell_type": "code",
   "execution_count": null,
   "metadata": {},
   "outputs": [],
   "source": [
    "len(res.submitted)"
   ]
  },
  {
   "cell_type": "code",
   "execution_count": null,
   "metadata": {},
   "outputs": [],
   "source": []
  },
  {
   "cell_type": "code",
   "execution_count": null,
   "metadata": {},
   "outputs": [],
   "source": [
    "res.progress\n",
    "\n",
    "\n"
   ]
  },
  {
   "cell_type": "code",
   "execution_count": null,
   "metadata": {},
   "outputs": [],
   "source": [
    "res.result()"
   ]
  },
  {
   "cell_type": "code",
   "execution_count": null,
   "metadata": {},
   "outputs": [],
   "source": [
    "data=dict(zip(pars.keys(), res.result()))"
   ]
  },
  {
   "cell_type": "code",
   "execution_count": null,
   "metadata": {},
   "outputs": [],
   "source": [
    "N_z_x = len(discrete_variations['z_x'])\n",
    "N_z_y = len(discrete_variations['z_y'])\n",
    "N_B = len(discrete_variations['B'])\n",
    "Z_0s = {}\n",
    "Z_1s = {}\n",
    "\n",
    "for B in discrete_variations['B']:\n",
    "    Z_0 = np.zeros((N_z_x, N_z_y))\n",
    "    Z_1 = np.zeros((N_z_x, N_z_y))\n",
    "    for idx_x, z_x in enumerate(discrete_variations['z_x']):\n",
    "        for idx_y, z_y in enumerate(discrete_variations['z_y']):\n",
    "            key = (z_x, z_y, B)\n",
    "            Z_0[idx_x, idx_y] = data[key][0]\n",
    "            Z_1[idx_x, idx_y] = data[key][1]\n",
    "            if z_x == 1000 and z_y == 125:\n",
    "                print(B, data[key][0], data[key][1])\n",
    "    Z_0s[B] = Z_0\n",
    "    Z_1s[B] = Z_1\n",
    "    "
   ]
  },
  {
   "cell_type": "code",
   "execution_count": null,
   "metadata": {},
   "outputs": [],
   "source": [
    "plot_dict = {('lowest', k): hv.Image(np.flip(v,1), bounds=[discrete_variations['z_x'][0], discrete_variations['z_y'][0],\n",
    "                          discrete_variations['z_x'][-1],discrete_variations['z_y'][-1]]) for k,v in Z_0s.items()}\n",
    "plot_dict.update({('second lowest', k): hv.Image(np.flip(v,1), bounds=[discrete_variations['z_x'][0], discrete_variations['z_y'][0],\n",
    "                          discrete_variations['z_x'][-1],discrete_variations['z_y'][-1]]) for k,v in Z_0s.items()})"
   ]
  },
  {
   "cell_type": "code",
   "execution_count": null,
   "metadata": {},
   "outputs": [],
   "source": [
    "[1,1,2,2][::2]"
   ]
  },
  {
   "cell_type": "code",
   "execution_count": null,
   "metadata": {},
   "outputs": [],
   "source": [
    "%%opts Image [colorbar=True width=400] (cmap='Viridis')\n",
    "(hv.HoloMap(plot_dict, kdims=['which eigenmode', 'B']))"
   ]
  },
  {
   "cell_type": "code",
   "execution_count": null,
   "metadata": {},
   "outputs": [],
   "source": [
    "Z_"
   ]
  },
  {
   "cell_type": "code",
   "execution_count": null,
   "metadata": {},
   "outputs": [],
   "source": [
    "%opts?"
   ]
  },
  {
   "cell_type": "code",
   "execution_count": null,
   "metadata": {},
   "outputs": [],
   "source": [
    "print(res.done(), res.started, res.elapsed)\n"
   ]
  },
  {
   "cell_type": "code",
   "execution_count": null,
   "metadata": {},
   "outputs": [],
   "source": [
    "def bands_wrap(k):\n",
    "    ham = syst.hamiltonian_submatrix(sparse=True, params=dict(**params, k_x=k))\n",
    "    e, ev = spectrum.sparse_diag(ham, 100, 0)\n",
    "    return np.sort(e)\n",
    "    \n",
    "learner = adaptive.Learner1D(bands_wrap, [-np.pi, np.pi])\n",
    "runner = adaptive.Runner(learner)\n",
    "runner.live_info()"
   ]
  },
  {
   "cell_type": "code",
   "execution_count": null,
   "metadata": {},
   "outputs": [],
   "source": [
    "learner.plot()"
   ]
  },
  {
   "cell_type": "code",
   "execution_count": null,
   "metadata": {},
   "outputs": [],
   "source": [
    "ham = syst.hamiltonian_submatrix(params=dict(**params, k_x=0), sparse=True)\n",
    "d = kwant.operator.Density(syst)\n",
    "e, ev = spectrum.sparse_diag(ham,4,0)"
   ]
  },
  {
   "cell_type": "code",
   "execution_count": null,
   "metadata": {},
   "outputs": [],
   "source": [
    "e"
   ]
  },
  {
   "cell_type": "code",
   "execution_count": null,
   "metadata": {},
   "outputs": [],
   "source": [
    "ax=plt.axes()\n",
    "plotting_results.plot_syst(syst=syst, params=dict(**params, k_x=0),ax=ax)\n",
    "kwant.plotter.map(syst, d(ev[:,0]), ax=ax)\n",
    "# plt.savefig('no_ohase_difference', dpi=1000)"
   ]
  }
 ],
 "metadata": {
  "language_info": {
   "name": "python",
   "pygments_lexer": "ipython3"
  }
 },
 "nbformat": 4,
 "nbformat_minor": 2
}
