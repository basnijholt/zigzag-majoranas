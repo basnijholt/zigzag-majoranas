{
 "cells": [
  {
   "cell_type": "markdown",
   "metadata": {},
   "source": [
    "# Imports"
   ]
  },
  {
   "cell_type": "code",
   "execution_count": null,
   "metadata": {},
   "outputs": [],
   "source": [
    "import os, sys\n",
    "sys.path.append(os.path.abspath('../../two_dim_majoranas/'))\n",
    "\n",
    "import hpc05\n",
    "import holoviews as hv\n",
    "\n",
    "import numpy as np\n",
    "import kwant\n",
    "import scipy.constants\n",
    "import cmath\n",
    "import functools as ft\n",
    "from itertools import product\n",
    "\n",
    "import plotting_results\n",
    "import adaptive\n",
    "adaptive.notebook_extension()\n",
    "\n",
    "import sns_system, spectrum, topology, supercurrent\n",
    "\n",
    "from IPython.core.magic import register_cell_magic\n",
    "import ipywidgets as widgets\n",
    "run_cluster = widgets.Checkbox(\n",
    "    value=False,\n",
    "    description='Check to run cluster',\n",
    "    disabled=False\n",
    ")\n",
    "\n",
    "interactive_shell = get_ipython()\n",
    "@register_cell_magic\n",
    "def cluster_mark_checked(line, cell):\n",
    "    if run_cluster.value is True:\n",
    "        run_cluster.value = False\n",
    "        interactive_shell.run_cell(cell)\n",
    "    else:\n",
    "        return \"Command not run. Check the box above to run.\"\n",
    "\n",
    "del(cluster_mark_checked)\n",
    "run_cluster"
   ]
  },
  {
   "cell_type": "code",
   "execution_count": null,
   "metadata": {},
   "outputs": [],
   "source": [
    "%%cluster_mark_checked\n",
    "# client, dview, lview = hpc05.connect_ipcluster(20, folder='two_dim_majoranas')\n",
    "# hpc05.kill_remote_ipcluster()\n",
    "client, dview, lview = hpc05.start_remote_and_connect(80, folder='two_dim_majoranas')\n",
    "client[:].use_pickle() "
   ]
  },
  {
   "cell_type": "code",
   "execution_count": null,
   "metadata": {},
   "outputs": [],
   "source": [
    "%%px\n",
    "import numpy as np\n",
    "import scipy.constants\n",
    "import cmath\n",
    "\n",
    "import functools as ft\n",
    "import kwant\n",
    "import sns_system, spectrum, topology, supercurrent\n"
   ]
  },
  {
   "cell_type": "code",
   "execution_count": null,
   "metadata": {},
   "outputs": [],
   "source": [
    "%%px\n",
    "constants = dict(\n",
    "    m_eff=0.02 * scipy.constants.m_e / (scipy.constants.eV * 1e-3) / 1e18,  # effective mass in kg, \n",
    "    hbar=scipy.constants.hbar / (scipy.constants.eV * 1e-3),\n",
    "    e = scipy.constants.e,\n",
    "    current_unit=scipy.constants.k * scipy.constants.e / scipy.constants.hbar * 1e9,  # to get nA\n",
    "    mu_B=scipy.constants.physical_constants['Bohr magneton'][0] / (scipy.constants.eV * 1e-3),\n",
    "    k=scipy.constants.k / (scipy.constants.eV * 1e-3),\n",
    "    exp=cmath.exp,\n",
    "    cos=cmath.cos,\n",
    "    sin=cmath.sin\n",
    "   )"
   ]
  },
  {
   "cell_type": "markdown",
   "metadata": {},
   "source": [
    "# Make zigzag shaped system"
   ]
  },
  {
   "cell_type": "code",
   "execution_count": null,
   "metadata": {},
   "outputs": [],
   "source": [
    "%%px\n",
    "params_raw= dict(g_factor_middle = 26,\n",
    "                 g_factor_left = 0,\n",
    "                 g_factor_right = 0,\n",
    "                 mu = 10,\n",
    "                 alpha_middle = 20,\n",
    "                 alpha_left = 0,\n",
    "                 alpha_right = 0,\n",
    "                 Delta_left = 2,\n",
    "                 Delta_right = 2,\n",
    "                 B = 0.4,\n",
    "                 phase = np.pi,\n",
    "                 T = 0.0,\n",
    "                 V = 0)\n",
    "\n",
    "syst_pars = dict(a=5, L_m=500, L_x=4000, W_up=200, W_down=200, z_x=800, z_y=300,\n",
    "                 offset_lead=100, k_x_in_sc=True, leaded=False, edge_thickness=0)\n",
    "\n",
    "\n",
    "params = dict(**constants,\n",
    "              **params_raw)\n",
    "\n",
    "syst=sns_system.make_zigzag_system(**syst_pars)\n",
    "# plotting_results.plot_syst(syst=syst, params=dict(**params));\n",
    "# plt.savefig('syst_with_edge', dpi=2000)"
   ]
  },
  {
   "cell_type": "code",
   "execution_count": null,
   "metadata": {},
   "outputs": [],
   "source": [
    "syst_pars_ns = dict(a=5, L_m=15, L_x=20, L_up=200, L_down=200,\n",
    "                  k_x_in_sc=True, )\n",
    "syst_ns = sns_system.make_ns_junction(**syst_pars_ns)\n",
    "plotting_results.plot_syst(syst=syst_ns, params=dict(**params, k_x=0));\n",
    "scattering.transparency(syst_ns, params)\n",
    "# 0.71397506386568876"
   ]
  },
  {
   "cell_type": "code",
   "execution_count": null,
   "metadata": {},
   "outputs": [],
   "source": [
    "ham = syst.hamiltonian_submatrix(params=dict(**params), sparse=True)\n",
    "d = kwant.operator.Density(syst)\n",
    "e, ev = spectrum.sparse_diag(ham,4,0)"
   ]
  },
  {
   "cell_type": "code",
   "execution_count": null,
   "metadata": {},
   "outputs": [],
   "source": [
    "e"
   ]
  },
  {
   "cell_type": "code",
   "execution_count": null,
   "metadata": {},
   "outputs": [],
   "source": [
    "%%px\n",
    "def vary_mu_B(muB):\n",
    "    mu, B = muB\n",
    "    _params = params.copy()\n",
    "    _params['B'] = B\n",
    "    _params['mu'] = mu\n",
    "    \n",
    "    ham = syst.hamiltonian_submatrix(params=_params, sparse=True)\n",
    "    d = kwant.operator.Density(syst)\n",
    "    e, ev = spectrum.sparse_diag(ham,4,0)\n",
    "    return np.sort(np.abs(e))[::2]"
   ]
  },
  {
   "cell_type": "code",
   "execution_count": null,
   "metadata": {},
   "outputs": [],
   "source": [
    "learner = adaptive.Learner2D(vary_mu_B, [[0, 100], [0, 4]])"
   ]
  },
  {
   "cell_type": "code",
   "execution_count": null,
   "metadata": {},
   "outputs": [],
   "source": [
    "runner = adaptive.Runner(learner, executor=client)\n",
    "runner.live_info()"
   ]
  },
  {
   "cell_type": "code",
   "execution_count": null,
   "metadata": {},
   "outputs": [],
   "source": [
    "hv.notebook_extension('bokeh')"
   ]
  },
  {
   "cell_type": "code",
   "execution_count": null,
   "metadata": {},
   "outputs": [],
   "source": [
    "import formulas as f\n",
    "mu = np.linspace(0, 100)\n",
    "vf = f.fermi_velocity(mu, 0.02)\n",
    "eth = .5*f.thouless_energy(vf, 500)/params['g_factor_middle']/params['mu_B']"
   ]
  },
  {
   "cell_type": "code",
   "execution_count": null,
   "metadata": {},
   "outputs": [],
   "source": [
    "%%opts Image [colorbar=True logz=False aspect=1] \n",
    "%%opts Curve (color='red')\n",
    "\n",
    "# %%output filename='muB_gap_larger_range'\n",
    "hv.HoloMap(learner.plot().redim(x='mu', y='B')*hv.Curve((mu, eth)), kdims='nth lowest energy')"
   ]
  },
  {
   "cell_type": "code",
   "execution_count": null,
   "metadata": {},
   "outputs": [],
   "source": [
    "import matplotlib.pyplot as plt"
   ]
  },
  {
   "cell_type": "code",
   "execution_count": null,
   "metadata": {},
   "outputs": [],
   "source": [
    "ax=plt.axes()\n",
    "plotting_results.plot_syst(syst=syst, params=dict(**params),ax=ax)\n",
    "kwant.plotter.map(syst, d(ev[:,0]), ax=ax)\n",
    "# plt.savefig('no_ohase_difference', dpi=1000)"
   ]
  },
  {
   "cell_type": "code",
   "execution_count": null,
   "metadata": {},
   "outputs": [],
   "source": [
    "from itertools import product\n",
    "discrete_variations = dict()\n",
    "discrete_variations['z_x'] = [700, 800, 900] #[500, 600, 700, 800, 900, 1000, 1100, 1200]\n",
    "discrete_variations['z_y'] = [0, 50, 100, 150, 200, 250, 300, 350, 400, 450, 500]\n",
    "discrete_variations['B'] = np.linspace(.2, .6, 21)\n",
    "\n",
    "pars = {}\n",
    "\n",
    "for z_x, z_y, B in product(*discrete_variations.values()):\n",
    "    _syst_pars = syst_pars.copy()\n",
    "    _params = params.copy()\n",
    "    _syst_pars['z_x'] = z_x\n",
    "    _syst_pars['L_x'] = (10000//z_x)*z_x\n",
    "    _syst_pars['z_y'] = z_y\n",
    "    _params['B'] = B\n",
    "    pars[(z_x, z_y, B)] = (_syst_pars, _params)"
   ]
  },
  {
   "cell_type": "code",
   "execution_count": null,
   "metadata": {},
   "outputs": [],
   "source": [
    "res = lview.map(spectrum.calc_lowest_state, pars.values())"
   ]
  },
  {
   "cell_type": "code",
   "execution_count": null,
   "metadata": {},
   "outputs": [],
   "source": [
    "res.done()\n",
    "\n",
    "\n",
    "\n",
    "\n",
    " \n",
    "# res.result()\n",
    "\n"
   ]
  },
  {
   "cell_type": "code",
   "execution_count": null,
   "metadata": {},
   "outputs": [],
   "source": [
    "len(res.submitted)"
   ]
  },
  {
   "cell_type": "code",
   "execution_count": null,
   "metadata": {},
   "outputs": [],
   "source": [
    "res.progress\n"
   ]
  },
  {
   "cell_type": "code",
   "execution_count": null,
   "metadata": {},
   "outputs": [],
   "source": [
    "res.result()"
   ]
  },
  {
   "cell_type": "code",
   "execution_count": null,
   "metadata": {},
   "outputs": [],
   "source": [
    "data=dict(zip(pars.keys(), res.result()))"
   ]
  },
  {
   "cell_type": "code",
   "execution_count": null,
   "metadata": {},
   "outputs": [],
   "source": [
    "N_z_x = len(discrete_variations['z_x'])\n",
    "N_z_y = len(discrete_variations['z_y'])\n",
    "N_B = len(discrete_variations['B'])\n",
    "Z_0s = {}\n",
    "Z_1s = {}\n",
    "\n",
    "for B in discrete_variations['B']:\n",
    "    Z_0 = np.zeros((N_z_x, N_z_y))\n",
    "    Z_1 = np.zeros((N_z_x, N_z_y))\n",
    "    for idx_x, z_x in enumerate(discrete_variations['z_x']):\n",
    "        for idx_y, z_y in enumerate(discrete_variations['z_y']):\n",
    "            key = (z_x, z_y, B)\n",
    "            Z_0[idx_x, idx_y] = data[key][0]\n",
    "            Z_1[idx_x, idx_y] = data[key][1]\n",
    "            if z_x == 1000 and z_y == 125:\n",
    "                print(B, data[key][0], data[key][1])\n",
    "    Z_0s[B] = Z_0\n",
    "    Z_1s[B] = Z_1\n",
    "    "
   ]
  },
  {
   "cell_type": "code",
   "execution_count": null,
   "metadata": {},
   "outputs": [],
   "source": [
    "m = 0\n",
    "for k,v in data.items():\n",
    "    if max(v) > m and k[1]==300:\n",
    "        print(k, v)\n",
    "        m=max(v)"
   ]
  },
  {
   "cell_type": "code",
   "execution_count": null,
   "metadata": {},
   "outputs": [],
   "source": [
    "plot_dict = {('lowest', k): hv.Image(np.flip(v,1).T, bounds=[discrete_variations['z_x'][0], discrete_variations['z_y'][0],\n",
    "                          discrete_variations['z_x'][-1],discrete_variations['z_y'][-1]]) for k,v in Z_0s.items()}\n",
    "plot_dict.update({('second lowest', k): hv.Image(np.flip(v,1).T, bounds=[discrete_variations['z_x'][0], discrete_variations['z_y'][0],\n",
    "                          discrete_variations['z_x'][-1],discrete_variations['z_y'][-1]]) for k,v in Z_1s.items()})"
   ]
  },
  {
   "cell_type": "code",
   "execution_count": null,
   "metadata": {},
   "outputs": [],
   "source": [
    "hv.notebook_extension('matplotlib')"
   ]
  },
  {
   "cell_type": "code",
   "execution_count": null,
   "metadata": {},
   "outputs": [],
   "source": [
    "z_x = [k[0] for k in data if k[2]==discrete_variations['B'][5]]\n",
    "z_y = [k[1] for k in data if k[2]==discrete_variations['B'][5]]\n",
    "I = [v[1] for k,v in data.items() if k[2]==discrete_variations['B'][5]]"
   ]
  },
  {
   "cell_type": "code",
   "execution_count": null,
   "metadata": {},
   "outputs": [],
   "source": [
    "z_x"
   ]
  },
  {
   "cell_type": "code",
   "execution_count": null,
   "metadata": {},
   "outputs": [],
   "source": [
    "i=scipy.interpolate.interp2d(z_x, z_y, I)"
   ]
  },
  {
   "cell_type": "code",
   "execution_count": null,
   "metadata": {},
   "outputs": [],
   "source": [
    "i(800, 0)"
   ]
  },
  {
   "cell_type": "code",
   "execution_count": null,
   "metadata": {},
   "outputs": [],
   "source": [
    "hv.HoloMap({'a':plt.pcolor(Z_0)})"
   ]
  },
  {
   "cell_type": "code",
   "execution_count": null,
   "metadata": {},
   "outputs": [],
   "source": [
    "%%opts Image [colorbar=True width=400 logz=False] (cmap='Viridis') {+axiswise}\n",
    "# %%output filename='500nm_70percent_transparancy'\n",
    "(hv.HoloMap(plot_dict, kdims=['which eigenmode', 'B'])).redim(x='z_x', y='z_y')#.redim.range(z=(0,0.1))"
   ]
  },
  {
   "cell_type": "code",
   "execution_count": null,
   "metadata": {},
   "outputs": [],
   "source": [
    "Z_"
   ]
  },
  {
   "cell_type": "code",
   "execution_count": null,
   "metadata": {},
   "outputs": [],
   "source": [
    "%opts?"
   ]
  },
  {
   "cell_type": "code",
   "execution_count": null,
   "metadata": {},
   "outputs": [],
   "source": [
    "print(res.done(), res.started, res.elapsed)\n"
   ]
  },
  {
   "cell_type": "code",
   "execution_count": null,
   "metadata": {},
   "outputs": [],
   "source": [
    "def bands_wrap(k):\n",
    "    ham = syst.hamiltonian_submatrix(sparse=True, params=dict(**params, k_x=k))\n",
    "    e, ev = spectrum.sparse_diag(ham, 100, 0)\n",
    "    return np.sort(e)\n",
    "    \n",
    "learner = adaptive.Learner1D(bands_wrap, [-np.pi, np.pi])\n",
    "runner = adaptive.Runner(learner)\n",
    "runner.live_info()"
   ]
  },
  {
   "cell_type": "code",
   "execution_count": null,
   "metadata": {},
   "outputs": [],
   "source": [
    "learner.plot()"
   ]
  },
  {
   "cell_type": "code",
   "execution_count": null,
   "metadata": {},
   "outputs": [],
   "source": []
  },
  {
   "cell_type": "code",
   "execution_count": null,
   "metadata": {},
   "outputs": [],
   "source": [
    "def lowest_e_at_B(B):\n",
    "    _params = params.copy()\n",
    "    _params['B'] = B\n",
    "    ham = syst.hamiltonian_submatrix(params=_params, sparse=True)\n",
    "    d = kwant.operator.Density(syst)\n",
    "    e, ev = spectrum.sparse_diag(ham,4,0)\n",
    "    return np.sort(np.abs(e))[::2]"
   ]
  },
  {
   "cell_type": "code",
   "execution_count": null,
   "metadata": {},
   "outputs": [],
   "source": [
    "learner = adaptive.Learner1D(lowest_e_at_B, [0.2, .4])"
   ]
  },
  {
   "cell_type": "code",
   "execution_count": null,
   "metadata": {},
   "outputs": [],
   "source": [
    "runner = adaptive.Runner(learner, ntasks=15)\n",
    "runner.live_info()"
   ]
  },
  {
   "cell_type": "code",
   "execution_count": null,
   "metadata": {},
   "outputs": [],
   "source": [
    "learner.plot()\n"
   ]
  }
 ],
 "metadata": {
  "language_info": {
   "name": "python",
   "pygments_lexer": "ipython3"
  }
 },
 "nbformat": 4,
 "nbformat_minor": 2
}
