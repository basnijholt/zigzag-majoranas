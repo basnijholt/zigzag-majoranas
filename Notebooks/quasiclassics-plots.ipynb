{
 "cells": [
  {
   "cell_type": "markdown",
   "metadata": {},
   "source": [
    "# Connect to the cluster"
   ]
  },
  {
   "cell_type": "code",
   "execution_count": null,
   "metadata": {},
   "outputs": [],
   "source": [
    "import socket\n",
    "on_io = socket.gethostname() == 'io'\n",
    "if on_io and 0:\n",
    "    import hpc05, hpc05_monitor\n",
    "    client = hpc05.connect.start_remote_and_connect(130, profile='pbs_15GB', folder='~/Work/two_dim_majoranas')[0]\n",
    "#     max_usage_task = hpc05_monitor.start(client, interval=1)\n",
    "else:\n",
    "    # No not connect to the cluster in CI for example.\n",
    "    client = None"
   ]
  },
  {
   "cell_type": "markdown",
   "metadata": {},
   "source": [
    "## Numerics imports"
   ]
  },
  {
   "cell_type": "code",
   "execution_count": null,
   "metadata": {},
   "outputs": [],
   "source": [
    "from functools import partial\n",
    "from copy import copy\n",
    "import numpy as np\n",
    "import kwant\n",
    "import adaptive\n",
    "import zigzag\n",
    "adaptive.notebook_extension()\n",
    "\n",
    "import pathlib\n",
    "pathlib.Path('paper/figures').mkdir(parents=True, exist_ok=True) "
   ]
  },
  {
   "cell_type": "markdown",
   "metadata": {},
   "source": [
    "## Plotting imports"
   ]
  },
  {
   "cell_type": "code",
   "execution_count": null,
   "metadata": {},
   "outputs": [],
   "source": [
    "import matplotlib\n",
    "matplotlib.use('agg')\n",
    "\n",
    "%matplotlib inline\n",
    "import matplotlib.pyplot as plt"
   ]
  },
  {
   "cell_type": "markdown",
   "metadata": {},
   "source": [
    "## Parameter and system definitions"
   ]
  },
  {
   "cell_type": "code",
   "execution_count": null,
   "metadata": {},
   "outputs": [],
   "source": [
    "import scipy.constants\n",
    "import cmath\n",
    "\n",
    "constants = dict(\n",
    "    m_eff=0.02 * scipy.constants.m_e / (scipy.constants.eV * 1e-3) / 1e18,  # effective mass in kg, \n",
    "    hbar=scipy.constants.hbar / (scipy.constants.eV * 1e-3),\n",
    "    e = scipy.constants.e,\n",
    "    current_unit=scipy.constants.k * scipy.constants.e / scipy.constants.hbar * 1e9,  # to get nA\n",
    "    mu_B=scipy.constants.physical_constants['Bohr magneton'][0] / (scipy.constants.eV * 1e-3),\n",
    "    k=scipy.constants.k / (scipy.constants.eV * 1e-3),\n",
    "    exp=cmath.exp,\n",
    "    cos=cmath.cos,\n",
    "    sin=cmath.sin\n",
    "   )\n",
    "\n",
    "default_params = dict(\n",
    "    g_factor_middle=26, g_factor_left=0, g_factor_right=0,\n",
    "    mu=10,\n",
    "    alpha_middle=20, alpha_left=0, alpha_right=0,\n",
    "    Delta_left=1, Delta_right=1,\n",
    "    B_x=0,\n",
    "    B_y=0,\n",
    "    B_z=0,\n",
    "    phase=np.pi,\n",
    "    V=0,\n",
    "    **constants)\n",
    "\n",
    "default_syst_pars = dict(\n",
    "    W=200,\n",
    "    L_x=1300,\n",
    "    L_sc_up=300,\n",
    "    L_sc_down=300,\n",
    "    z_x=1300,\n",
    "    z_y=0,\n",
    "    a=10,\n",
    "    shape='parallel_curve',\n",
    "    transverse_soi=True,\n",
    "    mu_from_bottom_of_spin_orbit_bands=True,\n",
    "    k_x_in_sc=True,\n",
    "    wraparound=True,\n",
    "    infinite=True,\n",
    "    current=False,\n",
    "    ns_junction=False)"
   ]
  },
  {
   "cell_type": "markdown",
   "metadata": {},
   "source": [
    "# Figure 2. E_gap(z_y)"
   ]
  },
  {
   "cell_type": "markdown",
   "metadata": {},
   "source": [
    "## Complete zigzag system"
   ]
  },
  {
   "cell_type": "markdown",
   "metadata": {},
   "source": [
    "### Define learners"
   ]
  },
  {
   "cell_type": "code",
   "execution_count": null,
   "metadata": {},
   "outputs": [],
   "source": [
    "import operator\n",
    "from adaptive.learner.learner1D import curvature_loss_function\n",
    "\n",
    "def gap_wrapper2(k_x, z_y, ratio, syst_pars=copy(default_syst_pars), params=copy(default_params), nbands=10):\n",
    "    import numpy as np\n",
    "    import zigzag\n",
    "    z_x = z_y * ratio\n",
    "    params = dict(params, k_x=k_x, mu=40, B_x=1)\n",
    "    syst_pars = dict(syst_pars, z_y=z_y, z_x=z_x, L_x=z_x,\n",
    "                     a=5, shape='sawtooth', L_sc_up=800, L_sc_down=800)\n",
    "    syst = zigzag.system(**syst_pars)\n",
    "    Es = zigzag.spectrum(syst, params, k=nbands)[0]\n",
    "    return dict(E_min=np.abs(Es).min(), energies=Es)\n",
    "\n",
    "def fnames(learner):\n",
    "    val = learner.function.keywords  # because functools.partial\n",
    "    fname = '__'.join([f'{k}_{v}.pickle' for k, v in val.items()])\n",
    "    return 'data/z_y_vs_E_gap_mu40meV/' + fname\n",
    "\n",
    "Learner = adaptive.make_datasaver(adaptive.Learner1D, arg_picker=operator.itemgetter('E_min'))\n",
    "kwargs = dict(bounds=[-np.pi, np.pi], loss_per_interval=curvature_loss_function())\n",
    "z_ys = np.arange(10, 405, 5)\n",
    "\n",
    "combos = {'z_y': z_ys, 'ratio': [4, 8, 16]}\n",
    "learner = adaptive.BalancingLearner.from_product(gap_wrapper2, Learner, kwargs, combos)\n",
    "learner.strategy = 'npoints'\n",
    "learner.load(fnames)"
   ]
  },
  {
   "cell_type": "code",
   "execution_count": null,
   "metadata": {},
   "outputs": [],
   "source": [
    "runner = adaptive.Runner(learner, lambda l: l.learners[0].npoints > 95, executor=client,\n",
    "                         retries=20, raise_if_retries_exceeded=False)\n",
    "runner.live_info()"
   ]
  },
  {
   "cell_type": "code",
   "execution_count": null,
   "metadata": {},
   "outputs": [],
   "source": [
    "saving_task = runner.start_periodic_saving(dict(fname=fnames), 600)"
   ]
  },
  {
   "cell_type": "code",
   "execution_count": null,
   "metadata": {},
   "outputs": [],
   "source": [
    "# Plot the entire band structure\n",
    "def plot_bands(l):\n",
    "    import holoviews as hv\n",
    "    if l.data:\n",
    "        ks, vals = zip(*l.extra_data.items())\n",
    "        Es = np.array([x['energies'] for x in vals])\n",
    "        E_min = min(l.data.values())\n",
    "        scatter = hv.Overlay([hv.Scatter((ks, E)).opts(style=dict(color='k')) for E in Es.T])\n",
    "        return scatter * hv.HLine(E_min)\n",
    "    else:\n",
    "        return hv.Overlay(hv.Scatter([]))\n",
    "\n",
    "learner.plot(plotter=plot_bands)"
   ]
  },
  {
   "cell_type": "code",
   "execution_count": null,
   "metadata": {},
   "outputs": [],
   "source": [
    "from collections import defaultdict\n",
    "d = defaultdict(dict)\n",
    "for cdim, l in zip(learner._cdims_default, learner.learners):\n",
    "    d[cdim['ratio']][cdim['z_y']] = l\n",
    "\n",
    "def get_mins(learners_dict):\n",
    "    learners = learners_dict.values()\n",
    "    return [min(l.data.values()) for l in learners]\n",
    "\n",
    "fig, ax = plt.subplots()\n",
    "for ratio, val in d.items():\n",
    "    E_gaps = get_mins(val)\n",
    "    ax.plot(z_ys, E_gaps, label=f'ratio {ratio}')\n",
    "ax.legend()\n",
    "ax.set_xlabel('$z_y$ (nm)')\n",
    "ax.set_ylabel(r'$E_{\\textrm{gap}}$ (meV)')\n",
    "plt.savefig('paper/figures/z_y_vs_E_gap.pdf')\n",
    "plt.show()"
   ]
  },
  {
   "cell_type": "code",
   "execution_count": null,
   "metadata": {},
   "outputs": [],
   "source": [
    "import pickle\n",
    "with open('data/qc/tmp.pickle', 'wb') as f:\n",
    "    E_gaps = {ratio: get_mins(val) for ratio, val in d.items()}\n",
    "    pickle.dump([z_ys, E_gaps], f)"
   ]
  },
  {
   "cell_type": "markdown",
   "metadata": {},
   "source": [
    "## Quasi classical system"
   ]
  },
  {
   "cell_type": "code",
   "execution_count": null,
   "metadata": {},
   "outputs": [],
   "source": [
    "# \"quasi classics\"\n",
    "a = 4\n",
    "syst_pars = dict(\n",
    "    default_syst_pars,\n",
    "    L_sc_up=1600,\n",
    "    L_sc_down=1600,\n",
    "    L_x=a,\n",
    "    z_x=a,\n",
    "    a=a,\n",
    "    shape=None,\n",
    "    mu_from_bottom_of_spin_orbit_bands=False\n",
    ")\n",
    "\n",
    "params = dict(default_params, B=0.4, mu=40)\n",
    "\n",
    "def bands(k_x, ratio, params=params, syst_pars=syst_pars):\n",
    "    syst = zigzag.system(**syst_pars)\n",
    "    theta = np.arctan(4 / ratio)\n",
    "    params = dict(params,\n",
    "                  theta=theta,\n",
    "                  B_x=np.cos(theta)*params['B'],\n",
    "                  B_y=np.sin(theta)*params['B'],\n",
    "                  k_x=k_x*a)\n",
    "    return np.min(np.abs(zigzag.spectrum(syst, params, k=4)[0]))\n",
    "\n",
    "ratios = [4, 8, 16]\n",
    "k_F = np.sqrt(params['mu'] * (2 * params['m_eff'])) / params['hbar']\n",
    "loss = adaptive.learner.learner1D.triangle_loss\n",
    "\n",
    "learner = adaptive.BalancingLearner.from_product(\n",
    "    bands,\n",
    "    learner_type=adaptive.Learner1D,\n",
    "    learner_kwargs=dict(bounds=[0, 1.1*k_F], loss_per_interval=loss),\n",
    "    combos=dict(ratio=ratios))\n",
    "learner.strategy = 'npoints'\n",
    "\n",
    "def fnames(learner):\n",
    "    val = learner.function.keywords  # because functools.partial\n",
    "    fname = '__'.join([f'{k}_{v}.pickle' for k, v in val.items()])\n",
    "    return 'data/qc/' + fname\n",
    "\n",
    "learner.load(fnames)"
   ]
  },
  {
   "cell_type": "code",
   "execution_count": null,
   "metadata": {},
   "outputs": [],
   "source": [
    "runner = adaptive.Runner(learner, goal=lambda l: l.learners[0].npoints > 400)\n",
    "runner.live_info()"
   ]
  },
  {
   "cell_type": "code",
   "execution_count": null,
   "metadata": {},
   "outputs": [],
   "source": [
    "learner.plot()"
   ]
  },
  {
   "cell_type": "code",
   "execution_count": null,
   "metadata": {},
   "outputs": [],
   "source": [
    "from types import SimpleNamespace\n",
    "from scipy.optimize import minimize_scalar\n",
    "from scipy.misc import derivative\n",
    "\n",
    "def energies(k_y, params):\n",
    "    p = SimpleNamespace(**params)\n",
    "    g = p.g_factor_middle\n",
    "    alpha = p.alpha_middle\n",
    "    E_z = 0.5 * g * p.mu_B * p.B\n",
    "    sqrt_term = np.sqrt(\n",
    "        + E_z**2\n",
    "        + alpha * (2 * E_z * (k_y * np.cos(p.theta) - p.k_x * np.sin(p.theta))\n",
    "                   + alpha * (p.k_x**2 + k_y**2))\n",
    "    )\n",
    "    term = p.hbar**2 * (p.k_x**2 + k_y**2) / (2 * p.m_eff) - p.mu\n",
    "    return [-sqrt_term + term, sqrt_term + term]\n",
    "\n",
    "def find_k_ys(params):\n",
    "    f = lambda k_y, i: abs(energies(k_y, params)[i])\n",
    "    return [minimize_scalar(f, args=i, bounds=[0, np.pi], method='bounded')['x']\n",
    "            for i in [0, 1]]\n",
    "\n",
    "def find_dE_dkys(k_ys, params):\n",
    "    f = lambda k_y, params, i: energies(k_y, params)[i]\n",
    "    return [derivative(f, k_y, dx=1e-6, args=[params, i])\n",
    "            for i, k_y in enumerate(k_ys)]\n",
    "\n",
    "def find_dE_dkxs(k_ys, params):\n",
    "    def _f(k_x, k_y, params, i):\n",
    "        params['k_x'] = float(k_x)\n",
    "        return energies(k_y, params)[i]\n",
    "    return [derivative(_f, params['k_x'], dx=1e-6, args=[k_y, copy(params), i])\n",
    "            for i, k_y in enumerate(k_ys)]\n",
    "\n",
    "def tan_a(params):\n",
    "    k_ys = find_k_ys(params)\n",
    "    dE_dkx = find_dE_dkxs(k_ys, params)\n",
    "    dE_dky = find_dE_dkys(k_ys, params)\n",
    "    return np.array(dE_dky) / np.array(dE_dkx)\n",
    "\n",
    "def a_min(z_x, z_y, W, *, correction=True):\n",
    "    theta = np.arctan(4 * z_y / z_x)\n",
    "    crossing_point = W / np.cos(theta)\n",
    "    if z_y < crossing_point / 2:\n",
    "        return np.nan\n",
    "    a = z_x / 2\n",
    "    b = z_y * 2\n",
    "    c = np.sqrt(W**2 + (b/a)**2 * W**2)\n",
    "    \n",
    "    if correction:\n",
    "        D = np.sqrt(a**2 + (b - c)**2)\n",
    "    else:\n",
    "        D = np.sqrt(a**2 + (b + c)**2)\n",
    "    xprime = np.sqrt(D**2 - W**2)\n",
    "    return W / xprime\n",
    "\n",
    "def get_cutoff(z_x, z_y, W, params):\n",
    "    a_m = a_min(z_x, z_y, W)\n",
    "    \n",
    "    k_F = np.sqrt(params['mu'] * (2 * params['m_eff'])) / params['hbar']\n",
    "    \n",
    "    def f(k_x):\n",
    "        params['k_x'] = k_x\n",
    "        return abs(np.min(np.abs(tan_a(params))) - a_m)\n",
    "\n",
    "    k_c, e = scipy.optimize.fmin(f, k_F/2, ftol=1e-7, xtol=1e-6, full_output=1, disp=0)[:2]\n",
    "    return k_c if e < 1e-3 else np.inf"
   ]
  },
  {
   "cell_type": "code",
   "execution_count": null,
   "metadata": {},
   "outputs": [],
   "source": [
    "def get_gaps(z_ys, learner, ratio, syst_pars=syst_pars):\n",
    "    ks, Es = zip(*sorted(learner.data.items()))\n",
    "    W = syst_pars['W']\n",
    "    params['theta'] = np.arctan(4 / ratio)\n",
    "    k_max_at_z_y = np.array([get_cutoff(ratio*z_y, z_y, W, params) for z_y in z_ys])\n",
    "    E_gaps = np.interp(k_max_at_z_y, ks, np.minimum.accumulate(Es, 0))\n",
    "    return E_gaps\n",
    "\n",
    "z_ys = np.linspace(100, 400, 100)\n",
    "data = {cdim['ratio']: get_gaps(z_ys, l, cdim['ratio'])\n",
    "        for cdim, l in zip(learner._cdims_default, learner.learners)}"
   ]
  },
  {
   "cell_type": "code",
   "execution_count": null,
   "metadata": {},
   "outputs": [],
   "source": [
    "fig, ax = plt.subplots()\n",
    "for ratio, E_gaps in data.items():\n",
    "    ax.plot(z_ys, E_gaps, label=f'ratio {ratio}, QC')\n",
    "\n",
    "ax.legend()\n",
    "ax.set_xlabel('$z_y$ (nm)')\n",
    "ax.set_ylabel(r'$E_{\\textrm{gap}}$ (meV)')\n",
    "plt.savefig('paper/figures/z_y_vs_E_gap2.pdf')\n",
    "plt.show()"
   ]
  },
  {
   "cell_type": "code",
   "execution_count": null,
   "metadata": {},
   "outputs": [],
   "source": [
    "import pickle\n",
    "with open('data/qc/tmp_quasi.pickle', 'wb') as f:\n",
    "    pickle.dump([z_ys, data], f)"
   ]
  },
  {
   "cell_type": "code",
   "execution_count": null,
   "metadata": {},
   "outputs": [],
   "source": [
    "import pickle\n",
    "with open('data/qc/tmp.pickle', 'rb') as f:\n",
    "    z_ys_complete, E_gaps_complete = pickle.load(f)\n",
    "    \n",
    "with open('data/qc/tmp_quasi.pickle', 'rb') as f:\n",
    "    z_ys_quasi, E_gaps_quasi = pickle.load(f)"
   ]
  },
  {
   "cell_type": "code",
   "execution_count": null,
   "metadata": {},
   "outputs": [],
   "source": [
    "fig, ax = plt.subplots()\n",
    "\n",
    "col = {4: 'b', 8: 'g', 16: 'red'}\n",
    "\n",
    "for ratio, E_gaps in E_gaps_quasi.items():\n",
    "    ax.plot(z_ys_quasi, E_gaps, ls='--', c=col[ratio])\n",
    "\n",
    "for ratio, E_gaps in E_gaps_complete.items():\n",
    "    ax.plot(z_ys_complete, E_gaps, c=col[ratio], label=f'ratio {ratio}')\n",
    "    \n",
    "ax.legend()\n",
    "ax.set_xlabel('$z_y$ (nm)')\n",
    "ax.set_ylabel(r'$E_{\\textrm{gap}}$ (meV)')\n",
    "plt.savefig('paper/figures/z_y_vs_E_gap2.pdf')\n",
    "plt.show()"
   ]
  },
  {
   "cell_type": "code",
   "execution_count": null,
   "metadata": {},
   "outputs": [],
   "source": [
    "# Fermi wavelength\n",
    "mu = 20\n",
    "mu = mu * scipy.constants.eV * 1e-3\n",
    "m = 0.02 * scipy.constants.m_e\n",
    "hbar = scipy.constants.hbar\n",
    "k_F = np.sqrt(2 * mu * m / hbar ** 2)\n",
    "(2 * np.pi / k_F) * 1e9"
   ]
  }
 ],
 "metadata": {
  "language_info": {
   "name": "python",
   "pygments_lexer": "ipython3"
  }
 },
 "nbformat": 4,
 "nbformat_minor": 2
}
