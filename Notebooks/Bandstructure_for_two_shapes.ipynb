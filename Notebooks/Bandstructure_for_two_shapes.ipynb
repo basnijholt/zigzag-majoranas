{
 "cells": [
  {
   "cell_type": "code",
   "execution_count": null,
   "metadata": {},
   "outputs": [],
   "source": [
    "import functools as ft\n",
    "import scipy.constants\n",
    "import cmath\n",
    "import numpy as np\n",
    "import matplotlib.pyplot as plt\n",
    "import kwant\n",
    "\n",
    "import adaptive\n",
    "adaptive.notebook_extension()\n",
    "import holoviews as hv\n",
    "import hpc05\n",
    "\n",
    "import os, sys\n",
    "sys.path.append(os.path.abspath('../../two_dim_majoranas/'))\n",
    "\n",
    "import sns_system, spectrum\n",
    "\n",
    "from IPython.core.magic import register_cell_magic\n",
    "import ipywidgets as widgets\n",
    "run_cluster = widgets.Checkbox(\n",
    "    value=False,\n",
    "    description='Check to run cluster',\n",
    "    disabled=False\n",
    ")\n",
    "\n",
    "interactive_shell = get_ipython()\n",
    "@register_cell_magic\n",
    "def cluster_mark_checked(line, cell):\n",
    "    if run_cluster.value is True:\n",
    "        run_cluster.value = False\n",
    "        interactive_shell.run_cell(cell)\n",
    "    else:\n",
    "        return \"Command not run. Check the box above to run.\"\n",
    "\n",
    "del(cluster_mark_checked)\n",
    "run_cluster"
   ]
  },
  {
   "cell_type": "code",
   "execution_count": null,
   "metadata": {},
   "outputs": [],
   "source": [
    "%%cluster_mark_checked\n",
    "# client, dview, lview = hpc05.connect_ipcluster(100, folder='two_dim_majoranas')\n",
    "hpc05.kill_remote_ipcluster()\n",
    "# client, dview, lview = hpc05.start_remote_and_connect(180, folder='two_dim_majoranas')"
   ]
  },
  {
   "cell_type": "code",
   "execution_count": null,
   "metadata": {},
   "outputs": [],
   "source": [
    "constants = dict(\n",
    "    m_eff=0.02 * scipy.constants.m_e / (scipy.constants.eV * 1e-3) / 1e18,  # effective mass in kg, \n",
    "    hbar=scipy.constants.hbar / (scipy.constants.eV * 1e-3),\n",
    "    e = scipy.constants.e,\n",
    "    current_unit=scipy.constants.k * scipy.constants.e / scipy.constants.hbar * 1e9,  # to get nA\n",
    "    mu_B=scipy.constants.physical_constants['Bohr magneton'][0] / (scipy.constants.eV * 1e-3),\n",
    "    k=scipy.constants.k / (scipy.constants.eV * 1e-3),\n",
    "    exp=cmath.exp,\n",
    "    cos=cmath.cos,\n",
    "    sin=cmath.sin\n",
    "   )\n",
    "\n",
    "params_raw= dict(g_factor_middle = 26, g_factor_left = 0, g_factor_right = 0,\n",
    "                 mu = 10,\n",
    "                 alpha_middle = 20, alpha_left = 0, alpha_right = 0,\n",
    "                 Delta_left = 2, Delta_right = 2,\n",
    "                 B = 0, \n",
    "                 phase = 0,\n",
    "                 T = 0.0,\n",
    "                 V = 0)\n",
    "\n",
    "params = dict(**constants,\n",
    "              **params_raw)"
   ]
  },
  {
   "cell_type": "markdown",
   "metadata": {},
   "source": [
    "# System definition"
   ]
  },
  {
   "cell_type": "code",
   "execution_count": null,
   "metadata": {},
   "outputs": [],
   "source": [
    "syst_pars = dict(\n",
    "    L_m = 200,\n",
    "    L_x = 10,\n",
    "    L_sc_up = 200,\n",
    "    L_sc_down = 200,\n",
    "    z_x = 1300,\n",
    "    z_y = 0,\n",
    "    a   = 10,\n",
    "    parallel_curve = False,\n",
    "    sawtooth=False,\n",
    "    transverse_soi = True,\n",
    "    mu_from_bottom_of_spin_orbit_bands = True,\n",
    "    k_x_in_sc = True,\n",
    "    wraparound = True,\n",
    "    current = False,\n",
    "    ns_junction=False)"
   ]
  },
  {
   "cell_type": "markdown",
   "metadata": {},
   "source": [
    "## Define additional dimensions"
   ]
  },
  {
   "cell_type": "code",
   "execution_count": null,
   "metadata": {},
   "outputs": [],
   "source": [
    "# %%px\n",
    "import sns_system, spectrum\n",
    "import numpy as np\n",
    "def cluster_calc_spectrum(momentum, syst_pars, params, k):\n",
    "    syst_at_k, _, _ = sns_system.make_system(**syst_pars)\n",
    "    e, ev = spectrum.calc_spectrum(syst_at_k, dict(**params, k_x=momentum), k=k)\n",
    "    return np.sort(e)"
   ]
  },
  {
   "cell_type": "code",
   "execution_count": null,
   "metadata": {},
   "outputs": [],
   "source": [
    "dimension_values = dict(z_y = [0],#, 25, 50, 75, 100, 125, 150],\n",
    "                        B    = np.linspace(0.0, 1.5, 31),\n",
    "                        phase = [0, np.pi/2, np.pi],\n",
    "                        system_shape = ['parallel_curve'])#'sawtooth'])#, 'parallel_curve'])\n",
    "\n",
    "dimension_combinations = adaptive.utils.named_product(**dimension_values)"
   ]
  },
  {
   "cell_type": "markdown",
   "metadata": {},
   "source": [
    "#### Make function altering the parameters"
   ]
  },
  {
   "cell_type": "code",
   "execution_count": null,
   "metadata": {},
   "outputs": [],
   "source": [
    "def get_altered_parameters(dimension_values, syst_pars, params):\n",
    "    syst_pars_cpy = syst_pars.copy()\n",
    "    params_cpy = params.copy()\n",
    "    \n",
    "    syst_pars_cpy['z_y'] = dimension_values['z_y']\n",
    "    syst_pars_cpy[dimension_values['system_shape']] = True\n",
    "    \n",
    "    params_cpy['B'] = dimension_values['B']\n",
    "    params_cpy['phase'] = dimension_values['phase']\n",
    "    return syst_pars_cpy, params_cpy"
   ]
  },
  {
   "cell_type": "markdown",
   "metadata": {},
   "source": [
    "#### Make learners"
   ]
  },
  {
   "cell_type": "code",
   "execution_count": null,
   "metadata": {},
   "outputs": [],
   "source": [
    "learners= []\n",
    "def abs_min_log_loss(xs, xy_scale, data):\n",
    "    from adaptive.learner.learner1D import default_loss\n",
    "    data = {k: np.log(np.abs(v).min()) for k, v in data.items()}\n",
    "    return default_loss(xs, xy_scale, data)\n",
    "\n",
    "for combination in dimension_combinations:\n",
    "    syst_pars_cpy, params_cpy = get_altered_parameters(combination, syst_pars, params)\n",
    "    f = ft.partial(cluster_calc_spectrum, syst_pars=syst_pars_cpy, params=params_cpy, k=40)\n",
    "    l_1D = adaptive.Learner1D(f, [0, np.pi], abs_min_log_loss)\n",
    "    l_1D.fname = combination\n",
    "    learners.append(l_1D)\n",
    "\n",
    "bl = adaptive.BalancingLearner(learners)"
   ]
  },
  {
   "cell_type": "code",
   "execution_count": null,
   "metadata": {},
   "outputs": [],
   "source": [
    "runner = adaptive.Runner(bl)#, executor=client)\n",
    "runner.live_info(update_interval=1)"
   ]
  },
  {
   "cell_type": "code",
   "execution_count": null,
   "metadata": {},
   "outputs": [],
   "source": [
    "hv.notebook_extension('bokeh')"
   ]
  },
  {
   "cell_type": "code",
   "execution_count": null,
   "metadata": {},
   "outputs": [],
   "source": [
    "%%output filename='bandstructures_ribbon'\n",
    "(hv.HoloMap({tuple(l.fname.values()):l.plot() for l in bl.learners}, kdims=list(dimension_values.keys())))"
   ]
  },
  {
   "cell_type": "code",
   "execution_count": null,
   "metadata": {},
   "outputs": [],
   "source": [
    "hv.util.Dynamic(hv.HoloMap({tuple(l.fname.values()):l.plot() for l in bl.learners}, kdims=list(dimension_values.keys())))"
   ]
  },
  {
   "cell_type": "code",
   "execution_count": null,
   "metadata": {},
   "outputs": [],
   "source": [
    "_str = \"\"\n",
    "for idx, l in enumerate(bl.learners):\n",
    "    \n",
    "    _str += str(l.npoints)+ f'_{l.loss():.2}' + ', ' if idx%10 else str(l.npoints) + '\\n'    \n",
    "    \n",
    "print(_str)\n"
   ]
  },
  {
   "cell_type": "code",
   "execution_count": null,
   "metadata": {},
   "outputs": [],
   "source": []
  }
 ],
 "metadata": {
  "language_info": {
   "name": "python",
   "pygments_lexer": "ipython3"
  }
 },
 "nbformat": 4,
 "nbformat_minor": 2
}
