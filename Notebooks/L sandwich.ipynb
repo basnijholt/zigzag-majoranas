{
 "cells": [
  {
   "cell_type": "code",
   "execution_count": null,
   "metadata": {},
   "outputs": [],
   "source": [
    "import os, sys\n",
    "sys.path.append(os.path.abspath('../../two_dim_majoranas/'))\n",
    "\n",
    "import hpc05\n",
    "import holoviews as hv\n",
    "\n",
    "import numpy as np\n",
    "import kwant\n",
    "import scipy.constants\n",
    "import cmath\n",
    "import functools as ft\n",
    "\n",
    "\n",
    "import sns_system, spectrum, topology, supercurrent\n",
    "\n",
    "from IPython.core.magic import register_cell_magic\n",
    "import ipywidgets as widgets\n",
    "run_cluster = widgets.Checkbox(\n",
    "    value=False,\n",
    "    description='Check to run cluster',\n",
    "    disabled=False\n",
    ")\n",
    "\n",
    "interactive_shell = get_ipython()\n",
    "@register_cell_magic\n",
    "def cluster_mark_checked(line, cell):\n",
    "    if run_cluster.value is True:\n",
    "        run_cluster.value = False\n",
    "        interactive_shell.run_cell(cell)\n",
    "    else:\n",
    "        return \"Command not run. Check the box above to run.\"\n",
    "\n",
    "del(cluster_mark_checked)\n",
    "run_cluster"
   ]
  },
  {
   "cell_type": "code",
   "execution_count": null,
   "metadata": {},
   "outputs": [],
   "source": [
    "%%cluster_mark_checked\n",
    "# client, dview, lview = hpc05.connect_ipcluster(20, folder='two_dim_majoranas')\n",
    "hpc05.kill_remote_ipcluster()\n",
    "# client, dview, lview = hpc05.start_remote_and_connect(20, folder='two_dim_majoranas')"
   ]
  },
  {
   "cell_type": "code",
   "execution_count": null,
   "metadata": {},
   "outputs": [],
   "source": [
    "import numpy as np\n",
    "import scipy.constants\n",
    "import cmath\n",
    "\n",
    "import functools as ft\n",
    "\n",
    "import sns_system, spectrum, topology, supercurrent"
   ]
  },
  {
   "cell_type": "code",
   "execution_count": null,
   "metadata": {},
   "outputs": [],
   "source": [
    "constants = dict(\n",
    "    m_eff=0.02 * scipy.constants.m_e / (scipy.constants.eV * 1e-3) / 1e18,  # effective mass in kg, \n",
    "    hbar=scipy.constants.hbar / (scipy.constants.eV * 1e-3),\n",
    "    e = scipy.constants.e,\n",
    "    current_unit=scipy.constants.k * scipy.constants.e / scipy.constants.hbar * 1e9,  # to get nA\n",
    "    mu_B=scipy.constants.physical_constants['Bohr magneton'][0] / (scipy.constants.eV * 1e-3),\n",
    "    k=scipy.constants.k / (scipy.constants.eV * 1e-3),\n",
    "    exp=cmath.exp,\n",
    "    cos=cmath.cos,\n",
    "    sin=cmath.sin\n",
    "   )"
   ]
  },
  {
   "cell_type": "markdown",
   "metadata": {},
   "source": [
    "# Make T shaped system"
   ]
  },
  {
   "cell_type": "code",
   "execution_count": null,
   "metadata": {},
   "outputs": [],
   "source": [
    "\n",
    "def l_shaped_system(a, L_m, L_x, W_up, W_down, l_on,\n",
    "                    transverse_soi=True,\n",
    "                    mu_from_bottom_of_spin_orbit_bands=True,\n",
    "                    k_x_in_sc=False, leaded=True, **_):\n",
    "\n",
    "    #     HAMILTONIAN DEFINITIONS\n",
    "    template_strings = sns_system.get_template_strings(\n",
    "        transverse_soi, mu_from_bottom_of_spin_orbit_bands, k_x_in_sc)\n",
    "    \n",
    "    conservation_matrix = -supercurrent.sigz\n",
    "    \n",
    "    # TURN HAMILTONIAN STRINGS INTO TEMPLATES\n",
    "    kwargs = dict(coords=('x', 'y'), grid_spacing=a)\n",
    "    template_barrier = kwant.continuum.discretize(\n",
    "        template_strings['ham_barrier'], **kwargs)\n",
    "    template_normal = kwant.continuum.discretize(\n",
    "        template_strings['ham_normal'], **kwargs)\n",
    "    template_sc_left = kwant.continuum.discretize(\n",
    "        template_strings['ham_sc_left'], **kwargs)\n",
    "    template_sc_right = kwant.continuum.discretize(\n",
    "        template_strings['ham_sc_right'], **kwargs)\n",
    "\n",
    "    def union_shape(shapes):\n",
    "        def _shape(pos):\n",
    "            res = False\n",
    "            for shape in shapes:\n",
    "                res |= shape(pos)\n",
    "            return res\n",
    "        return _shape\n",
    "        \n",
    "    def intersection_shape(shape_A, shape_B):\n",
    "        def _shape(pos):\n",
    "            return shape_A(pos) and not shape_B(pos)\n",
    "        return _shape\n",
    "    \n",
    "\n",
    "    def middle_shape(site):\n",
    "        x, y = site.pos\n",
    "        return 0 <= x < L_x and 0 <= y < L_m\n",
    "    \n",
    "    def top_shape_block(site):\n",
    "        x, y = site.pos\n",
    "        return -W_up*l_on <= x < L_x and (1-l_on)*L_m//4+ L_m//4 <= y < L_m + W_up\n",
    "    top_shape = intersection_shape(top_shape_block, middle_shape)\n",
    "    \n",
    "    def down_shape_block(site):\n",
    "        x, y = site.pos\n",
    "        return 0 <= x < L_x + W_down*l_on and -W_down <= y < l_on*3*L_m//4\n",
    "    down_shape = intersection_shape(down_shape_block, middle_shape)\n",
    "    \n",
    "    # BUILD FINITE SYSTEM\n",
    "    syst = kwant.Builder()\n",
    "    syst.fill(template_normal, middle_shape, (0, a))\n",
    "#     syst.fill(template_barrier, shape_barrier, (0, 0)[::-1])\n",
    "#     syst.fill(template_barrier, shape_barrier, (L_m, 0)[::-1])\n",
    "    \n",
    "    syst.fill(template_sc_left, top_shape, (a, L_m))\n",
    "    syst.fill(template_sc_right, down_shape, (a, -a))\n",
    "    \n",
    "    syst = syst.finalized()\n",
    "\n",
    "    return syst"
   ]
  },
  {
   "cell_type": "code",
   "execution_count": null,
   "metadata": {},
   "outputs": [],
   "source": [
    "syst_pars = dict(a=5, l_on=1, L_m=2000, L_x=100, W_up=200, W_down=200,\n",
    "                 offset_lead=100, k_x_in_sc=True, leaded=False)\n",
    "\n",
    "params_raw= dict(g_factor_middle = 26,\n",
    "                 g_factor_left = 0,\n",
    "                 g_factor_right = 0,\n",
    "                 mu = 5,\n",
    "                 alpha_middle = 20,\n",
    "                 alpha_left = 0,\n",
    "                 alpha_right = 0,\n",
    "                 Delta_left = 2,\n",
    "                 Delta_right = 2,\n",
    "                 B = 1.2,\n",
    "                 phase = np.pi,\n",
    "                 T = 0.0,\n",
    "                 V = 0.0)\n",
    "\n",
    "params = dict(**constants,\n",
    "              **params_raw)"
   ]
  },
  {
   "cell_type": "code",
   "execution_count": null,
   "metadata": {},
   "outputs": [],
   "source": [
    "import formulas as f\n",
    "vf = f.fermi_velocity(4, 0.02)\n",
    "f.thouless_energy(vf, 400/1.4)/26/params['mu_B']\n"
   ]
  },
  {
   "cell_type": "code",
   "execution_count": null,
   "metadata": {},
   "outputs": [],
   "source": [
    "import plotting_results\n",
    "syst = l_shaped_system(**syst_pars)\n",
    "ax1=plotting_results.plot_syst(syst=syst, params=params);\n",
    "ax1.delaxes(ax1.axes[1])\n",
    "ax1.set_size_inches(20, 10)\n",
    "ax1.savefig('L_system')"
   ]
  },
  {
   "cell_type": "code",
   "execution_count": null,
   "metadata": {},
   "outputs": [],
   "source": [
    "hv.extension('matplotlib')"
   ]
  },
  {
   "cell_type": "code",
   "execution_count": null,
   "metadata": {},
   "outputs": [],
   "source": [
    "%%output filename='./first_and_second_energy_table' fig='png'\n",
    "distributed_sns.ptable(params_raw) + distributed_sns.ptable(syst_pars)"
   ]
  },
  {
   "cell_type": "code",
   "execution_count": null,
   "metadata": {},
   "outputs": [],
   "source": [
    "def lowest_two(pB):    \n",
    "    _params = params.copy()\n",
    "    _params['phase'] = pB[0]\n",
    "    _params['B'] = pB[1]\n",
    "    \n",
    "    ham = syst.hamiltonian_submatrix(params=_params, sparse=True)\n",
    "    d = kwant.operator.Density(syst)\n",
    "    e, ev = spectrum.sparse_diag(ham,4,0)\n",
    "    return np.sort(e)[2:4]\n"
   ]
  },
  {
   "cell_type": "code",
   "execution_count": null,
   "metadata": {},
   "outputs": [],
   "source": [
    "import adaptive\n",
    "adaptive.notebook_extension()"
   ]
  },
  {
   "cell_type": "code",
   "execution_count": null,
   "metadata": {},
   "outputs": [],
   "source": [
    "learner = adaptive.Learner2D(lowest_two, [[0,2*np.pi], [-4,4]])"
   ]
  },
  {
   "cell_type": "code",
   "execution_count": null,
   "metadata": {},
   "outputs": [],
   "source": [
    "runner = adaptive.Runner(learner)\n",
    "runner.live_info()"
   ]
  },
  {
   "cell_type": "code",
   "execution_count": null,
   "metadata": {},
   "outputs": [],
   "source": [
    "runner.cancel()"
   ]
  },
  {
   "cell_type": "code",
   "execution_count": null,
   "metadata": {},
   "outputs": [],
   "source": [
    "hv.extension('matplotlib')"
   ]
  },
  {
   "cell_type": "code",
   "execution_count": null,
   "metadata": {},
   "outputs": [],
   "source": [
    "_=learner.plot(800)"
   ]
  },
  {
   "cell_type": "code",
   "execution_count": null,
   "metadata": {},
   "outputs": [],
   "source": [
    "a=_.items()[0][1].Image.I"
   ]
  },
  {
   "cell_type": "code",
   "execution_count": null,
   "metadata": {},
   "outputs": [],
   "source": [
    "hv.operation.contours(a, levels=10)"
   ]
  },
  {
   "cell_type": "code",
   "execution_count": null,
   "metadata": {},
   "outputs": [],
   "source": [
    "%%opts Image [colorbar=True]\n",
    "# %%output filename='./first_and_second_energy_square' fig='png'\n",
    "hv.HoloMap(learner.plot(800).redim(x='phase', y='B'), kdims='nth lowest eigenvalue')"
   ]
  },
  {
   "cell_type": "code",
   "execution_count": null,
   "metadata": {},
   "outputs": [],
   "source": [
    "ham = syst.hamiltonian_submatrix(params=params, sparse=True)\n",
    "d = kwant.operator.Density(syst)\n",
    "e, ev = spectrum.sparse_diag(ham,4,0)"
   ]
  },
  {
   "cell_type": "code",
   "execution_count": null,
   "metadata": {},
   "outputs": [],
   "source": [
    "_ev = np.abs(d(ev[:,0]))"
   ]
  },
  {
   "cell_type": "code",
   "execution_count": null,
   "metadata": {},
   "outputs": [],
   "source": [
    "e"
   ]
  },
  {
   "cell_type": "code",
   "execution_count": null,
   "metadata": {},
   "outputs": [],
   "source": [
    "import matplotlib.pyplot as plt\n",
    "ax=plt.subplot(111)\n",
    "kwant.plotter.map(syst, _ev, ax=ax);\n",
    "ax1=plotting_results.plot_syst(syst=syst, params=params, ax=ax);\n"
   ]
  },
  {
   "cell_type": "code",
   "execution_count": null,
   "metadata": {},
   "outputs": [],
   "source": [
    "ax.savefig('snake_major')"
   ]
  },
  {
   "cell_type": "code",
   "execution_count": null,
   "metadata": {},
   "outputs": [],
   "source": []
  },
  {
   "cell_type": "code",
   "execution_count": null,
   "metadata": {},
   "outputs": [],
   "source": [
    "from multiprocessing import Pool"
   ]
  },
  {
   "cell_type": "code",
   "execution_count": null,
   "metadata": {},
   "outputs": [],
   "source": [
    "p=Pool(12)"
   ]
  },
  {
   "cell_type": "code",
   "execution_count": null,
   "metadata": {},
   "outputs": [],
   "source": [
    "def G(e):\n",
    "    smat = kwant.smatrix(syst, energy=e, params=params)\n",
    "    return smat.conductance_matrix()[0][0]"
   ]
  },
  {
   "cell_type": "code",
   "execution_count": null,
   "metadata": {},
   "outputs": [],
   "source": [
    "G(.11)"
   ]
  },
  {
   "cell_type": "code",
   "execution_count": null,
   "metadata": {},
   "outputs": [],
   "source": [
    "res = p.map(G, np.linspace(-.2, .2, 101))"
   ]
  },
  {
   "cell_type": "code",
   "execution_count": null,
   "metadata": {},
   "outputs": [],
   "source": []
  }
 ],
 "metadata": {
  "language_info": {
   "name": "python",
   "pygments_lexer": "ipython3"
  }
 },
 "nbformat": 4,
 "nbformat_minor": 2
}
