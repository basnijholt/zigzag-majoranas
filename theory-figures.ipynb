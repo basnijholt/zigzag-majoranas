{
 "cells": [
  {
   "cell_type": "markdown",
   "metadata": {},
   "source": [
    "# Connect to the cluster"
   ]
  },
  {
   "cell_type": "code",
   "execution_count": null,
   "metadata": {},
   "outputs": [],
   "source": [
    "import socket\n",
    "on_io = socket.gethostname() == 'io'\n",
    "if on_io and 0:\n",
    "    import hpc05, hpc05_monitor\n",
    "    client = hpc05.connect.start_remote_and_connect(200, folder='~/two_dim_majoranas')[0]\n",
    "    max_usage_task = hpc05_monitor.start(client)\n",
    "else:\n",
    "    # No not connect to the cluster in CI for example.\n",
    "    client = None"
   ]
  },
  {
   "cell_type": "markdown",
   "metadata": {},
   "source": [
    "## Numerics imports"
   ]
  },
  {
   "cell_type": "code",
   "execution_count": null,
   "metadata": {},
   "outputs": [],
   "source": [
    "from functools import partial\n",
    "from copy import copy\n",
    "import numpy as np\n",
    "import adaptive\n",
    "import sns_system, kwant, spectrum\n",
    "adaptive.notebook_extension()\n",
    "\n",
    "import pathlib\n",
    "pathlib.Path('thesis_report/figures').mkdir(parents=True, exist_ok=True) "
   ]
  },
  {
   "cell_type": "markdown",
   "metadata": {},
   "source": [
    "## Plotting imports"
   ]
  },
  {
   "cell_type": "code",
   "execution_count": null,
   "metadata": {},
   "outputs": [],
   "source": [
    "import matplotlib\n",
    "matplotlib.use('agg')\n",
    "\n",
    "import matplotlib.pyplot as plt\n",
    "%matplotlib inline\n",
    "%config InlineBackend.figure_format = 'svg'\n",
    "\n",
    "class HistogramNormalize(matplotlib.colors.Normalize):\n",
    "    def __init__(self, data, vmin=None, vmax=None, mixing_degree=1):\n",
    "        self.mixing_degree = mixing_degree\n",
    "        if vmin is not None:\n",
    "            data = data[data >= vmin]\n",
    "        if vmax is not None:\n",
    "            data = data[data <= vmax]\n",
    "\n",
    "        self.sorted_data = np.sort(data.flatten())\n",
    "        matplotlib.colors.Normalize.__init__(self, vmin, vmax)\n",
    "\n",
    "    def __call__(self, value, clip=None):\n",
    "        hist_norm = np.ma.masked_array(np.searchsorted(self.sorted_data, value) /\n",
    "                                       len(self.sorted_data))\n",
    "        linear_norm = super().__call__(value, clip)\n",
    "        return self.mixing_degree * hist_norm + (1 - self.mixing_degree) * linear_norm\n",
    "\n",
    "golden_mean = (np.sqrt(5) - 1) / 2  # Aesthetic ratio\n",
    "inches_per_pt = 1.0 / 72.27  # Convert pt to inches\n",
    "fig_width_pt = 6.2/inches_per_pt  # Columnwidth\n",
    "fig_width = fig_width_pt * inches_per_pt\n",
    "fig_height = fig_width * golden_mean  # height in inches\n",
    "fig_size = [fig_width, fig_height]\n",
    "\n",
    "params = {\n",
    "          'backend': 'ps',\n",
    "          'axes.labelsize': 13,\n",
    "          'font.size': 13,\n",
    "          'legend.fontsize': 10,\n",
    "          'xtick.labelsize': 10,\n",
    "          'ytick.labelsize': 10,\n",
    "          'text.usetex': True,\n",
    "          'figure.figsize': fig_size,\n",
    "          'font.family': 'serif',\n",
    "          'font.serif': 'Computer Modern Roman',\n",
    "          'legend.frameon': True,\n",
    "          'savefig.dpi': 100 if on_io else 300,\n",
    "         }\n",
    "\n",
    "plt.rcParams.update(params)\n",
    "plt.rc('text.latex', preamble=[r'\\usepackage{color}', r'\\usepackage{bm}', r'\\usepackage{xfrac}'])"
   ]
  },
  {
   "cell_type": "markdown",
   "metadata": {},
   "source": [
    "## Parameter and system definitions"
   ]
  },
  {
   "cell_type": "code",
   "execution_count": null,
   "metadata": {},
   "outputs": [],
   "source": [
    "import scipy.constants\n",
    "import cmath\n",
    "\n",
    "constants = dict(\n",
    "    m_eff=0.02 * scipy.constants.m_e / (scipy.constants.eV * 1e-3) / 1e18,  # effective mass in kg, \n",
    "    hbar=scipy.constants.hbar / (scipy.constants.eV * 1e-3),\n",
    "    e = scipy.constants.e,\n",
    "    current_unit=scipy.constants.k * scipy.constants.e / scipy.constants.hbar * 1e9,  # to get nA\n",
    "    mu_B=scipy.constants.physical_constants['Bohr magneton'][0] / (scipy.constants.eV * 1e-3),\n",
    "    k=scipy.constants.k / (scipy.constants.eV * 1e-3),\n",
    "    exp=cmath.exp,\n",
    "    cos=cmath.cos,\n",
    "    sin=cmath.sin\n",
    "   )\n",
    "\n",
    "params_raw= dict(g_factor_middle=26, g_factor_left=0, g_factor_right=0,\n",
    "                 mu=10,\n",
    "                 alpha_middle=20, alpha_left=0, alpha_right=0,\n",
    "                 Delta_left=1, Delta_right=1,\n",
    "                 B_x=0,\n",
    "                 B_y=0,\n",
    "                 B_z=0,\n",
    "                 phase=np.pi,\n",
    "                 T=0.0,\n",
    "                 V=0)\n",
    "\n",
    "default_params = dict(**constants,\n",
    "              **params_raw)\n",
    "\n",
    "default_syst_pars = dict(\n",
    "    L_m=200,\n",
    "    L_x=1300,\n",
    "    L_sc_up=200,\n",
    "    L_sc_down=200,\n",
    "    z_x=1300,\n",
    "    z_y=0,\n",
    "    a=10,\n",
    "    shape='parallel_curve',\n",
    "    transverse_soi=True,\n",
    "    mu_from_bottom_of_spin_orbit_bands=True,\n",
    "    k_x_in_sc=True,\n",
    "    wraparound=True,\n",
    "    current=False,\n",
    "    ns_junction=False)"
   ]
  },
  {
   "cell_type": "markdown",
   "metadata": {},
   "source": [
    "# Figure 1. Bandstructures"
   ]
  },
  {
   "cell_type": "code",
   "execution_count": null,
   "metadata": {},
   "outputs": [],
   "source": [
    "kx = np.linspace(-2.5, 2.5, 200)\n",
    "Ekin = lambda k: np.array(k)**2\n",
    "Esoi = lambda k, alpha: np.array([(np.array(k)+alpha)**2, (np.array(k)-alpha)**2]).T\n",
    "Ezm_x  = lambda k, Ez: np.array([np.array(k)**2 - Ez, np.array(k)**2 + Ez]).T\n",
    "Ezm_y  = lambda k, Ez: np.array([np.array(k)**2 - Ez, np.array(k)**2 + Ez]).T\n",
    "def Hzsoi(k, alpha, Ez):\n",
    "    return np.array([[k**2, -1j*k*alpha + Ez], [1j*k*alpha + Ez, k**2]])\n",
    "\n",
    "def Hzsoi(k, alpha, Ez_x, Ez_y, Ez_z):\n",
    "    return np.array([[k**2 + Ez_z, -1j*k*alpha + Ez_x -1j*Ez_y], [1j*k*alpha + Ez_x + 1j*Ez_y, k**2 - Ez_z]])\n",
    "\n",
    "def Ezsoi(k, alpha, Ez_x, Ez_y, Ez_z):\n",
    "    return [np.linalg.eigvalsh(Hzsoi(_k, alpha, Ez_x, Ez_y, Ez_z)) for _k in k] "
   ]
  },
  {
   "cell_type": "code",
   "execution_count": null,
   "metadata": {},
   "outputs": [],
   "source": [
    "tick_opts = {'axis': 'both', 'bottom':False, 'left':False, 'labelbottom':False, 'labelleft':False}\n",
    "fig, axs_mat = plt.subplots(2, 2, figsize=(.5*1.5*1*fig_width, .5*1.5*1.5*fig_height))\n",
    "axs_list = (*axs_mat[0], *axs_mat[1])\n",
    "ax0, ax1, ax2, ax3 = axs_list\n",
    "\n",
    "ax0.plot(kx, Ezsoi(kx, 0, 0, 0, 0), label=rf'kinetic');\n",
    "ax1.plot(kx, Ezsoi(kx, 2, 0, 0, 0), label=rf'kinetic');\n",
    "ax2.plot(kx, Ezsoi(kx, 0, .5, 0, 0), label=rf'kinetic');\n",
    "ax3.plot(kx, Ezsoi(kx, 2, .5, 0, 0), label=rf'kinetic');\n",
    "ax3.set_prop_cycle(None) \n",
    "ax3.plot(kx, Ezsoi(kx, 2, .0, .5, 0),'--', label=rf'kinetic');\n",
    "\n",
    "[ax.tick_params(**tick_opts) for ax in axs_list];\n",
    "[ax.set_xlabel('$k$')  for ax in [ax2, ax3]];\n",
    "[ax.set_ylabel('$E$')  for ax in [ax3, ax1]];\n",
    "[ax.yaxis.set_label_position('right')  for ax in axs_list];\n",
    "\n",
    "pt_top_left = np.array([.4, 1.05])\n",
    "pt_left_bottom = np.array([.6, 1.05])\n",
    "\n",
    "arrow = matplotlib.patches.FancyArrow(\n",
    "    pt_top_left[0], pt_top_left[1], pt_top_right[0]-pt_top_left[0], pt_top_right[1]-pt_top_left[1],\n",
    "    transform=fig.transFigure, width=0.001, length_includes_head=True, head_width=0.03, color='k')\n",
    "\n",
    "fig.text((pt_top_left + pt_top_right)[0]/2, (pt_top_left + pt_top_right)[1]/2 + .05, r'$+ H_\\text{SOI}$', ha='center', va='center')\n",
    "\n",
    "pt_left_top = np.array([-0.04, .6])\n",
    "pt_left_bottom = np.array([-0.04, .4])\n",
    "\n",
    "arrow2 = matplotlib.patches.FancyArrow(\n",
    "    pt_left_top[0], pt_left_top[1], pt_left_bottom[0]-pt_left_top[0], pt_left_bottom[1]-pt_left_top[1],\n",
    "    transform=fig.transFigure, width=0.001, length_includes_head=True, head_width=0.03, color='k')\n",
    "\n",
    "fig.text((pt_left_top + pt_left_bottom)[0]/2-.05, (pt_left_top + pt_left_bottom)[1]/2, r'$+ H_\\text{Zeeman}$', va='center', ha='center', rotation='vertical')\n",
    "\n",
    "# fig.text(-.05, 1.05, r'$H_\\text{kin}$', va='center', ha='center')\n",
    "fig.text(.25, .925, r'\\noindent$H_\\text{kin}$', va='top', ha='center')\n",
    "fig.text(.75, .925, r'\\noindent$H_\\text{kin} + \\\\H_\\text{SOI}$', va='top', ha='center')\n",
    "fig.text(.25, .475, r'\\noindent$H_\\text{kin} + \\\\H_\\text{Zeeman}$', va='top', ha='center')\n",
    "fig.text(.75, .475, r'\\noindent$H_\\text{kin} + \\\\H_\\text{SOI}+ \\\\H_\\text{Zeeman}$', va='top', ha='center')\n",
    "\n",
    "\n",
    "# 5. Add patch to list of objects to draw onto the figure\n",
    "fig.patches.append(arrow)\n",
    "fig.patches.append(arrow2)\n",
    "\n",
    "fig.tight_layout(pad=0.1)\n",
    "plt.savefig('thesis_report/figures/simple_terms.pdf', bbox_inches='tight')\n",
    "plt.show()"
   ]
  },
  {
   "cell_type": "code",
   "execution_count": null,
   "metadata": {},
   "outputs": [],
   "source": []
  }
 ],
 "metadata": {
  "language_info": {
   "name": "python",
   "pygments_lexer": "ipython3"
  }
 },
 "nbformat": 4,
 "nbformat_minor": 2
}
